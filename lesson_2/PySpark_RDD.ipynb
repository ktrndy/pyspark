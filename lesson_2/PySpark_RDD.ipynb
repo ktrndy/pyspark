{
  "cells": [
    {
      "cell_type": "code",
      "execution_count": 1,
      "metadata": {
        "colab": {
          "base_uri": "https://localhost:8080/"
        },
        "id": "YQvwElqGWoF1",
        "outputId": "7093cf74-999e-43b0-e0b6-6229e9cf0588"
      },
      "outputs": [
        {
          "output_type": "stream",
          "name": "stdout",
          "text": [
            "Collecting pyspark\n",
            "  Downloading pyspark-3.5.1.tar.gz (317.0 MB)\n",
            "\u001b[2K     \u001b[90m━━━━━━━━━━━━━━━━━━━━━━━━━━━━━━━━━━━━━━━━\u001b[0m \u001b[32m317.0/317.0 MB\u001b[0m \u001b[31m1.6 MB/s\u001b[0m eta \u001b[36m0:00:00\u001b[0m\n",
            "\u001b[?25h  Preparing metadata (setup.py) ... \u001b[?25l\u001b[?25hdone\n",
            "Collecting findspark\n",
            "  Downloading findspark-2.0.1-py2.py3-none-any.whl (4.4 kB)\n",
            "Requirement already satisfied: nltk in /usr/local/lib/python3.10/dist-packages (3.8.1)\n",
            "Requirement already satisfied: py4j==0.10.9.7 in /usr/local/lib/python3.10/dist-packages (from pyspark) (0.10.9.7)\n",
            "Requirement already satisfied: click in /usr/local/lib/python3.10/dist-packages (from nltk) (8.1.7)\n",
            "Requirement already satisfied: joblib in /usr/local/lib/python3.10/dist-packages (from nltk) (1.4.0)\n",
            "Requirement already satisfied: regex>=2021.8.3 in /usr/local/lib/python3.10/dist-packages (from nltk) (2023.12.25)\n",
            "Requirement already satisfied: tqdm in /usr/local/lib/python3.10/dist-packages (from nltk) (4.66.2)\n",
            "Building wheels for collected packages: pyspark\n",
            "  Building wheel for pyspark (setup.py) ... \u001b[?25l\u001b[?25hdone\n",
            "  Created wheel for pyspark: filename=pyspark-3.5.1-py2.py3-none-any.whl size=317488491 sha256=d39d7a46e5fb8360c61153d33d94812b627878ed52b42a89357c332e9491c2bc\n",
            "  Stored in directory: /root/.cache/pip/wheels/80/1d/60/2c256ed38dddce2fdd93be545214a63e02fbd8d74fb0b7f3a6\n",
            "Successfully built pyspark\n",
            "Installing collected packages: findspark, pyspark\n",
            "Successfully installed findspark-2.0.1 pyspark-3.5.1\n"
          ]
        }
      ],
      "source": [
        "!pip install pyspark findspark nltk"
      ]
    },
    {
      "cell_type": "code",
      "execution_count": 2,
      "metadata": {
        "colab": {
          "base_uri": "https://localhost:8080/"
        },
        "id": "vQJQt0g6e_Cj",
        "outputId": "24253285-656c-4e60-9de0-1ba9ab45f9bc"
      },
      "outputs": [
        {
          "output_type": "stream",
          "name": "stderr",
          "text": [
            "[nltk_data] Downloading package punkt to /root/nltk_data...\n",
            "[nltk_data]   Unzipping tokenizers/punkt.zip.\n",
            "[nltk_data] Downloading package stopwords to /root/nltk_data...\n",
            "[nltk_data]   Unzipping corpora/stopwords.zip.\n"
          ]
        },
        {
          "output_type": "stream",
          "name": "stdout",
          "text": [
            "Mounted at /content/drive\n"
          ]
        }
      ],
      "source": [
        "import nltk\n",
        "nltk.download('punkt')\n",
        "nltk.download('stopwords')\n",
        "from nltk.corpus import stopwords\n",
        "import re\n",
        "import string\n",
        "\n",
        "from google.colab import drive\n",
        "drive.mount('/content/drive')"
      ]
    },
    {
      "cell_type": "code",
      "execution_count": 3,
      "metadata": {
        "id": "hvkEEKu5e-Th"
      },
      "outputs": [],
      "source": [
        "from pyspark.sql import SparkSession\n",
        "from pyspark import SparkContext, SparkConf\n",
        "\n",
        "conf = SparkConf().set('spark.ui.port', '4050').set('spark.serializer', 'org.apache.spark.serializer.KryoSerializer')\\\n",
        "                  .set('spark.dynamicAllocation.enabled', 'true')\\\n",
        "                  .set('spark.shuffle.service.enabled', 'true') #трекер, чтобы возвращать ресурсы\n",
        "sc = SparkContext(conf=conf)\n",
        "spark = SparkSession.builder.master('local[*]').getOrCreate()"
      ]
    },
    {
      "cell_type": "markdown",
      "metadata": {
        "id": "ysb-yADyseDE"
      },
      "source": [
        "Как проще всего создать RDD? Вызвать метод и передать ему нужный объект"
      ]
    },
    {
      "cell_type": "code",
      "execution_count": null,
      "metadata": {
        "id": "459H4QvujHKR"
      },
      "outputs": [],
      "source": [
        "first_rdd  = sc.parallelize(range(1000000))"
      ]
    },
    {
      "cell_type": "code",
      "execution_count": null,
      "metadata": {
        "colab": {
          "base_uri": "https://localhost:8080/"
        },
        "id": "CRhiwucq51Sl",
        "outputId": "230039a5-fb31-4259-cf86-7fbf94cd89ba"
      },
      "outputs": [
        {
          "output_type": "execute_result",
          "data": {
            "text/plain": [
              "2"
            ]
          },
          "metadata": {},
          "execution_count": 6
        }
      ],
      "source": [
        "first_rdd.getNumPartitions()"
      ]
    },
    {
      "cell_type": "markdown",
      "metadata": {
        "id": "cmi41EwXy1gI"
      },
      "source": [
        "А можно ли менять количество партиций? Да, для этого есть два метода: repartition() и coalesce(). Первый используется для увеличения и уменьшения количества партиций, второй только для снижения, прчем coalesce будет работать эффективнее. Много партиций - дольше будет считаться, но если данных много, то обязательно нужно"
      ]
    },
    {
      "cell_type": "markdown",
      "metadata": {
        "id": "ajdioFzEsgZB"
      },
      "source": [
        "repartition()` всегда приводит к равномерному перераспределению данных, что ведет к shuffle. Если Вы уменьшаете число партиций, то стоит использовать `coalesce()`, который может избежать shuffle"
      ]
    },
    {
      "cell_type": "code",
      "execution_count": null,
      "metadata": {
        "colab": {
          "base_uri": "https://localhost:8080/"
        },
        "id": "rTL0MygY593s",
        "outputId": "f9bdf757-061d-42ad-8daa-f0b4eb46146e"
      },
      "outputs": [
        {
          "output_type": "stream",
          "name": "stdout",
          "text": [
            "5\n"
          ]
        }
      ],
      "source": [
        "first_rdd = first_rdd.repartition(5)\n",
        "print(first_rdd.getNumPartitions())"
      ]
    },
    {
      "cell_type": "code",
      "execution_count": null,
      "metadata": {
        "colab": {
          "base_uri": "https://localhost:8080/"
        },
        "id": "S72uRYdGtz6i",
        "outputId": "37ea12f8-f72a-4f23-c41a-70270620ab26"
      },
      "outputs": [
        {
          "output_type": "stream",
          "name": "stdout",
          "text": [
            "2\n"
          ]
        }
      ],
      "source": [
        "first_rdd = first_rdd.repartition(2)\n",
        "print(first_rdd.getNumPartitions())"
      ]
    },
    {
      "cell_type": "code",
      "execution_count": null,
      "metadata": {
        "colab": {
          "base_uri": "https://localhost:8080/"
        },
        "id": "6k45ZdHFt1uU",
        "outputId": "0a486e8e-35e4-4ac6-e844-9ace2f304ae3"
      },
      "outputs": [
        {
          "output_type": "stream",
          "name": "stdout",
          "text": [
            "1\n"
          ]
        }
      ],
      "source": [
        "first_rdd = first_rdd.coalesce(1)\n",
        "print(first_rdd.getNumPartitions())"
      ]
    },
    {
      "cell_type": "code",
      "execution_count": null,
      "metadata": {
        "colab": {
          "base_uri": "https://localhost:8080/"
        },
        "id": "VOjksB0guT4k",
        "outputId": "37113ee7-f8f5-4197-8d53-469a087be86a"
      },
      "outputs": [
        {
          "output_type": "stream",
          "name": "stdout",
          "text": [
            "CPU times: user 47.9 ms, sys: 7.85 ms, total: 55.7 ms\n",
            "Wall time: 5.31 s\n"
          ]
        }
      ],
      "source": [
        "a = %time first_rdd.sum()"
      ]
    },
    {
      "cell_type": "markdown",
      "metadata": {
        "id": "i63A8-0uuDJ2"
      },
      "source": [
        "Посмотрим на время выполнения для разного числа партиций"
      ]
    },
    {
      "cell_type": "code",
      "execution_count": null,
      "metadata": {
        "colab": {
          "base_uri": "https://localhost:8080/"
        },
        "id": "Os4QBpNTuBvk",
        "outputId": "82b39fb0-157c-4d60-fa30-1cf25c09a25b"
      },
      "outputs": [
        {
          "output_type": "stream",
          "name": "stdout",
          "text": [
            "10.4 s ± 0 ns per loop (mean ± std. dev. of 1 run, 1 loop each)\n",
            "3.58 s ± 0 ns per loop (mean ± std. dev. of 1 run, 1 loop each)\n",
            "3.16 s ± 0 ns per loop (mean ± std. dev. of 1 run, 1 loop each)\n",
            "3.76 s ± 0 ns per loop (mean ± std. dev. of 1 run, 1 loop each)\n",
            "4.48 s ± 0 ns per loop (mean ± std. dev. of 1 run, 1 loop each)\n",
            "3.6 s ± 0 ns per loop (mean ± std. dev. of 1 run, 1 loop each)\n",
            "3.96 s ± 0 ns per loop (mean ± std. dev. of 1 run, 1 loop each)\n",
            "7.44 s ± 0 ns per loop (mean ± std. dev. of 1 run, 1 loop each)\n",
            "4.28 s ± 0 ns per loop (mean ± std. dev. of 1 run, 1 loop each)\n",
            "3.79 s ± 0 ns per loop (mean ± std. dev. of 1 run, 1 loop each)\n",
            "4.05 s ± 0 ns per loop (mean ± std. dev. of 1 run, 1 loop each)\n",
            "5.85 s ± 0 ns per loop (mean ± std. dev. of 1 run, 1 loop each)\n",
            "4.11 s ± 0 ns per loop (mean ± std. dev. of 1 run, 1 loop each)\n",
            "4.1 s ± 0 ns per loop (mean ± std. dev. of 1 run, 1 loop each)\n",
            "6.35 s ± 0 ns per loop (mean ± std. dev. of 1 run, 1 loop each)\n",
            "4.45 s ± 0 ns per loop (mean ± std. dev. of 1 run, 1 loop each)\n",
            "9.5 s ± 0 ns per loop (mean ± std. dev. of 1 run, 1 loop each)\n",
            "4.62 s ± 0 ns per loop (mean ± std. dev. of 1 run, 1 loop each)\n",
            "4.72 s ± 0 ns per loop (mean ± std. dev. of 1 run, 1 loop each)\n",
            "6.99 s ± 0 ns per loop (mean ± std. dev. of 1 run, 1 loop each)\n",
            "5.12 s ± 0 ns per loop (mean ± std. dev. of 1 run, 1 loop each)\n",
            "6.56 s ± 0 ns per loop (mean ± std. dev. of 1 run, 1 loop each)\n",
            "6.52 s ± 0 ns per loop (mean ± std. dev. of 1 run, 1 loop each)\n",
            "5.81 s ± 0 ns per loop (mean ± std. dev. of 1 run, 1 loop each)\n",
            "7.89 s ± 0 ns per loop (mean ± std. dev. of 1 run, 1 loop each)\n",
            "6.16 s ± 0 ns per loop (mean ± std. dev. of 1 run, 1 loop each)\n",
            "10.7 s ± 0 ns per loop (mean ± std. dev. of 1 run, 1 loop each)\n",
            "10.2 s ± 0 ns per loop (mean ± std. dev. of 1 run, 1 loop each)\n",
            "6.7 s ± 0 ns per loop (mean ± std. dev. of 1 run, 1 loop each)\n"
          ]
        }
      ],
      "source": [
        "result = []\n",
        "first_rdd  = sc.parallelize(range(5000000))\n",
        "for partition in range(1, 30):\n",
        "    first_rdd = first_rdd.repartition(partition)\n",
        "    time = %timeit -o  -n 1 -r 1 first_rdd.sum()\n",
        "    time = time.best\n",
        "    result.append((partition, time))"
      ]
    },
    {
      "cell_type": "code",
      "execution_count": null,
      "metadata": {
        "id": "tICS1hZBxAYT"
      },
      "outputs": [],
      "source": [
        "import matplotlib.pyplot as plt\n",
        "import os\n",
        "%matplotlib inline"
      ]
    },
    {
      "cell_type": "code",
      "execution_count": null,
      "metadata": {
        "colab": {
          "base_uri": "https://localhost:8080/",
          "height": 449
        },
        "id": "aMfCB5CLxFWP",
        "outputId": "ff994518-3aa6-4093-eb92-ab70d2dea345"
      },
      "outputs": [
        {
          "output_type": "execute_result",
          "data": {
            "text/plain": [
              "[<matplotlib.lines.Line2D at 0x7e2c9dfb8040>]"
            ]
          },
          "metadata": {},
          "execution_count": 13
        },
        {
          "output_type": "display_data",
          "data": {
            "text/plain": [
              "<Figure size 640x480 with 1 Axes>"
            ],
            "image/png": "[encoded data removed]"
          },
          "metadata": {}
        }
      ],
      "source": [
        "plt.plot([res[1] for res in result])"
      ]
    },
    {
      "cell_type": "markdown",
      "metadata": {
        "id": "KKB8WZZ3z1if"
      },
      "source": [
        "А почему лучший результат при небольшом количестве партиций?"
      ]
    },
    {
      "cell_type": "code",
      "execution_count": null,
      "metadata": {
        "colab": {
          "base_uri": "https://localhost:8080/"
        },
        "id": "kuiJd2Oqz0yY",
        "outputId": "066cde3f-db11-4723-8835-3ec701981b88"
      },
      "outputs": [
        {
          "output_type": "execute_result",
          "data": {
            "text/plain": [
              "2"
            ]
          },
          "metadata": {},
          "execution_count": 14
        }
      ],
      "source": [
        "import multiprocessing\n",
        "\n",
        "multiprocessing.cpu_count()"
      ]
    },
    {
      "cell_type": "markdown",
      "metadata": {
        "id": "2s8tP7e-y_ib"
      },
      "source": [
        "Из list также можно создавать RDD"
      ]
    },
    {
      "cell_type": "code",
      "execution_count": null,
      "metadata": {
        "id": "Xo5auCMsy7aH"
      },
      "outputs": [],
      "source": [
        "bad_list = [1, 2, 3, 'a', 10, 'b']"
      ]
    },
    {
      "cell_type": "code",
      "execution_count": null,
      "metadata": {
        "id": "VCpu1vIWzHYT"
      },
      "outputs": [],
      "source": [
        "bad_list_rdd = sc.parallelize(bad_list)"
      ]
    },
    {
      "cell_type": "code",
      "execution_count": null,
      "metadata": {
        "colab": {
          "base_uri": "https://localhost:8080/"
        },
        "id": "gFHIC38GzbAT",
        "outputId": "cb0fc1b6-16ab-4ec8-fd4e-c2026d6981b2"
      },
      "outputs": [
        {
          "output_type": "execute_result",
          "data": {
            "text/plain": [
              "[1, 2, 3, 'a', 10, 'b']"
            ]
          },
          "metadata": {},
          "execution_count": 17
        }
      ],
      "source": [
        "bad_list_rdd.collect()"
      ]
    },
    {
      "cell_type": "markdown",
      "metadata": {
        "id": "6gQxsxLd0UTH"
      },
      "source": [
        "Еще можно создать RDD через textFile и wholeTextFiles"
      ]
    },
    {
      "cell_type": "code",
      "execution_count": null,
      "metadata": {
        "id": "0l5oE92a1q2z"
      },
      "outputs": [],
      "source": [
        "text_rdd = sc.textFile('/content/drive/My Drive/Colab_Notebooks/PySpark/lesson_2/spark_text.txt')"
      ]
    },
    {
      "cell_type": "code",
      "execution_count": null,
      "metadata": {
        "colab": {
          "base_uri": "https://localhost:8080/"
        },
        "id": "2FKzdhuh10Z2",
        "outputId": "156778b1-7a1c-47cd-f938-ed9450b9001b"
      },
      "outputs": [
        {
          "output_type": "execute_result",
          "data": {
            "text/plain": [
              "['Apache Spark is an open-source unified analytics engine for large-scale data processing. Spark provides an interface for programming entire clusters with implicit data parallelism and fault tolerance. Originally developed at the University of California, Berkeley AMPLab, the Spark codebase was later donated to the Apache Software Foundation, which has maintained it since.']"
            ]
          },
          "metadata": {},
          "execution_count": 22
        }
      ],
      "source": [
        "text_rdd.take(1)"
      ]
    },
    {
      "cell_type": "markdown",
      "metadata": {
        "id": "065n4emo2Kuf"
      },
      "source": [
        "wholeTextFiles создает PairRDD в формате key-value, где ключ - имя файла, а значения - то, что находистя в файле. Имена файлов считываются из папки через wholeTextFiles"
      ]
    },
    {
      "cell_type": "code",
      "execution_count": null,
      "metadata": {
        "id": "cTGV-Tk42nNT"
      },
      "outputs": [],
      "source": [
        "dirPath = 'files'\n",
        "os.mkdir(dirPath)\n",
        "with open(os.path.join(dirPath, \"1.txt\"), \"w\") as file1:\n",
        "    _ = file1.write(\"[1 2 3]\")\n",
        "with open(os.path.join(dirPath, \"2.txt\"), \"w\") as file2:\n",
        "    _ = file2.write(\"[4 5 6]\")\n",
        "textFiles = sc.wholeTextFiles(dirPath)"
      ]
    },
    {
      "cell_type": "code",
      "execution_count": null,
      "metadata": {
        "colab": {
          "base_uri": "https://localhost:8080/"
        },
        "id": "2odeXS186wbv",
        "outputId": "781f7fe2-6dc5-4887-a807-92b603889368"
      },
      "outputs": [
        {
          "output_type": "execute_result",
          "data": {
            "text/plain": [
              "org.apache.spark.api.java.JavaPairRDD@700cb94"
            ]
          },
          "metadata": {},
          "execution_count": 24
        }
      ],
      "source": [
        "textFiles"
      ]
    },
    {
      "cell_type": "code",
      "execution_count": null,
      "metadata": {
        "colab": {
          "base_uri": "https://localhost:8080/"
        },
        "id": "Q49V_P0M6fV-",
        "outputId": "5c0aa8fb-0881-4e10-d4f1-7ed2eb8fef7a"
      },
      "outputs": [
        {
          "output_type": "execute_result",
          "data": {
            "text/plain": [
              "[('file:/content/files/1.txt', '[1 2 3]'),\n",
              " ('file:/content/files/2.txt', '[4 5 6]')]"
            ]
          },
          "metadata": {},
          "execution_count": 25
        }
      ],
      "source": [
        "textFiles.collect()"
      ]
    },
    {
      "cell_type": "markdown",
      "metadata": {
        "id": "AUEQ7fTh7KIg"
      },
      "source": [
        "У RDD есть стандартно 2 типа методов - actions и transformations"
      ]
    },
    {
      "cell_type": "markdown",
      "metadata": {
        "id": "S9xpZ-Ns7b-b"
      },
      "source": [
        "**Actions**\n",
        "\n",
        "Начнем с actions, то есть того, что заставит посчитать"
      ]
    },
    {
      "cell_type": "code",
      "execution_count": null,
      "metadata": {
        "id": "xn4EpCXJ7WWo"
      },
      "outputs": [],
      "source": [
        "first_rdd = first_rdd.coalesce(2)"
      ]
    },
    {
      "cell_type": "code",
      "execution_count": null,
      "metadata": {
        "colab": {
          "base_uri": "https://localhost:8080/"
        },
        "id": "TMUv2tyh7ob4",
        "outputId": "4d2ba5f3-850a-4b19-8f5c-e4fe06a67c51"
      },
      "outputs": [
        {
          "output_type": "execute_result",
          "data": {
            "text/plain": [
              "12499997500000"
            ]
          },
          "metadata": {},
          "execution_count": 27
        }
      ],
      "source": [
        "first_rdd.sum()"
      ]
    },
    {
      "cell_type": "code",
      "execution_count": null,
      "metadata": {
        "colab": {
          "base_uri": "https://localhost:8080/"
        },
        "id": "DUDdK1co7qQc",
        "outputId": "b81577be-531a-4a4f-a872-3edfbe85a6ff"
      },
      "outputs": [
        {
          "output_type": "execute_result",
          "data": {
            "text/plain": [
              "(0, 4999999)"
            ]
          },
          "metadata": {},
          "execution_count": 28
        }
      ],
      "source": [
        "first_rdd.min(), first_rdd.max()"
      ]
    },
    {
      "cell_type": "code",
      "execution_count": null,
      "metadata": {
        "colab": {
          "base_uri": "https://localhost:8080/"
        },
        "id": "gKijZqmp8uir",
        "outputId": "e43e8f11-94d7-4e21-b229-407e98332049"
      },
      "outputs": [
        {
          "output_type": "execute_result",
          "data": {
            "text/plain": [
              "1229760"
            ]
          },
          "metadata": {},
          "execution_count": 29
        }
      ],
      "source": [
        "first_rdd.first()"
      ]
    },
    {
      "cell_type": "code",
      "execution_count": null,
      "metadata": {
        "colab": {
          "base_uri": "https://localhost:8080/"
        },
        "id": "xUnqk-QI7wqE",
        "outputId": "00a545a7-a606-4e16-bfa4-8c7200edfa5f"
      },
      "outputs": [
        {
          "output_type": "execute_result",
          "data": {
            "text/plain": [
              "[1229760, 1229761]"
            ]
          },
          "metadata": {},
          "execution_count": 30
        }
      ],
      "source": [
        "first_rdd.take(2)"
      ]
    },
    {
      "cell_type": "code",
      "execution_count": null,
      "metadata": {
        "colab": {
          "base_uri": "https://localhost:8080/"
        },
        "id": "aUZk1eg87zky",
        "outputId": "8b04278c-672c-44b2-8ed1-bee696d9fd7a"
      },
      "outputs": [
        {
          "output_type": "execute_result",
          "data": {
            "text/plain": [
              "5000000"
            ]
          },
          "metadata": {},
          "execution_count": 31
        }
      ],
      "source": [
        "first_rdd.count()"
      ]
    },
    {
      "cell_type": "code",
      "execution_count": null,
      "metadata": {
        "id": "CMCFnJjG76Q-"
      },
      "outputs": [],
      "source": [
        "a = first_rdd.collect()"
      ]
    },
    {
      "cell_type": "code",
      "execution_count": null,
      "metadata": {
        "id": "oh1IT2cP8BPj",
        "colab": {
          "base_uri": "https://localhost:8080/"
        },
        "outputId": "63e3eb2e-e477-4311-aa0a-38b7814da349"
      },
      "outputs": [
        {
          "output_type": "execute_result",
          "data": {
            "text/plain": [
              "(<bound method RDD.saveAsTextFile of CoalescedRDD[167] at coalesce at <unknown>:0>,\n",
              " <bound method RDD.saveAsPickleFile of CoalescedRDD[167] at coalesce at <unknown>:0>)"
            ]
          },
          "metadata": {},
          "execution_count": 33
        }
      ],
      "source": [
        "first_rdd.saveAsTextFile, first_rdd.saveAsPickleFile"
      ]
    },
    {
      "cell_type": "code",
      "execution_count": null,
      "metadata": {
        "colab": {
          "base_uri": "https://localhost:8080/"
        },
        "id": "TFXlzHqA8T1M",
        "outputId": "6919f0b1-8b1c-4790-c0ac-4f230ecc8cf8"
      },
      "outputs": [
        {
          "output_type": "execute_result",
          "data": {
            "text/plain": [
              "12499997500000"
            ]
          },
          "metadata": {},
          "execution_count": 34
        }
      ],
      "source": [
        "first_rdd.reduce(lambda x, y: x + y)"
      ]
    },
    {
      "cell_type": "markdown",
      "metadata": {
        "id": "Ev48GQfDqnrS"
      },
      "source": [
        "Если нужно получить небольшое число записей на драйвер и, при этом, сохранить распределение, то лучше сделать выборку"
      ]
    },
    {
      "cell_type": "code",
      "execution_count": null,
      "metadata": {
        "colab": {
          "base_uri": "https://localhost:8080/"
        },
        "id": "pDHNH3H19Pib",
        "outputId": "9c213232-337f-4965-cb9d-d1cfd7c1c4bb"
      },
      "outputs": [
        {
          "output_type": "execute_result",
          "data": {
            "text/plain": [
              "[4229148, 2006719, 1301632, 4730629, 1025149]"
            ]
          },
          "metadata": {},
          "execution_count": 35
        }
      ],
      "source": [
        "first_rdd.takeSample(withReplacement=False, num=5, seed=5757)"
      ]
    },
    {
      "cell_type": "markdown",
      "metadata": {
        "id": "Aiad4-a8ejvL"
      },
      "source": [
        "**Transformations**\n",
        "\n",
        "Это просто трансформации, которые не будут вычисляться до вызова actions"
      ]
    },
    {
      "cell_type": "code",
      "execution_count": null,
      "metadata": {
        "id": "BMpdFk3W9P-E"
      },
      "outputs": [],
      "source": [
        "a = sc.parallelize([1, 2, 3])\n",
        "b = sc.parallelize([2, 3, 4])"
      ]
    },
    {
      "cell_type": "code",
      "execution_count": null,
      "metadata": {
        "id": "SmJMLmCO9Xi2"
      },
      "outputs": [],
      "source": [
        "c = a + b"
      ]
    },
    {
      "cell_type": "code",
      "execution_count": null,
      "metadata": {
        "colab": {
          "base_uri": "https://localhost:8080/"
        },
        "id": "X196_-ZQ9arZ",
        "outputId": "464ae36e-df7c-4eb0-db4c-c1ddadc36cec"
      },
      "outputs": [
        {
          "output_type": "execute_result",
          "data": {
            "text/plain": [
              "[1, 2, 3, 2, 3, 4]"
            ]
          },
          "metadata": {},
          "execution_count": 38
        }
      ],
      "source": [
        "c.collect()"
      ]
    },
    {
      "cell_type": "markdown",
      "metadata": {
        "id": "tQNtnHNtfzEC"
      },
      "source": [
        "filter"
      ]
    },
    {
      "cell_type": "code",
      "execution_count": null,
      "metadata": {
        "colab": {
          "base_uri": "https://localhost:8080/"
        },
        "id": "M7qMFVREfxv8",
        "outputId": "c2cceaff-a888-4f82-a406-e4f40a5e379f"
      },
      "outputs": [
        {
          "output_type": "execute_result",
          "data": {
            "text/plain": [
              "100"
            ]
          },
          "metadata": {},
          "execution_count": 39
        }
      ],
      "source": [
        "text_rdd.count()"
      ]
    },
    {
      "cell_type": "code",
      "execution_count": null,
      "metadata": {
        "colab": {
          "base_uri": "https://localhost:8080/"
        },
        "id": "3wiJ08Frf-Jz",
        "outputId": "2801773a-5965-4dcc-c435-9841a1bbdc7f"
      },
      "outputs": [
        {
          "output_type": "execute_result",
          "data": {
            "text/plain": [
              "60"
            ]
          },
          "metadata": {},
          "execution_count": 40
        }
      ],
      "source": [
        "text_rdd.filter(lambda x: x != '').count()"
      ]
    },
    {
      "cell_type": "code",
      "execution_count": null,
      "metadata": {
        "id": "wYQT0S4ugRRp"
      },
      "outputs": [],
      "source": [
        "text_rdd = text_rdd.filter(lambda x: x != '')"
      ]
    },
    {
      "cell_type": "markdown",
      "metadata": {
        "id": "E41esva9ex2j"
      },
      "source": [
        "map"
      ]
    },
    {
      "cell_type": "code",
      "execution_count": null,
      "metadata": {
        "id": "JQ5yWa7yfUVv"
      },
      "outputs": [],
      "source": [
        "stop_words = stopwords.words(\"english\")\n",
        "stop_words = set(stop_words)"
      ]
    },
    {
      "cell_type": "code",
      "execution_count": null,
      "metadata": {
        "id": "gny7-CMYgkQQ"
      },
      "outputs": [],
      "source": [
        "def mapper_text(text):\n",
        "    clean_text = re.sub(rf\"[{string.punctuation}]\", \"\", text)\n",
        "    words = nltk.word_tokenize(clean_text)\n",
        "    words_with_value = [(word.lower(), 1) for word in words\n",
        "                        if word not in stop_words]\n",
        "    return words_with_value"
      ]
    },
    {
      "cell_type": "code",
      "execution_count": null,
      "metadata": {
        "colab": {
          "base_uri": "https://localhost:8080/"
        },
        "id": "-C7K6V3Sgw4-",
        "outputId": "e8c7dbb7-a0da-40d7-e330-51ca7cfec698"
      },
      "outputs": [
        {
          "output_type": "execute_result",
          "data": {
            "text/plain": [
              "[[('apache', 1),\n",
              "  ('spark', 1),\n",
              "  ('opensource', 1),\n",
              "  ('unified', 1),\n",
              "  ('analytics', 1),\n",
              "  ('engine', 1),\n",
              "  ('largescale', 1),\n",
              "  ('data', 1),\n",
              "  ('processing', 1),\n",
              "  ('spark', 1),\n",
              "  ('provides', 1),\n",
              "  ('interface', 1),\n",
              "  ('programming', 1),\n",
              "  ('entire', 1),\n",
              "  ('clusters', 1),\n",
              "  ('implicit', 1),\n",
              "  ('data', 1),\n",
              "  ('parallelism', 1),\n",
              "  ('fault', 1),\n",
              "  ('tolerance', 1),\n",
              "  ('originally', 1),\n",
              "  ('developed', 1),\n",
              "  ('university', 1),\n",
              "  ('california', 1),\n",
              "  ('berkeley', 1),\n",
              "  ('amplab', 1),\n",
              "  ('spark', 1),\n",
              "  ('codebase', 1),\n",
              "  ('later', 1),\n",
              "  ('donated', 1),\n",
              "  ('apache', 1),\n",
              "  ('software', 1),\n",
              "  ('foundation', 1),\n",
              "  ('maintained', 1),\n",
              "  ('since', 1)]]"
            ]
          },
          "metadata": {},
          "execution_count": 44
        }
      ],
      "source": [
        "text_rdd.map(mapper_text).take(1)"
      ]
    },
    {
      "cell_type": "markdown",
      "metadata": {
        "id": "bw6eE6BnhC4G"
      },
      "source": [
        "flatMap"
      ]
    },
    {
      "cell_type": "markdown",
      "metadata": {
        "id": "eTUOQWrZhS89"
      },
      "source": [
        "Попробуем применить map и flatMap"
      ]
    },
    {
      "cell_type": "code",
      "execution_count": null,
      "metadata": {
        "colab": {
          "base_uri": "https://localhost:8080/"
        },
        "id": "7Zi_fYGfhEza",
        "outputId": "0eb14e90-423e-42e4-fc5b-4e3ec51a7fbf"
      },
      "outputs": [
        {
          "output_type": "execute_result",
          "data": {
            "text/plain": [
              "60"
            ]
          },
          "metadata": {},
          "execution_count": 45
        }
      ],
      "source": [
        "text_rdd.map(mapper_text).count()"
      ]
    },
    {
      "cell_type": "code",
      "execution_count": null,
      "metadata": {
        "colab": {
          "base_uri": "https://localhost:8080/"
        },
        "id": "XUp5kQAnhMsW",
        "outputId": "46585793-5169-42ed-82b2-6a155c09870d"
      },
      "outputs": [
        {
          "output_type": "execute_result",
          "data": {
            "text/plain": [
              "1921"
            ]
          },
          "metadata": {},
          "execution_count": 46
        }
      ],
      "source": [
        "text_rdd.flatMap(mapper_text).count()"
      ]
    },
    {
      "cell_type": "markdown",
      "metadata": {
        "id": "tWVR-ueohXQ-"
      },
      "source": [
        "Как так?"
      ]
    },
    {
      "cell_type": "code",
      "execution_count": null,
      "metadata": {
        "colab": {
          "base_uri": "https://localhost:8080/"
        },
        "id": "jKf-8WfLhscS",
        "outputId": "cd6e711b-9977-4a41-a157-55dc893afbe4"
      },
      "outputs": [
        {
          "output_type": "execute_result",
          "data": {
            "text/plain": [
              "1921"
            ]
          },
          "metadata": {},
          "execution_count": 47
        }
      ],
      "source": [
        "text_rdd.map(mapper_text).map(len).sum()"
      ]
    },
    {
      "cell_type": "markdown",
      "metadata": {
        "id": "tm1g9-0EiN2x"
      },
      "source": [
        "вроде понятно что случилось, но давайте на игрушечном примере"
      ]
    },
    {
      "cell_type": "code",
      "execution_count": null,
      "metadata": {
        "id": "ZwUcamJHiNJa"
      },
      "outputs": [],
      "source": [
        "simple_example = sc.parallelize([[1, 2, 3], [2, 3, 4], [4, 5, 6]])"
      ]
    },
    {
      "cell_type": "code",
      "execution_count": null,
      "metadata": {
        "id": "4e95UYZri0P1"
      },
      "outputs": [],
      "source": [
        "def pow_elements(elements):\n",
        "    return [x**2 for x in elements]"
      ]
    },
    {
      "cell_type": "code",
      "execution_count": null,
      "metadata": {
        "colab": {
          "base_uri": "https://localhost:8080/"
        },
        "id": "oRuQNwphilD7",
        "outputId": "1f7d47cb-1d27-4e23-eaad-50024c7eb238"
      },
      "outputs": [
        {
          "output_type": "execute_result",
          "data": {
            "text/plain": [
              "[[1, 4, 9], [4, 9, 16], [16, 25, 36]]"
            ]
          },
          "metadata": {},
          "execution_count": 50
        }
      ],
      "source": [
        "simple_example.map(pow_elements).collect()"
      ]
    },
    {
      "cell_type": "code",
      "execution_count": null,
      "metadata": {
        "colab": {
          "base_uri": "https://localhost:8080/"
        },
        "id": "9JQ0zRRmjC6Y",
        "outputId": "c35ca4d9-e024-44e9-d501-7730b49e58b5"
      },
      "outputs": [
        {
          "output_type": "execute_result",
          "data": {
            "text/plain": [
              "[1, 4, 9, 4, 9, 16, 16, 25, 36]"
            ]
          },
          "metadata": {},
          "execution_count": 51
        }
      ],
      "source": [
        "simple_example.flatMap(pow_elements).collect()"
      ]
    },
    {
      "cell_type": "markdown",
      "metadata": {
        "id": "GYbF8PgtkA5U"
      },
      "source": [
        "groupByKey"
      ]
    },
    {
      "cell_type": "code",
      "execution_count": null,
      "metadata": {
        "id": "NbY1SU54j_Ln"
      },
      "outputs": [],
      "source": [
        "text_rdd = text_rdd.flatMap(mapper_text)"
      ]
    },
    {
      "cell_type": "code",
      "execution_count": null,
      "metadata": {
        "colab": {
          "base_uri": "https://localhost:8080/"
        },
        "id": "OSAVshc5jVlO",
        "outputId": "a71b9d87-21c2-46e9-a0cb-88bc74bcf6b9"
      },
      "outputs": [
        {
          "output_type": "execute_result",
          "data": {
            "text/plain": [
              "[('opensource', 1),\n",
              " ('unified', 2),\n",
              " ('analytics', 5),\n",
              " ('engine', 4),\n",
              " ('provides', 10),\n",
              " ('programming', 9),\n",
              " ('entire', 1),\n",
              " ('clusters', 2),\n",
              " ('implicit', 1),\n",
              " ('fault', 1),\n",
              " ('tolerance', 1),\n",
              " ('originally', 3),\n",
              " ('developed', 2),\n",
              " ('university', 1),\n",
              " ('codebase', 1),\n",
              " ('readonly', 2),\n",
              " ('multiset', 1),\n",
              " ('items', 2),\n",
              " ('faulttolerant', 1),\n",
              " ('way2', 1),\n",
              " ('api', 14),\n",
              " ('in', 7),\n",
              " ('primary', 1),\n",
              " ('use', 9),\n",
              " ('encouraged3', 1),\n",
              " ('even', 5),\n",
              " ('though', 1),\n",
              " ('technology', 2),\n",
              " ('2012', 1),\n",
              " ('response', 2),\n",
              " ('limitations', 1),\n",
              " ('forces', 1),\n",
              " ('particular', 1),\n",
              " ('programs', 3),\n",
              " ('read', 1),\n",
              " ('input', 2),\n",
              " ('disk', 3),\n",
              " ('reduce', 3),\n",
              " ('results', 2),\n",
              " ('store', 1),\n",
              " ('working', 1),\n",
              " ('set', 5),\n",
              " ('offers', 3),\n",
              " ('deliberately', 1),\n",
              " ('form', 2),\n",
              " ('memory8', 1),\n",
              " ('facilitates', 1),\n",
              " ('iterative', 2),\n",
              " ('algorithm', 1),\n",
              " ('visit', 1),\n",
              " ('multiple', 4),\n",
              " ('ie', 1),\n",
              " ('databasestyle', 1),\n",
              " ('querying', 2),\n",
              " ('latency', 2),\n",
              " ('may', 2),\n",
              " ('several', 1),\n",
              " ('orders', 1),\n",
              " ('magnitude', 1),\n",
              " ('compared', 2),\n",
              " ('hadoop', 11),\n",
              " ('class', 1),\n",
              " ('algorithms', 7),\n",
              " ('training', 2),\n",
              " ('machine', 12),\n",
              " ('learning', 15),\n",
              " ('systems', 1),\n",
              " ('formed', 1),\n",
              " ('initial', 1),\n",
              " ('impetus', 1),\n",
              " ('developing', 1),\n",
              " ('manager', 2),\n",
              " ('storage', 3),\n",
              " ('management', 2),\n",
              " ('supports', 5),\n",
              " ('native', 2),\n",
              " ('scripts', 1),\n",
              " ('install', 1),\n",
              " ('possible', 1),\n",
              " ('run', 7),\n",
              " ('single', 3),\n",
              " ('yarn', 2),\n",
              " ('maprfs13', 1),\n",
              " ('cassandra14', 1),\n",
              " ('amazon', 3),\n",
              " ('s3', 2),\n",
              " ('kudu', 1),\n",
              " ('lustre', 1),\n",
              " ('solution', 2),\n",
              " ('pseudodistributed', 1),\n",
              " ('mode', 3),\n",
              " ('used', 8),\n",
              " ('development', 2),\n",
              " ('purposes', 1),\n",
              " ('instead', 1),\n",
              " ('executor', 2),\n",
              " ('overall', 1),\n",
              " ('project', 5),\n",
              " ('task', 1),\n",
              " ('dispatching', 1),\n",
              " ('scheduling', 3),\n",
              " ('basic', 2),\n",
              " ('functionalities', 1),\n",
              " ('exposed', 1),\n",
              " ('java', 5),\n",
              " ('python', 8),\n",
              " ('scala', 6),\n",
              " ('r', 4),\n",
              " ('centered', 1),\n",
              " ('connect', 1),\n",
              " ('this', 3),\n",
              " ('mirrors', 1),\n",
              " ('functionalhigherorder', 1),\n",
              " ('model', 1),\n",
              " ('driver', 3),\n",
              " ('invokes', 1),\n",
              " ('parallel', 5),\n",
              " ('operations', 7),\n",
              " ('functions', 2),\n",
              " ('execution', 2),\n",
              " ('cluster2', 1),\n",
              " ('these', 5),\n",
              " ('additional', 1),\n",
              " ('take', 3),\n",
              " ('produce', 1),\n",
              " ('new', 5),\n",
              " ('immutable', 4),\n",
              " ('faulttolerance', 1),\n",
              " ('sequence', 2),\n",
              " ('produced', 1),\n",
              " ('reconstructed', 1),\n",
              " ('loss', 1),\n",
              " ('type', 1),\n",
              " ('functional', 2),\n",
              " ('style', 1),\n",
              " ('two', 6),\n",
              " ('broadcast', 1),\n",
              " ('reference', 1),\n",
              " ('needs', 3),\n",
              " ('nodes', 4),\n",
              " ('accumulators', 1),\n",
              " ('imperative', 1),\n",
              " ('typical', 1),\n",
              " ('following', 1),\n",
              " ('files', 2),\n",
              " ('common', 2),\n",
              " ('flatmap', 1),\n",
              " ('variant', 1),\n",
              " ('anonymous', 1),\n",
              " ('performs', 2),\n",
              " ('simple', 6),\n",
              " ('item', 1),\n",
              " ('applies', 1),\n",
              " ('introduced', 1),\n",
              " ('dataframesa', 1),\n",
              " ('support', 8),\n",
              " ('semistructured', 1),\n",
              " ('domainspecific', 1),\n",
              " ('language', 2),\n",
              " ('dataframes', 4),\n",
              " ('interfaces', 1),\n",
              " ('although', 1),\n",
              " ('lack', 1),\n",
              " ('20', 1),\n",
              " ('strongly', 1),\n",
              " ('typed', 1),\n",
              " ('streaming', 36),\n",
              " ('uses', 1),\n",
              " ('perform', 4),\n",
              " ('ingests', 1),\n",
              " ('transformations', 2),\n",
              " ('design', 1),\n",
              " ('thus', 3),\n",
              " ('however', 3),\n",
              " ('convenience', 1),\n",
              " ('penalty', 1),\n",
              " ('equal', 1),\n",
              " ('minibatch', 1),\n",
              " ('other', 2),\n",
              " ('process', 4),\n",
              " ('event', 2),\n",
              " ('rather', 2),\n",
              " ('include', 2),\n",
              " ('storm', 3),\n",
              " ('builtin', 2),\n",
              " ('zeromq', 1),\n",
              " ('sockets22', 1),\n",
              " ('based', 3),\n",
              " ('datasets', 2),\n",
              " ('deployed', 2),\n",
              " ('traditional', 2),\n",
              " ('onpremises', 1),\n",
              " ('center', 1),\n",
              " ('cloud', 3),\n",
              " ('machinelearning', 1),\n",
              " ('framework', 9),\n",
              " ('due', 2),\n",
              " ('large', 4),\n",
              " ('diskbased', 2),\n",
              " ('mahout', 2),\n",
              " ('developers', 6),\n",
              " ('alternating', 1),\n",
              " ('squares', 1),\n",
              " ('scales', 1),\n",
              " ('wabbit24', 1),\n",
              " ('statistical', 1),\n",
              " ('pipelines', 6),\n",
              " ('unsuitable', 1),\n",
              " ('let', 1),\n",
              " ('like', 4),\n",
              " ('graph', 9),\n",
              " ('database26', 1),\n",
              " ('predecessor', 1),\n",
              " ('formally', 1),\n",
              " ('16', 1),\n",
              " ('full', 1),\n",
              " ('vertices28', 1),\n",
              " ('version', 1),\n",
              " ('started', 1),\n",
              " ('research', 1),\n",
              " ('uc', 2),\n",
              " ('quickly', 1),\n",
              " ('tasks', 8),\n",
              " ('sets', 2),\n",
              " ('computers', 1),\n",
              " ('tandem', 1),\n",
              " ('tools', 1),\n",
              " ('worlds', 1),\n",
              " ('marshalling', 1),\n",
              " ('massive', 1),\n",
              " ('power', 2),\n",
              " ('stores', 3),\n",
              " ('shoulders', 1),\n",
              " ('abstracts', 1),\n",
              " ('away', 1),\n",
              " ('grunt', 1),\n",
              " ('work', 2),\n",
              " ('become', 3),\n",
              " ('frameworks', 3),\n",
              " ('world', 3),\n",
              " ('bindings', 1),\n",
              " ('telecommunications', 1),\n",
              " ('companies', 2),\n",
              " ('games', 1),\n",
              " ('governments', 1),\n",
              " ('major', 1),\n",
              " ('facebook', 1),\n",
              " ('ibm', 1),\n",
              " ('microsoft', 2),\n",
              " ('at', 2),\n",
              " ('fundamental', 1),\n",
              " ('components', 2),\n",
              " ('converts', 1),\n",
              " ('worker', 1),\n",
              " ('execute', 1),\n",
              " ('mediate', 1),\n",
              " ('out', 1),\n",
              " ('likely', 2),\n",
              " ('robust', 1),\n",
              " ('resource', 1),\n",
              " ('demand', 1),\n",
              " ('enterprise', 2),\n",
              " ('normally', 1),\n",
              " ('mean', 1),\n",
              " ('distributions', 2),\n",
              " ('docker', 1),\n",
              " ('swarm', 1),\n",
              " ('managed', 2),\n",
              " ('emr', 1),\n",
              " ('google', 2),\n",
              " ('azure', 1),\n",
              " ('platform', 2),\n",
              " ('comprehensive', 1),\n",
              " ('service', 1),\n",
              " ('integrated', 1),\n",
              " ('webbased', 1),\n",
              " ('optimized', 1),\n",
              " ('performance', 2),\n",
              " ('distribution', 1),\n",
              " ('commands', 1),\n",
              " ('acyclic', 1),\n",
              " ('dag', 3),\n",
              " ('layer', 1),\n",
              " ('determines', 1),\n",
              " ('executed', 2),\n",
              " ('why', 1),\n",
              " ('worth', 1),\n",
              " ('pointing', 1),\n",
              " ('days', 1),\n",
              " ('but', 3),\n",
              " ('advantages', 1),\n",
              " ('overtaking', 1),\n",
              " ('roadmap', 1),\n",
              " ('speed', 1),\n",
              " ('means', 1),\n",
              " ('certain', 1),\n",
              " ('situations', 1),\n",
              " ('particularly', 1),\n",
              " ('multistage', 1),\n",
              " ('writing', 5),\n",
              " ('state', 1),\n",
              " ('stages', 2),\n",
              " ('essence', 1),\n",
              " ('consisting', 1),\n",
              " ('reducing', 2),\n",
              " ('whereas', 1),\n",
              " ('around', 1),\n",
              " ('10', 1),\n",
              " ('as', 2),\n",
              " ('speedup', 1),\n",
              " ('friendly', 1),\n",
              " ('hiding', 1),\n",
              " ('calls', 1),\n",
              " ('50', 1),\n",
              " ('count', 1),\n",
              " ('heart', 1),\n",
              " ('collection', 1),\n",
              " ('leading', 1),\n",
              " ('scalable', 1),\n",
              " ('created', 1),\n",
              " ('nosql', 1),\n",
              " ('cassandra', 2),\n",
              " ('buckets', 1),\n",
              " ('providing', 1),\n",
              " ('filtering', 2),\n",
              " ('sampling', 1),\n",
              " ('combining', 1),\n",
              " ('distributes', 1),\n",
              " ('processes', 1),\n",
              " ('known', 1),\n",
              " ('creating', 2),\n",
              " ('focused', 1),\n",
              " ('using', 5),\n",
              " ('approach', 3),\n",
              " ('pandas', 1),\n",
              " ('name', 1),\n",
              " ('sql2003compliant', 1),\n",
              " ('bringing', 1),\n",
              " ('alongside', 1),\n",
              " ('json', 1),\n",
              " ('hdfs', 1),\n",
              " ('hive', 1),\n",
              " ('parquet', 1),\n",
              " ('others', 1),\n",
              " ('columns', 1),\n",
              " ('line', 1),\n",
              " ('applying', 1),\n",
              " ('techniques', 1),\n",
              " ('allowing', 3),\n",
              " ('feature', 1),\n",
              " ('extraction', 1),\n",
              " ('selections', 1),\n",
              " ('classification', 2),\n",
              " ('forests', 1),\n",
              " ('swapped', 1),\n",
              " ('scientists', 1),\n",
              " ('imported', 1),\n",
              " ('scalabased', 1),\n",
              " ('pipeline', 2),\n",
              " ('production', 1),\n",
              " ('covers', 1),\n",
              " ('regression', 1),\n",
              " ('neural', 1),\n",
              " ('networks', 1),\n",
              " ('details', 1),\n",
              " ('infoworld', 1),\n",
              " ('structures', 1),\n",
              " ('graphframes', 1),\n",
              " ('catalyst', 2),\n",
              " ('environments', 1),\n",
              " ('near', 1),\n",
              " ('things', 1),\n",
              " ('would', 1),\n",
              " ('something', 1),\n",
              " ('requirements', 1),\n",
              " ('codebases', 1),\n",
              " ('kept', 1),\n",
              " ('sync', 1),\n",
              " ('domain', 1),\n",
              " ('despite', 1),\n",
              " ('different', 3),\n",
              " ('requiring', 1),\n",
              " ('resources', 1),\n",
              " ('involving', 1),\n",
              " ('concerns', 1),\n",
              " ('continuous', 4),\n",
              " ('series', 1),\n",
              " ('way', 1),\n",
              " ('share', 1),\n",
              " ('overhead', 1),\n",
              " ('microbatching', 2),\n",
              " ('lowlatency', 2),\n",
              " ('able', 1),\n",
              " ('match', 1),\n",
              " ('streamingcapable', 1),\n",
              " ('added', 2),\n",
              " ('essentially', 1),\n",
              " ('infinite', 1),\n",
              " ('solves', 1),\n",
              " ('pain', 1),\n",
              " ('points', 1),\n",
              " ('especially', 1),\n",
              " ('eventtime', 1),\n",
              " ('aggregations', 1),\n",
              " ('late', 1),\n",
              " ('delivery', 1),\n",
              " ('messages', 1),\n",
              " ('streams', 1),\n",
              " ('go', 1),\n",
              " ('query', 1),\n",
              " ('live', 1),\n",
              " ('relied', 1),\n",
              " ('team', 1),\n",
              " ('handle', 1),\n",
              " ('responses', 1),\n",
              " ('low', 1),\n",
              " ('impressive', 1),\n",
              " ('24', 1),\n",
              " ('considered', 1),\n",
              " ('legacy', 1),\n",
              " ('maintaining', 1),\n",
              " ('via', 1),\n",
              " ('call', 1),\n",
              " ('lowerlevel', 1),\n",
              " ('construct', 1),\n",
              " ('classifiers', 1),\n",
              " ('keras', 1),\n",
              " ('registered', 1),\n",
              " ('udfs', 1),\n",
              " ('userdefined', 1),\n",
              " ('applied', 1),\n",
              " ('tutorials', 1),\n",
              " ('ready', 1),\n",
              " ('dive', 1),\n",
              " ('we', 1),\n",
              " ('recommend', 1),\n",
              " ('guide', 1),\n",
              " ('basics', 1),\n",
              " ('science', 1),\n",
              " ('increasingly', 1),\n",
              " ('apache', 56),\n",
              " ('spark', 110),\n",
              " ('largescale', 1),\n",
              " ('data', 44),\n",
              " ('processing', 19),\n",
              " ('interface', 10),\n",
              " ('parallelism', 1),\n",
              " ('california', 1),\n",
              " ('berkeley', 2),\n",
              " ('amplab', 3),\n",
              " ('later', 2),\n",
              " ('donated', 2),\n",
              " ('software', 2),\n",
              " ('foundation', 4),\n",
              " ('maintained', 2),\n",
              " ('since', 1),\n",
              " ('architectural', 1),\n",
              " ('resilient', 2),\n",
              " ('distributed', 23),\n",
              " ('dataset', 7),\n",
              " ('rdd', 15),\n",
              " ('cluster', 12),\n",
              " ('machines', 1),\n",
              " ('the', 9),\n",
              " ('dataframe', 3),\n",
              " ('released', 1),\n",
              " ('abstraction', 6),\n",
              " ('top', 5),\n",
              " ('followed', 1),\n",
              " ('1x', 1),\n",
              " ('application', 8),\n",
              " ('2x', 3),\n",
              " ('deprecated45', 1),\n",
              " ('still', 2),\n",
              " ('underlies', 1),\n",
              " ('api67', 1),\n",
              " ('rdds', 10),\n",
              " ('mapreduce', 10),\n",
              " ('computing', 5),\n",
              " ('paradigm', 2),\n",
              " ('linear', 1),\n",
              " ('dataflow', 1),\n",
              " ('structure', 3),\n",
              " ('map', 6),\n",
              " ('function', 4),\n",
              " ('across', 5),\n",
              " ('reduction', 1),\n",
              " ('restricted', 3),\n",
              " ('shared', 2),\n",
              " ('implementation', 6),\n",
              " ('ms', 1),\n",
              " ('times', 4),\n",
              " ('loop', 1),\n",
              " ('interactiveexploratory', 1),\n",
              " ('analysis', 2),\n",
              " ('repeated', 1),\n",
              " ('applications', 5),\n",
              " ('reduced', 2),\n",
              " ('implementation29', 1),\n",
              " ('among', 2),\n",
              " ('spark10', 1),\n",
              " ('requires', 2),\n",
              " ('system', 5),\n",
              " ('for', 2),\n",
              " ('standalone', 2),\n",
              " ('launch', 2),\n",
              " ('either', 2),\n",
              " ('manually', 1),\n",
              " ('provided', 2),\n",
              " ('package', 2),\n",
              " ('it', 7),\n",
              " ('also', 15),\n",
              " ('daemons', 1),\n",
              " ('testing', 2),\n",
              " ('mesos', 2),\n",
              " ('kubernetes', 2),\n",
              " ('11', 1),\n",
              " ('wide', 1),\n",
              " ('variety', 2),\n",
              " ('including', 6),\n",
              " ('alluxio', 1),\n",
              " ('file', 4),\n",
              " ('hdfs12', 1),\n",
              " ('mapr', 1),\n",
              " ('openstack', 1),\n",
              " ('swift', 1),\n",
              " ('system15', 1),\n",
              " ('custom', 4),\n",
              " ('implemented', 2),\n",
              " ('local', 2),\n",
              " ('usually', 1),\n",
              " ('required', 4),\n",
              " ('scenario', 1),\n",
              " ('one', 4),\n",
              " ('per', 1),\n",
              " ('cpu', 1),\n",
              " ('core', 9),\n",
              " ('io', 2),\n",
              " ('net16', 2),\n",
              " ('available', 2),\n",
              " ('jvm', 3),\n",
              " ('languages', 3),\n",
              " ('usable', 1),\n",
              " ('nonjvm', 1),\n",
              " ('julia17', 1),\n",
              " ('program', 3),\n",
              " ('filter', 1),\n",
              " ('passing', 1),\n",
              " ('schedules', 1),\n",
              " ('ones', 2),\n",
              " ('joins', 1),\n",
              " ('lazy', 1),\n",
              " ('achieved', 1),\n",
              " ('keeping', 1),\n",
              " ('track', 1),\n",
              " ('lineage', 1),\n",
              " ('case', 2),\n",
              " ('contain', 1),\n",
              " ('net', 1),\n",
              " ('objects', 2),\n",
              " ('besides', 2),\n",
              " ('rddoriented', 1),\n",
              " ('forms', 1),\n",
              " ('variables', 2),\n",
              " ('reductions', 1),\n",
              " ('style2', 1),\n",
              " ('a', 4),\n",
              " ('example', 2),\n",
              " ('rddcentric', 1),\n",
              " ('computes', 1),\n",
              " ('frequencies', 1),\n",
              " ('words', 2),\n",
              " ('occurring', 1),\n",
              " ('text', 2),\n",
              " ('prints', 1),\n",
              " ('each', 1),\n",
              " ('reducebykey', 1),\n",
              " ('takes', 2),\n",
              " ('operation', 1),\n",
              " ('pair', 1),\n",
              " ('argument', 1),\n",
              " ('transform', 1),\n",
              " ('sql', 17),\n",
              " ('component', 2),\n",
              " ('called', 2),\n",
              " ('structured', 13),\n",
              " ('dsl', 1),\n",
              " ('manipulate', 1),\n",
              " ('commandline', 1),\n",
              " ('odbcjdbc', 1),\n",
              " ('server', 1),\n",
              " ('compiletime', 1),\n",
              " ('typechecking', 1),\n",
              " ('afforded', 1),\n",
              " ('fully', 1),\n",
              " ('supported', 3),\n",
              " ('well', 4),\n",
              " ('cores', 1),\n",
              " ('fast', 3),\n",
              " ('capability', 1),\n",
              " ('minibatches', 3),\n",
              " ('enables', 1),\n",
              " ('code', 8),\n",
              " ('written', 2),\n",
              " ('batch', 6),\n",
              " ('facilitating', 1),\n",
              " ('easy', 2),\n",
              " ('lambda', 1),\n",
              " ('architecture1920', 1),\n",
              " ('comes', 3),\n",
              " ('duration', 1),\n",
              " ('engines', 1),\n",
              " ('flink21', 1),\n",
              " ('consume', 1),\n",
              " ('kafka', 1),\n",
              " ('flume', 1),\n",
              " ('twitter', 1),\n",
              " ('kinesis', 1),\n",
              " ('tcpip', 1),\n",
              " ('separate', 4),\n",
              " ('higherlevel', 3),\n",
              " ('streaming23', 1),\n",
              " ('mllib', 9),\n",
              " ('part', 3),\n",
              " ('memorybased', 1),\n",
              " ('architecture', 1),\n",
              " ('much', 5),\n",
              " ('nine', 1),\n",
              " ('according', 1),\n",
              " ('benchmarks', 1),\n",
              " ('done', 1),\n",
              " ('least', 1),\n",
              " ('als', 1),\n",
              " ('implementations', 2),\n",
              " ('gained', 1),\n",
              " ('better', 1),\n",
              " ('vowpal', 1),\n",
              " ('many', 3),\n",
              " ('shipped', 1),\n",
              " ('simplifies', 1),\n",
              " ('scale', 2),\n",
              " ('graphx', 7),\n",
              " ('graphprocessing', 1),\n",
              " ('because', 1),\n",
              " ('graphs', 6),\n",
              " ('need', 2),\n",
              " ('updated', 1),\n",
              " ('alone', 1),\n",
              " ('transactional', 1),\n",
              " ('manner', 2),\n",
              " ('apis', 3),\n",
              " ('massively', 1),\n",
              " ('pagerank', 2),\n",
              " ('pregel', 1),\n",
              " ('general', 1),\n",
              " ('mapreducestyle', 1),\n",
              " ('api27', 1),\n",
              " ('unlike', 1),\n",
              " ('bagel', 1),\n",
              " ('deprecated', 1),\n",
              " ('property', 1),\n",
              " ('properties', 1),\n",
              " ('attached', 1),\n",
              " ('edges', 1),\n",
              " ('viewed', 1),\n",
              " ('inmemory', 2),\n",
              " ('giraph', 1),\n",
              " ('utilized', 1),\n",
              " ('mapreduce29', 1),\n",
              " ('initially', 1),\n",
              " ('berkeleys', 1),\n",
              " ('databricks', 3),\n",
              " ('distribute', 1),\n",
              " ('qualities', 1),\n",
              " ('key', 2),\n",
              " ('big', 6),\n",
              " ('require', 2),\n",
              " ('crunch', 1),\n",
              " ('burdens', 1),\n",
              " ('easytouse', 1),\n",
              " ('from', 1),\n",
              " ('humble', 1),\n",
              " ('beginnings', 1),\n",
              " ('2009', 1),\n",
              " ('ways', 1),\n",
              " ('you', 3),\n",
              " ('find', 2),\n",
              " ('banks', 1),\n",
              " ('tech', 1),\n",
              " ('giants', 1),\n",
              " ('apple', 1),\n",
              " ('level', 1),\n",
              " ('consists', 1),\n",
              " ('main', 1),\n",
              " ('users', 3),\n",
              " ('executors', 2),\n",
              " ('assigned', 1),\n",
              " ('some', 1),\n",
              " ('necessary', 1),\n",
              " ('box', 2),\n",
              " ('simply', 1),\n",
              " ('want', 1),\n",
              " ('advantage', 4),\n",
              " ('care', 1),\n",
              " ('allocating', 1),\n",
              " ('workers', 1),\n",
              " ('running', 3),\n",
              " ('cloudera', 1),\n",
              " ('hortonworks', 1),\n",
              " ('jobs', 3),\n",
              " ('if', 1),\n",
              " ('seek', 1),\n",
              " ('found', 1),\n",
              " ('dataproc', 1),\n",
              " ('hdinsight', 1),\n",
              " ('company', 1),\n",
              " ('employs', 1),\n",
              " ('founders', 1),\n",
              " ('notebook', 1),\n",
              " ('standard', 3),\n",
              " ('builds', 1),\n",
              " ('user', 1),\n",
              " ('directed', 1),\n",
              " ('vs', 2),\n",
              " ('bit', 1),\n",
              " ('misnomer', 1),\n",
              " ('included', 1),\n",
              " ('choice', 1),\n",
              " ('old', 1),\n",
              " ('brought', 1),\n",
              " ('prominence', 1),\n",
              " ('download', 1),\n",
              " ('cio', 1),\n",
              " ('report', 1),\n",
              " ('5g', 1),\n",
              " ('first', 1),\n",
              " ('hundred', 1),\n",
              " ('faster', 2),\n",
              " ('back', 1),\n",
              " ('creates', 1),\n",
              " ('twostage', 1),\n",
              " ('mapping', 1),\n",
              " ('efficiently', 1),\n",
              " ('completely', 2),\n",
              " ('contained', 1),\n",
              " ('within', 1),\n",
              " ('memory', 1),\n",
              " ('tend', 1),\n",
              " ('counterpart', 1),\n",
              " ('second', 1),\n",
              " ('developerfriendly', 1),\n",
              " ('important', 3),\n",
              " ('could', 2),\n",
              " ('argue', 1),\n",
              " ('friendliness', 1),\n",
              " ('comparison', 1),\n",
              " ('complexity', 1),\n",
              " ('behind', 1),\n",
              " ('method', 3),\n",
              " ('canonical', 1),\n",
              " ('almost', 1),\n",
              " ('lines', 3),\n",
              " ('document', 1),\n",
              " ('shown', 1),\n",
              " ('concept', 3),\n",
              " ('represents', 1),\n",
              " ('split', 2),\n",
              " ('databases', 1),\n",
              " ('mongodb', 2),\n",
              " ('built', 2),\n",
              " ('enabling', 1),\n",
              " ('functionality', 1),\n",
              " ('joining', 1),\n",
              " ('aggregation', 1),\n",
              " ('runs', 1),\n",
              " ('fashion', 1),\n",
              " ('splits', 1),\n",
              " ('scaled', 1),\n",
              " ('shark', 1),\n",
              " ('commonly', 1),\n",
              " ('today', 1),\n",
              " ('borrowed', 1),\n",
              " ('suggests', 1),\n",
              " ('analysts', 1),\n",
              " ('reading', 1),\n",
              " ('datastores', 1),\n",
              " ('jdbc', 1),\n",
              " ('orc', 1),\n",
              " ('popular', 1),\n",
              " ('hbase', 1),\n",
              " ('pulling', 1),\n",
              " ('connectors', 1),\n",
              " ('packages', 1),\n",
              " ('ecosystem', 1),\n",
              " ('selecting', 1),\n",
              " ('bundles', 1),\n",
              " ('libraries', 2),\n",
              " ('includes', 1),\n",
              " ('clustering', 3),\n",
              " ('kmeans', 1),\n",
              " ('random', 1),\n",
              " ('ease', 1),\n",
              " ('models', 4),\n",
              " ('trained', 1),\n",
              " ('saved', 1),\n",
              " ('javabased', 1),\n",
              " ('note', 1),\n",
              " ('facilities', 1),\n",
              " ('modeling', 2),\n",
              " ('deep', 7),\n",
              " ('see', 1),\n",
              " ('review', 1),\n",
              " ('works', 2),\n",
              " ('selection', 1),\n",
              " ('allows', 2),\n",
              " ('taking', 1),\n",
              " ('optimizer', 2),\n",
              " ('queries', 4),\n",
              " ('early', 1),\n",
              " ('addition', 1),\n",
              " ('helped', 1),\n",
              " ('gain', 1),\n",
              " ('traction', 1),\n",
              " ('realtime', 3),\n",
              " ('previously', 1),\n",
              " ('stream', 2),\n",
              " ('write', 1),\n",
              " ('obviously', 1),\n",
              " ('leads', 1),\n",
              " ('disparate', 1),\n",
              " ('operational', 1),\n",
              " ('extended', 1),\n",
              " ('breaking', 1),\n",
              " ('microbatches', 2),\n",
              " ('manipulated', 1),\n",
              " ('mostly', 1),\n",
              " ('developer', 1),\n",
              " ('operator', 1),\n",
              " ('everybody', 1),\n",
              " ('wins', 1),\n",
              " ('criticism', 1),\n",
              " ('scenarios', 1),\n",
              " ('incoming', 2),\n",
              " ('flink', 1),\n",
              " ('apex', 1),\n",
              " ('pure', 1),\n",
              " ('easier', 1),\n",
              " ('create', 1),\n",
              " ('real', 1),\n",
              " ('struggled', 1),\n",
              " ('earlier', 1),\n",
              " ('concerning', 1),\n",
              " ('dealing', 1),\n",
              " ('all', 1),\n",
              " ('interactive', 1),\n",
              " ('scheme', 1),\n",
              " ('handling', 1),\n",
              " ('23', 1),\n",
              " ('latencies', 1),\n",
              " ('1ms', 1),\n",
              " ('experimental', 1),\n",
              " ('while', 1),\n",
              " ('future', 1),\n",
              " ('building', 1),\n",
              " ('continue', 1),\n",
              " ('recommends', 1),\n",
              " ('porting', 1),\n",
              " ('makes', 3),\n",
              " ('lot', 1),\n",
              " ('bearable', 1),\n",
              " ('existing', 1),\n",
              " ('apply', 1),\n",
              " ('tensorflow', 1),\n",
              " ('statements', 1),\n",
              " ('learn', 1),\n",
              " ('highly', 1),\n",
              " ('evan', 1),\n",
              " ('heitman', 1),\n",
              " ('neanderthal', 1),\n",
              " ('lays', 1),\n",
              " ('relatively', 1),\n",
              " ('terms', 1),\n",
              " ('guides', 1),\n",
              " ('article', 1),\n",
              " ('scientist', 1),\n",
              " ('perspective', 1),\n",
              " ('sense', 1),\n",
              " ('critical', 1)]"
            ]
          },
          "metadata": {},
          "execution_count": 53
        }
      ],
      "source": [
        "text_rdd.groupByKey().mapValues(len).collect()"
      ]
    },
    {
      "cell_type": "markdown",
      "metadata": {
        "id": "NGHXTxQElEki"
      },
      "source": [
        "sortByKey"
      ]
    },
    {
      "cell_type": "code",
      "execution_count": null,
      "metadata": {
        "colab": {
          "base_uri": "https://localhost:8080/"
        },
        "id": "ZS4CyLFVlGWe",
        "outputId": "298e7cc4-8b98-41c2-9d8f-07271306230b"
      },
      "outputs": [
        {
          "output_type": "execute_result",
          "data": {
            "text/plain": [
              "[('10', 1),\n",
              " ('11', 1),\n",
              " ('16', 1),\n",
              " ('1ms', 1),\n",
              " ('1x', 1),\n",
              " ('20', 1),\n",
              " ('2009', 1),\n",
              " ('2012', 1),\n",
              " ('23', 1),\n",
              " ('24', 1),\n",
              " ('2x', 3),\n",
              " ('50', 1),\n",
              " ('5g', 1),\n",
              " ('a', 4),\n",
              " ('able', 1),\n",
              " ('abstraction', 6),\n",
              " ('abstracts', 1),\n",
              " ('according', 1),\n",
              " ('accumulators', 1),\n",
              " ('achieved', 1),\n",
              " ('across', 5),\n",
              " ('acyclic', 1),\n",
              " ('added', 2),\n",
              " ('addition', 1),\n",
              " ('additional', 1),\n",
              " ('advantage', 4),\n",
              " ('advantages', 1),\n",
              " ('afforded', 1),\n",
              " ('aggregation', 1),\n",
              " ('aggregations', 1),\n",
              " ('algorithm', 1),\n",
              " ('algorithms', 7),\n",
              " ('all', 1),\n",
              " ('allocating', 1),\n",
              " ('allowing', 3),\n",
              " ('allows', 2),\n",
              " ('alluxio', 1),\n",
              " ('almost', 1),\n",
              " ('alone', 1),\n",
              " ('alongside', 1),\n",
              " ('als', 1),\n",
              " ('also', 15),\n",
              " ('alternating', 1),\n",
              " ('although', 1),\n",
              " ('amazon', 3),\n",
              " ('among', 2),\n",
              " ('amplab', 3),\n",
              " ('analysis', 2),\n",
              " ('analysts', 1),\n",
              " ('analytics', 5),\n",
              " ('anonymous', 1),\n",
              " ('apache', 56),\n",
              " ('apex', 1),\n",
              " ('api', 14),\n",
              " ('api27', 1),\n",
              " ('api67', 1),\n",
              " ('apis', 3),\n",
              " ('apple', 1),\n",
              " ('application', 8),\n",
              " ('applications', 5),\n",
              " ('applied', 1),\n",
              " ('applies', 1),\n",
              " ('apply', 1),\n",
              " ('applying', 1),\n",
              " ('approach', 3),\n",
              " ('architectural', 1),\n",
              " ('architecture', 1),\n",
              " ('architecture1920', 1),\n",
              " ('argue', 1),\n",
              " ('argument', 1),\n",
              " ('around', 1),\n",
              " ('article', 1),\n",
              " ('as', 2),\n",
              " ('assigned', 1),\n",
              " ('at', 2),\n",
              " ('attached', 1),\n",
              " ('available', 2),\n",
              " ('away', 1),\n",
              " ('azure', 1),\n",
              " ('back', 1),\n",
              " ('bagel', 1),\n",
              " ('banks', 1),\n",
              " ('based', 3),\n",
              " ('basic', 2),\n",
              " ('basics', 1),\n",
              " ('batch', 6),\n",
              " ('bearable', 1),\n",
              " ('because', 1),\n",
              " ('become', 3),\n",
              " ('beginnings', 1),\n",
              " ('behind', 1),\n",
              " ('benchmarks', 1),\n",
              " ('berkeley', 2),\n",
              " ('berkeleys', 1),\n",
              " ('besides', 2),\n",
              " ('better', 1),\n",
              " ('big', 6),\n",
              " ('bindings', 1),\n",
              " ('bit', 1),\n",
              " ('borrowed', 1),\n",
              " ('box', 2),\n",
              " ('breaking', 1),\n",
              " ('bringing', 1),\n",
              " ('broadcast', 1),\n",
              " ('brought', 1),\n",
              " ('buckets', 1),\n",
              " ('building', 1),\n",
              " ('builds', 1),\n",
              " ('built', 2),\n",
              " ('builtin', 2),\n",
              " ('bundles', 1),\n",
              " ('burdens', 1),\n",
              " ('but', 3),\n",
              " ('california', 1),\n",
              " ('call', 1),\n",
              " ('called', 2),\n",
              " ('calls', 1),\n",
              " ('canonical', 1),\n",
              " ('capability', 1),\n",
              " ('care', 1),\n",
              " ('case', 2),\n",
              " ('cassandra', 2),\n",
              " ('cassandra14', 1),\n",
              " ('catalyst', 2),\n",
              " ('center', 1),\n",
              " ('centered', 1),\n",
              " ('certain', 1),\n",
              " ('choice', 1),\n",
              " ('cio', 1),\n",
              " ('class', 1),\n",
              " ('classification', 2),\n",
              " ('classifiers', 1),\n",
              " ('cloud', 3),\n",
              " ('cloudera', 1),\n",
              " ('cluster', 12),\n",
              " ('cluster2', 1),\n",
              " ('clustering', 3),\n",
              " ('clusters', 2),\n",
              " ('code', 8),\n",
              " ('codebase', 1),\n",
              " ('codebases', 1),\n",
              " ('collection', 1),\n",
              " ('columns', 1),\n",
              " ('combining', 1),\n",
              " ('comes', 3),\n",
              " ('commandline', 1),\n",
              " ('commands', 1),\n",
              " ('common', 2),\n",
              " ('commonly', 1),\n",
              " ('companies', 2),\n",
              " ('company', 1),\n",
              " ('compared', 2),\n",
              " ('comparison', 1),\n",
              " ('compiletime', 1),\n",
              " ('completely', 2),\n",
              " ('complexity', 1),\n",
              " ('component', 2),\n",
              " ('components', 2),\n",
              " ('comprehensive', 1),\n",
              " ('computers', 1),\n",
              " ('computes', 1),\n",
              " ('computing', 5),\n",
              " ('concept', 3),\n",
              " ('concerning', 1),\n",
              " ('concerns', 1),\n",
              " ('connect', 1),\n",
              " ('connectors', 1),\n",
              " ('considered', 1),\n",
              " ('consisting', 1),\n",
              " ('consists', 1),\n",
              " ('construct', 1),\n",
              " ('consume', 1),\n",
              " ('contain', 1),\n",
              " ('contained', 1),\n",
              " ('continue', 1),\n",
              " ('continuous', 4),\n",
              " ('convenience', 1),\n",
              " ('converts', 1),\n",
              " ('core', 9),\n",
              " ('cores', 1),\n",
              " ('could', 2),\n",
              " ('count', 1),\n",
              " ('counterpart', 1),\n",
              " ('covers', 1),\n",
              " ('cpu', 1),\n",
              " ('create', 1),\n",
              " ('created', 1),\n",
              " ('creates', 1),\n",
              " ('creating', 2),\n",
              " ('critical', 1),\n",
              " ('criticism', 1),\n",
              " ('crunch', 1),\n",
              " ('custom', 4),\n",
              " ('daemons', 1),\n",
              " ('dag', 3),\n",
              " ('data', 44),\n",
              " ('database26', 1),\n",
              " ('databases', 1),\n",
              " ('databasestyle', 1),\n",
              " ('databricks', 3),\n",
              " ('dataflow', 1),\n",
              " ('dataframe', 3),\n",
              " ('dataframes', 4),\n",
              " ('dataframesa', 1),\n",
              " ('dataproc', 1),\n",
              " ('dataset', 7),\n",
              " ('datasets', 2),\n",
              " ('datastores', 1),\n",
              " ('days', 1),\n",
              " ('dealing', 1),\n",
              " ('deep', 7),\n",
              " ('deliberately', 1),\n",
              " ('delivery', 1),\n",
              " ('demand', 1),\n",
              " ('deployed', 2),\n",
              " ('deprecated', 1),\n",
              " ('deprecated45', 1),\n",
              " ('design', 1),\n",
              " ('despite', 1),\n",
              " ('details', 1),\n",
              " ('determines', 1),\n",
              " ('developed', 2),\n",
              " ('developer', 1),\n",
              " ('developerfriendly', 1),\n",
              " ('developers', 6),\n",
              " ('developing', 1),\n",
              " ('development', 2),\n",
              " ('different', 3),\n",
              " ('directed', 1),\n",
              " ('disk', 3),\n",
              " ('diskbased', 2),\n",
              " ('disparate', 1),\n",
              " ('dispatching', 1),\n",
              " ('distribute', 1),\n",
              " ('distributed', 23),\n",
              " ('distributes', 1),\n",
              " ('distribution', 1),\n",
              " ('distributions', 2),\n",
              " ('dive', 1),\n",
              " ('docker', 1),\n",
              " ('document', 1),\n",
              " ('domain', 1),\n",
              " ('domainspecific', 1),\n",
              " ('donated', 2),\n",
              " ('done', 1),\n",
              " ('download', 1),\n",
              " ('driver', 3),\n",
              " ('dsl', 1),\n",
              " ('due', 2),\n",
              " ('duration', 1),\n",
              " ('each', 1),\n",
              " ('earlier', 1),\n",
              " ('early', 1),\n",
              " ('ease', 1),\n",
              " ('easier', 1),\n",
              " ('easy', 2),\n",
              " ('easytouse', 1),\n",
              " ('ecosystem', 1),\n",
              " ('edges', 1),\n",
              " ('efficiently', 1),\n",
              " ('either', 2),\n",
              " ('employs', 1),\n",
              " ('emr', 1),\n",
              " ('enables', 1),\n",
              " ('enabling', 1),\n",
              " ('encouraged3', 1),\n",
              " ('engine', 4),\n",
              " ('engines', 1),\n",
              " ('enterprise', 2),\n",
              " ('entire', 1),\n",
              " ('environments', 1),\n",
              " ('equal', 1),\n",
              " ('especially', 1),\n",
              " ('essence', 1),\n",
              " ('essentially', 1),\n",
              " ('evan', 1),\n",
              " ('even', 5),\n",
              " ('event', 2),\n",
              " ('eventtime', 1),\n",
              " ('everybody', 1),\n",
              " ('example', 2),\n",
              " ('execute', 1),\n",
              " ('executed', 2),\n",
              " ('execution', 2),\n",
              " ('executor', 2),\n",
              " ('executors', 2),\n",
              " ('existing', 1),\n",
              " ('experimental', 1),\n",
              " ('exposed', 1),\n",
              " ('extended', 1),\n",
              " ('extraction', 1),\n",
              " ('facebook', 1),\n",
              " ('facilitates', 1),\n",
              " ('facilitating', 1),\n",
              " ('facilities', 1),\n",
              " ('fashion', 1),\n",
              " ('fast', 3),\n",
              " ('faster', 2),\n",
              " ('fault', 1),\n",
              " ('faulttolerance', 1),\n",
              " ('faulttolerant', 1),\n",
              " ('feature', 1),\n",
              " ('file', 4),\n",
              " ('files', 2),\n",
              " ('filter', 1),\n",
              " ('filtering', 2),\n",
              " ('find', 2),\n",
              " ('first', 1),\n",
              " ('flatmap', 1),\n",
              " ('flink', 1),\n",
              " ('flink21', 1),\n",
              " ('flume', 1),\n",
              " ('focused', 1),\n",
              " ('followed', 1),\n",
              " ('following', 1),\n",
              " ('for', 2),\n",
              " ('forces', 1),\n",
              " ('forests', 1),\n",
              " ('form', 2),\n",
              " ('formally', 1),\n",
              " ('formed', 1),\n",
              " ('forms', 1),\n",
              " ('found', 1),\n",
              " ('foundation', 4),\n",
              " ('founders', 1),\n",
              " ('framework', 9),\n",
              " ('frameworks', 3),\n",
              " ('frequencies', 1),\n",
              " ('friendliness', 1),\n",
              " ('friendly', 1),\n",
              " ('from', 1),\n",
              " ('full', 1),\n",
              " ('fully', 1),\n",
              " ('function', 4),\n",
              " ('functional', 2),\n",
              " ('functionalhigherorder', 1),\n",
              " ('functionalities', 1),\n",
              " ('functionality', 1),\n",
              " ('functions', 2),\n",
              " ('fundamental', 1),\n",
              " ('future', 1),\n",
              " ('gain', 1),\n",
              " ('gained', 1),\n",
              " ('games', 1),\n",
              " ('general', 1),\n",
              " ('giants', 1),\n",
              " ('giraph', 1),\n",
              " ('go', 1),\n",
              " ('google', 2),\n",
              " ('governments', 1),\n",
              " ('graph', 9),\n",
              " ('graphframes', 1),\n",
              " ('graphprocessing', 1),\n",
              " ('graphs', 6),\n",
              " ('graphx', 7),\n",
              " ('grunt', 1),\n",
              " ('guide', 1),\n",
              " ('guides', 1),\n",
              " ('hadoop', 11),\n",
              " ('handle', 1),\n",
              " ('handling', 1),\n",
              " ('hbase', 1),\n",
              " ('hdfs', 1),\n",
              " ('hdfs12', 1),\n",
              " ('hdinsight', 1),\n",
              " ('heart', 1),\n",
              " ('heitman', 1),\n",
              " ('helped', 1),\n",
              " ('hiding', 1),\n",
              " ('higherlevel', 3),\n",
              " ('highly', 1),\n",
              " ('hive', 1),\n",
              " ('hortonworks', 1),\n",
              " ('however', 3),\n",
              " ('humble', 1),\n",
              " ('hundred', 1),\n",
              " ('ibm', 1),\n",
              " ('ie', 1),\n",
              " ('if', 1),\n",
              " ('immutable', 4),\n",
              " ('imperative', 1),\n",
              " ('impetus', 1),\n",
              " ('implementation', 6),\n",
              " ('implementation29', 1),\n",
              " ('implementations', 2),\n",
              " ('implemented', 2),\n",
              " ('implicit', 1),\n",
              " ('important', 3),\n",
              " ('imported', 1),\n",
              " ('impressive', 1),\n",
              " ('in', 7),\n",
              " ('include', 2),\n",
              " ('included', 1),\n",
              " ('includes', 1),\n",
              " ('including', 6),\n",
              " ('incoming', 2),\n",
              " ('increasingly', 1),\n",
              " ('infinite', 1),\n",
              " ('infoworld', 1),\n",
              " ('ingests', 1),\n",
              " ('initial', 1),\n",
              " ('initially', 1),\n",
              " ('inmemory', 2),\n",
              " ('input', 2),\n",
              " ('install', 1),\n",
              " ('instead', 1),\n",
              " ('integrated', 1),\n",
              " ('interactive', 1),\n",
              " ('interactiveexploratory', 1),\n",
              " ('interface', 10),\n",
              " ('interfaces', 1),\n",
              " ('introduced', 1),\n",
              " ('invokes', 1),\n",
              " ('involving', 1),\n",
              " ('io', 2),\n",
              " ('it', 7),\n",
              " ('item', 1),\n",
              " ('items', 2),\n",
              " ('iterative', 2),\n",
              " ('java', 5),\n",
              " ('javabased', 1),\n",
              " ('jdbc', 1),\n",
              " ('jobs', 3),\n",
              " ('joining', 1),\n",
              " ('joins', 1),\n",
              " ('json', 1),\n",
              " ('julia17', 1),\n",
              " ('jvm', 3),\n",
              " ('kafka', 1),\n",
              " ('keeping', 1),\n",
              " ('kept', 1),\n",
              " ('keras', 1),\n",
              " ('key', 2),\n",
              " ('kinesis', 1),\n",
              " ('kmeans', 1),\n",
              " ('known', 1),\n",
              " ('kubernetes', 2),\n",
              " ('kudu', 1),\n",
              " ('lack', 1),\n",
              " ('lambda', 1),\n",
              " ('language', 2),\n",
              " ('languages', 3),\n",
              " ('large', 4),\n",
              " ('largescale', 1),\n",
              " ('late', 1),\n",
              " ('latencies', 1),\n",
              " ('latency', 2),\n",
              " ('later', 2),\n",
              " ('launch', 2),\n",
              " ('layer', 1),\n",
              " ('lays', 1),\n",
              " ('lazy', 1),\n",
              " ('leading', 1),\n",
              " ('leads', 1),\n",
              " ('learn', 1),\n",
              " ('learning', 15),\n",
              " ('least', 1),\n",
              " ('legacy', 1),\n",
              " ('let', 1),\n",
              " ('level', 1),\n",
              " ('libraries', 2),\n",
              " ('like', 4),\n",
              " ('likely', 2),\n",
              " ('limitations', 1),\n",
              " ('line', 1),\n",
              " ('lineage', 1),\n",
              " ('linear', 1),\n",
              " ('lines', 3),\n",
              " ('live', 1),\n",
              " ('local', 2),\n",
              " ('loop', 1),\n",
              " ('loss', 1),\n",
              " ('lot', 1),\n",
              " ('low', 1),\n",
              " ('lowerlevel', 1),\n",
              " ('lowlatency', 2),\n",
              " ('lustre', 1),\n",
              " ('machine', 12),\n",
              " ('machinelearning', 1),\n",
              " ('machines', 1),\n",
              " ('magnitude', 1),\n",
              " ('mahout', 2),\n",
              " ('main', 1),\n",
              " ('maintained', 2),\n",
              " ('maintaining', 1),\n",
              " ('major', 1),\n",
              " ('makes', 3),\n",
              " ('managed', 2),\n",
              " ('management', 2),\n",
              " ('manager', 2),\n",
              " ('manipulate', 1),\n",
              " ('manipulated', 1),\n",
              " ('manner', 2),\n",
              " ('manually', 1),\n",
              " ('many', 3),\n",
              " ('map', 6),\n",
              " ('mapping', 1),\n",
              " ('mapr', 1),\n",
              " ('mapreduce', 10),\n",
              " ('mapreduce29', 1),\n",
              " ('mapreducestyle', 1),\n",
              " ('maprfs13', 1),\n",
              " ('marshalling', 1),\n",
              " ('massive', 1),\n",
              " ('massively', 1),\n",
              " ('match', 1),\n",
              " ('may', 2),\n",
              " ('mean', 1),\n",
              " ('means', 1),\n",
              " ('mediate', 1),\n",
              " ('memory', 1),\n",
              " ('memory8', 1),\n",
              " ('memorybased', 1),\n",
              " ('mesos', 2),\n",
              " ('messages', 1),\n",
              " ('method', 3),\n",
              " ('microbatches', 2),\n",
              " ('microbatching', 2),\n",
              " ('microsoft', 2),\n",
              " ('minibatch', 1),\n",
              " ('minibatches', 3),\n",
              " ('mirrors', 1),\n",
              " ('misnomer', 1),\n",
              " ('mllib', 9),\n",
              " ('mode', 3),\n",
              " ('model', 1),\n",
              " ('modeling', 2),\n",
              " ('models', 4),\n",
              " ('mongodb', 2),\n",
              " ('mostly', 1),\n",
              " ('ms', 1),\n",
              " ('much', 5),\n",
              " ('multiple', 4),\n",
              " ('multiset', 1),\n",
              " ('multistage', 1),\n",
              " ('name', 1),\n",
              " ('native', 2),\n",
              " ('neanderthal', 1),\n",
              " ('near', 1),\n",
              " ('necessary', 1),\n",
              " ('need', 2),\n",
              " ('needs', 3),\n",
              " ('net', 1),\n",
              " ('net16', 2),\n",
              " ('networks', 1),\n",
              " ('neural', 1),\n",
              " ('new', 5),\n",
              " ('nine', 1),\n",
              " ('nodes', 4),\n",
              " ('nonjvm', 1),\n",
              " ('normally', 1),\n",
              " ('nosql', 1),\n",
              " ('note', 1),\n",
              " ('notebook', 1),\n",
              " ('objects', 2),\n",
              " ('obviously', 1),\n",
              " ('occurring', 1),\n",
              " ('odbcjdbc', 1),\n",
              " ('offers', 3),\n",
              " ('old', 1),\n",
              " ('one', 4),\n",
              " ('ones', 2),\n",
              " ('onpremises', 1),\n",
              " ('opensource', 1),\n",
              " ('openstack', 1),\n",
              " ('operation', 1),\n",
              " ('operational', 1),\n",
              " ('operations', 7),\n",
              " ('operator', 1),\n",
              " ('optimized', 1),\n",
              " ('optimizer', 2),\n",
              " ('orc', 1),\n",
              " ('orders', 1),\n",
              " ('originally', 3),\n",
              " ('other', 2),\n",
              " ('others', 1),\n",
              " ('out', 1),\n",
              " ('overall', 1),\n",
              " ('overhead', 1),\n",
              " ('overtaking', 1),\n",
              " ('package', 2),\n",
              " ('packages', 1),\n",
              " ('pagerank', 2),\n",
              " ('pain', 1),\n",
              " ('pair', 1),\n",
              " ('pandas', 1),\n",
              " ('paradigm', 2),\n",
              " ('parallel', 5),\n",
              " ('parallelism', 1),\n",
              " ('parquet', 1),\n",
              " ('part', 3),\n",
              " ('particular', 1),\n",
              " ('particularly', 1),\n",
              " ('passing', 1),\n",
              " ('penalty', 1),\n",
              " ('per', 1),\n",
              " ('perform', 4),\n",
              " ('performance', 2),\n",
              " ('performs', 2),\n",
              " ('perspective', 1),\n",
              " ('pipeline', 2),\n",
              " ('pipelines', 6),\n",
              " ('platform', 2),\n",
              " ('pointing', 1),\n",
              " ('points', 1),\n",
              " ('popular', 1),\n",
              " ('porting', 1),\n",
              " ('possible', 1),\n",
              " ('power', 2),\n",
              " ('predecessor', 1),\n",
              " ('pregel', 1),\n",
              " ('previously', 1),\n",
              " ('primary', 1),\n",
              " ('prints', 1),\n",
              " ('process', 4),\n",
              " ('processes', 1),\n",
              " ('processing', 19),\n",
              " ('produce', 1),\n",
              " ('produced', 1),\n",
              " ('production', 1),\n",
              " ('program', 3),\n",
              " ('programming', 9),\n",
              " ('programs', 3),\n",
              " ('project', 5),\n",
              " ('prominence', 1),\n",
              " ('properties', 1),\n",
              " ('property', 1),\n",
              " ('provided', 2),\n",
              " ('provides', 10),\n",
              " ('providing', 1),\n",
              " ('pseudodistributed', 1),\n",
              " ('pulling', 1),\n",
              " ('pure', 1),\n",
              " ('purposes', 1),\n",
              " ('python', 8),\n",
              " ('qualities', 1),\n",
              " ('queries', 4),\n",
              " ('query', 1),\n",
              " ('querying', 2),\n",
              " ('quickly', 1),\n",
              " ('r', 4),\n",
              " ('random', 1),\n",
              " ('rather', 2),\n",
              " ('rdd', 15),\n",
              " ('rddcentric', 1),\n",
              " ('rddoriented', 1),\n",
              " ('rdds', 10),\n",
              " ('read', 1),\n",
              " ('reading', 1),\n",
              " ('readonly', 2),\n",
              " ('ready', 1),\n",
              " ('real', 1),\n",
              " ('realtime', 3),\n",
              " ('recommend', 1),\n",
              " ('recommends', 1),\n",
              " ('reconstructed', 1),\n",
              " ('reduce', 3),\n",
              " ('reducebykey', 1),\n",
              " ('reduced', 2),\n",
              " ('reducing', 2),\n",
              " ('reduction', 1),\n",
              " ('reductions', 1),\n",
              " ('reference', 1),\n",
              " ('registered', 1),\n",
              " ('regression', 1),\n",
              " ('relatively', 1),\n",
              " ('released', 1),\n",
              " ('relied', 1),\n",
              " ('repeated', 1),\n",
              " ('report', 1),\n",
              " ('represents', 1),\n",
              " ('require', 2),\n",
              " ('required', 4),\n",
              " ('requirements', 1),\n",
              " ('requires', 2),\n",
              " ('requiring', 1),\n",
              " ('research', 1),\n",
              " ('resilient', 2),\n",
              " ('resource', 1),\n",
              " ('resources', 1),\n",
              " ('response', 2),\n",
              " ('responses', 1),\n",
              " ('restricted', 3),\n",
              " ('results', 2),\n",
              " ('review', 1),\n",
              " ('roadmap', 1),\n",
              " ('robust', 1),\n",
              " ('run', 7),\n",
              " ('running', 3),\n",
              " ('runs', 1),\n",
              " ('s3', 2),\n",
              " ('sampling', 1),\n",
              " ('saved', 1),\n",
              " ('scala', 6),\n",
              " ('scalabased', 1),\n",
              " ('scalable', 1),\n",
              " ('scale', 2),\n",
              " ('scaled', 1),\n",
              " ('scales', 1),\n",
              " ('scenario', 1),\n",
              " ('scenarios', 1),\n",
              " ('schedules', 1),\n",
              " ('scheduling', 3),\n",
              " ('scheme', 1),\n",
              " ('science', 1),\n",
              " ('scientist', 1),\n",
              " ('scientists', 1),\n",
              " ('scripts', 1),\n",
              " ('second', 1),\n",
              " ('see', 1),\n",
              " ('seek', 1),\n",
              " ('selecting', 1),\n",
              " ('selection', 1),\n",
              " ('selections', 1),\n",
              " ('semistructured', 1),\n",
              " ('sense', 1),\n",
              " ('separate', 4),\n",
              " ('sequence', 2),\n",
              " ('series', 1),\n",
              " ('server', 1),\n",
              " ('service', 1),\n",
              " ('set', 5),\n",
              " ('sets', 2),\n",
              " ('several', 1),\n",
              " ('share', 1),\n",
              " ('shared', 2),\n",
              " ('shark', 1),\n",
              " ('shipped', 1),\n",
              " ('shoulders', 1),\n",
              " ('shown', 1),\n",
              " ('simple', 6),\n",
              " ('simplifies', 1),\n",
              " ('simply', 1),\n",
              " ('since', 1),\n",
              " ('single', 3),\n",
              " ('situations', 1),\n",
              " ('sockets22', 1),\n",
              " ('software', 2),\n",
              " ('solution', 2),\n",
              " ('solves', 1),\n",
              " ('some', 1),\n",
              " ('something', 1),\n",
              " ('spark', 110),\n",
              " ('spark10', 1),\n",
              " ('speed', 1),\n",
              " ('speedup', 1),\n",
              " ('split', 2),\n",
              " ('splits', 1),\n",
              " ('sql', 17),\n",
              " ('sql2003compliant', 1),\n",
              " ('squares', 1),\n",
              " ('stages', 2),\n",
              " ('standalone', 2),\n",
              " ('standard', 3),\n",
              " ('started', 1),\n",
              " ('state', 1),\n",
              " ('statements', 1),\n",
              " ('statistical', 1),\n",
              " ('still', 2),\n",
              " ('storage', 3),\n",
              " ('store', 1),\n",
              " ('stores', 3),\n",
              " ('storm', 3),\n",
              " ('stream', 2),\n",
              " ('streaming', 36),\n",
              " ('streaming23', 1),\n",
              " ('streamingcapable', 1),\n",
              " ('streams', 1),\n",
              " ('strongly', 1),\n",
              " ('structure', 3),\n",
              " ('structured', 13),\n",
              " ('structures', 1),\n",
              " ('struggled', 1),\n",
              " ('style', 1),\n",
              " ('style2', 1),\n",
              " ('suggests', 1),\n",
              " ('support', 8),\n",
              " ('supported', 3),\n",
              " ('supports', 5),\n",
              " ('swapped', 1),\n",
              " ('swarm', 1),\n",
              " ('swift', 1),\n",
              " ('sync', 1),\n",
              " ('system', 5),\n",
              " ('system15', 1),\n",
              " ('systems', 1),\n",
              " ('take', 3),\n",
              " ('takes', 2),\n",
              " ('taking', 1),\n",
              " ('tandem', 1),\n",
              " ('task', 1),\n",
              " ('tasks', 8),\n",
              " ('tcpip', 1),\n",
              " ('team', 1),\n",
              " ('tech', 1),\n",
              " ('techniques', 1),\n",
              " ('technology', 2),\n",
              " ('telecommunications', 1),\n",
              " ('tend', 1),\n",
              " ('tensorflow', 1),\n",
              " ('terms', 1),\n",
              " ('testing', 2),\n",
              " ('text', 2),\n",
              " ('the', 9),\n",
              " ('these', 5),\n",
              " ('things', 1),\n",
              " ('this', 3),\n",
              " ('though', 1),\n",
              " ('thus', 3),\n",
              " ('times', 4),\n",
              " ('today', 1),\n",
              " ('tolerance', 1),\n",
              " ('tools', 1),\n",
              " ('top', 5),\n",
              " ('track', 1),\n",
              " ('traction', 1),\n",
              " ('traditional', 2),\n",
              " ('trained', 1),\n",
              " ('training', 2),\n",
              " ('transactional', 1),\n",
              " ('transform', 1),\n",
              " ('transformations', 2),\n",
              " ('tutorials', 1),\n",
              " ('twitter', 1),\n",
              " ('two', 6),\n",
              " ('twostage', 1),\n",
              " ('type', 1),\n",
              " ('typechecking', 1),\n",
              " ('typed', 1),\n",
              " ('typical', 1),\n",
              " ('uc', 2),\n",
              " ('udfs', 1),\n",
              " ('underlies', 1),\n",
              " ('unified', 2),\n",
              " ('university', 1),\n",
              " ('unlike', 1),\n",
              " ('unsuitable', 1),\n",
              " ('updated', 1),\n",
              " ('usable', 1),\n",
              " ('use', 9),\n",
              " ('used', 8),\n",
              " ('user', 1),\n",
              " ('userdefined', 1),\n",
              " ('users', 3),\n",
              " ('uses', 1),\n",
              " ('using', 5),\n",
              " ('usually', 1),\n",
              " ('utilized', 1),\n",
              " ('variables', 2),\n",
              " ('variant', 1),\n",
              " ('variety', 2),\n",
              " ('version', 1),\n",
              " ('vertices28', 1),\n",
              " ('via', 1),\n",
              " ('viewed', 1),\n",
              " ('visit', 1),\n",
              " ('vowpal', 1),\n",
              " ('vs', 2),\n",
              " ('wabbit24', 1),\n",
              " ('want', 1),\n",
              " ('way', 1),\n",
              " ('way2', 1),\n",
              " ('ways', 1),\n",
              " ('we', 1),\n",
              " ('webbased', 1),\n",
              " ('well', 4),\n",
              " ('whereas', 1),\n",
              " ('while', 1),\n",
              " ('why', 1),\n",
              " ('wide', 1),\n",
              " ('wins', 1),\n",
              " ('within', 1),\n",
              " ('words', 2),\n",
              " ('work', 2),\n",
              " ('worker', 1),\n",
              " ('workers', 1),\n",
              " ('working', 1),\n",
              " ('works', 2),\n",
              " ('world', 3),\n",
              " ('worlds', 1),\n",
              " ('worth', 1),\n",
              " ('would', 1),\n",
              " ('write', 1),\n",
              " ('writing', 5),\n",
              " ('written', 2),\n",
              " ('yarn', 2),\n",
              " ('you', 3),\n",
              " ('zeromq', 1)]"
            ]
          },
          "metadata": {},
          "execution_count": 54
        }
      ],
      "source": [
        "text_rdd.groupByKey().mapValues(len).sortByKey().collect()"
      ]
    },
    {
      "cell_type": "markdown",
      "metadata": {
        "id": "XfqBo3xRlYbA"
      },
      "source": [
        "И так на самом деле много методов, но предалагаю написать подсчет частоты слов и сделаем это в стиле программ на java"
      ]
    },
    {
      "cell_type": "code",
      "execution_count": null,
      "metadata": {
        "id": "SpcSn6-hllUm"
      },
      "outputs": [],
      "source": [
        "text_rdd = sc.textFile('/content/drive/My Drive/Colab_Notebooks/PySpark/lesson_2/spark_text.txt')"
      ]
    },
    {
      "cell_type": "code",
      "execution_count": null,
      "metadata": {
        "id": "PNKk3doilxe3"
      },
      "outputs": [],
      "source": [
        "result = text_rdd.filter(lambda x: x != '')\\\n",
        "                 .flatMap(mapper_text)\\\n",
        "                 .groupByKey()\\\n",
        "                 .mapValues(len)\\\n",
        "                 .sortBy(lambda x: x[1], ascending=False)\\\n",
        "                 .collect()"
      ]
    },
    {
      "cell_type": "code",
      "execution_count": null,
      "metadata": {
        "colab": {
          "base_uri": "https://localhost:8080/"
        },
        "id": "j1tJ2dCcmh8z",
        "outputId": "e7e4e940-7ecd-42cb-f132-c6a2244f489b"
      },
      "outputs": [
        {
          "output_type": "execute_result",
          "data": {
            "text/plain": [
              "[('spark', 110),\n",
              " ('apache', 56),\n",
              " ('data', 44),\n",
              " ('streaming', 36),\n",
              " ('distributed', 23),\n",
              " ('processing', 19),\n",
              " ('sql', 17),\n",
              " ('learning', 15),\n",
              " ('rdd', 15),\n",
              " ('also', 15)]"
            ]
          },
          "metadata": {},
          "execution_count": 57
        }
      ],
      "source": [
        "result[:10]"
      ]
    },
    {
      "cell_type": "markdown",
      "metadata": {
        "id": "MDSTE1oloeOq"
      },
      "source": [
        "Забыли про reduceByKey"
      ]
    },
    {
      "cell_type": "code",
      "execution_count": null,
      "metadata": {
        "colab": {
          "base_uri": "https://localhost:8080/"
        },
        "id": "gpv46Uxiobm8",
        "outputId": "da1536e7-29f8-40f1-b09c-280f9326220b"
      },
      "outputs": [
        {
          "output_type": "execute_result",
          "data": {
            "text/plain": [
              "[('spark', 110),\n",
              " ('apache', 56),\n",
              " ('data', 44),\n",
              " ('streaming', 36),\n",
              " ('distributed', 23),\n",
              " ('processing', 19),\n",
              " ('sql', 17),\n",
              " ('learning', 15),\n",
              " ('rdd', 15),\n",
              " ('also', 15)]"
            ]
          },
          "metadata": {},
          "execution_count": 58
        }
      ],
      "source": [
        "text_rdd.filter(lambda x: x != '')\\\n",
        "        .flatMap(mapper_text)\\\n",
        "        .reduceByKey(lambda x, y: x + y)\\\n",
        "        .sortBy(lambda x: x[1], ascending=False)\\\n",
        "        .collect()[:10]"
      ]
    },
    {
      "cell_type": "markdown",
      "metadata": {
        "id": "-PxSwc7QrVk7"
      },
      "source": [
        "Стоит заметить, что `groupByKey()` предполагает перемещение всех записей с одним ключом на один экзекьютор. В случае очень скошенных распределений это может привести к падению экзекьютора с OOM. Поэтому всегда при группировках стоит подумать об использовании `reduceByKey()`."
      ]
    },
    {
      "cell_type": "markdown",
      "metadata": {
        "id": "hlu6iY8qGYlw"
      },
      "source": [
        "Так, на лекции было что-то про count, который не делает shuffle да и вообще можно проще написать?"
      ]
    },
    {
      "cell_type": "code",
      "execution_count": null,
      "metadata": {
        "id": "L-esll2IFI3M"
      },
      "outputs": [],
      "source": [
        "def mapper_text_simple(text):\n",
        "    clean_text = re.sub(rf\"[{string.punctuation}]\", \"\", text)\n",
        "    words = nltk.word_tokenize(clean_text)\n",
        "    words = [word.lower() for word in words\n",
        "                        if word not in stop_words]\n",
        "    return words"
      ]
    },
    {
      "cell_type": "code",
      "execution_count": null,
      "metadata": {
        "colab": {
          "base_uri": "https://localhost:8080/"
        },
        "id": "9gs_zfIJsT3f",
        "outputId": "a79221ba-bf06-4ff6-bdac-6f049355ef87"
      },
      "outputs": [
        {
          "output_type": "stream",
          "name": "stdout",
          "text": [
            "[('spark', 110), ('apache', 56), ('data', 44), ('streaming', 36), ('distributed', 23), ('processing', 19), ('sql', 17), ('rdd', 15), ('learning', 15), ('also', 15)]\n"
          ]
        }
      ],
      "source": [
        "result = text_rdd.filter(lambda x: x != '')\\\n",
        "                 .flatMap(mapper_text_simple)\\\n",
        "                 .countByValue()\n",
        "result = sorted(result.items(), key=lambda x: x[1], reverse=True)\n",
        "print(result[:10])"
      ]
    },
    {
      "cell_type": "markdown",
      "metadata": {
        "id": "P7FoUF1mqImQ"
      },
      "source": [
        "Замеры"
      ]
    },
    {
      "cell_type": "code",
      "execution_count": null,
      "metadata": {
        "id": "iBdtooISqQ8U"
      },
      "outputs": [],
      "source": [
        "%%timeit\n",
        "\n",
        "text_rdd.filter(lambda x: x != '')\\\n",
        "        .flatMap(mapper_text)\\\n",
        "        .groupByKey()\\\n",
        "        .mapValues(len)\\\n",
        "        .sortBy(lambda x: x[1], ascending=False)\\\n",
        "        .collect()[:10]"
      ]
    },
    {
      "cell_type": "code",
      "execution_count": null,
      "metadata": {
        "id": "BdAdFM-rqHxX"
      },
      "outputs": [],
      "source": [
        "%%timeit\n",
        "\n",
        "text_rdd.filter(lambda x: x != '')\\\n",
        "        .flatMap(mapper_text)\\\n",
        "        .reduceByKey(lambda x, y: x + y)\\\n",
        "        .sortBy(lambda x: x[1], ascending=False)\\\n",
        "        .collect()[:10]"
      ]
    },
    {
      "cell_type": "code",
      "execution_count": null,
      "metadata": {
        "id": "xD4ne4tmqfAI"
      },
      "outputs": [],
      "source": [
        "%%timeit\n",
        "\n",
        "result = text_rdd.filter(lambda x: x != '')\\\n",
        "                 .flatMap(mapper_text_simple)\\\n",
        "                 .countByValue()\n",
        "result = sorted(result.items(), key=lambda x: x[1], reverse=True)[:10]"
      ]
    },
    {
      "cell_type": "markdown",
      "metadata": {
        "id": "iNLF_SEaG_Mr"
      },
      "source": [
        "**Join'ы**"
      ]
    },
    {
      "cell_type": "markdown",
      "metadata": {
        "id": "At9Da6ZlHIcs"
      },
      "source": [
        "Тут просто на игрушечном примере пощупаем данную операцию"
      ]
    },
    {
      "cell_type": "code",
      "execution_count": null,
      "metadata": {
        "id": "-HQ4wqICHPNK"
      },
      "outputs": [],
      "source": [
        "rdd_a = sc.parallelize([\n",
        "                        ('a', [1, 2]),\n",
        "                        ('b', [2, 4])])\n",
        "\n",
        "rdd_b = sc.parallelize([\n",
        "                        ('a', [10]),\n",
        "                        ('c', [11])])"
      ]
    },
    {
      "cell_type": "code",
      "execution_count": null,
      "metadata": {
        "colab": {
          "base_uri": "https://localhost:8080/"
        },
        "id": "FOCGK6dVHqCG",
        "outputId": "239f8e3e-3156-4f8f-ac0f-57d2ff7b157f"
      },
      "outputs": [
        {
          "output_type": "execute_result",
          "data": {
            "text/plain": [
              "[('a', ([1, 2], [10]))]"
            ]
          },
          "metadata": {},
          "execution_count": 62
        }
      ],
      "source": [
        "rdd_a.join(rdd_b).collect()"
      ]
    },
    {
      "cell_type": "code",
      "execution_count": null,
      "metadata": {
        "colab": {
          "base_uri": "https://localhost:8080/"
        },
        "id": "EmnzobldH68k",
        "outputId": "e4da574b-2bbc-4649-ef2f-20371adab39b"
      },
      "outputs": [
        {
          "output_type": "execute_result",
          "data": {
            "text/plain": [
              "[('b', ([2, 4], None)), ('a', ([1, 2], [10]))]"
            ]
          },
          "metadata": {},
          "execution_count": 63
        }
      ],
      "source": [
        "rdd_a.leftOuterJoin(rdd_b).collect()"
      ]
    },
    {
      "cell_type": "code",
      "execution_count": null,
      "metadata": {
        "colab": {
          "base_uri": "https://localhost:8080/"
        },
        "id": "nS-DcoMEH-Mq",
        "outputId": "953a5d4b-a9ff-4407-fabb-b803a6f3321d"
      },
      "outputs": [
        {
          "output_type": "execute_result",
          "data": {
            "text/plain": [
              "[('b', ([2, 4], None)), ('c', (None, [11])), ('a', ([1, 2], [10]))]"
            ]
          },
          "metadata": {},
          "execution_count": 64
        }
      ],
      "source": [
        "rdd_a.fullOuterJoin(rdd_b).collect()"
      ]
    },
    {
      "cell_type": "markdown",
      "metadata": {
        "id": "7_cvDn0sI6lS"
      },
      "source": [
        "**Домашнее задание 1**\n",
        "\n",
        "Посчитать количество рейтингов больше 4 для каждого фильма и вывести фильмы в порядке убывания количества этих оценок (можно вывести топ 10)\n",
        "\n",
        "Файл можете взять из прошлого домашнего задания + сохраните результат на диск"
      ]
    },
    {
      "cell_type": "code",
      "source": [
        "data = sc.textFile('/content/drive/My Drive/Colab_Notebooks/PySpark/user_ratedmovies.dat')\n",
        "data = data.map(lambda x: (x.split(\"\\t\")[1], x.split('\\t')[2]))\\\n",
        "           .filter(lambda x: x != ('movieID', 'rating'))\n",
        "\n",
        "data.take(10)"
      ],
      "metadata": {
        "colab": {
          "base_uri": "https://localhost:8080/"
        },
        "id": "DH9zdf8LEaYY",
        "outputId": "0f6fa06f-0b46-4e13-b878-ac41f3c33cb6"
      },
      "execution_count": null,
      "outputs": [
        {
          "output_type": "execute_result",
          "data": {
            "text/plain": [
              "[('3', '1'),\n",
              " ('32', '4.5'),\n",
              " ('110', '4'),\n",
              " ('160', '2'),\n",
              " ('163', '4'),\n",
              " ('165', '4.5'),\n",
              " ('173', '3.5'),\n",
              " ('296', '5'),\n",
              " ('353', '3.5'),\n",
              " ('420', '2')]"
            ]
          },
          "metadata": {},
          "execution_count": 4
        }
      ]
    },
    {
      "cell_type": "code",
      "source": [
        "data = data.filter(lambda x: float(x[1]) > 4)\\\n",
        "           .countByKey()\n",
        "data = sorted(data.items(), key=lambda x: x[1], reverse=True)\n",
        "\n",
        "data[:10]"
      ],
      "metadata": {
        "id": "D1vEaDSrEada",
        "colab": {
          "base_uri": "https://localhost:8080/"
        },
        "outputId": "9ea10506-6de0-40f8-e110-04cfd6386cad"
      },
      "execution_count": null,
      "outputs": [
        {
          "output_type": "execute_result",
          "data": {
            "text/plain": [
              "[('2571', 900),\n",
              " ('318', 887),\n",
              " ('296', 878),\n",
              " ('2959', 828),\n",
              " ('4993', 756),\n",
              " ('7153', 719),\n",
              " ('5952', 697),\n",
              " ('858', 690),\n",
              " ('50', 688),\n",
              " ('2858', 680)]"
            ]
          },
          "metadata": {},
          "execution_count": 5
        }
      ]
    },
    {
      "cell_type": "code",
      "source": [
        "with open('/content/drive/My Drive/Colab_Notebooks/PySpark/lesson_2/out1.txt', 'w') as f:\n",
        "    for key, value in data:\n",
        "\t\t    f.write(f'{key}, {value}\\n')"
      ],
      "metadata": {
        "id": "OxYZOiagEah_"
      },
      "execution_count": null,
      "outputs": []
    },
    {
      "cell_type": "markdown",
      "metadata": {
        "id": "3BpNsZDmJQm2"
      },
      "source": [
        "**Домашнее задание 2**\n",
        "\n",
        "В этом задании у вас есть файл с обученным word2vec на произведении Достоевского Преступление и наказание. Файл - list, каждый элемент которого слово и его вектор в формате ('word', [vector]). Необходимо для каждого слова собрать список его top 10 похожих слов по косинусной метрике\n",
        "Результат также сохраните на диск и выведите синонимы для слова 'топор' и 'деньга'.\n",
        "Файл в пикле, так что для считывания воспользуйтесь не spark, можете взять любимый pandas\n",
        "\n",
        "Файл не очень уж и маленький, рекомендую сначала написать код на кошках/собачках, а потом уже на всем, так как ядра 2, считаться будет очень долго.\n",
        "В качестве одного из вариантов можете рассмотреть метод cartesian"
      ]
    },
    {
      "cell_type": "code",
      "source": [
        "import pandas as pd\n",
        "\n",
        "data = pd.read_pickle('/content/drive/My Drive/Colab_Notebooks/PySpark/lesson_2/w2v_vectors.pickle')\n",
        "data = sc.parallelize(data)\n",
        "data.take(1)"
      ],
      "metadata": {
        "colab": {
          "base_uri": "https://localhost:8080/"
        },
        "id": "1m_JR24-hjNv",
        "outputId": "3788faca-003f-45f2-a1a7-f39d9f05f5ff"
      },
      "execution_count": 7,
      "outputs": [
        {
          "output_type": "execute_result",
          "data": {
            "text/plain": [
              "[('это',\n",
              "  [0.14321378,\n",
              "   -0.80575335,\n",
              "   -0.49581036,\n",
              "   -0.06394294,\n",
              "   -1.2238435,\n",
              "   -0.44410643,\n",
              "   0.49273458,\n",
              "   0.17389631,\n",
              "   -0.27776885,\n",
              "   0.50880307,\n",
              "   -0.07283105,\n",
              "   0.72964376,\n",
              "   1.1526197,\n",
              "   0.94315845,\n",
              "   -1.0720603,\n",
              "   -0.235505,\n",
              "   1.2034348,\n",
              "   -0.3744024,\n",
              "   -0.36203885,\n",
              "   -0.07914155,\n",
              "   0.3772516,\n",
              "   -0.878622,\n",
              "   -0.927112,\n",
              "   0.73365724,\n",
              "   0.107223585,\n",
              "   -0.39829564,\n",
              "   0.61899257,\n",
              "   0.29151887,\n",
              "   1.013499,\n",
              "   0.03111156])]"
            ]
          },
          "metadata": {},
          "execution_count": 7
        }
      ]
    },
    {
      "cell_type": "code",
      "source": [
        "data = data.cartesian(data)\\\n",
        "           .filter(lambda x: x[0] != x[1])\n",
        "data.take(1)"
      ],
      "metadata": {
        "colab": {
          "base_uri": "https://localhost:8080/"
        },
        "id": "Dqqe0I2KPclG",
        "outputId": "72270bd1-419e-4851-8450-095c4d1ae349"
      },
      "execution_count": 8,
      "outputs": [
        {
          "output_type": "execute_result",
          "data": {
            "text/plain": [
              "[(('это',\n",
              "   [0.14321378,\n",
              "    -0.80575335,\n",
              "    -0.49581036,\n",
              "    -0.06394294,\n",
              "    -1.2238435,\n",
              "    -0.44410643,\n",
              "    0.49273458,\n",
              "    0.17389631,\n",
              "    -0.27776885,\n",
              "    0.50880307,\n",
              "    -0.07283105,\n",
              "    0.72964376,\n",
              "    1.1526197,\n",
              "    0.94315845,\n",
              "    -1.0720603,\n",
              "    -0.235505,\n",
              "    1.2034348,\n",
              "    -0.3744024,\n",
              "    -0.36203885,\n",
              "    -0.07914155,\n",
              "    0.3772516,\n",
              "    -0.878622,\n",
              "    -0.927112,\n",
              "    0.73365724,\n",
              "    0.107223585,\n",
              "    -0.39829564,\n",
              "    0.61899257,\n",
              "    0.29151887,\n",
              "    1.013499,\n",
              "    0.03111156]),\n",
              "  ('всё',\n",
              "   [-0.30770057,\n",
              "    -1.296609,\n",
              "    -0.7222447,\n",
              "    -0.20211408,\n",
              "    -0.7666911,\n",
              "    -1.0031737,\n",
              "    -0.26696622,\n",
              "    -0.0668253,\n",
              "    0.0026058692,\n",
              "    -0.105746254,\n",
              "    0.16301736,\n",
              "    0.41609567,\n",
              "    0.6745765,\n",
              "    1.1453478,\n",
              "    -0.99610287,\n",
              "    -0.53095675,\n",
              "    1.4379495,\n",
              "    -0.48172295,\n",
              "    -0.14234278,\n",
              "    -0.49253845,\n",
              "    0.28369433,\n",
              "    -0.6198971,\n",
              "    -1.158686,\n",
              "    0.1808683,\n",
              "    -0.5055639,\n",
              "    -0.3938737,\n",
              "    -0.076981455,\n",
              "    0.6512924,\n",
              "    1.5167931,\n",
              "    0.015842797]))]"
            ]
          },
          "metadata": {},
          "execution_count": 8
        }
      ]
    },
    {
      "cell_type": "code",
      "source": [
        "import numpy as np\n",
        "\n",
        "def cos_sim(a,b):\n",
        "    return float(np.dot(a, b) / (np.linalg.norm(a) * np.linalg.norm(b)))\n",
        "\n",
        "data = data.map(lambda x: (x[0][0], {x[1][0]: cos_sim(x[0][1], x[1][1])}))\n",
        "data.take(1)"
      ],
      "metadata": {
        "colab": {
          "base_uri": "https://localhost:8080/"
        },
        "id": "uaehVtt7P3rV",
        "outputId": "d1a1f287-63da-4d51-8b33-2389b4f8c1e9"
      },
      "execution_count": 9,
      "outputs": [
        {
          "output_type": "execute_result",
          "data": {
            "text/plain": [
              "[('это', {'всё': 0.8356289267539978})]"
            ]
          },
          "metadata": {},
          "execution_count": 9
        }
      ]
    },
    {
      "cell_type": "code",
      "source": [
        "data = data.reduceByKey(lambda x, y: dict(x, **y))\\\n",
        "           .mapValues(lambda x: sorted(x.items(), key = lambda x: x[1], reverse = True)[:10])\n",
        "data.take(1)"
      ],
      "metadata": {
        "colab": {
          "base_uri": "https://localhost:8080/"
        },
        "id": "xCKYd94shjXT",
        "outputId": "2dd42a3b-5204-4148-9f51-3243d1f6d881"
      },
      "execution_count": 10,
      "outputs": [
        {
          "output_type": "execute_result",
          "data": {
            "text/plain": [
              "[('мера',\n",
              "  [('предел', 0.8030657768249512),\n",
              "   ('правило', 0.6602046489715576),\n",
              "   ('особенно', 0.6598761081695557),\n",
              "   ('цена', 0.6544543504714966),\n",
              "   ('ощущение', 0.6365392208099365),\n",
              "   ('высокий', 0.636443555355072),\n",
              "   ('неприятный', 0.626589298248291),\n",
              "   ('солидный', 0.6210660338401794),\n",
              "   ('некоторый', 0.6208765506744385),\n",
              "   ('весьма', 0.6163438558578491)])]"
            ]
          },
          "metadata": {},
          "execution_count": 10
        }
      ]
    },
    {
      "cell_type": "code",
      "source": [
        "data.saveAsTextFile('/content/drive/My Drive/Colab_Notebooks/PySpark/lesson_2/out2')"
      ],
      "metadata": {
        "id": "uXgPgg0E82GF"
      },
      "execution_count": 11,
      "outputs": []
    },
    {
      "cell_type": "code",
      "source": [
        "data.filter(lambda x: x[0] == 'топор' or x[0] == 'деньга').collect()"
      ],
      "metadata": {
        "colab": {
          "base_uri": "https://localhost:8080/"
        },
        "id": "FW4hOVcx8_mZ",
        "outputId": "825086d5-52e7-482b-861e-ad67d863b5e5"
      },
      "execution_count": 12,
      "outputs": [
        {
          "output_type": "execute_result",
          "data": {
            "text/plain": [
              "[('деньга',\n",
              "  [('вещь', 0.9063147902488708),\n",
              "   ('отдать', 0.8706483244895935),\n",
              "   ('убить', 0.8420270085334778),\n",
              "   ('значит', 0.838628351688385),\n",
              "   ('известно', 0.8266707062721252),\n",
              "   ('отец', 0.8146180510520935),\n",
              "   ('получить', 0.8137906193733215),\n",
              "   ('ограбить', 0.8044242858886719),\n",
              "   ('копейка', 0.8012077808380127),\n",
              "   ('полечка', 0.7804851531982422)]),\n",
              " ('топор',\n",
              "  [('левый', 0.9236524701118469),\n",
              "   ('старуха', 0.922432005405426),\n",
              "   ('колено', 0.920665979385376),\n",
              "   ('побежать', 0.912059485912323),\n",
              "   ('ломать', 0.910239040851593),\n",
              "   ('бросить', 0.9063428640365601),\n",
              "   ('схватить', 0.9024109840393066),\n",
              "   ('обнять', 0.8999080657958984),\n",
              "   ('бить', 0.898546040058136),\n",
              "   ('положить', 0.8972360491752625)])]"
            ]
          },
          "metadata": {},
          "execution_count": 12
        }
      ]
    },
    {
      "cell_type": "code",
      "source": [],
      "metadata": {
        "id": "Kc4ffXVqAaKk"
      },
      "execution_count": null,
      "outputs": []
    }
  ],
  "metadata": {
    "colab": {
      "provenance": []
    },
    "kernelspec": {
      "display_name": "Python 3",
      "language": "python",
      "name": "python3"
    },
    "language_info": {
      "codemirror_mode": {
        "name": "ipython",
        "version": 3
      },
      "file_extension": ".py",
      "mimetype": "text/x-python",
      "name": "python",
      "nbconvert_exporter": "python",
      "pygments_lexer": "ipython3",
      "version": "3.8.8"
    }
  },
  "nbformat": 4,
  "nbformat_minor": 0
}