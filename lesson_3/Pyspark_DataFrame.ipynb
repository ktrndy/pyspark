{
  "cells": [
    {
      "cell_type": "code",
      "execution_count": 3,
      "metadata": {
        "colab": {
          "base_uri": "https://localhost:8080/"
        },
        "id": "WHgYpJXKoPIi",
        "outputId": "3021b692-a128-4045-d778-098b268b2497"
      },
      "outputs": [
        {
          "output_type": "stream",
          "name": "stdout",
          "text": [
            "Collecting pyspark\n",
            "  Using cached pyspark-3.5.1-py2.py3-none-any.whl\n",
            "Requirement already satisfied: findspark in /usr/local/lib/python3.10/dist-packages (2.0.1)\n",
            "Requirement already satisfied: py4j==0.10.9.7 in /usr/local/lib/python3.10/dist-packages (from pyspark) (0.10.9.7)\n",
            "Installing collected packages: pyspark\n",
            "Successfully installed pyspark-3.5.1\n"
          ]
        }
      ],
      "source": [
        "!pip install pyspark findspark"
      ]
    },
    {
      "cell_type": "code",
      "execution_count": 4,
      "metadata": {
        "id": "mUBraSjDoaDp"
      },
      "outputs": [],
      "source": [
        "from pyspark.sql import SparkSession\n",
        "from pyspark import SparkContext, SparkConf\n",
        "import pyspark.sql.functions as F\n",
        "\n",
        "conf = SparkConf().set('spark.ui.port', '4050').set('spark.serializer', 'org.apache.spark.serializer.KryoSerializer')\\\n",
        "                  .set('spark.dynamicAllocation.enabled', 'true')\\\n",
        "                  .set('spark.shuffle.service.enabled', 'true') #трекер, чтобы возвращать ресурсы\n",
        "sc = SparkContext(conf=conf)\n",
        "spark = SparkSession.builder.master('local[*]').getOrCreate()"
      ]
    },
    {
      "cell_type": "code",
      "execution_count": 5,
      "metadata": {
        "colab": {
          "base_uri": "https://localhost:8080/"
        },
        "id": "aidzIxBod4z5",
        "outputId": "7cebac31-c23d-4916-c94b-209a31821136"
      },
      "outputs": [
        {
          "output_type": "stream",
          "name": "stdout",
          "text": [
            "Mounted at /content/drive\n"
          ]
        }
      ],
      "source": [
        "from google.colab import drive\n",
        "drive.mount('/content/drive')"
      ]
    },
    {
      "cell_type": "markdown",
      "metadata": {
        "id": "CdchPhE6osBh"
      },
      "source": [
        "**Создание DataFrame**"
      ]
    },
    {
      "cell_type": "markdown",
      "metadata": {
        "id": "DuQZiqE8pLBg"
      },
      "source": [
        "Из RDD"
      ]
    },
    {
      "cell_type": "code",
      "execution_count": null,
      "metadata": {
        "id": "P0HRKDcbpeT1"
      },
      "outputs": [],
      "source": [
        "def cleaning(row):\n",
        "    row = row.split('\\t')[:3]\n",
        "    row = [float(val) for val in row]\n",
        "    return row"
      ]
    },
    {
      "cell_type": "code",
      "execution_count": null,
      "metadata": {
        "id": "83oW4J6ioqwt"
      },
      "outputs": [],
      "source": [
        "ratings = sc.textFile('/content/drive/My Drive/Colab_Notebooks/PySpark/lesson_3/user_ratedmovies.dat')\n",
        "\n",
        "first_row = ratings.first()\n",
        "ratings = ratings.filter(lambda row: row != first_row)\\\n",
        "                 .map(cleaning)"
      ]
    },
    {
      "cell_type": "code",
      "execution_count": null,
      "metadata": {
        "id": "fs-On6Warlgm"
      },
      "outputs": [],
      "source": [
        "columns = first_row.split('\\t')[:3]"
      ]
    },
    {
      "cell_type": "code",
      "execution_count": null,
      "metadata": {
        "colab": {
          "base_uri": "https://localhost:8080/"
        },
        "id": "f3JWv9Cdr1y7",
        "outputId": "92648f0f-c66c-4e55-f38e-30253b2cd8fc"
      },
      "outputs": [
        {
          "output_type": "execute_result",
          "data": {
            "text/plain": [
              "['userID', 'movieID', 'rating']"
            ]
          },
          "metadata": {},
          "execution_count": 8
        }
      ],
      "source": [
        "columns"
      ]
    },
    {
      "cell_type": "code",
      "execution_count": null,
      "metadata": {
        "colab": {
          "base_uri": "https://localhost:8080/"
        },
        "id": "0HHFa4NOpl8U",
        "outputId": "11d45fab-1bb1-4a02-fdd6-54eae7d6663e"
      },
      "outputs": [
        {
          "output_type": "execute_result",
          "data": {
            "text/plain": [
              "[[75.0, 3.0, 1.0],\n",
              " [75.0, 32.0, 4.5],\n",
              " [75.0, 110.0, 4.0],\n",
              " [75.0, 160.0, 2.0],\n",
              " [75.0, 163.0, 4.0]]"
            ]
          },
          "metadata": {},
          "execution_count": 9
        }
      ],
      "source": [
        "ratings.take(5)"
      ]
    },
    {
      "cell_type": "code",
      "execution_count": null,
      "metadata": {
        "id": "a6EbyjOzp2Rz"
      },
      "outputs": [],
      "source": [
        "df_rdd = spark.createDataFrame(ratings, columns)"
      ]
    },
    {
      "cell_type": "code",
      "execution_count": null,
      "metadata": {
        "colab": {
          "base_uri": "https://localhost:8080/"
        },
        "id": "grAj61Pqqcot",
        "outputId": "21842c20-fb6d-496b-c4ff-63288438cea9"
      },
      "outputs": [
        {
          "output_type": "execute_result",
          "data": {
            "text/plain": [
              "DataFrame[userID: double, movieID: double, rating: double]"
            ]
          },
          "metadata": {},
          "execution_count": 11
        }
      ],
      "source": [
        "df_rdd"
      ]
    },
    {
      "cell_type": "markdown",
      "metadata": {
        "id": "hGdP3oErrBn2"
      },
      "source": [
        "Можно еще вот так:"
      ]
    },
    {
      "cell_type": "code",
      "execution_count": null,
      "metadata": {
        "id": "Pm2IjgCKrGQR"
      },
      "outputs": [],
      "source": [
        "df_rdd = ratings.toDF(columns)"
      ]
    },
    {
      "cell_type": "code",
      "execution_count": null,
      "metadata": {
        "colab": {
          "base_uri": "https://localhost:8080/"
        },
        "id": "bNeXMPNQsLV1",
        "outputId": "9dafff2c-0717-4aba-9704-75480054d32c"
      },
      "outputs": [
        {
          "output_type": "execute_result",
          "data": {
            "text/plain": [
              "DataFrame[userID: double, movieID: double, rating: double]"
            ]
          },
          "metadata": {},
          "execution_count": 13
        }
      ],
      "source": [
        "df_rdd"
      ]
    },
    {
      "cell_type": "markdown",
      "metadata": {
        "id": "0cHlkz0Rsf2W"
      },
      "source": [
        "Так, а если не хочу вот эти приседания с RDD, а хочу сразу из файла?"
      ]
    },
    {
      "cell_type": "code",
      "execution_count": null,
      "metadata": {
        "id": "VFkXM_vZu_1t"
      },
      "outputs": [],
      "source": [
        "df = spark.read\\\n",
        "          .format(\"csv\")\\\n",
        "          .options(**{'sep': '\\t', 'header': 'true'})\\\n",
        "          .load(\"/content/drive/My Drive/Colab_Notebooks/PySpark/lesson_3/user_ratedmovies.dat\")"
      ]
    },
    {
      "cell_type": "code",
      "execution_count": null,
      "metadata": {
        "colab": {
          "base_uri": "https://localhost:8080/"
        },
        "id": "AlZNFbmpvQKN",
        "outputId": "e9e22f9a-8137-467a-96ba-b14b9aa8717b"
      },
      "outputs": [
        {
          "output_type": "execute_result",
          "data": {
            "text/plain": [
              "DataFrame[userID: string, movieID: string, rating: string, date_day: string, date_month: string, date_year: string, date_hour: string, date_minute: string, date_second: string]"
            ]
          },
          "metadata": {},
          "execution_count": 16
        }
      ],
      "source": [
        "df"
      ]
    },
    {
      "cell_type": "markdown",
      "metadata": {
        "id": "R2tEvxnrxka6"
      },
      "source": [
        "Все в string, так не пойдет, давайте автоматически определим тип данных"
      ]
    },
    {
      "cell_type": "code",
      "execution_count": null,
      "metadata": {
        "id": "QTXHlh2msvaY"
      },
      "outputs": [],
      "source": [
        "df = spark.read\\\n",
        "          .format(\"csv\")\\\n",
        "          .options(**{'sep': '\\t', 'header': 'true', 'inferSchema': 'true'})\\\n",
        "          .load(\"/content/drive/My Drive/Colab_Notebooks/PySpark/lesson_3/user_ratedmovies.dat\")"
      ]
    },
    {
      "cell_type": "code",
      "execution_count": null,
      "metadata": {
        "colab": {
          "base_uri": "https://localhost:8080/"
        },
        "id": "84-8zIkJzgGC",
        "outputId": "6a1cde67-4e48-4b94-e96b-702c5c088655"
      },
      "outputs": [
        {
          "output_type": "execute_result",
          "data": {
            "text/plain": [
              "DataFrame[userID: int, movieID: int, rating: double, date_day: int, date_month: int, date_year: int, date_hour: int, date_minute: int, date_second: int]"
            ]
          },
          "metadata": {},
          "execution_count": 18
        }
      ],
      "source": [
        "df"
      ]
    },
    {
      "cell_type": "code",
      "execution_count": null,
      "metadata": {
        "colab": {
          "base_uri": "https://localhost:8080/"
        },
        "id": "rJcH3xqwz5JC",
        "outputId": "949cb5ba-1f58-44ea-95a0-aeda6879b564"
      },
      "outputs": [
        {
          "output_type": "stream",
          "name": "stdout",
          "text": [
            "+------+-------+------+--------+----------+---------+---------+-----------+-----------+\n",
            "|userID|movieID|rating|date_day|date_month|date_year|date_hour|date_minute|date_second|\n",
            "+------+-------+------+--------+----------+---------+---------+-----------+-----------+\n",
            "|    75|      3|   1.0|      29|        10|     2006|       23|         17|         16|\n",
            "|    75|     32|   4.5|      29|        10|     2006|       23|         23|         44|\n",
            "|    75|    110|   4.0|      29|        10|     2006|       23|         30|          8|\n",
            "|    75|    160|   2.0|      29|        10|     2006|       23|         16|         52|\n",
            "|    75|    163|   4.0|      29|        10|     2006|       23|         29|         30|\n",
            "|    75|    165|   4.5|      29|        10|     2006|       23|         25|         15|\n",
            "|    75|    173|   3.5|      29|        10|     2006|       23|         17|         37|\n",
            "|    75|    296|   5.0|      29|        10|     2006|       23|         24|         49|\n",
            "|    75|    353|   3.5|      29|        10|     2006|       23|         17|          0|\n",
            "|    75|    420|   2.0|      29|        10|     2006|       23|         16|         42|\n",
            "+------+-------+------+--------+----------+---------+---------+-----------+-----------+\n",
            "only showing top 10 rows\n",
            "\n"
          ]
        }
      ],
      "source": [
        "df.show(10)"
      ]
    },
    {
      "cell_type": "markdown",
      "metadata": {
        "id": "65EYIo0O1v2s"
      },
      "source": [
        "А можно заранее сказать, какой тип данных я ожидаю?"
      ]
    },
    {
      "cell_type": "code",
      "execution_count": null,
      "metadata": {
        "id": "LBTjPC1-102G"
      },
      "outputs": [],
      "source": [
        "from pyspark.sql.types import StructType, StructField, StringType, IntegerType, DoubleType"
      ]
    },
    {
      "cell_type": "code",
      "execution_count": null,
      "metadata": {
        "id": "axRDyclD3YZX"
      },
      "outputs": [],
      "source": [
        "schema = StructType([ \\\n",
        "    StructField(\"userID\",IntegerType(),True), \\\n",
        "    StructField(\"movieID\",IntegerType(),True), \\\n",
        "    StructField(\"rating\",DoubleType(),True), \\\n",
        "    StructField(\"date_day\", StringType(), True), \\\n",
        "    StructField(\"date_month\", StringType(), True), \\\n",
        "    StructField(\"date_year\", IntegerType(), True), \\\n",
        "    StructField(\"date_hour\", IntegerType(), True), \\\n",
        "    StructField(\"date_minute\", IntegerType(), True), \\\n",
        "    StructField(\"date_second\", IntegerType(), True)\n",
        "  ])"
      ]
    },
    {
      "cell_type": "code",
      "execution_count": null,
      "metadata": {
        "id": "Y16zNsdF4GdA"
      },
      "outputs": [],
      "source": [
        "df = spark.read\\\n",
        "          .format(\"csv\")\\\n",
        "          .options(**{'sep': '\\t', 'header': 'true'})\\\n",
        "          .schema(schema)\\\n",
        "          .load(\"/content/drive/My Drive/Colab_Notebooks/PySpark/lesson_3/user_ratedmovies.dat\")"
      ]
    },
    {
      "cell_type": "code",
      "execution_count": null,
      "metadata": {
        "colab": {
          "base_uri": "https://localhost:8080/"
        },
        "id": "zyZqtXpN4Teq",
        "outputId": "d71fa6e5-11dc-4c02-bc6a-acc4d0929806"
      },
      "outputs": [
        {
          "output_type": "stream",
          "name": "stdout",
          "text": [
            "root\n",
            " |-- userID: integer (nullable = true)\n",
            " |-- movieID: integer (nullable = true)\n",
            " |-- rating: double (nullable = true)\n",
            " |-- date_day: string (nullable = true)\n",
            " |-- date_month: string (nullable = true)\n",
            " |-- date_year: integer (nullable = true)\n",
            " |-- date_hour: integer (nullable = true)\n",
            " |-- date_minute: integer (nullable = true)\n",
            " |-- date_second: integer (nullable = true)\n",
            "\n"
          ]
        }
      ],
      "source": [
        "df.printSchema()"
      ]
    },
    {
      "cell_type": "code",
      "execution_count": null,
      "metadata": {
        "colab": {
          "base_uri": "https://localhost:8080/"
        },
        "id": "E7hegloJ4W0j",
        "outputId": "107ccb37-4712-4446-bd25-85686068c182"
      },
      "outputs": [
        {
          "output_type": "stream",
          "name": "stdout",
          "text": [
            "+------+-------+------+--------+----------+---------+---------+-----------+-----------+\n",
            "|userID|movieID|rating|date_day|date_month|date_year|date_hour|date_minute|date_second|\n",
            "+------+-------+------+--------+----------+---------+---------+-----------+-----------+\n",
            "|    75|      3|   1.0|      29|        10|     2006|       23|         17|         16|\n",
            "|    75|     32|   4.5|      29|        10|     2006|       23|         23|         44|\n",
            "|    75|    110|   4.0|      29|        10|     2006|       23|         30|          8|\n",
            "|    75|    160|   2.0|      29|        10|     2006|       23|         16|         52|\n",
            "|    75|    163|   4.0|      29|        10|     2006|       23|         29|         30|\n",
            "|    75|    165|   4.5|      29|        10|     2006|       23|         25|         15|\n",
            "|    75|    173|   3.5|      29|        10|     2006|       23|         17|         37|\n",
            "|    75|    296|   5.0|      29|        10|     2006|       23|         24|         49|\n",
            "|    75|    353|   3.5|      29|        10|     2006|       23|         17|          0|\n",
            "|    75|    420|   2.0|      29|        10|     2006|       23|         16|         42|\n",
            "+------+-------+------+--------+----------+---------+---------+-----------+-----------+\n",
            "only showing top 10 rows\n",
            "\n"
          ]
        }
      ],
      "source": [
        "df.show(10)"
      ]
    },
    {
      "cell_type": "markdown",
      "metadata": {
        "id": "mdxJ2Mts42yh"
      },
      "source": [
        "Но есть уже готовая обертка под все нужды"
      ]
    },
    {
      "cell_type": "code",
      "execution_count": null,
      "metadata": {
        "id": "0Z3BQYgq46H2"
      },
      "outputs": [],
      "source": [
        "df = spark.read.csv(path='/content/drive/My Drive/Colab_Notebooks/PySpark/lesson_3/user_ratedmovies.dat', sep='\\t', header=True, inferSchema=True, schema=None)"
      ]
    },
    {
      "cell_type": "code",
      "execution_count": null,
      "metadata": {
        "colab": {
          "base_uri": "https://localhost:8080/"
        },
        "id": "L_QGJgItBcr5",
        "outputId": "10e0dde3-d8a8-4047-c3ed-ac36c8b711f9"
      },
      "outputs": [
        {
          "output_type": "stream",
          "name": "stdout",
          "text": [
            "root\n",
            " |-- userID: integer (nullable = true)\n",
            " |-- movieID: integer (nullable = true)\n",
            " |-- rating: double (nullable = true)\n",
            " |-- date_day: integer (nullable = true)\n",
            " |-- date_month: integer (nullable = true)\n",
            " |-- date_year: integer (nullable = true)\n",
            " |-- date_hour: integer (nullable = true)\n",
            " |-- date_minute: integer (nullable = true)\n",
            " |-- date_second: integer (nullable = true)\n",
            "\n"
          ]
        }
      ],
      "source": [
        "df.printSchema()"
      ]
    },
    {
      "cell_type": "markdown",
      "metadata": {
        "id": "-AikPkbuN44v"
      },
      "source": [
        "Так, а как сохранить? Лучше быть аккуратнее с overwrite, перезапишет весь указанный путь, append будет безопаснее"
      ]
    },
    {
      "cell_type": "code",
      "execution_count": null,
      "metadata": {
        "id": "SvoejV_lN7Wx"
      },
      "outputs": [],
      "source": [
        "df.write.option(\"header\",True)\\\n",
        "        .mode(\"overwrite\")\\\n",
        "        .parquet('write_1.parquet')"
      ]
    },
    {
      "cell_type": "markdown",
      "metadata": {
        "id": "J9FAZTtsOU_D"
      },
      "source": [
        "А что с партицированием?"
      ]
    },
    {
      "cell_type": "code",
      "execution_count": null,
      "metadata": {
        "id": "q5DXXgA5OUJL"
      },
      "outputs": [],
      "source": [
        "df.write.option(\"header\",True)\\\n",
        "        .partitionBy('date_year')\\\n",
        "        .mode(\"overwrite\")\\\n",
        "        .parquet('write_2.parquet')"
      ]
    },
    {
      "cell_type": "markdown",
      "metadata": {
        "id": "nVWgHcej7BW8"
      },
      "source": [
        "Кстати, раз уж заговорили про схемы данных, то их можно задавать интереснее, например, под группированные данные"
      ]
    },
    {
      "cell_type": "code",
      "execution_count": null,
      "metadata": {
        "colab": {
          "base_uri": "https://localhost:8080/"
        },
        "id": "CGlOCL_f7K6S",
        "outputId": "119a30d9-e83a-4eee-fa2d-a4de3236b743"
      },
      "outputs": [
        {
          "output_type": "stream",
          "name": "stdout",
          "text": [
            "root\n",
            " |-- name: struct (nullable = true)\n",
            " |    |-- firstname: string (nullable = true)\n",
            " |    |-- middlename: string (nullable = true)\n",
            " |    |-- lastname: string (nullable = true)\n",
            " |-- id: string (nullable = true)\n",
            " |-- gender: string (nullable = true)\n",
            " |-- salary: integer (nullable = true)\n",
            "\n",
            "+--------------------+-----+------+------+\n",
            "|name                |id   |gender|salary|\n",
            "+--------------------+-----+------+------+\n",
            "|{James, , Smith}    |36636|M     |3100  |\n",
            "|{Michael, Rose, }   |40288|M     |4300  |\n",
            "|{Robert, , Williams}|42114|M     |1400  |\n",
            "|{Maria, Anne, Jones}|39192|F     |5500  |\n",
            "|{Jen, Mary, Brown}  |     |F     |-1    |\n",
            "+--------------------+-----+------+------+\n",
            "\n"
          ]
        }
      ],
      "source": [
        "structureData = [\n",
        "    ((\"James\",\"\",\"Smith\"),\"36636\",\"M\",3100),\n",
        "    ((\"Michael\",\"Rose\",\"\"),\"40288\",\"M\",4300),\n",
        "    ((\"Robert\",\"\",\"Williams\"),\"42114\",\"M\",1400),\n",
        "    ((\"Maria\",\"Anne\",\"Jones\"),\"39192\",\"F\",5500),\n",
        "    ((\"Jen\",\"Mary\",\"Brown\"),\"\",\"F\",-1)\n",
        "  ]\n",
        "structureSchema = StructType([\n",
        "        StructField('name', StructType([\n",
        "             StructField('firstname', StringType(), True),\n",
        "             StructField('middlename', StringType(), True),\n",
        "             StructField('lastname', StringType(), True)\n",
        "             ])),\n",
        "         StructField('id', StringType(), True),\n",
        "         StructField('gender', StringType(), True),\n",
        "         StructField('salary', IntegerType(), True)\n",
        "         ])\n",
        "\n",
        "df2 = spark.createDataFrame(data=structureData,schema=structureSchema)\n",
        "df2.printSchema()\n",
        "df2.show(truncate=False)"
      ]
    },
    {
      "cell_type": "markdown",
      "metadata": {
        "id": "iClIlEKr8iTj"
      },
      "source": [
        "Со структурой можно работать и менять ее под ваши нужны"
      ]
    },
    {
      "cell_type": "code",
      "execution_count": null,
      "metadata": {
        "colab": {
          "base_uri": "https://localhost:8080/"
        },
        "id": "vm4_WIJS8dgO",
        "outputId": "8c1ebb52-8e80-416e-8359-c0cec6e55262"
      },
      "outputs": [
        {
          "output_type": "stream",
          "name": "stdout",
          "text": [
            "root\n",
            " |-- name: struct (nullable = true)\n",
            " |    |-- firstname: string (nullable = true)\n",
            " |    |-- middlename: string (nullable = true)\n",
            " |    |-- lastname: string (nullable = true)\n",
            " |-- OtherInfo: struct (nullable = false)\n",
            " |    |-- identifier: string (nullable = true)\n",
            " |    |-- gender: string (nullable = true)\n",
            " |    |-- salary: integer (nullable = true)\n",
            " |    |-- Salary_Grade: string (nullable = false)\n",
            "\n",
            "+--------------------+------------------------+\n",
            "|name                |OtherInfo               |\n",
            "+--------------------+------------------------+\n",
            "|{James, , Smith}    |{36636, M, 3100, Medium}|\n",
            "|{Michael, Rose, }   |{40288, M, 4300, High}  |\n",
            "|{Robert, , Williams}|{42114, M, 1400, Low}   |\n",
            "|{Maria, Anne, Jones}|{39192, F, 5500, High}  |\n",
            "|{Jen, Mary, Brown}  |{, F, -1, Low}          |\n",
            "+--------------------+------------------------+\n",
            "\n"
          ]
        }
      ],
      "source": [
        "updatedDF = df2.withColumn(\"OtherInfo\",\n",
        "    F.struct(F.col(\"id\").alias(\"identifier\"),\n",
        "    F.col(\"gender\").alias(\"gender\"),\n",
        "    F.col(\"salary\").alias(\"salary\"),\n",
        "    F.when(F.col(\"salary\").cast(IntegerType()) < 2000,\"Low\")\n",
        "      .when(F.col(\"salary\").cast(IntegerType()) < 4000,\"Medium\")\n",
        "      .otherwise(\"High\").alias(\"Salary_Grade\")\n",
        "  )).drop(\"id\",\"gender\",\"salary\")\n",
        "\n",
        "updatedDF.printSchema()\n",
        "updatedDF.show(truncate=False)"
      ]
    },
    {
      "cell_type": "markdown",
      "metadata": {
        "id": "U0ahr4fX9Upl"
      },
      "source": [
        "Что мы там сделали????"
      ]
    },
    {
      "cell_type": "markdown",
      "metadata": {
        "id": "4LDl88xh9ijH"
      },
      "source": [
        "1) Создали новую структуру данных OtherInfo\n",
        "\n",
        "2) Передали туда id (переименовав столбец), gender, salary\n",
        "\n",
        "3) Создали столбец Salary_grade из условий\n",
        "\n",
        "4) удалили id, gender, salary из старой структуры"
      ]
    },
    {
      "cell_type": "markdown",
      "metadata": {
        "id": "zCQAE9lcB9t0"
      },
      "source": [
        "Есть и еще структуры данных!"
      ]
    },
    {
      "cell_type": "code",
      "execution_count": null,
      "metadata": {
        "id": "mubsrdL7CECm"
      },
      "outputs": [],
      "source": [
        "from pyspark.sql.types import ArrayType, MapType"
      ]
    },
    {
      "cell_type": "code",
      "execution_count": null,
      "metadata": {
        "id": "DmTN8aYYCLaP"
      },
      "outputs": [],
      "source": [
        "arrayStructureSchema = StructType([\n",
        "    StructField('name', StructType([\n",
        "       StructField('firstname', StringType(), True),\n",
        "       StructField('middlename', StringType(), True),\n",
        "       StructField('lastname', StringType(), True)\n",
        "       ])),\n",
        "       StructField('hobbies', ArrayType(StringType()), True),\n",
        "       StructField('properties', MapType(IntegerType(),StringType()), True)\n",
        "    ])"
      ]
    },
    {
      "cell_type": "code",
      "execution_count": null,
      "metadata": {
        "id": "yD1B3QxQCk2f"
      },
      "outputs": [],
      "source": [
        "structureData = [\n",
        "    ((\"James\",\"\",\"Smith\"), ['car', 'volleyball'], {1: 'a', 4: 'd'}),\n",
        "    ((\"Michael\",\"Rose\",\"\"), ['car', 'football'], {2: 'b'}),\n",
        "    ((\"Robert\",\"\",\"Williams\"), ['box', 'music'], {3: 'c'})\n",
        "  ]"
      ]
    },
    {
      "cell_type": "code",
      "execution_count": null,
      "metadata": {
        "colab": {
          "base_uri": "https://localhost:8080/"
        },
        "id": "1ALozaKICfMB",
        "outputId": "37786d13-610c-4540-cfdb-2c9f3f8b70ee"
      },
      "outputs": [
        {
          "output_type": "stream",
          "name": "stdout",
          "text": [
            "root\n",
            " |-- name: struct (nullable = true)\n",
            " |    |-- firstname: string (nullable = true)\n",
            " |    |-- middlename: string (nullable = true)\n",
            " |    |-- lastname: string (nullable = true)\n",
            " |-- hobbies: array (nullable = true)\n",
            " |    |-- element: string (containsNull = true)\n",
            " |-- properties: map (nullable = true)\n",
            " |    |-- key: integer\n",
            " |    |-- value: string (valueContainsNull = true)\n",
            "\n",
            "+--------------------+-----------------+----------------+\n",
            "|name                |hobbies          |properties      |\n",
            "+--------------------+-----------------+----------------+\n",
            "|{James, , Smith}    |[car, volleyball]|{4 -> d, 1 -> a}|\n",
            "|{Michael, Rose, }   |[car, football]  |{2 -> b}        |\n",
            "|{Robert, , Williams}|[box, music]     |{3 -> c}        |\n",
            "+--------------------+-----------------+----------------+\n",
            "\n"
          ]
        }
      ],
      "source": [
        "df3 = spark.createDataFrame(data=structureData,schema=arrayStructureSchema)\n",
        "df3.printSchema()\n",
        "df3.show(truncate=False)"
      ]
    },
    {
      "cell_type": "code",
      "execution_count": null,
      "metadata": {
        "colab": {
          "base_uri": "https://localhost:8080/"
        },
        "id": "eLbNPk3YDiOY",
        "outputId": "1c450d69-7984-4c6b-ebfa-ac70be1b114a"
      },
      "outputs": [
        {
          "output_type": "execute_result",
          "data": {
            "text/plain": [
              "[Row(properties={4: 'd', 1: 'a'}),\n",
              " Row(properties={2: 'b'}),\n",
              " Row(properties={3: 'c'})]"
            ]
          },
          "metadata": {},
          "execution_count": 36
        }
      ],
      "source": [
        "df3.select('properties').collect()"
      ]
    },
    {
      "cell_type": "markdown",
      "metadata": {
        "id": "4uQ1cQpyCF_X"
      },
      "source": [
        "**Описание данных**"
      ]
    },
    {
      "cell_type": "markdown",
      "metadata": {
        "id": "CUn_TbKyCGCQ"
      },
      "source": [
        "Общее описание данных"
      ]
    },
    {
      "cell_type": "code",
      "execution_count": null,
      "metadata": {
        "id": "JFT3OfOsFTl4"
      },
      "outputs": [],
      "source": [
        "df = spark.read.csv(path='/content/drive/My Drive/Colab_Notebooks/PySpark/lesson_3/user_ratedmovies.dat', sep='\\t', header=True, inferSchema=True, schema=None)"
      ]
    },
    {
      "cell_type": "code",
      "execution_count": null,
      "metadata": {
        "colab": {
          "base_uri": "https://localhost:8080/"
        },
        "id": "4xsYm_0aCANH",
        "outputId": "ca271f2e-929e-4f7d-fd5d-ae8087b65379"
      },
      "outputs": [
        {
          "output_type": "stream",
          "name": "stdout",
          "text": [
            "+-------+-----------------+------------------+------------------+------------------+------------------+-----------------+------------------+------------------+------------------+\n",
            "|summary|           userID|           movieID|            rating|          date_day|        date_month|        date_year|         date_hour|       date_minute|       date_second|\n",
            "+-------+-----------------+------------------+------------------+------------------+------------------+-----------------+------------------+------------------+------------------+\n",
            "|  count|           855598|            855598|            855598|            855598|            855598|           855598|            855598|            855598|            855598|\n",
            "|   mean|35190.83255103448| 8710.179402008887| 3.437945156487042|15.568923723524366|  6.54079485926802|2005.323717446745|12.124531614145896|29.645382527775894|29.510222090280717|\n",
            "| stddev|20385.00334699137|14446.852908494242|1.0025608721610357| 8.951201361275226|3.5063994259089704|2.282697321902256| 7.596701614618118| 17.26730947820303| 17.31030200998905|\n",
            "|    min|               75|                 1|               0.5|                 1|                 1|             1997|                 0|                 0|                 0|\n",
            "|    max|            71534|             65133|               5.0|                31|                12|             2009|                23|                59|                59|\n",
            "+-------+-----------------+------------------+------------------+------------------+------------------+-----------------+------------------+------------------+------------------+\n",
            "\n"
          ]
        }
      ],
      "source": [
        "df.describe().show()"
      ]
    },
    {
      "cell_type": "code",
      "execution_count": null,
      "metadata": {
        "colab": {
          "base_uri": "https://localhost:8080/"
        },
        "id": "tzoQTDS1CZdC",
        "outputId": "4a38ba02-6b2c-429f-d1da-207d2a003a75"
      },
      "outputs": [
        {
          "output_type": "stream",
          "name": "stdout",
          "text": [
            "+-------+-----------------+------------------+------------------+------------------+------------------+-----------------+------------------+------------------+------------------+\n",
            "|summary|           userID|           movieID|            rating|          date_day|        date_month|        date_year|         date_hour|       date_minute|       date_second|\n",
            "+-------+-----------------+------------------+------------------+------------------+------------------+-----------------+------------------+------------------+------------------+\n",
            "|  count|           855598|            855598|            855598|            855598|            855598|           855598|            855598|            855598|            855598|\n",
            "|   mean|35190.83255103448| 8710.179402008887| 3.437945156487042|15.568923723524366|  6.54079485926802|2005.323717446745|12.124531614145896|29.645382527775894|29.510222090280717|\n",
            "| stddev|20385.00334699137|14446.852908494242|1.0025608721610357| 8.951201361275226|3.5063994259089704|2.282697321902256| 7.596701614618118| 17.26730947820303| 17.31030200998905|\n",
            "|    min|               75|                 1|               0.5|                 1|                 1|             1997|                 0|                 0|                 0|\n",
            "|    25%|            18161|              1367|               3.0|                 8|                 4|             2004|                 5|                15|                15|\n",
            "|    50%|            33866|              3250|               3.5|                15|                 7|             2006|                13|                30|                30|\n",
            "|    75%|            52004|              6534|               4.0|                23|                10|             2007|                19|                45|                44|\n",
            "|    max|            71534|             65133|               5.0|                31|                12|             2009|                23|                59|                59|\n",
            "+-------+-----------------+------------------+------------------+------------------+------------------+-----------------+------------------+------------------+------------------+\n",
            "\n"
          ]
        }
      ],
      "source": [
        "df.summary().show()"
      ]
    },
    {
      "cell_type": "markdown",
      "metadata": {
        "id": "dTWN1cf_CrOT"
      },
      "source": [
        "Количество записей"
      ]
    },
    {
      "cell_type": "code",
      "execution_count": null,
      "metadata": {
        "colab": {
          "base_uri": "https://localhost:8080/"
        },
        "id": "nVITW7_FCg7X",
        "outputId": "acb95737-1d8a-406b-cd59-5afc63e4dffc"
      },
      "outputs": [
        {
          "output_type": "execute_result",
          "data": {
            "text/plain": [
              "855598"
            ]
          },
          "metadata": {},
          "execution_count": 40
        }
      ],
      "source": [
        "df.count()"
      ]
    },
    {
      "cell_type": "markdown",
      "metadata": {
        "id": "gei1DA_MDXEM"
      },
      "source": [
        "Количество партиций"
      ]
    },
    {
      "cell_type": "code",
      "execution_count": null,
      "metadata": {
        "colab": {
          "base_uri": "https://localhost:8080/"
        },
        "id": "8LxCM_uMCoOQ",
        "outputId": "e25d1df8-a08d-4546-d322-7573e8cfefd3"
      },
      "outputs": [
        {
          "output_type": "execute_result",
          "data": {
            "text/plain": [
              "2"
            ]
          },
          "metadata": {},
          "execution_count": 41
        }
      ],
      "source": [
        "df.rdd.getNumPartitions()"
      ]
    },
    {
      "cell_type": "markdown",
      "metadata": {
        "id": "uARz4b3lDdVF"
      },
      "source": [
        " Менять число партиций можно, все как с rdd"
      ]
    },
    {
      "cell_type": "code",
      "execution_count": null,
      "metadata": {
        "id": "76UNLPKHDosI"
      },
      "outputs": [],
      "source": [
        "df = df.repartition(5)"
      ]
    },
    {
      "cell_type": "code",
      "execution_count": null,
      "metadata": {
        "colab": {
          "base_uri": "https://localhost:8080/"
        },
        "id": "JdVfa-ODDtXz",
        "outputId": "19604004-17f1-4a03-cbeb-592f4fcb1670"
      },
      "outputs": [
        {
          "output_type": "execute_result",
          "data": {
            "text/plain": [
              "5"
            ]
          },
          "metadata": {},
          "execution_count": 43
        }
      ],
      "source": [
        "df.rdd.getNumPartitions()"
      ]
    },
    {
      "cell_type": "code",
      "execution_count": null,
      "metadata": {
        "id": "sIDPMK-qDv7p"
      },
      "outputs": [],
      "source": [
        "df = df.coalesce(2)"
      ]
    },
    {
      "cell_type": "code",
      "execution_count": null,
      "metadata": {
        "colab": {
          "base_uri": "https://localhost:8080/"
        },
        "id": "hsG5g_aLDyPg",
        "outputId": "de8a49e9-67ff-4545-d077-5d6fd3bf9626"
      },
      "outputs": [
        {
          "output_type": "execute_result",
          "data": {
            "text/plain": [
              "2"
            ]
          },
          "metadata": {},
          "execution_count": 45
        }
      ],
      "source": [
        "df.rdd.getNumPartitions()"
      ]
    },
    {
      "cell_type": "markdown",
      "metadata": {
        "id": "R30yappBElPl"
      },
      "source": [
        "**Различные методы**"
      ]
    },
    {
      "cell_type": "markdown",
      "metadata": {
        "id": "KTysHYCwEMQb"
      },
      "source": [
        "Ну теперь давайте тыкать"
      ]
    },
    {
      "cell_type": "markdown",
      "metadata": {
        "id": "O-t0HREvEuXf"
      },
      "source": [
        "Удаляем дубликаты и помним, что есть actions и transformations, count заставит все сделать"
      ]
    },
    {
      "cell_type": "code",
      "execution_count": null,
      "metadata": {
        "id": "grCgDf3XEJAG"
      },
      "outputs": [],
      "source": [
        "df_without_duplicates = df.drop_duplicates()"
      ]
    },
    {
      "cell_type": "markdown",
      "metadata": {
        "id": "WFX2rl8lFFNg"
      },
      "source": [
        "Есть alias"
      ]
    },
    {
      "cell_type": "code",
      "execution_count": null,
      "metadata": {
        "id": "0hXkMPVWFD0D"
      },
      "outputs": [],
      "source": [
        "df_without_duplicates = df.dropDuplicates()"
      ]
    },
    {
      "cell_type": "markdown",
      "metadata": {
        "id": "KdTTlyDXFVgV"
      },
      "source": [
        "Как удалить дубликаты по отдельным колонкам?"
      ]
    },
    {
      "cell_type": "code",
      "execution_count": null,
      "metadata": {
        "id": "2WSm1GHBFK1Y"
      },
      "outputs": [],
      "source": [
        "df_without_duplicates = df.drop_duplicates(['userID', 'rating'])"
      ]
    },
    {
      "cell_type": "code",
      "execution_count": null,
      "metadata": {
        "colab": {
          "base_uri": "https://localhost:8080/"
        },
        "id": "2UDcQusBF0MU",
        "outputId": "d8b2cf59-57b1-41cd-b579-c250bda6f53e"
      },
      "outputs": [
        {
          "output_type": "execute_result",
          "data": {
            "text/plain": [
              "18847"
            ]
          },
          "metadata": {},
          "execution_count": 49
        }
      ],
      "source": [
        "df_without_duplicates.count()"
      ]
    },
    {
      "cell_type": "code",
      "execution_count": null,
      "metadata": {
        "colab": {
          "base_uri": "https://localhost:8080/"
        },
        "id": "Uu6IuhVlGAJ8",
        "outputId": "cee2d56e-c7f8-4d65-a0fe-d15f4a4f8558"
      },
      "outputs": [
        {
          "output_type": "stream",
          "name": "stdout",
          "text": [
            "+------+-------+------+--------+----------+---------+---------+-----------+-----------+\n",
            "|userID|movieID|rating|date_day|date_month|date_year|date_hour|date_minute|date_second|\n",
            "+------+-------+------+--------+----------+---------+---------+-----------+-----------+\n",
            "| 21712|    534|   5.0|      10|         1|     1999|       21|         32|         12|\n",
            "| 19519|   3408|   3.0|      21|         2|     2006|        1|         39|         13|\n",
            "|  1047|    608|   3.0|      10|         4|     2008|       10|         32|          0|\n",
            "| 28962|   1222|   4.0|      26|         5|     2005|       20|         19|          2|\n",
            "| 18718|   5481|   2.0|      17|         9|     2008|       17|         17|         12|\n",
            "|  4944|    924|   5.0|      18|         9|     2007|       22|         13|         38|\n",
            "| 16862|   8638|   4.5|      10|         2|     2006|        5|         10|          4|\n",
            "| 34145|   6365|   0.5|      21|         1|     2008|       22|         56|         24|\n",
            "| 26243|   2174|   5.0|      19|         3|     2006|        4|          6|         36|\n",
            "|  9475|   1073|   4.5|      14|         1|     2006|       19|         54|         38|\n",
            "+------+-------+------+--------+----------+---------+---------+-----------+-----------+\n",
            "only showing top 10 rows\n",
            "\n"
          ]
        }
      ],
      "source": [
        "df_without_duplicates.show(10)"
      ]
    },
    {
      "cell_type": "markdown",
      "metadata": {
        "id": "3xLCdjnxQf-k"
      },
      "source": [
        "Корреляции"
      ]
    },
    {
      "cell_type": "code",
      "execution_count": null,
      "metadata": {
        "colab": {
          "base_uri": "https://localhost:8080/"
        },
        "id": "_px4MeZ_QbWw",
        "outputId": "948474ce-5524-4bff-fee7-8866051fc273"
      },
      "outputs": [
        {
          "output_type": "execute_result",
          "data": {
            "text/plain": [
              "0.016638388440497292"
            ]
          },
          "metadata": {},
          "execution_count": 51
        }
      ],
      "source": [
        "df.corr('rating', 'date_day')"
      ]
    },
    {
      "cell_type": "code",
      "execution_count": null,
      "metadata": {
        "colab": {
          "base_uri": "https://localhost:8080/"
        },
        "id": "ojnd-9aoQp-z",
        "outputId": "d270b5f5-083c-4b93-8863-45c5d0280050"
      },
      "outputs": [
        {
          "output_type": "execute_result",
          "data": {
            "text/plain": [
              "-0.012518740192686182"
            ]
          },
          "metadata": {},
          "execution_count": 52
        }
      ],
      "source": [
        "df.corr('rating', 'date_hour')"
      ]
    },
    {
      "cell_type": "code",
      "execution_count": null,
      "metadata": {
        "colab": {
          "base_uri": "https://localhost:8080/"
        },
        "id": "u1yF8JE2QxCb",
        "outputId": "b708ac15-8178-45e1-e023-709ae1b64e7a"
      },
      "outputs": [
        {
          "output_type": "execute_result",
          "data": {
            "text/plain": [
              "-0.0021299262699660177"
            ]
          },
          "metadata": {},
          "execution_count": 53
        }
      ],
      "source": [
        "df.corr('rating', 'date_year')"
      ]
    },
    {
      "cell_type": "markdown",
      "metadata": {
        "id": "_EuaTuZHwbKI"
      },
      "source": [
        "Как закинуть данные в любимый pandas?"
      ]
    },
    {
      "cell_type": "markdown",
      "metadata": {
        "id": "sYMdZ4UIwius"
      },
      "source": [
        " Самый простой вариант - встроенный метод, но он жутко медленный при существенном объеме данных. Лучше сохранить паркет и считать через pd.read_parquet()"
      ]
    },
    {
      "cell_type": "code",
      "execution_count": null,
      "metadata": {
        "id": "U2K09OLKzoI1"
      },
      "outputs": [],
      "source": [
        "import pandas as pd"
      ]
    },
    {
      "cell_type": "code",
      "execution_count": null,
      "metadata": {
        "id": "koXxQVt_wh82"
      },
      "outputs": [],
      "source": [
        "%%timeit\n",
        "\n",
        "pandas_df = df.toPandas()"
      ]
    },
    {
      "cell_type": "code",
      "execution_count": null,
      "metadata": {
        "id": "N4IMwKC1wsvH"
      },
      "outputs": [],
      "source": [
        "pandas_df = df.toPandas()\n",
        "pandas_df"
      ]
    },
    {
      "cell_type": "code",
      "execution_count": null,
      "metadata": {
        "id": "tMyqh1n6yFln"
      },
      "outputs": [],
      "source": [
        "pandas_df.info()"
      ]
    },
    {
      "cell_type": "code",
      "execution_count": null,
      "metadata": {
        "id": "X8g1GiYba-IY"
      },
      "outputs": [],
      "source": [
        "%%timeit\n",
        "\n",
        "pandas_df = pd.read_parquet('write_1.parquet')"
      ]
    },
    {
      "cell_type": "code",
      "execution_count": null,
      "metadata": {
        "id": "e1VKNEWnbGAR"
      },
      "outputs": [],
      "source": [
        "pandas_df = pd.read_parquet('write_1.parquet')\n",
        "pandas_df"
      ]
    },
    {
      "cell_type": "code",
      "execution_count": null,
      "metadata": {
        "id": "UafReEE9x-pV"
      },
      "outputs": [],
      "source": [
        "pandas_df.info()"
      ]
    },
    {
      "cell_type": "markdown",
      "metadata": {
        "id": "GGsLsipKxqQx"
      },
      "source": [
        "Как говорили на лекции, может все упасть например тут (когда делаем toPandas). Как перейти к итератору?\n",
        "\n",
        "prefetchPartitions - подготавливать ли следующую партию данных, пока не запросили"
      ]
    },
    {
      "cell_type": "code",
      "execution_count": null,
      "metadata": {
        "id": "ys7zOtU2xx99"
      },
      "outputs": [],
      "source": [
        "iter_df = df.toLocalIterator()"
      ]
    },
    {
      "cell_type": "code",
      "execution_count": null,
      "metadata": {
        "id": "zBjM9GcryjUQ"
      },
      "outputs": [],
      "source": [
        "row = iter_df.send(None)"
      ]
    },
    {
      "cell_type": "code",
      "execution_count": null,
      "metadata": {
        "colab": {
          "base_uri": "https://localhost:8080/"
        },
        "id": "7IxLtM7YzLC3",
        "outputId": "ef4e9f53-f405-4d71-9f4a-a9b00e72ae54"
      },
      "outputs": [
        {
          "output_type": "execute_result",
          "data": {
            "text/plain": [
              "Row(userID=38914, movieID=1732, rating=4.0, date_day=8, date_month=2, date_year=2008, date_hour=11, date_minute=36, date_second=1)"
            ]
          },
          "metadata": {},
          "execution_count": 57
        }
      ],
      "source": [
        "row"
      ]
    },
    {
      "cell_type": "code",
      "execution_count": null,
      "metadata": {
        "colab": {
          "base_uri": "https://localhost:8080/"
        },
        "id": "Kdzog3jYv-nT",
        "outputId": "72d6a76c-e549-408e-b380-71137dd9bdfd"
      },
      "outputs": [
        {
          "output_type": "execute_result",
          "data": {
            "text/plain": [
              "{'userID': 38914,\n",
              " 'movieID': 1732,\n",
              " 'rating': 4.0,\n",
              " 'date_day': 8,\n",
              " 'date_month': 2,\n",
              " 'date_year': 2008,\n",
              " 'date_hour': 11,\n",
              " 'date_minute': 36,\n",
              " 'date_second': 1}"
            ]
          },
          "metadata": {},
          "execution_count": 58
        }
      ],
      "source": [
        "row.asDict()"
      ]
    },
    {
      "cell_type": "markdown",
      "metadata": {
        "id": "OLMHUi8ozQl5"
      },
      "source": [
        "Отсюда идея: можно вытягивать данные по 1 записи и записывать в датафрейм. Долго, но зато отработает."
      ]
    },
    {
      "cell_type": "code",
      "execution_count": null,
      "metadata": {
        "id": "aNvszzqvzhON"
      },
      "outputs": [],
      "source": [
        "iter_df = df.toLocalIterator()"
      ]
    },
    {
      "cell_type": "code",
      "execution_count": null,
      "metadata": {
        "colab": {
          "base_uri": "https://localhost:8080/"
        },
        "id": "ogfT_1dv0FbK",
        "outputId": "414407e1-1422-42d2-f2f4-713a00a78086"
      },
      "outputs": [
        {
          "output_type": "stream",
          "name": "stdout",
          "text": [
            "855598\n"
          ]
        }
      ],
      "source": [
        "list_of_rows = [value for value in iter_df]\n",
        "print(len(list_of_rows))"
      ]
    },
    {
      "cell_type": "code",
      "execution_count": null,
      "metadata": {
        "colab": {
          "base_uri": "https://localhost:8080/"
        },
        "id": "Tg3u4mWo0m2x",
        "outputId": "aea0c57e-c3cd-4539-cd76-4d74a5f2fbf4"
      },
      "outputs": [
        {
          "output_type": "execute_result",
          "data": {
            "text/plain": [
              "['userID',\n",
              " 'movieID',\n",
              " 'rating',\n",
              " 'date_day',\n",
              " 'date_month',\n",
              " 'date_year',\n",
              " 'date_hour',\n",
              " 'date_minute',\n",
              " 'date_second']"
            ]
          },
          "metadata": {},
          "execution_count": 61
        }
      ],
      "source": [
        "df.columns"
      ]
    },
    {
      "cell_type": "code",
      "execution_count": null,
      "metadata": {
        "id": "ehao9C3m0bSf"
      },
      "outputs": [],
      "source": [
        "pandas_df = pd.DataFrame(list_of_rows, columns=df.columns)"
      ]
    },
    {
      "cell_type": "code",
      "execution_count": null,
      "metadata": {
        "colab": {
          "base_uri": "https://localhost:8080/"
        },
        "id": "aIEDYahwb9_E",
        "outputId": "83f11da5-0895-4ef1-c998-2eb687fcb633"
      },
      "outputs": [
        {
          "output_type": "stream",
          "name": "stdout",
          "text": [
            "7.97 s ± 1.33 s per loop (mean ± std. dev. of 7 runs, 1 loop each)\n"
          ]
        }
      ],
      "source": [
        "%%timeit\n",
        "\n",
        "iter_df = df.toLocalIterator()\n",
        "list_of_rows = [value for value in iter_df]\n",
        "pandas_df = pd.DataFrame(list_of_rows, columns=df.columns)"
      ]
    },
    {
      "cell_type": "code",
      "execution_count": null,
      "metadata": {
        "colab": {
          "base_uri": "https://localhost:8080/",
          "height": 411
        },
        "id": "KKr_PXmO0hK1",
        "outputId": "2837daaa-173d-453c-fd23-7e6d00b705b5"
      },
      "outputs": [
        {
          "output_type": "execute_result",
          "data": {
            "text/plain": [
              "        userID  movieID  rating  date_day  date_month  date_year  date_hour  \\\n",
              "0        38914     1732     4.0         8           2       2008         11   \n",
              "1         6393     2071     3.5         4           1       2006         21   \n",
              "2        32747    38061     4.0         5           4       2008         15   \n",
              "3         4352    30812     3.0         2           3       2006         22   \n",
              "4        37934    27674     3.5         8          10       2007         19   \n",
              "...        ...      ...     ...       ...         ...        ...        ...   \n",
              "855593   46641     4022     4.5         9           3       2008         13   \n",
              "855594   57835     1438     2.5         1           8       2006         22   \n",
              "855595   46441    45447     2.0        28           5       2006          2   \n",
              "855596   65403      915     4.0         6          11       2005          6   \n",
              "855597   41027     2700     3.0        15           8       2000         18   \n",
              "\n",
              "        date_minute  date_second  \n",
              "0                36            1  \n",
              "1                28           23  \n",
              "2                55           49  \n",
              "3                34           12  \n",
              "4                30           43  \n",
              "...             ...          ...  \n",
              "855593           12           56  \n",
              "855594           56           31  \n",
              "855595           14           16  \n",
              "855596           30           56  \n",
              "855597            4           57  \n",
              "\n",
              "[855598 rows x 9 columns]"
            ],
            "text/html": [
              "\n",
              "  <div id=\"df-9d726998-19ca-431d-8627-0df72ef77105\" class=\"colab-df-container\">\n",
              "    <div>\n",
              "<style scoped>\n",
              "    .dataframe tbody tr th:only-of-type {\n",
              "        vertical-align: middle;\n",
              "    }\n",
              "\n",
              "    .dataframe tbody tr th {\n",
              "        vertical-align: top;\n",
              "    }\n",
              "\n",
              "    .dataframe thead th {\n",
              "        text-align: right;\n",
              "    }\n",
              "</style>\n",
              "<table border=\"1\" class=\"dataframe\">\n",
              "  <thead>\n",
              "    <tr style=\"text-align: right;\">\n",
              "      <th></th>\n",
              "      <th>userID</th>\n",
              "      <th>movieID</th>\n",
              "      <th>rating</th>\n",
              "      <th>date_day</th>\n",
              "      <th>date_month</th>\n",
              "      <th>date_year</th>\n",
              "      <th>date_hour</th>\n",
              "      <th>date_minute</th>\n",
              "      <th>date_second</th>\n",
              "    </tr>\n",
              "  </thead>\n",
              "  <tbody>\n",
              "    <tr>\n",
              "      <th>0</th>\n",
              "      <td>38914</td>\n",
              "      <td>1732</td>\n",
              "      <td>4.0</td>\n",
              "      <td>8</td>\n",
              "      <td>2</td>\n",
              "      <td>2008</td>\n",
              "      <td>11</td>\n",
              "      <td>36</td>\n",
              "      <td>1</td>\n",
              "    </tr>\n",
              "    <tr>\n",
              "      <th>1</th>\n",
              "      <td>6393</td>\n",
              "      <td>2071</td>\n",
              "      <td>3.5</td>\n",
              "      <td>4</td>\n",
              "      <td>1</td>\n",
              "      <td>2006</td>\n",
              "      <td>21</td>\n",
              "      <td>28</td>\n",
              "      <td>23</td>\n",
              "    </tr>\n",
              "    <tr>\n",
              "      <th>2</th>\n",
              "      <td>32747</td>\n",
              "      <td>38061</td>\n",
              "      <td>4.0</td>\n",
              "      <td>5</td>\n",
              "      <td>4</td>\n",
              "      <td>2008</td>\n",
              "      <td>15</td>\n",
              "      <td>55</td>\n",
              "      <td>49</td>\n",
              "    </tr>\n",
              "    <tr>\n",
              "      <th>3</th>\n",
              "      <td>4352</td>\n",
              "      <td>30812</td>\n",
              "      <td>3.0</td>\n",
              "      <td>2</td>\n",
              "      <td>3</td>\n",
              "      <td>2006</td>\n",
              "      <td>22</td>\n",
              "      <td>34</td>\n",
              "      <td>12</td>\n",
              "    </tr>\n",
              "    <tr>\n",
              "      <th>4</th>\n",
              "      <td>37934</td>\n",
              "      <td>27674</td>\n",
              "      <td>3.5</td>\n",
              "      <td>8</td>\n",
              "      <td>10</td>\n",
              "      <td>2007</td>\n",
              "      <td>19</td>\n",
              "      <td>30</td>\n",
              "      <td>43</td>\n",
              "    </tr>\n",
              "    <tr>\n",
              "      <th>...</th>\n",
              "      <td>...</td>\n",
              "      <td>...</td>\n",
              "      <td>...</td>\n",
              "      <td>...</td>\n",
              "      <td>...</td>\n",
              "      <td>...</td>\n",
              "      <td>...</td>\n",
              "      <td>...</td>\n",
              "      <td>...</td>\n",
              "    </tr>\n",
              "    <tr>\n",
              "      <th>855593</th>\n",
              "      <td>46641</td>\n",
              "      <td>4022</td>\n",
              "      <td>4.5</td>\n",
              "      <td>9</td>\n",
              "      <td>3</td>\n",
              "      <td>2008</td>\n",
              "      <td>13</td>\n",
              "      <td>12</td>\n",
              "      <td>56</td>\n",
              "    </tr>\n",
              "    <tr>\n",
              "      <th>855594</th>\n",
              "      <td>57835</td>\n",
              "      <td>1438</td>\n",
              "      <td>2.5</td>\n",
              "      <td>1</td>\n",
              "      <td>8</td>\n",
              "      <td>2006</td>\n",
              "      <td>22</td>\n",
              "      <td>56</td>\n",
              "      <td>31</td>\n",
              "    </tr>\n",
              "    <tr>\n",
              "      <th>855595</th>\n",
              "      <td>46441</td>\n",
              "      <td>45447</td>\n",
              "      <td>2.0</td>\n",
              "      <td>28</td>\n",
              "      <td>5</td>\n",
              "      <td>2006</td>\n",
              "      <td>2</td>\n",
              "      <td>14</td>\n",
              "      <td>16</td>\n",
              "    </tr>\n",
              "    <tr>\n",
              "      <th>855596</th>\n",
              "      <td>65403</td>\n",
              "      <td>915</td>\n",
              "      <td>4.0</td>\n",
              "      <td>6</td>\n",
              "      <td>11</td>\n",
              "      <td>2005</td>\n",
              "      <td>6</td>\n",
              "      <td>30</td>\n",
              "      <td>56</td>\n",
              "    </tr>\n",
              "    <tr>\n",
              "      <th>855597</th>\n",
              "      <td>41027</td>\n",
              "      <td>2700</td>\n",
              "      <td>3.0</td>\n",
              "      <td>15</td>\n",
              "      <td>8</td>\n",
              "      <td>2000</td>\n",
              "      <td>18</td>\n",
              "      <td>4</td>\n",
              "      <td>57</td>\n",
              "    </tr>\n",
              "  </tbody>\n",
              "</table>\n",
              "<p>855598 rows × 9 columns</p>\n",
              "</div>\n",
              "    <div class=\"colab-df-buttons\">\n",
              "\n",
              "  <div class=\"colab-df-container\">\n",
              "    <button class=\"colab-df-convert\" onclick=\"convertToInteractive('df-9d726998-19ca-431d-8627-0df72ef77105')\"\n",
              "            title=\"Convert this dataframe to an interactive table.\"\n",
              "            style=\"display:none;\">\n",
              "\n",
              "  <svg xmlns=\"http://www.w3.org/2000/svg\" height=\"24px\" viewBox=\"0 -960 960 960\">\n",
              "    <path d=\"M120-120v-720h720v720H120Zm60-500h600v-160H180v160Zm220 220h160v-160H400v160Zm0 220h160v-160H400v160ZM180-400h160v-160H180v160Zm440 0h160v-160H620v160ZM180-180h160v-160H180v160Zm440 0h160v-160H620v160Z\"/>\n",
              "  </svg>\n",
              "    </button>\n",
              "\n",
              "  <style>\n",
              "    .colab-df-container {\n",
              "      display:flex;\n",
              "      gap: 12px;\n",
              "    }\n",
              "\n",
              "    .colab-df-convert {\n",
              "      background-color: #E8F0FE;\n",
              "      border: none;\n",
              "      border-radius: 50%;\n",
              "      cursor: pointer;\n",
              "      display: none;\n",
              "      fill: #1967D2;\n",
              "      height: 32px;\n",
              "      padding: 0 0 0 0;\n",
              "      width: 32px;\n",
              "    }\n",
              "\n",
              "    .colab-df-convert:hover {\n",
              "      background-color: #E2EBFA;\n",
              "      box-shadow: 0px 1px 2px rgba(60, 64, 67, 0.3), 0px 1px 3px 1px rgba(60, 64, 67, 0.15);\n",
              "      fill: #174EA6;\n",
              "    }\n",
              "\n",
              "    .colab-df-buttons div {\n",
              "      margin-bottom: 4px;\n",
              "    }\n",
              "\n",
              "    [theme=dark] .colab-df-convert {\n",
              "      background-color: #3B4455;\n",
              "      fill: #D2E3FC;\n",
              "    }\n",
              "\n",
              "    [theme=dark] .colab-df-convert:hover {\n",
              "      background-color: #434B5C;\n",
              "      box-shadow: 0px 1px 3px 1px rgba(0, 0, 0, 0.15);\n",
              "      filter: drop-shadow(0px 1px 2px rgba(0, 0, 0, 0.3));\n",
              "      fill: #FFFFFF;\n",
              "    }\n",
              "  </style>\n",
              "\n",
              "    <script>\n",
              "      const buttonEl =\n",
              "        document.querySelector('#df-9d726998-19ca-431d-8627-0df72ef77105 button.colab-df-convert');\n",
              "      buttonEl.style.display =\n",
              "        google.colab.kernel.accessAllowed ? 'block' : 'none';\n",
              "\n",
              "      async function convertToInteractive(key) {\n",
              "        const element = document.querySelector('#df-9d726998-19ca-431d-8627-0df72ef77105');\n",
              "        const dataTable =\n",
              "          await google.colab.kernel.invokeFunction('convertToInteractive',\n",
              "                                                    [key], {});\n",
              "        if (!dataTable) return;\n",
              "\n",
              "        const docLinkHtml = 'Like what you see? Visit the ' +\n",
              "          '<a target=\"_blank\" href=https://colab.research.google.com/notebooks/data_table.ipynb>data table notebook</a>'\n",
              "          + ' to learn more about interactive tables.';\n",
              "        element.innerHTML = '';\n",
              "        dataTable['output_type'] = 'display_data';\n",
              "        await google.colab.output.renderOutput(dataTable, element);\n",
              "        const docLink = document.createElement('div');\n",
              "        docLink.innerHTML = docLinkHtml;\n",
              "        element.appendChild(docLink);\n",
              "      }\n",
              "    </script>\n",
              "  </div>\n",
              "\n",
              "\n",
              "<div id=\"df-365bcba9-b3d8-4588-997e-62c1e78a02f0\">\n",
              "  <button class=\"colab-df-quickchart\" onclick=\"quickchart('df-365bcba9-b3d8-4588-997e-62c1e78a02f0')\"\n",
              "            title=\"Suggest charts\"\n",
              "            style=\"display:none;\">\n",
              "\n",
              "<svg xmlns=\"http://www.w3.org/2000/svg\" height=\"24px\"viewBox=\"0 0 24 24\"\n",
              "     width=\"24px\">\n",
              "    <g>\n",
              "        <path d=\"M19 3H5c-1.1 0-2 .9-2 2v14c0 1.1.9 2 2 2h14c1.1 0 2-.9 2-2V5c0-1.1-.9-2-2-2zM9 17H7v-7h2v7zm4 0h-2V7h2v10zm4 0h-2v-4h2v4z\"/>\n",
              "    </g>\n",
              "</svg>\n",
              "  </button>\n",
              "\n",
              "<style>\n",
              "  .colab-df-quickchart {\n",
              "      --bg-color: #E8F0FE;\n",
              "      --fill-color: #1967D2;\n",
              "      --hover-bg-color: #E2EBFA;\n",
              "      --hover-fill-color: #174EA6;\n",
              "      --disabled-fill-color: #AAA;\n",
              "      --disabled-bg-color: #DDD;\n",
              "  }\n",
              "\n",
              "  [theme=dark] .colab-df-quickchart {\n",
              "      --bg-color: #3B4455;\n",
              "      --fill-color: #D2E3FC;\n",
              "      --hover-bg-color: #434B5C;\n",
              "      --hover-fill-color: #FFFFFF;\n",
              "      --disabled-bg-color: #3B4455;\n",
              "      --disabled-fill-color: #666;\n",
              "  }\n",
              "\n",
              "  .colab-df-quickchart {\n",
              "    background-color: var(--bg-color);\n",
              "    border: none;\n",
              "    border-radius: 50%;\n",
              "    cursor: pointer;\n",
              "    display: none;\n",
              "    fill: var(--fill-color);\n",
              "    height: 32px;\n",
              "    padding: 0;\n",
              "    width: 32px;\n",
              "  }\n",
              "\n",
              "  .colab-df-quickchart:hover {\n",
              "    background-color: var(--hover-bg-color);\n",
              "    box-shadow: 0 1px 2px rgba(60, 64, 67, 0.3), 0 1px 3px 1px rgba(60, 64, 67, 0.15);\n",
              "    fill: var(--button-hover-fill-color);\n",
              "  }\n",
              "\n",
              "  .colab-df-quickchart-complete:disabled,\n",
              "  .colab-df-quickchart-complete:disabled:hover {\n",
              "    background-color: var(--disabled-bg-color);\n",
              "    fill: var(--disabled-fill-color);\n",
              "    box-shadow: none;\n",
              "  }\n",
              "\n",
              "  .colab-df-spinner {\n",
              "    border: 2px solid var(--fill-color);\n",
              "    border-color: transparent;\n",
              "    border-bottom-color: var(--fill-color);\n",
              "    animation:\n",
              "      spin 1s steps(1) infinite;\n",
              "  }\n",
              "\n",
              "  @keyframes spin {\n",
              "    0% {\n",
              "      border-color: transparent;\n",
              "      border-bottom-color: var(--fill-color);\n",
              "      border-left-color: var(--fill-color);\n",
              "    }\n",
              "    20% {\n",
              "      border-color: transparent;\n",
              "      border-left-color: var(--fill-color);\n",
              "      border-top-color: var(--fill-color);\n",
              "    }\n",
              "    30% {\n",
              "      border-color: transparent;\n",
              "      border-left-color: var(--fill-color);\n",
              "      border-top-color: var(--fill-color);\n",
              "      border-right-color: var(--fill-color);\n",
              "    }\n",
              "    40% {\n",
              "      border-color: transparent;\n",
              "      border-right-color: var(--fill-color);\n",
              "      border-top-color: var(--fill-color);\n",
              "    }\n",
              "    60% {\n",
              "      border-color: transparent;\n",
              "      border-right-color: var(--fill-color);\n",
              "    }\n",
              "    80% {\n",
              "      border-color: transparent;\n",
              "      border-right-color: var(--fill-color);\n",
              "      border-bottom-color: var(--fill-color);\n",
              "    }\n",
              "    90% {\n",
              "      border-color: transparent;\n",
              "      border-bottom-color: var(--fill-color);\n",
              "    }\n",
              "  }\n",
              "</style>\n",
              "\n",
              "  <script>\n",
              "    async function quickchart(key) {\n",
              "      const quickchartButtonEl =\n",
              "        document.querySelector('#' + key + ' button');\n",
              "      quickchartButtonEl.disabled = true;  // To prevent multiple clicks.\n",
              "      quickchartButtonEl.classList.add('colab-df-spinner');\n",
              "      try {\n",
              "        const charts = await google.colab.kernel.invokeFunction(\n",
              "            'suggestCharts', [key], {});\n",
              "      } catch (error) {\n",
              "        console.error('Error during call to suggestCharts:', error);\n",
              "      }\n",
              "      quickchartButtonEl.classList.remove('colab-df-spinner');\n",
              "      quickchartButtonEl.classList.add('colab-df-quickchart-complete');\n",
              "    }\n",
              "    (() => {\n",
              "      let quickchartButtonEl =\n",
              "        document.querySelector('#df-365bcba9-b3d8-4588-997e-62c1e78a02f0 button');\n",
              "      quickchartButtonEl.style.display =\n",
              "        google.colab.kernel.accessAllowed ? 'block' : 'none';\n",
              "    })();\n",
              "  </script>\n",
              "</div>\n",
              "    </div>\n",
              "  </div>\n"
            ],
            "application/vnd.google.colaboratory.intrinsic+json": {
              "type": "dataframe",
              "variable_name": "pandas_df"
            }
          },
          "metadata": {},
          "execution_count": 69
        }
      ],
      "source": [
        "pandas_df"
      ]
    },
    {
      "cell_type": "code",
      "execution_count": null,
      "metadata": {
        "colab": {
          "base_uri": "https://localhost:8080/"
        },
        "id": "1jHiwbiZx7Ks",
        "outputId": "12fa4896-4a22-4e56-a8af-22559da90ab5"
      },
      "outputs": [
        {
          "output_type": "stream",
          "name": "stdout",
          "text": [
            "<class 'pandas.core.frame.DataFrame'>\n",
            "RangeIndex: 855598 entries, 0 to 855597\n",
            "Data columns (total 9 columns):\n",
            " #   Column       Non-Null Count   Dtype  \n",
            "---  ------       --------------   -----  \n",
            " 0   userID       855598 non-null  int64  \n",
            " 1   movieID      855598 non-null  int64  \n",
            " 2   rating       855598 non-null  float64\n",
            " 3   date_day     855598 non-null  int64  \n",
            " 4   date_month   855598 non-null  int64  \n",
            " 5   date_year    855598 non-null  int64  \n",
            " 6   date_hour    855598 non-null  int64  \n",
            " 7   date_minute  855598 non-null  int64  \n",
            " 8   date_second  855598 non-null  int64  \n",
            "dtypes: float64(1), int64(8)\n",
            "memory usage: 58.7 MB\n"
          ]
        }
      ],
      "source": [
        "pandas_df.info()"
      ]
    },
    {
      "cell_type": "markdown",
      "metadata": {
        "id": "tyNzrNDW3FI4"
      },
      "source": [
        "**Show**"
      ]
    },
    {
      "cell_type": "code",
      "execution_count": null,
      "metadata": {
        "colab": {
          "base_uri": "https://localhost:8080/"
        },
        "id": "vYNJKbQJ2up1",
        "outputId": "a654d397-5cc6-4f48-f063-17283705379e"
      },
      "outputs": [
        {
          "output_type": "stream",
          "name": "stdout",
          "text": [
            "+------+-------+------+--------+----------+---------+---------+-----------+-----------+\n",
            "|userID|movieID|rating|date_day|date_month|date_year|date_hour|date_minute|date_second|\n",
            "+------+-------+------+--------+----------+---------+---------+-----------+-----------+\n",
            "| 38914|   1732|   4.0|       8|         2|     2008|       11|         36|          1|\n",
            "|  6393|   2071|   3.5|       4|         1|     2006|       21|         28|         23|\n",
            "| 32747|  38061|   4.0|       5|         4|     2008|       15|         55|         49|\n",
            "|  4352|  30812|   3.0|       2|         3|     2006|       22|         34|         12|\n",
            "| 37934|  27674|   3.5|       8|        10|     2007|       19|         30|         43|\n",
            "| 30840|  34148|   3.5|       6|        10|     2005|        1|         38|         58|\n",
            "|  5954|   4007|   4.0|       8|         1|     2006|       22|          5|          2|\n",
            "| 26243|    223|   3.0|      19|         3|     2006|        4|          4|         30|\n",
            "|  3600|   3552|   3.5|      13|        11|     2006|        3|         55|         20|\n",
            "| 15311|   1411|   3.0|      22|        12|     2007|       22|         42|          4|\n",
            "+------+-------+------+--------+----------+---------+---------+-----------+-----------+\n",
            "only showing top 10 rows\n",
            "\n"
          ]
        }
      ],
      "source": [
        "df.show(10)"
      ]
    },
    {
      "cell_type": "markdown",
      "metadata": {
        "id": "-ymp1StL3aFi"
      },
      "source": [
        "Обрезаем до 2 символов"
      ]
    },
    {
      "cell_type": "code",
      "execution_count": null,
      "metadata": {
        "colab": {
          "base_uri": "https://localhost:8080/"
        },
        "id": "ZFXsxrXH3NQS",
        "outputId": "771ab990-4e47-4145-fa0c-f2e341c36b4c"
      },
      "outputs": [
        {
          "output_type": "stream",
          "name": "stdout",
          "text": [
            "+------+-------+------+--------+----------+---------+---------+-----------+-----------+\n",
            "|userID|movieID|rating|date_day|date_month|date_year|date_hour|date_minute|date_second|\n",
            "+------+-------+------+--------+----------+---------+---------+-----------+-----------+\n",
            "|    38|     17|    4.|       8|         2|       20|       11|         36|          1|\n",
            "|    63|     20|    3.|       4|         1|       20|       21|         28|         23|\n",
            "|    32|     38|    4.|       5|         4|       20|       15|         55|         49|\n",
            "|    43|     30|    3.|       2|         3|       20|       22|         34|         12|\n",
            "|    37|     27|    3.|       8|        10|       20|       19|         30|         43|\n",
            "|    30|     34|    3.|       6|        10|       20|        1|         38|         58|\n",
            "|    59|     40|    4.|       8|         1|       20|       22|          5|          2|\n",
            "|    26|     22|    3.|      19|         3|       20|        4|          4|         30|\n",
            "|    36|     35|    3.|      13|        11|       20|        3|         55|         20|\n",
            "|    15|     14|    3.|      22|        12|       20|       22|         42|          4|\n",
            "+------+-------+------+--------+----------+---------+---------+-----------+-----------+\n",
            "only showing top 10 rows\n",
            "\n"
          ]
        }
      ],
      "source": [
        "df.show(10, truncate=2)"
      ]
    },
    {
      "cell_type": "markdown",
      "metadata": {
        "id": "oMoppJfS3klG"
      },
      "source": [
        "вертикальное отображение"
      ]
    },
    {
      "cell_type": "code",
      "execution_count": null,
      "metadata": {
        "colab": {
          "base_uri": "https://localhost:8080/"
        },
        "id": "LCuKzAS83dM4",
        "outputId": "1443d048-87e2-4962-b360-83b281131039"
      },
      "outputs": [
        {
          "output_type": "stream",
          "name": "stdout",
          "text": [
            "-RECORD 0------------\n",
            " userID      | 38914 \n",
            " movieID     | 1732  \n",
            " rating      | 4.0   \n",
            " date_day    | 8     \n",
            " date_month  | 2     \n",
            " date_year   | 2008  \n",
            " date_hour   | 11    \n",
            " date_minute | 36    \n",
            " date_second | 1     \n",
            "-RECORD 1------------\n",
            " userID      | 6393  \n",
            " movieID     | 2071  \n",
            " rating      | 3.5   \n",
            " date_day    | 4     \n",
            " date_month  | 1     \n",
            " date_year   | 2006  \n",
            " date_hour   | 21    \n",
            " date_minute | 28    \n",
            " date_second | 23    \n",
            "-RECORD 2------------\n",
            " userID      | 32747 \n",
            " movieID     | 38061 \n",
            " rating      | 4.0   \n",
            " date_day    | 5     \n",
            " date_month  | 4     \n",
            " date_year   | 2008  \n",
            " date_hour   | 15    \n",
            " date_minute | 55    \n",
            " date_second | 49    \n",
            "-RECORD 3------------\n",
            " userID      | 4352  \n",
            " movieID     | 30812 \n",
            " rating      | 3.0   \n",
            " date_day    | 2     \n",
            " date_month  | 3     \n",
            " date_year   | 2006  \n",
            " date_hour   | 22    \n",
            " date_minute | 34    \n",
            " date_second | 12    \n",
            "-RECORD 4------------\n",
            " userID      | 37934 \n",
            " movieID     | 27674 \n",
            " rating      | 3.5   \n",
            " date_day    | 8     \n",
            " date_month  | 10    \n",
            " date_year   | 2007  \n",
            " date_hour   | 19    \n",
            " date_minute | 30    \n",
            " date_second | 43    \n",
            "-RECORD 5------------\n",
            " userID      | 30840 \n",
            " movieID     | 34148 \n",
            " rating      | 3.5   \n",
            " date_day    | 6     \n",
            " date_month  | 10    \n",
            " date_year   | 2005  \n",
            " date_hour   | 1     \n",
            " date_minute | 38    \n",
            " date_second | 58    \n",
            "-RECORD 6------------\n",
            " userID      | 5954  \n",
            " movieID     | 4007  \n",
            " rating      | 4.0   \n",
            " date_day    | 8     \n",
            " date_month  | 1     \n",
            " date_year   | 2006  \n",
            " date_hour   | 22    \n",
            " date_minute | 5     \n",
            " date_second | 2     \n",
            "-RECORD 7------------\n",
            " userID      | 26243 \n",
            " movieID     | 223   \n",
            " rating      | 3.0   \n",
            " date_day    | 19    \n",
            " date_month  | 3     \n",
            " date_year   | 2006  \n",
            " date_hour   | 4     \n",
            " date_minute | 4     \n",
            " date_second | 30    \n",
            "-RECORD 8------------\n",
            " userID      | 3600  \n",
            " movieID     | 3552  \n",
            " rating      | 3.5   \n",
            " date_day    | 13    \n",
            " date_month  | 11    \n",
            " date_year   | 2006  \n",
            " date_hour   | 3     \n",
            " date_minute | 55    \n",
            " date_second | 20    \n",
            "-RECORD 9------------\n",
            " userID      | 15311 \n",
            " movieID     | 1411  \n",
            " rating      | 3.0   \n",
            " date_day    | 22    \n",
            " date_month  | 12    \n",
            " date_year   | 2007  \n",
            " date_hour   | 22    \n",
            " date_minute | 42    \n",
            " date_second | 4     \n",
            "only showing top 10 rows\n",
            "\n"
          ]
        }
      ],
      "source": [
        "df.show(10, vertical=True)"
      ]
    },
    {
      "cell_type": "markdown",
      "metadata": {
        "id": "oVFKxBsuFU5i"
      },
      "source": [
        "**Select**\n",
        "\n",
        "В PySpark функция select() используется для выбора одного, нескольких столбцов по индексу, всех столбцов из списка и вложенных столбцов из фрейма данных. Функция PySpark select() является функцией преобразования, поэтому она возвращает новый фрейм данных с выбранными столбцами."
      ]
    },
    {
      "cell_type": "code",
      "execution_count": null,
      "metadata": {
        "colab": {
          "base_uri": "https://localhost:8080/"
        },
        "id": "dliaTxGxFnzr",
        "outputId": "b0375733-3788-4183-9c3a-002e72970dd0"
      },
      "outputs": [
        {
          "output_type": "execute_result",
          "data": {
            "text/plain": [
              "['userID',\n",
              " 'movieID',\n",
              " 'rating',\n",
              " 'date_day',\n",
              " 'date_month',\n",
              " 'date_year',\n",
              " 'date_hour',\n",
              " 'date_minute',\n",
              " 'date_second']"
            ]
          },
          "metadata": {},
          "execution_count": 67
        }
      ],
      "source": [
        "df.columns"
      ]
    },
    {
      "cell_type": "markdown",
      "metadata": {
        "id": "cInhSbcBGtKn"
      },
      "source": [
        "Упс, pandas-style тут не приветствуется"
      ]
    },
    {
      "cell_type": "code",
      "execution_count": null,
      "metadata": {
        "colab": {
          "base_uri": "https://localhost:8080/",
          "height": 135
        },
        "id": "Ms8Gqj0WGpOJ",
        "outputId": "5fe766ac-d5bd-408b-85d9-3aaf31a92f94"
      },
      "outputs": [
        {
          "output_type": "error",
          "ename": "TypeError",
          "evalue": "'Column' object is not callable",
          "traceback": [
            "\u001b[0;31m---------------------------------------------------------------------------\u001b[0m",
            "\u001b[0;31mTypeError\u001b[0m                                 Traceback (most recent call last)",
            "\u001b[0;32m<ipython-input-71-d5f811668e14>\u001b[0m in \u001b[0;36m<cell line: 1>\u001b[0;34m()\u001b[0m\n\u001b[0;32m----> 1\u001b[0;31m \u001b[0mdf\u001b[0m\u001b[0;34m.\u001b[0m\u001b[0muserID\u001b[0m\u001b[0;34m.\u001b[0m\u001b[0mshow\u001b[0m\u001b[0;34m(\u001b[0m\u001b[0;36m5\u001b[0m\u001b[0;34m)\u001b[0m\u001b[0;34m\u001b[0m\u001b[0;34m\u001b[0m\u001b[0m\n\u001b[0m",
            "\u001b[0;31mTypeError\u001b[0m: 'Column' object is not callable"
          ]
        }
      ],
      "source": [
        "df.userID.show(5)"
      ]
    },
    {
      "cell_type": "code",
      "execution_count": null,
      "metadata": {
        "colab": {
          "base_uri": "https://localhost:8080/"
        },
        "id": "rSF9GuB6Fwv7",
        "outputId": "b89fab17-10d8-4eda-c081-99c28605e7a8"
      },
      "outputs": [
        {
          "output_type": "stream",
          "name": "stdout",
          "text": [
            "+------+\n",
            "|userID|\n",
            "+------+\n",
            "| 16592|\n",
            "| 16592|\n",
            "| 16592|\n",
            "| 16592|\n",
            "| 16592|\n",
            "+------+\n",
            "only showing top 5 rows\n",
            "\n"
          ]
        }
      ],
      "source": [
        "df.select('userID').show(5)"
      ]
    },
    {
      "cell_type": "markdown",
      "metadata": {
        "id": "b8s0NRdtGHcZ"
      },
      "source": [
        "Куча вариантов, выбирайте любой"
      ]
    },
    {
      "cell_type": "code",
      "execution_count": null,
      "metadata": {
        "colab": {
          "base_uri": "https://localhost:8080/"
        },
        "id": "8sUEL7yHF4mA",
        "outputId": "c60851e4-830c-46fd-fb6b-a3fc78ae6ff4"
      },
      "outputs": [
        {
          "output_type": "stream",
          "name": "stdout",
          "text": [
            "+------+------+\n",
            "|userID|rating|\n",
            "+------+------+\n",
            "| 13216|   4.5|\n",
            "| 13216|   4.5|\n",
            "| 13216|   4.5|\n",
            "| 13216|   4.5|\n",
            "| 13216|   4.5|\n",
            "+------+------+\n",
            "only showing top 5 rows\n",
            "\n"
          ]
        }
      ],
      "source": [
        "df.select('userID', 'rating').show(5)"
      ]
    },
    {
      "cell_type": "code",
      "execution_count": null,
      "metadata": {
        "colab": {
          "base_uri": "https://localhost:8080/"
        },
        "id": "KynOoDxUF-DU",
        "outputId": "89b60562-bbf3-4209-f7d5-b1778e4a0b23"
      },
      "outputs": [
        {
          "output_type": "stream",
          "name": "stdout",
          "text": [
            "+------+------+\n",
            "|userID|rating|\n",
            "+------+------+\n",
            "| 13216|   4.5|\n",
            "| 13216|   4.5|\n",
            "| 13216|   4.5|\n",
            "| 13216|   4.5|\n",
            "| 13216|   4.5|\n",
            "+------+------+\n",
            "only showing top 5 rows\n",
            "\n"
          ]
        }
      ],
      "source": [
        "df.select(['userID', 'rating']).show(5)"
      ]
    },
    {
      "cell_type": "code",
      "execution_count": null,
      "metadata": {
        "colab": {
          "base_uri": "https://localhost:8080/"
        },
        "id": "AZrRyJPLGcHU",
        "outputId": "d29a052d-bcd3-4982-bc1f-19778a88a87f"
      },
      "outputs": [
        {
          "output_type": "stream",
          "name": "stdout",
          "text": [
            "+------+------+\n",
            "|userID|rating|\n",
            "+------+------+\n",
            "| 13216|   4.5|\n",
            "| 13216|   4.5|\n",
            "| 13216|   4.5|\n",
            "| 13216|   4.5|\n",
            "| 13216|   4.5|\n",
            "+------+------+\n",
            "only showing top 5 rows\n",
            "\n"
          ]
        }
      ],
      "source": [
        "df.select(df.userID,df.rating).show(5)"
      ]
    },
    {
      "cell_type": "code",
      "execution_count": null,
      "metadata": {
        "colab": {
          "base_uri": "https://localhost:8080/"
        },
        "id": "YNkrq1TUGwSb",
        "outputId": "3fcd474f-30f9-439a-f4fb-258db9825574"
      },
      "outputs": [
        {
          "output_type": "stream",
          "name": "stdout",
          "text": [
            "+------+------+\n",
            "|userID|rating|\n",
            "+------+------+\n",
            "| 13216|   4.5|\n",
            "| 13216|   4.5|\n",
            "| 13216|   4.5|\n",
            "| 13216|   4.5|\n",
            "| 13216|   4.5|\n",
            "+------+------+\n",
            "only showing top 5 rows\n",
            "\n"
          ]
        }
      ],
      "source": [
        "df.select(df['userID'],df['rating']).show(5)"
      ]
    },
    {
      "cell_type": "code",
      "execution_count": null,
      "metadata": {
        "colab": {
          "base_uri": "https://localhost:8080/"
        },
        "id": "La3Q3k01GZ3-",
        "outputId": "73cfbc66-c62c-4ef4-d502-d1fe8c672df4"
      },
      "outputs": [
        {
          "output_type": "stream",
          "name": "stdout",
          "text": [
            "+------+------+\n",
            "|userID|rating|\n",
            "+------+------+\n",
            "| 13216|   4.5|\n",
            "| 13216|   4.5|\n",
            "| 13216|   4.5|\n",
            "| 13216|   4.5|\n",
            "| 13216|   4.5|\n",
            "+------+------+\n",
            "only showing top 5 rows\n",
            "\n"
          ]
        }
      ],
      "source": [
        "df.select(F.col(\"userID\"), F.col(\"rating\")).show(5)"
      ]
    },
    {
      "cell_type": "markdown",
      "metadata": {
        "id": "2Pfledp7JxFo"
      },
      "source": [
        "можно налету переименовать столбец"
      ]
    },
    {
      "cell_type": "code",
      "execution_count": null,
      "metadata": {
        "colab": {
          "base_uri": "https://localhost:8080/"
        },
        "id": "23c1EFh0JgCm",
        "outputId": "071de2ec-4f56-4da2-a139-4fe9f6e6ece7"
      },
      "outputs": [
        {
          "output_type": "stream",
          "name": "stdout",
          "text": [
            "+------+----+\n",
            "|userID|mark|\n",
            "+------+----+\n",
            "| 13216| 4.5|\n",
            "| 13216| 4.5|\n",
            "| 13216| 4.5|\n",
            "| 13216| 4.5|\n",
            "| 13216| 4.5|\n",
            "+------+----+\n",
            "only showing top 5 rows\n",
            "\n"
          ]
        }
      ],
      "source": [
        "df.select(df.userID, df.rating.alias('mark')).show(5)"
      ]
    },
    {
      "cell_type": "code",
      "execution_count": null,
      "metadata": {
        "colab": {
          "base_uri": "https://localhost:8080/"
        },
        "id": "-15TG7h8G-7L",
        "outputId": "6154e4ff-cab5-42fb-d36a-677b7f8eba65"
      },
      "outputs": [
        {
          "output_type": "stream",
          "name": "stdout",
          "text": [
            "+--------+\n",
            "|date_day|\n",
            "+--------+\n",
            "|      19|\n",
            "|      19|\n",
            "|      19|\n",
            "|      19|\n",
            "|      19|\n",
            "+--------+\n",
            "only showing top 5 rows\n",
            "\n"
          ]
        }
      ],
      "source": [
        "#регулярки\n",
        "df.select(df.colRegex(\"`d+.*y`\")).show(5)"
      ]
    },
    {
      "cell_type": "markdown",
      "metadata": {
        "id": "6zRsPk3PItus"
      },
      "source": [
        "примеры с другим датафреймом, где структура сложнее"
      ]
    },
    {
      "cell_type": "code",
      "execution_count": null,
      "metadata": {
        "colab": {
          "base_uri": "https://localhost:8080/"
        },
        "id": "0-EHUbgMJATb",
        "outputId": "606fb11d-4b7f-4cda-be4c-f03ffcc38a85"
      },
      "outputs": [
        {
          "output_type": "stream",
          "name": "stdout",
          "text": [
            "root\n",
            " |-- name: struct (nullable = true)\n",
            " |    |-- firstname: string (nullable = true)\n",
            " |    |-- middlename: string (nullable = true)\n",
            " |    |-- lastname: string (nullable = true)\n",
            " |-- id: string (nullable = true)\n",
            " |-- gender: string (nullable = true)\n",
            " |-- salary: integer (nullable = true)\n",
            "\n",
            "+--------------------+-----+------+------+\n",
            "|name                |id   |gender|salary|\n",
            "+--------------------+-----+------+------+\n",
            "|{James, , Smith}    |36636|M     |3100  |\n",
            "|{Michael, Rose, }   |40288|M     |4300  |\n",
            "|{Robert, , Williams}|42114|M     |1400  |\n",
            "|{Maria, Anne, Jones}|39192|F     |5500  |\n",
            "|{Jen, Mary, Brown}  |     |F     |-1    |\n",
            "+--------------------+-----+------+------+\n",
            "\n"
          ]
        }
      ],
      "source": [
        "structureData = [\n",
        "    ((\"James\",\"\",\"Smith\"),\"36636\",\"M\",3100),\n",
        "    ((\"Michael\",\"Rose\",\"\"),\"40288\",\"M\",4300),\n",
        "    ((\"Robert\",\"\",\"Williams\"),\"42114\",\"M\",1400),\n",
        "    ((\"Maria\",\"Anne\",\"Jones\"),\"39192\",\"F\",5500),\n",
        "    ((\"Jen\",\"Mary\",\"Brown\"),\"\",\"F\",-1)\n",
        "  ]\n",
        "structureSchema = StructType([\n",
        "        StructField('name', StructType([\n",
        "             StructField('firstname', StringType(), True),\n",
        "             StructField('middlename', StringType(), True),\n",
        "             StructField('lastname', StringType(), True)\n",
        "             ])),\n",
        "         StructField('id', StringType(), True),\n",
        "         StructField('gender', StringType(), True),\n",
        "         StructField('salary', IntegerType(), True)\n",
        "         ])\n",
        "\n",
        "df2 = spark.createDataFrame(data=structureData,schema=structureSchema)\n",
        "df2.printSchema()\n",
        "df2.show(truncate=False)"
      ]
    },
    {
      "cell_type": "code",
      "execution_count": null,
      "metadata": {
        "colab": {
          "base_uri": "https://localhost:8080/"
        },
        "id": "dOKRrq3OJBub",
        "outputId": "5ae6fab3-e705-4875-da6f-78b81a754557"
      },
      "outputs": [
        {
          "output_type": "stream",
          "name": "stdout",
          "text": [
            "+--------------------+\n",
            "|                name|\n",
            "+--------------------+\n",
            "|    {James, , Smith}|\n",
            "|   {Michael, Rose, }|\n",
            "|{Robert, , Williams}|\n",
            "|{Maria, Anne, Jones}|\n",
            "|  {Jen, Mary, Brown}|\n",
            "+--------------------+\n",
            "\n"
          ]
        }
      ],
      "source": [
        "df2.select('name').show(5)"
      ]
    },
    {
      "cell_type": "code",
      "execution_count": null,
      "metadata": {
        "colab": {
          "base_uri": "https://localhost:8080/"
        },
        "id": "t7wWDSc0JGGH",
        "outputId": "9ea48a76-ee90-4c5b-c60d-10908c32c9db"
      },
      "outputs": [
        {
          "output_type": "stream",
          "name": "stdout",
          "text": [
            "+--------+\n",
            "|lastname|\n",
            "+--------+\n",
            "|   Smith|\n",
            "|        |\n",
            "|Williams|\n",
            "|   Jones|\n",
            "|   Brown|\n",
            "+--------+\n",
            "\n"
          ]
        }
      ],
      "source": [
        "df2.select('name.lastname').show(5)"
      ]
    },
    {
      "cell_type": "code",
      "execution_count": null,
      "metadata": {
        "colab": {
          "base_uri": "https://localhost:8080/"
        },
        "id": "RCtpj47VJLhf",
        "outputId": "8a9aa6f4-fea3-421b-e7ef-2f1d78c5cb04"
      },
      "outputs": [
        {
          "output_type": "stream",
          "name": "stdout",
          "text": [
            "+---------+--------+\n",
            "|firstname|lastname|\n",
            "+---------+--------+\n",
            "|    James|   Smith|\n",
            "|  Michael|        |\n",
            "|   Robert|Williams|\n",
            "|    Maria|   Jones|\n",
            "|      Jen|   Brown|\n",
            "+---------+--------+\n",
            "\n"
          ]
        }
      ],
      "source": [
        "df2.select('name.firstname', 'name.lastname').show(5)"
      ]
    },
    {
      "cell_type": "markdown",
      "metadata": {
        "id": "jnz1-TbQVWhF"
      },
      "source": [
        "**withColumn**\n",
        "\n",
        "PySpark withColumn() - это функция преобразования (transform), которая используется для изменения значения, преобразования типа данных существующего столбца, создания нового столбца и многого другого. Поговорим о часто используемых операциях со столбцами данных PySpark, используя примеры."
      ]
    },
    {
      "cell_type": "code",
      "execution_count": null,
      "metadata": {
        "colab": {
          "base_uri": "https://localhost:8080/"
        },
        "id": "gUhukrY0Y0Q2",
        "outputId": "7f87552d-ceca-4f3d-e969-54236f1db10a"
      },
      "outputs": [
        {
          "output_type": "stream",
          "name": "stdout",
          "text": [
            "root\n",
            " |-- userID: integer (nullable = true)\n",
            " |-- movieID: integer (nullable = true)\n",
            " |-- rating: double (nullable = true)\n",
            " |-- date_day: integer (nullable = true)\n",
            " |-- date_month: integer (nullable = true)\n",
            " |-- date_year: integer (nullable = true)\n",
            " |-- date_hour: integer (nullable = true)\n",
            " |-- date_minute: integer (nullable = true)\n",
            " |-- date_second: integer (nullable = true)\n",
            "\n"
          ]
        }
      ],
      "source": [
        "df.printSchema()"
      ]
    },
    {
      "cell_type": "markdown",
      "metadata": {
        "id": "c4biHC1yYv7w"
      },
      "source": [
        "Меняем тип данных"
      ]
    },
    {
      "cell_type": "code",
      "execution_count": null,
      "metadata": {
        "colab": {
          "base_uri": "https://localhost:8080/"
        },
        "id": "xGHnOBJ1YrGA",
        "outputId": "15d33797-5f14-4df5-b286-8b3356b52f0b"
      },
      "outputs": [
        {
          "output_type": "stream",
          "name": "stdout",
          "text": [
            "root\n",
            " |-- userID: integer (nullable = true)\n",
            " |-- movieID: integer (nullable = true)\n",
            " |-- rating: double (nullable = true)\n",
            " |-- date_day: integer (nullable = true)\n",
            " |-- date_month: string (nullable = true)\n",
            " |-- date_year: integer (nullable = true)\n",
            " |-- date_hour: integer (nullable = true)\n",
            " |-- date_minute: integer (nullable = true)\n",
            " |-- date_second: integer (nullable = true)\n",
            "\n"
          ]
        }
      ],
      "source": [
        "df.withColumn(\"date_month\", F.col(\"date_month\").cast(\"String\")).printSchema()"
      ]
    },
    {
      "cell_type": "markdown",
      "metadata": {
        "id": "dlM-ozjcZaJT"
      },
      "source": [
        "Модифицировать столбец/создать новый"
      ]
    },
    {
      "cell_type": "code",
      "execution_count": null,
      "metadata": {
        "colab": {
          "base_uri": "https://localhost:8080/"
        },
        "id": "6afdpcQrZMWX",
        "outputId": "6a9685d4-4756-4f46-eb63-e4589d0036aa"
      },
      "outputs": [
        {
          "output_type": "stream",
          "name": "stdout",
          "text": [
            "+------+-------+------+--------+----------+---------+---------+-----------+-----------+-----------+\n",
            "|userID|movieID|rating|date_day|date_month|date_year|date_hour|date_minute|date_second|rating_x_10|\n",
            "+------+-------+------+--------+----------+---------+---------+-----------+-----------+-----------+\n",
            "| 38914|   1732|   4.0|       8|         2|     2008|       11|         36|          1|       40.0|\n",
            "|  6393|   2071|   3.5|       4|         1|     2006|       21|         28|         23|       35.0|\n",
            "| 32747|  38061|   4.0|       5|         4|     2008|       15|         55|         49|       40.0|\n",
            "|  4352|  30812|   3.0|       2|         3|     2006|       22|         34|         12|       30.0|\n",
            "| 37934|  27674|   3.5|       8|        10|     2007|       19|         30|         43|       35.0|\n",
            "+------+-------+------+--------+----------+---------+---------+-----------+-----------+-----------+\n",
            "only showing top 5 rows\n",
            "\n"
          ]
        }
      ],
      "source": [
        "df.withColumn(\"rating_x_10\",F.col(\"rating\") * 10).show(5)"
      ]
    },
    {
      "cell_type": "markdown",
      "metadata": {
        "id": "jSFyjtL6Z_WT"
      },
      "source": [
        "Делаем 2 константных столбца"
      ]
    },
    {
      "cell_type": "code",
      "execution_count": null,
      "metadata": {
        "colab": {
          "base_uri": "https://localhost:8080/"
        },
        "id": "5tjCFJKAaLnO",
        "outputId": "c91dd799-4dee-4646-918e-2a6a0dc2c1e1"
      },
      "outputs": [
        {
          "output_type": "stream",
          "name": "stdout",
          "text": [
            "+------+-------+------+--------+----------+---------+---------+-----------+-----------+-----+-----+\n",
            "|userID|movieID|rating|date_day|date_month|date_year|date_hour|date_minute|date_second|fix_1|fix_2|\n",
            "+------+-------+------+--------+----------+---------+---------+-----------+-----------+-----+-----+\n",
            "| 38914|   1732|   4.0|       8|         2|     2008|       11|         36|          1|    1|    2|\n",
            "|  6393|   2071|   3.5|       4|         1|     2006|       21|         28|         23|    1|    2|\n",
            "| 32747|  38061|   4.0|       5|         4|     2008|       15|         55|         49|    1|    2|\n",
            "|  4352|  30812|   3.0|       2|         3|     2006|       22|         34|         12|    1|    2|\n",
            "| 37934|  27674|   3.5|       8|        10|     2007|       19|         30|         43|    1|    2|\n",
            "+------+-------+------+--------+----------+---------+---------+-----------+-----------+-----+-----+\n",
            "only showing top 5 rows\n",
            "\n"
          ]
        }
      ],
      "source": [
        "df.withColumn('fix_1', F.lit(1)).withColumn('fix_2', F.lit(2)).show(5)"
      ]
    },
    {
      "cell_type": "markdown",
      "metadata": {
        "id": "Wq7AyqA7ajCw"
      },
      "source": [
        "**withColumnsRenamed**\n",
        "\n",
        "Предыдущий вариант не давал возможности переименовать столбцы, это можно сделать иначе"
      ]
    },
    {
      "cell_type": "code",
      "execution_count": null,
      "metadata": {
        "colab": {
          "base_uri": "https://localhost:8080/"
        },
        "id": "mhNQL1UaaoWn",
        "outputId": "13b86f9b-8866-4a9f-f807-d1b698820ebf"
      },
      "outputs": [
        {
          "output_type": "stream",
          "name": "stdout",
          "text": [
            "+------+-------+----+--------+----------+---------+---------+-----------+-----------+\n",
            "|userID|movieID|mark|date_day|date_month|date_year|date_hour|date_minute|date_second|\n",
            "+------+-------+----+--------+----------+---------+---------+-----------+-----------+\n",
            "| 38914|   1732| 4.0|       8|         2|     2008|       11|         36|          1|\n",
            "|  6393|   2071| 3.5|       4|         1|     2006|       21|         28|         23|\n",
            "| 32747|  38061| 4.0|       5|         4|     2008|       15|         55|         49|\n",
            "|  4352|  30812| 3.0|       2|         3|     2006|       22|         34|         12|\n",
            "| 37934|  27674| 3.5|       8|        10|     2007|       19|         30|         43|\n",
            "+------+-------+----+--------+----------+---------+---------+-----------+-----------+\n",
            "only showing top 5 rows\n",
            "\n"
          ]
        }
      ],
      "source": [
        "df.withColumnRenamed('rating', 'mark').show(5)"
      ]
    },
    {
      "cell_type": "markdown",
      "metadata": {
        "id": "i7XsfsdNbq_M"
      },
      "source": [
        "**filter (where) и иные филтрации**\n",
        "\n",
        "Функция PySpark filter() используется для фильтрации строк из RDD / DataFrame на основе заданного условия или выражения SQL, вы также можете использовать предложение where() вместо filter() обе эти функции работают аналогично."
      ]
    },
    {
      "cell_type": "markdown",
      "metadata": {
        "id": "IVbRAIZ-eWm3"
      },
      "source": [
        "1 условие"
      ]
    },
    {
      "cell_type": "code",
      "execution_count": null,
      "metadata": {
        "colab": {
          "base_uri": "https://localhost:8080/"
        },
        "id": "SFzp724CddPb",
        "outputId": "702336a2-be8b-4944-8cfe-5c8b9c94acfb"
      },
      "outputs": [
        {
          "output_type": "stream",
          "name": "stdout",
          "text": [
            "+------+-------+------+--------+----------+---------+---------+-----------+-----------+\n",
            "|userID|movieID|rating|date_day|date_month|date_year|date_hour|date_minute|date_second|\n",
            "+------+-------+------+--------+----------+---------+---------+-----------+-----------+\n",
            "| 35105|  41569|   5.0|      31|        12|     2005|        7|         31|         38|\n",
            "| 30977|  45950|   5.0|      10|         7|     2006|        8|         16|          0|\n",
            "| 36969|   1251|   5.0|       7|         5|     2006|       22|         35|         15|\n",
            "|  7252|    296|   5.0|      29|        11|     2006|       19|         39|         34|\n",
            "|  5917|   3196|   5.0|      12|         1|     2005|       10|         24|          6|\n",
            "+------+-------+------+--------+----------+---------+---------+-----------+-----------+\n",
            "only showing top 5 rows\n",
            "\n"
          ]
        }
      ],
      "source": [
        "df.filter(df.rating == 5.0).show(5)"
      ]
    },
    {
      "cell_type": "code",
      "execution_count": null,
      "metadata": {
        "colab": {
          "base_uri": "https://localhost:8080/"
        },
        "id": "vHYMQDRveND2",
        "outputId": "9d4d560e-d8c9-4598-fe6d-35c1c56fb0a1"
      },
      "outputs": [
        {
          "output_type": "stream",
          "name": "stdout",
          "text": [
            "+------+-------+------+--------+----------+---------+---------+-----------+-----------+\n",
            "|userID|movieID|rating|date_day|date_month|date_year|date_hour|date_minute|date_second|\n",
            "+------+-------+------+--------+----------+---------+---------+-----------+-----------+\n",
            "| 38914|   1732|   4.0|       8|         2|     2008|       11|         36|          1|\n",
            "|  6393|   2071|   3.5|       4|         1|     2006|       21|         28|         23|\n",
            "| 32747|  38061|   4.0|       5|         4|     2008|       15|         55|         49|\n",
            "|  4352|  30812|   3.0|       2|         3|     2006|       22|         34|         12|\n",
            "| 37934|  27674|   3.5|       8|        10|     2007|       19|         30|         43|\n",
            "+------+-------+------+--------+----------+---------+---------+-----------+-----------+\n",
            "only showing top 5 rows\n",
            "\n"
          ]
        }
      ],
      "source": [
        "df.filter(~(df.rating == 5.0)).show(5)"
      ]
    },
    {
      "cell_type": "code",
      "execution_count": null,
      "metadata": {
        "colab": {
          "base_uri": "https://localhost:8080/"
        },
        "id": "VF0jZSiFeRvT",
        "outputId": "066ff1b5-231e-4f02-8a73-ea7c05d6d34b"
      },
      "outputs": [
        {
          "output_type": "stream",
          "name": "stdout",
          "text": [
            "+------+-------+------+--------+----------+---------+---------+-----------+-----------+\n",
            "|userID|movieID|rating|date_day|date_month|date_year|date_hour|date_minute|date_second|\n",
            "+------+-------+------+--------+----------+---------+---------+-----------+-----------+\n",
            "| 35105|  41569|   5.0|      31|        12|     2005|        7|         31|         38|\n",
            "| 30977|  45950|   5.0|      10|         7|     2006|        8|         16|          0|\n",
            "| 36969|   1251|   5.0|       7|         5|     2006|       22|         35|         15|\n",
            "|  7252|    296|   5.0|      29|        11|     2006|       19|         39|         34|\n",
            "|  5917|   3196|   5.0|      12|         1|     2005|       10|         24|          6|\n",
            "+------+-------+------+--------+----------+---------+---------+-----------+-----------+\n",
            "only showing top 5 rows\n",
            "\n"
          ]
        }
      ],
      "source": [
        "df.filter('rating = 5').show(5)"
      ]
    },
    {
      "cell_type": "markdown",
      "metadata": {
        "id": "B-tzppVSehGc"
      },
      "source": [
        "Несколько условий"
      ]
    },
    {
      "cell_type": "code",
      "execution_count": null,
      "metadata": {
        "colab": {
          "base_uri": "https://localhost:8080/"
        },
        "id": "RG2nk91dekM_",
        "outputId": "c795cb53-ad5a-4cae-f5e5-978e3b75c93c"
      },
      "outputs": [
        {
          "output_type": "stream",
          "name": "stdout",
          "text": [
            "+------+-------+------+--------+----------+---------+---------+-----------+-----------+\n",
            "|userID|movieID|rating|date_day|date_month|date_year|date_hour|date_minute|date_second|\n",
            "+------+-------+------+--------+----------+---------+---------+-----------+-----------+\n",
            "| 36969|   1251|   5.0|       7|         5|     2006|       22|         35|         15|\n",
            "| 22278|   1732|   5.0|       5|         3|     2006|       16|         27|          7|\n",
            "|  2853|    296|   5.0|      10|        11|     2006|       13|         52|         53|\n",
            "|  4895|  27728|   5.0|       1|         1|     2006|        4|         15|          2|\n",
            "| 19532|   2959|   5.0|      20|         2|     2006|        1|         51|         40|\n",
            "+------+-------+------+--------+----------+---------+---------+-----------+-----------+\n",
            "only showing top 5 rows\n",
            "\n"
          ]
        }
      ],
      "source": [
        "df.filter((df.rating == 5.0) & (df.date_year == 2006)).show(5)"
      ]
    },
    {
      "cell_type": "code",
      "execution_count": null,
      "metadata": {
        "colab": {
          "base_uri": "https://localhost:8080/"
        },
        "id": "OXGvcpqdfRK-",
        "outputId": "bc9b928d-97f7-4646-b60a-7643febec117"
      },
      "outputs": [
        {
          "output_type": "stream",
          "name": "stdout",
          "text": [
            "+------+-------+------+--------+----------+---------+---------+-----------+-----------+\n",
            "|userID|movieID|rating|date_day|date_month|date_year|date_hour|date_minute|date_second|\n",
            "+------+-------+------+--------+----------+---------+---------+-----------+-----------+\n",
            "| 36969|   1251|   5.0|       7|         5|     2006|       22|         35|         15|\n",
            "| 22278|   1732|   5.0|       5|         3|     2006|       16|         27|          7|\n",
            "|  2853|    296|   5.0|      10|        11|     2006|       13|         52|         53|\n",
            "|  4895|  27728|   5.0|       1|         1|     2006|        4|         15|          2|\n",
            "| 19532|   2959|   5.0|      20|         2|     2006|        1|         51|         40|\n",
            "+------+-------+------+--------+----------+---------+---------+-----------+-----------+\n",
            "only showing top 5 rows\n",
            "\n"
          ]
        }
      ],
      "source": [
        "df.filter('(rating = 5.0) and (date_year = 2006)').show(5)"
      ]
    },
    {
      "cell_type": "code",
      "execution_count": null,
      "metadata": {
        "colab": {
          "base_uri": "https://localhost:8080/"
        },
        "id": "PPJrcN3Zh5zu",
        "outputId": "592445e9-b212-415b-bba8-2802488bd19a"
      },
      "outputs": [
        {
          "output_type": "stream",
          "name": "stdout",
          "text": [
            "+------+-------+------+--------+----------+---------+---------+-----------+-----------+\n",
            "|userID|movieID|rating|date_day|date_month|date_year|date_hour|date_minute|date_second|\n",
            "+------+-------+------+--------+----------+---------+---------+-----------+-----------+\n",
            "|    78|   1214|   5.0|       7|         5|     2004|       23|          6|         34|\n",
            "|    78|     32|   5.0|       7|         5|     2004|       23|         32|         18|\n",
            "|    78|   2502|   5.0|       7|         5|     2004|       23|         38|         29|\n",
            "|    78|    750|   5.0|       7|         5|     2004|       23|          3|         45|\n",
            "|    78|   1232|   5.0|       7|         5|     2004|       23|         29|         49|\n",
            "+------+-------+------+--------+----------+---------+---------+-----------+-----------+\n",
            "only showing top 5 rows\n",
            "\n"
          ]
        }
      ],
      "source": [
        "df.filter('(rating = 5.0) and (userID between 70 and 80)').show(5)"
      ]
    },
    {
      "cell_type": "markdown",
      "metadata": {
        "id": "XdE18CsVfepu"
      },
      "source": [
        "фильтр по списку значений из list"
      ]
    },
    {
      "cell_type": "code",
      "execution_count": null,
      "metadata": {
        "id": "lHYaVt1Sfix6"
      },
      "outputs": [],
      "source": [
        "years = [2006, 2007]"
      ]
    },
    {
      "cell_type": "code",
      "execution_count": null,
      "metadata": {
        "colab": {
          "base_uri": "https://localhost:8080/"
        },
        "id": "CtScT6Ljf1f0",
        "outputId": "18417212-e0c8-41df-c6ca-06b92f8414ba"
      },
      "outputs": [
        {
          "output_type": "stream",
          "name": "stdout",
          "text": [
            "+------+-------+------+--------+----------+---------+---------+-----------+-----------+\n",
            "|userID|movieID|rating|date_day|date_month|date_year|date_hour|date_minute|date_second|\n",
            "+------+-------+------+--------+----------+---------+---------+-----------+-----------+\n",
            "|  6393|   2071|   3.5|       4|         1|     2006|       21|         28|         23|\n",
            "| 37934|  27674|   3.5|       8|        10|     2007|       19|         30|         43|\n",
            "| 25038|   3250|   3.0|      30|        12|     2007|        8|         34|         29|\n",
            "| 26243|    223|   3.0|      19|         3|     2006|        4|          4|         30|\n",
            "| 15311|   1411|   3.0|      22|        12|     2007|       22|         42|          4|\n",
            "+------+-------+------+--------+----------+---------+---------+-----------+-----------+\n",
            "only showing top 5 rows\n",
            "\n"
          ]
        }
      ],
      "source": [
        "df.filter(df.date_year.isin(years)).show(5)"
      ]
    },
    {
      "cell_type": "markdown",
      "metadata": {
        "id": "t8xkT6PxgJXy"
      },
      "source": [
        " проверим"
      ]
    },
    {
      "cell_type": "code",
      "execution_count": null,
      "metadata": {
        "colab": {
          "base_uri": "https://localhost:8080/"
        },
        "id": "YpQJJAchf-aY",
        "outputId": "eca96204-4b5f-4dd0-bc32-1992f3c88bf9"
      },
      "outputs": [
        {
          "output_type": "execute_result",
          "data": {
            "text/plain": [
              "[Row(date_year=2007), Row(date_year=2006)]"
            ]
          },
          "metadata": {},
          "execution_count": 97
        }
      ],
      "source": [
        "df.filter(df.date_year.isin(years))\\\n",
        "  .select('date_year')\\\n",
        "  .dropDuplicates()\\\n",
        "  .collect()"
      ]
    },
    {
      "cell_type": "markdown",
      "metadata": {
        "id": "baQHzWATiWPQ"
      },
      "source": [
        "создадим игрушечный датайфрейм для текстовых столбцов"
      ]
    },
    {
      "cell_type": "code",
      "execution_count": null,
      "metadata": {
        "id": "j25PuaiOiVs0"
      },
      "outputs": [],
      "source": [
        "data2 = [(2,\"Michael Rose\"),(3,\"Robert Williams\"),\n",
        "     (4,\"Rames Rose\"),(5,\"Rames Black\"), (6, 'Albus Torch'),\n",
        "     (7, 'Fred Tf')\n",
        "  ]\n",
        "df2 = spark.createDataFrame(data2, ['id', 'name'])"
      ]
    },
    {
      "cell_type": "code",
      "execution_count": null,
      "metadata": {
        "colab": {
          "base_uri": "https://localhost:8080/"
        },
        "id": "h_3UfWtuisqY",
        "outputId": "32d35e32-e6eb-4f06-c8e6-a225951d92dd"
      },
      "outputs": [
        {
          "output_type": "stream",
          "name": "stdout",
          "text": [
            "+---+---------------+\n",
            "| id|           name|\n",
            "+---+---------------+\n",
            "|  2|   Michael Rose|\n",
            "|  3|Robert Williams|\n",
            "|  4|     Rames Rose|\n",
            "|  5|    Rames Black|\n",
            "|  6|    Albus Torch|\n",
            "|  7|        Fred Tf|\n",
            "+---+---------------+\n",
            "\n"
          ]
        }
      ],
      "source": [
        "df2.show()"
      ]
    },
    {
      "cell_type": "code",
      "execution_count": null,
      "metadata": {
        "colab": {
          "base_uri": "https://localhost:8080/"
        },
        "id": "kfIw-U8pilfQ",
        "outputId": "a0c59cdb-db89-4358-e943-80ed1c3a0a0a"
      },
      "outputs": [
        {
          "output_type": "stream",
          "name": "stdout",
          "text": [
            "+---+---------------+\n",
            "| id|           name|\n",
            "+---+---------------+\n",
            "|  3|Robert Williams|\n",
            "|  4|     Rames Rose|\n",
            "|  5|    Rames Black|\n",
            "+---+---------------+\n",
            "\n"
          ]
        }
      ],
      "source": [
        "df2.filter('name like \"R%\"').show()"
      ]
    },
    {
      "cell_type": "code",
      "execution_count": null,
      "metadata": {
        "colab": {
          "base_uri": "https://localhost:8080/"
        },
        "id": "g_9M2YTCjpGf",
        "outputId": "715869a8-fed5-4faf-f5cc-f31f49a5c6b9"
      },
      "outputs": [
        {
          "output_type": "stream",
          "name": "stdout",
          "text": [
            "+---+---------------+\n",
            "| id|           name|\n",
            "+---+---------------+\n",
            "|  3|Robert Williams|\n",
            "|  4|     Rames Rose|\n",
            "|  5|    Rames Black|\n",
            "+---+---------------+\n",
            "\n"
          ]
        }
      ],
      "source": [
        "df2.filter(df2.name.startswith('R')).show()"
      ]
    },
    {
      "cell_type": "code",
      "execution_count": null,
      "metadata": {
        "colab": {
          "base_uri": "https://localhost:8080/"
        },
        "id": "2qd6XuQbj1ca",
        "outputId": "85b3cb47-a89a-41d7-c1fa-3284585fb780"
      },
      "outputs": [
        {
          "output_type": "stream",
          "name": "stdout",
          "text": [
            "+---+-------+\n",
            "| id|   name|\n",
            "+---+-------+\n",
            "|  7|Fred Tf|\n",
            "+---+-------+\n",
            "\n"
          ]
        }
      ],
      "source": [
        "df2.filter(df2.name.endswith('Tf')).show()"
      ]
    },
    {
      "cell_type": "code",
      "execution_count": null,
      "metadata": {
        "colab": {
          "base_uri": "https://localhost:8080/"
        },
        "id": "vPWVmWSFj5rA",
        "outputId": "a9006fff-cb3f-452a-f6ea-df1f182d8f98"
      },
      "outputs": [
        {
          "output_type": "stream",
          "name": "stdout",
          "text": [
            "+---+---------------+\n",
            "| id|           name|\n",
            "+---+---------------+\n",
            "|  3|Robert Williams|\n",
            "+---+---------------+\n",
            "\n"
          ]
        }
      ],
      "source": [
        "df2.filter(df2.name.contains('Wil')).show()"
      ]
    },
    {
      "cell_type": "markdown",
      "metadata": {
        "id": "AfgGaL_zkIiF"
      },
      "source": [
        "Бывает, что у нас внутри датафрейма есть массив и с ним что-то хочется сделать"
      ]
    },
    {
      "cell_type": "code",
      "execution_count": null,
      "metadata": {
        "colab": {
          "base_uri": "https://localhost:8080/"
        },
        "id": "LTpNzm_Lkl5d",
        "outputId": "1a8cc63e-2a09-4362-87d2-a0e556cb8362"
      },
      "outputs": [
        {
          "output_type": "stream",
          "name": "stdout",
          "text": [
            "root\n",
            " |-- name: struct (nullable = true)\n",
            " |    |-- firstname: string (nullable = true)\n",
            " |    |-- middlename: string (nullable = true)\n",
            " |    |-- lastname: string (nullable = true)\n",
            " |-- hobbies: array (nullable = true)\n",
            " |    |-- element: string (containsNull = true)\n",
            " |-- properties: map (nullable = true)\n",
            " |    |-- key: integer\n",
            " |    |-- value: string (valueContainsNull = true)\n",
            "\n",
            "+--------------------+-----------------+----------------+\n",
            "|name                |hobbies          |properties      |\n",
            "+--------------------+-----------------+----------------+\n",
            "|{James, , Smith}    |[car, volleyball]|{4 -> d, 1 -> a}|\n",
            "|{Michael, Rose, }   |[car, football]  |{2 -> b}        |\n",
            "|{Robert, , Williams}|[box, music]     |{3 -> c}        |\n",
            "+--------------------+-----------------+----------------+\n",
            "\n"
          ]
        }
      ],
      "source": [
        "arrayStructureSchema = StructType([\n",
        "    StructField('name', StructType([\n",
        "       StructField('firstname', StringType(), True),\n",
        "       StructField('middlename', StringType(), True),\n",
        "       StructField('lastname', StringType(), True)\n",
        "       ])),\n",
        "       StructField('hobbies', ArrayType(StringType()), True),\n",
        "       StructField('properties', MapType(IntegerType(),StringType()), True)\n",
        "    ])\n",
        "\n",
        "structureData = [\n",
        "    ((\"James\",\"\",\"Smith\"), ['car', 'volleyball'], {1: 'a', 4: 'd'}),\n",
        "    ((\"Michael\",\"Rose\",\"\"), ['car', 'football'], {2: 'b'}),\n",
        "    ((\"Robert\",\"\",\"Williams\"), ['box', 'music'], {3: 'c'})\n",
        "  ]\n",
        "\n",
        "df3 = spark.createDataFrame(data=structureData,schema=arrayStructureSchema)\n",
        "df3.printSchema()\n",
        "df3.show(truncate=False)"
      ]
    },
    {
      "cell_type": "code",
      "execution_count": null,
      "metadata": {
        "colab": {
          "base_uri": "https://localhost:8080/"
        },
        "id": "i_P75crVkoVP",
        "outputId": "a2ea3c6f-6402-4c3e-acc0-ee4d7c56fd17"
      },
      "outputs": [
        {
          "output_type": "stream",
          "name": "stdout",
          "text": [
            "+-----------------+---------------+----------+\n",
            "|             name|        hobbies|properties|\n",
            "+-----------------+---------------+----------+\n",
            "|{Michael, Rose, }|[car, football]|  {2 -> b}|\n",
            "+-----------------+---------------+----------+\n",
            "\n"
          ]
        }
      ],
      "source": [
        "df3.filter(F.array_contains(df3.hobbies,\"football\")) \\\n",
        "    .show()"
      ]
    },
    {
      "cell_type": "markdown",
      "metadata": {
        "id": "z7wIBH1plh4D"
      },
      "source": [
        "**Сортировка**"
      ]
    },
    {
      "cell_type": "markdown",
      "metadata": {
        "id": "eid2Pim6oYdE"
      },
      "source": [
        "сделаем еще фильтрацию, чтобы увидеть результат (orderBy тут аналог)"
      ]
    },
    {
      "cell_type": "code",
      "execution_count": null,
      "metadata": {
        "colab": {
          "base_uri": "https://localhost:8080/"
        },
        "id": "3BY_-oj2mjs6",
        "outputId": "16bc212d-6a11-4c7e-c5c5-764e00e2b09c"
      },
      "outputs": [
        {
          "output_type": "stream",
          "name": "stdout",
          "text": [
            "+------+-------+------+--------+----------+---------+---------+-----------+-----------+\n",
            "|userID|movieID|rating|date_day|date_month|date_year|date_hour|date_minute|date_second|\n",
            "+------+-------+------+--------+----------+---------+---------+-----------+-----------+\n",
            "|    75|   1304|   2.5|      29|        10|     2006|       23|         16|         56|\n",
            "|    75|   2011|   2.0|      29|        10|     2006|       23|         16|         39|\n",
            "|    75|    420|   2.0|      29|        10|     2006|       23|         16|         42|\n",
            "|    75|    160|   2.0|      29|        10|     2006|       23|         16|         52|\n",
            "|    75|    832|   4.5|      29|        10|     2006|       23|         17|         49|\n",
            "|    75|   2700|   4.5|      29|        10|     2006|       23|         17|         52|\n",
            "|    75|   1485|   4.0|      29|        10|     2006|       23|         17|         46|\n",
            "|    75|   1374|   4.0|      29|        10|     2006|       23|         17|         20|\n",
            "|    75|    173|   3.5|      29|        10|     2006|       23|         17|         37|\n",
            "|    75|    353|   3.5|      29|        10|     2006|       23|         17|          0|\n",
            "|    75|    653|   3.0|      29|        10|     2006|       23|         17|          5|\n",
            "|    75|   2640|   3.0|      29|        10|     2006|       23|         17|         56|\n",
            "|    75|   2054|   1.5|      29|        10|     2006|       23|         17|         33|\n",
            "|    75|      3|   1.0|      29|        10|     2006|       23|         17|         16|\n",
            "|    75|    920|   0.5|      29|        10|     2006|       23|         17|          8|\n",
            "|    75|   6225|   0.5|      29|        10|     2006|       23|         21|         25|\n",
            "|    75|   3889|   3.0|      29|        10|     2006|       23|         22|         43|\n",
            "|    75|   2688|   3.0|      29|        10|     2006|       23|         22|         26|\n",
            "|    75|     32|   4.5|      29|        10|     2006|       23|         23|         44|\n",
            "|    75|  32587|   5.0|      29|        10|     2006|       23|         24|         51|\n",
            "+------+-------+------+--------+----------+---------+---------+-----------+-----------+\n",
            "only showing top 20 rows\n",
            "\n"
          ]
        }
      ],
      "source": [
        "df.filter(df.userID == 75).sort(df.date_minute, df.rating.desc()).show(20)"
      ]
    },
    {
      "cell_type": "markdown",
      "metadata": {
        "id": "GiqsFj72pkvM"
      },
      "source": [
        "**groupby**\n",
        "\n",
        "Когда мы выполняем groupBy() в PySpark DataFrame, он возвращает объект GroupedData, который содержит следующие агрегатные функции:\n",
        "\n",
        "min(), max(), mean(), count(), sum(), avg(), agg(), pivot()"
      ]
    },
    {
      "cell_type": "code",
      "execution_count": null,
      "metadata": {
        "colab": {
          "base_uri": "https://localhost:8080/"
        },
        "id": "cL6AvkZPoeiy",
        "outputId": "55d18421-e3bd-41ea-c925-6a59bd2349d6"
      },
      "outputs": [
        {
          "output_type": "execute_result",
          "data": {
            "text/plain": [
              "[Row(date_year=2003, avg(rating)=3.4279154852282083),\n",
              " Row(date_year=2007, avg(rating)=3.4367384383270894),\n",
              " Row(date_year=2006, avg(rating)=3.4294610550371356),\n",
              " Row(date_year=1997, avg(rating)=3.571018651362984),\n",
              " Row(date_year=2004, avg(rating)=3.3916603359500295),\n",
              " Row(date_year=1998, avg(rating)=3.5080568720379146),\n",
              " Row(date_year=2009, avg(rating)=3.369243156199678),\n",
              " Row(date_year=2001, avg(rating)=3.4490124195720484),\n",
              " Row(date_year=2005, avg(rating)=3.395790002433071),\n",
              " Row(date_year=2000, avg(rating)=3.5767733835530446),\n",
              " Row(date_year=2008, avg(rating)=3.486752231109465),\n",
              " Row(date_year=1999, avg(rating)=3.4925797284496367),\n",
              " Row(date_year=2002, avg(rating)=3.4140127388535033)]"
            ]
          },
          "metadata": {},
          "execution_count": 107
        }
      ],
      "source": [
        "df.groupby('date_year').mean('rating').collect()"
      ]
    },
    {
      "cell_type": "markdown",
      "metadata": {
        "id": "1QjgENxurJ_t"
      },
      "source": [
        "мы уже умеем применять разные методы"
      ]
    },
    {
      "cell_type": "code",
      "execution_count": null,
      "metadata": {
        "colab": {
          "base_uri": "https://localhost:8080/"
        },
        "id": "CvnbA2-aqzXI",
        "outputId": "d6c562e1-5673-4e21-da14-5d8a89438183"
      },
      "outputs": [
        {
          "output_type": "execute_result",
          "data": {
            "text/plain": [
              "[Row(date_year=1997, avg(rating)=3.571018651362984),\n",
              " Row(date_year=1998, avg(rating)=3.5080568720379146),\n",
              " Row(date_year=1999, avg(rating)=3.4925797284496367),\n",
              " Row(date_year=2000, avg(rating)=3.5767733835530446),\n",
              " Row(date_year=2001, avg(rating)=3.4490124195720484),\n",
              " Row(date_year=2002, avg(rating)=3.4140127388535033),\n",
              " Row(date_year=2003, avg(rating)=3.4279154852282083),\n",
              " Row(date_year=2004, avg(rating)=3.3916603359500295),\n",
              " Row(date_year=2005, avg(rating)=3.395790002433071),\n",
              " Row(date_year=2006, avg(rating)=3.4294610550371356),\n",
              " Row(date_year=2007, avg(rating)=3.4367384383270894),\n",
              " Row(date_year=2008, avg(rating)=3.486752231109465),\n",
              " Row(date_year=2009, avg(rating)=3.369243156199678)]"
            ]
          },
          "metadata": {},
          "execution_count": 108
        }
      ],
      "source": [
        "df.groupby('date_year')\\\n",
        "  .mean('rating')\\\n",
        "  .sort('date_year')\\\n",
        "  .collect()"
      ]
    },
    {
      "cell_type": "code",
      "execution_count": null,
      "metadata": {
        "colab": {
          "base_uri": "https://localhost:8080/"
        },
        "id": "vBGHTsSxrUri",
        "outputId": "e84c68cb-9749-447a-c919-5ee699d0ae81"
      },
      "outputs": [
        {
          "output_type": "execute_result",
          "data": {
            "text/plain": [
              "[Row(date_year=1997, number=98),\n",
              " Row(date_year=1998, number=321),\n",
              " Row(date_year=1999, number=2270),\n",
              " Row(date_year=2000, number=4732),\n",
              " Row(date_year=2001, number=4793),\n",
              " Row(date_year=2002, number=5791),\n",
              " Row(date_year=2003, number=7595),\n",
              " Row(date_year=2004, number=10205),\n",
              " Row(date_year=2005, number=15982),\n",
              " Row(date_year=2006, number=23463),\n",
              " Row(date_year=2007, number=19792),\n",
              " Row(date_year=2008, number=15128),\n",
              " Row(date_year=2009, number=369)]"
            ]
          },
          "metadata": {},
          "execution_count": 109
        }
      ],
      "source": [
        "df.filter(df.rating <= 2)\\\n",
        "  .groupby('date_year')\\\n",
        "  .count()\\\n",
        "  .withColumnRenamed('count', 'number')\\\n",
        "  .sort('date_year')\\\n",
        "  .collect()"
      ]
    },
    {
      "cell_type": "markdown",
      "metadata": {
        "id": "i_8epVoOrwG3"
      },
      "source": [
        "несколько колонок"
      ]
    },
    {
      "cell_type": "code",
      "execution_count": null,
      "metadata": {
        "colab": {
          "base_uri": "https://localhost:8080/"
        },
        "id": "0SIzk9xOrsec",
        "outputId": "987d1c8a-4e69-4551-ed5c-ad2f8927ef44"
      },
      "outputs": [
        {
          "output_type": "stream",
          "name": "stdout",
          "text": [
            "+---------+----------+------------------+------------------+\n",
            "|date_year|date_month|       avg(rating)|       avg(userID)|\n",
            "+---------+----------+------------------+------------------+\n",
            "|     1997|         9|3.7094972067039107| 35144.61452513967|\n",
            "|     1997|        10|3.7762237762237763|34880.769230769234|\n",
            "|     1997|        11| 3.360655737704918| 9451.180327868853|\n",
            "|     1997|        12| 3.549618320610687| 20251.01526717557|\n",
            "|     1998|         1|          3.765625|      22209.515625|\n",
            "|     1998|         2|               3.3|           31662.4|\n",
            "|     1998|         3| 3.238095238095238| 19582.04761904762|\n",
            "|     1998|         4| 3.908333333333333|31813.866666666665|\n",
            "|     1998|         5| 3.652054794520548|20393.520547945205|\n",
            "|     1998|         6|             3.225|         27092.625|\n",
            "|     1998|         7|3.5547550432276656|38376.249279538904|\n",
            "|     1998|         8| 3.642857142857143|41151.357142857145|\n",
            "|     1998|         9|3.1881533101045294| 46104.74912891986|\n",
            "|     1998|        10|3.4864864864864864| 46100.94594594595|\n",
            "|     1998|        11|3.4170854271356785| 57550.42211055276|\n",
            "|     1998|        12|              2.88|          24582.12|\n",
            "|     1999|         1|3.5932388222464557|19145.076335877864|\n",
            "|     1999|         2|2.9727272727272727|32626.427272727273|\n",
            "|     1999|         3| 3.288135593220339|33378.779661016946|\n",
            "|     1999|         4|3.7532467532467533|24940.253246753247|\n",
            "+---------+----------+------------------+------------------+\n",
            "only showing top 20 rows\n",
            "\n"
          ]
        }
      ],
      "source": [
        "df.groupBy(\"date_year\", \"date_month\") \\\n",
        "  .mean(\"rating\", \"userID\") \\\n",
        "  .sort('date_year', 'date_month') \\\n",
        "  .show()"
      ]
    },
    {
      "cell_type": "markdown",
      "metadata": {
        "id": "qq4SNRAkukI2"
      },
      "source": [
        "Для того, чтобы делать несколько разных агрегаций и еще менять сразу имя столбца нужно немного изменить синтаксис\n",
        "\n",
        "И стоит помнить, что персентили тут считаются приближенно"
      ]
    },
    {
      "cell_type": "code",
      "execution_count": null,
      "metadata": {
        "colab": {
          "base_uri": "https://localhost:8080/"
        },
        "id": "4OrMJN9ttWYQ",
        "outputId": "ae961f5f-d601-46f0-9b64-92072e694881"
      },
      "outputs": [
        {
          "output_type": "stream",
          "name": "stdout",
          "text": [
            "+---------+----------+------------------+----------+------+\n",
            "|date_year|min_rating|       mean_rating|max_rating|median|\n",
            "+---------+----------+------------------+----------+------+\n",
            "|     2003|       0.5|3.4279154852282083|       5.0|   3.5|\n",
            "|     2007|       0.5|3.4367384383270894|       5.0|   3.5|\n",
            "|     2006|       0.5|3.4294610550371356|       5.0|   3.5|\n",
            "|     1997|       1.0| 3.571018651362984|       5.0|   4.0|\n",
            "|     2004|       0.5|3.3916603359500295|       5.0|   3.5|\n",
            "|     1998|       1.0|3.5080568720379146|       5.0|   4.0|\n",
            "|     2009|       0.5| 3.369243156199678|       5.0|   3.5|\n",
            "|     2001|       1.0|3.4490124195720484|       5.0|   4.0|\n",
            "|     2005|       0.5| 3.395790002433071|       5.0|   3.5|\n",
            "|     2000|       1.0|3.5767733835530446|       5.0|   4.0|\n",
            "|     2008|       0.5| 3.486752231109465|       5.0|   3.5|\n",
            "|     1999|       1.0|3.4925797284496367|       5.0|   4.0|\n",
            "|     2002|       1.0|3.4140127388535033|       5.0|   4.0|\n",
            "+---------+----------+------------------+----------+------+\n",
            "\n"
          ]
        }
      ],
      "source": [
        "df.groupBy(\"date_year\") \\\n",
        "    .agg(F.min(\"rating\").alias(\"min_rating\"), \\\n",
        "         F.mean(\"rating\").alias(\"mean_rating\"), \\\n",
        "         F.max(\"rating\").alias(\"max_rating\"),\n",
        "         F.percentile_approx(\"rating\", 0.5).alias(\"median\")\n",
        "         ) \\\n",
        "    .show()"
      ]
    },
    {
      "cell_type": "markdown",
      "metadata": {
        "id": "ahpMujLmcI1n"
      },
      "source": [
        "Еще можно сделать pivot"
      ]
    },
    {
      "cell_type": "code",
      "execution_count": null,
      "metadata": {
        "colab": {
          "base_uri": "https://localhost:8080/"
        },
        "id": "9J-VoOc0cWTd",
        "outputId": "5bbab52b-151a-4c77-9ed9-d4d3be220951"
      },
      "outputs": [
        {
          "output_type": "stream",
          "name": "stdout",
          "text": [
            "+---------+------------------+------------------+------------------+------------------+------------------+------------------+------------------+------------------+------------------+------------------+------------------+------------------+\n",
            "|date_year|                 1|                 2|                 3|                 4|                 5|                 6|                 7|                 8|                 9|                10|                11|                12|\n",
            "+---------+------------------+------------------+------------------+------------------+------------------+------------------+------------------+------------------+------------------+------------------+------------------+------------------+\n",
            "|     2003|3.4720922980979108| 3.333741687084354|3.4834824501032347|3.4579510703363914| 3.366686911630732|  3.55358230160341|3.5085277150739906| 3.447642637512812| 3.579355840124175| 3.165437788018433| 3.446676231468197| 3.440287081339713|\n",
            "|     2007| 3.520191839855425| 3.334151663938898| 3.315767314574416| 3.504519368723099|3.4693796918214144|3.3586096176821982| 3.408789136175028|3.5504622250557856| 3.482922996333159|3.5171599215546445|3.4116928920238743|3.3910622022411596|\n",
            "|     2006| 3.479624530663329| 3.510720494494881| 3.547127570767246|3.3596973475402403|3.4018066369340088|3.3046501521077793| 3.403022670025189|3.3802469968956674|3.4545909721152364|3.5090602950609364|            3.5444|3.3291340307827135|\n",
            "|     1997|              NULL|              NULL|              NULL|              NULL|              NULL|              NULL|              NULL|              NULL|3.7094972067039107|3.7762237762237763| 3.360655737704918| 3.549618320610687|\n",
            "|     2004|3.3960528665833185|3.4452237808951236| 3.379642800695432|3.4247172639324157| 3.406055900621118| 3.516056166056166|3.3745881678842573| 3.301597261836851|3.3154904306220097| 3.458714150646076|3.3533517410645803|3.3077060292543705|\n",
            "+---------+------------------+------------------+------------------+------------------+------------------+------------------+------------------+------------------+------------------+------------------+------------------+------------------+\n",
            "only showing top 5 rows\n",
            "\n"
          ]
        }
      ],
      "source": [
        "df.groupBy('date_year')\\\n",
        "  .pivot('date_month')\\\n",
        "  .mean('rating')\\\n",
        "  .show(5)"
      ]
    },
    {
      "cell_type": "markdown",
      "metadata": {
        "id": "C0Xl9vFCu_eK"
      },
      "source": [
        "**Join's**\n",
        "\n",
        "Куда же без них. Что есть: INNER, LEFT OUTER, RIGHT OUTER, LEFT ANTI, LEFT SEMI, CROSS, SELF JOIN\n",
        "\n",
        "Благодаря оптимизации в датафреймах уже все хорошо работает, спасибо catalist, но чудеса не вечны и плохой код/незнание данных все равно даст о себе знать"
      ]
    },
    {
      "cell_type": "markdown",
      "metadata": {
        "id": "YneaY-MDxca7"
      },
      "source": [
        "Сделаем для себя несколько таблиц, чтобы можно было экспериментировать"
      ]
    },
    {
      "cell_type": "code",
      "execution_count": null,
      "metadata": {
        "id": "5Jrab0pMxbJp"
      },
      "outputs": [],
      "source": [
        "df_mean_user_rating = df.groupBy(\"userID\")\\\n",
        "                        .mean('rating')\\\n",
        "                        .withColumnRenamed('avg(rating)', 'avg_rating_all')\n",
        "\n",
        "df_mean_user_rating_year = df.groupby('userID', 'date_year')\\\n",
        "                             .mean('rating')\\\n",
        "                             .withColumnRenamed('avg(rating)', 'avg_rating_year')"
      ]
    },
    {
      "cell_type": "code",
      "execution_count": null,
      "metadata": {
        "colab": {
          "base_uri": "https://localhost:8080/"
        },
        "id": "iOArojkkxHR0",
        "outputId": "ce4bb824-13c1-422b-b143-b87f1adf3220"
      },
      "outputs": [
        {
          "output_type": "stream",
          "name": "stdout",
          "text": [
            "root\n",
            " |-- userID: integer (nullable = true)\n",
            " |-- avg_rating_all: double (nullable = true)\n",
            "\n",
            "root\n",
            " |-- userID: integer (nullable = true)\n",
            " |-- date_year: integer (nullable = true)\n",
            " |-- avg_rating_year: double (nullable = true)\n",
            "\n"
          ]
        }
      ],
      "source": [
        "df_mean_user_rating.printSchema()\n",
        "\n",
        "df_mean_user_rating_year.printSchema()"
      ]
    },
    {
      "cell_type": "markdown",
      "metadata": {
        "id": "xejW3UuRzb0g"
      },
      "source": [
        "И давайте все в 1 блоке кода, чтобы не растягивать"
      ]
    },
    {
      "cell_type": "code",
      "execution_count": null,
      "metadata": {
        "colab": {
          "base_uri": "https://localhost:8080/",
          "height": 324
        },
        "id": "sCpt6PH4zhGh",
        "outputId": "a34756f2-7889-4cdc-e822-90795d8ad440"
      },
      "outputs": [
        {
          "output_type": "error",
          "ename": "AnalysisException",
          "evalue": "[AMBIGUOUS_REFERENCE] Reference `userID` is ambiguous, could be: [`userID`, `userID`].",
          "traceback": [
            "\u001b[0;31m---------------------------------------------------------------------------\u001b[0m",
            "\u001b[0;31mAnalysisException\u001b[0m                         Traceback (most recent call last)",
            "\u001b[0;32m<ipython-input-115-fbae4197d3d9>\u001b[0m in \u001b[0;36m<cell line: 1>\u001b[0;34m()\u001b[0m\n\u001b[0;32m----> 1\u001b[0;31m \u001b[0mdf\u001b[0m\u001b[0;34m.\u001b[0m\u001b[0mjoin\u001b[0m\u001b[0;34m(\u001b[0m\u001b[0mdf_mean_user_rating\u001b[0m\u001b[0;34m,\u001b[0m \u001b[0mon\u001b[0m\u001b[0;34m=\u001b[0m\u001b[0mdf\u001b[0m\u001b[0;34m.\u001b[0m\u001b[0muserID\u001b[0m \u001b[0;34m==\u001b[0m \u001b[0mdf_mean_user_rating\u001b[0m\u001b[0;34m.\u001b[0m\u001b[0muserID\u001b[0m\u001b[0;34m,\u001b[0m \u001b[0mhow\u001b[0m\u001b[0;34m=\u001b[0m\u001b[0;34m'inner'\u001b[0m\u001b[0;34m)\u001b[0m\u001b[0;31m\\\u001b[0m\u001b[0;34m\u001b[0m\u001b[0;34m\u001b[0m\u001b[0m\n\u001b[0m\u001b[1;32m      2\u001b[0m   .join(df_mean_user_rating_year, on=[df.userID == df_mean_user_rating_year.userID,\n\u001b[1;32m      3\u001b[0m                                       df.date_year == df_mean_user_rating_year.date_year],\n\u001b[1;32m      4\u001b[0m         how='inner')\n",
            "\u001b[0;32m/usr/local/lib/python3.10/dist-packages/pyspark/sql/dataframe.py\u001b[0m in \u001b[0;36mjoin\u001b[0;34m(self, other, on, how)\u001b[0m\n\u001b[1;32m   2489\u001b[0m                 \u001b[0mon\u001b[0m \u001b[0;34m=\u001b[0m \u001b[0mself\u001b[0m\u001b[0;34m.\u001b[0m\u001b[0m_jseq\u001b[0m\u001b[0;34m(\u001b[0m\u001b[0;34m[\u001b[0m\u001b[0;34m]\u001b[0m\u001b[0;34m)\u001b[0m\u001b[0;34m\u001b[0m\u001b[0;34m\u001b[0m\u001b[0m\n\u001b[1;32m   2490\u001b[0m             \u001b[0;32massert\u001b[0m \u001b[0misinstance\u001b[0m\u001b[0;34m(\u001b[0m\u001b[0mhow\u001b[0m\u001b[0;34m,\u001b[0m \u001b[0mstr\u001b[0m\u001b[0;34m)\u001b[0m\u001b[0;34m,\u001b[0m \u001b[0;34m\"how should be a string\"\u001b[0m\u001b[0;34m\u001b[0m\u001b[0;34m\u001b[0m\u001b[0m\n\u001b[0;32m-> 2491\u001b[0;31m             \u001b[0mjdf\u001b[0m \u001b[0;34m=\u001b[0m \u001b[0mself\u001b[0m\u001b[0;34m.\u001b[0m\u001b[0m_jdf\u001b[0m\u001b[0;34m.\u001b[0m\u001b[0mjoin\u001b[0m\u001b[0;34m(\u001b[0m\u001b[0mother\u001b[0m\u001b[0;34m.\u001b[0m\u001b[0m_jdf\u001b[0m\u001b[0;34m,\u001b[0m \u001b[0mon\u001b[0m\u001b[0;34m,\u001b[0m \u001b[0mhow\u001b[0m\u001b[0;34m)\u001b[0m\u001b[0;34m\u001b[0m\u001b[0;34m\u001b[0m\u001b[0m\n\u001b[0m\u001b[1;32m   2492\u001b[0m         \u001b[0;32mreturn\u001b[0m \u001b[0mDataFrame\u001b[0m\u001b[0;34m(\u001b[0m\u001b[0mjdf\u001b[0m\u001b[0;34m,\u001b[0m \u001b[0mself\u001b[0m\u001b[0;34m.\u001b[0m\u001b[0msparkSession\u001b[0m\u001b[0;34m)\u001b[0m\u001b[0;34m\u001b[0m\u001b[0;34m\u001b[0m\u001b[0m\n\u001b[1;32m   2493\u001b[0m \u001b[0;34m\u001b[0m\u001b[0m\n",
            "\u001b[0;32m/usr/local/lib/python3.10/dist-packages/py4j/java_gateway.py\u001b[0m in \u001b[0;36m__call__\u001b[0;34m(self, *args)\u001b[0m\n\u001b[1;32m   1320\u001b[0m \u001b[0;34m\u001b[0m\u001b[0m\n\u001b[1;32m   1321\u001b[0m         \u001b[0manswer\u001b[0m \u001b[0;34m=\u001b[0m \u001b[0mself\u001b[0m\u001b[0;34m.\u001b[0m\u001b[0mgateway_client\u001b[0m\u001b[0;34m.\u001b[0m\u001b[0msend_command\u001b[0m\u001b[0;34m(\u001b[0m\u001b[0mcommand\u001b[0m\u001b[0;34m)\u001b[0m\u001b[0;34m\u001b[0m\u001b[0;34m\u001b[0m\u001b[0m\n\u001b[0;32m-> 1322\u001b[0;31m         return_value = get_return_value(\n\u001b[0m\u001b[1;32m   1323\u001b[0m             answer, self.gateway_client, self.target_id, self.name)\n\u001b[1;32m   1324\u001b[0m \u001b[0;34m\u001b[0m\u001b[0m\n",
            "\u001b[0;32m/usr/local/lib/python3.10/dist-packages/pyspark/errors/exceptions/captured.py\u001b[0m in \u001b[0;36mdeco\u001b[0;34m(*a, **kw)\u001b[0m\n\u001b[1;32m    183\u001b[0m                 \u001b[0;31m# Hide where the exception came from that shows a non-Pythonic\u001b[0m\u001b[0;34m\u001b[0m\u001b[0;34m\u001b[0m\u001b[0m\n\u001b[1;32m    184\u001b[0m                 \u001b[0;31m# JVM exception message.\u001b[0m\u001b[0;34m\u001b[0m\u001b[0;34m\u001b[0m\u001b[0m\n\u001b[0;32m--> 185\u001b[0;31m                 \u001b[0;32mraise\u001b[0m \u001b[0mconverted\u001b[0m \u001b[0;32mfrom\u001b[0m \u001b[0;32mNone\u001b[0m\u001b[0;34m\u001b[0m\u001b[0;34m\u001b[0m\u001b[0m\n\u001b[0m\u001b[1;32m    186\u001b[0m             \u001b[0;32melse\u001b[0m\u001b[0;34m:\u001b[0m\u001b[0;34m\u001b[0m\u001b[0;34m\u001b[0m\u001b[0m\n\u001b[1;32m    187\u001b[0m                 \u001b[0;32mraise\u001b[0m\u001b[0;34m\u001b[0m\u001b[0;34m\u001b[0m\u001b[0m\n",
            "\u001b[0;31mAnalysisException\u001b[0m: [AMBIGUOUS_REFERENCE] Reference `userID` is ambiguous, could be: [`userID`, `userID`]."
          ]
        }
      ],
      "source": [
        "df.join(df_mean_user_rating, on=df.userID == df_mean_user_rating.userID, how='inner')\\\n",
        "  .join(df_mean_user_rating_year, on=[df.userID == df_mean_user_rating_year.userID,\n",
        "                                      df.date_year == df_mean_user_rating_year.date_year],\n",
        "        how='inner')"
      ]
    },
    {
      "cell_type": "markdown",
      "metadata": {
        "id": "12j__QNvZa5v"
      },
      "source": [
        "Надо удалить дублирующиеся столбцы"
      ]
    },
    {
      "cell_type": "code",
      "execution_count": null,
      "metadata": {
        "id": "pNOXJ1Trwkmt"
      },
      "outputs": [],
      "source": [
        "res_join = df.alias('t').join(df_mean_user_rating.alias('t1'), on=F.col('t.userID') == F.col('t1.userID'), how='inner')\\\n",
        "  .drop(F.col('t1.userID'))\\\n",
        "  .join(df_mean_user_rating_year.alias('t2'), on=[F.col('t.userID') == F.col('t2.userID'),\n",
        "                                      F.col('t.date_year') == F.col('t2.date_year')],\n",
        "        how='inner')\\\n",
        "  .drop(F.col('t2.userID'))\\\n",
        "  .drop(F.col('t2.date_year'))"
      ]
    },
    {
      "cell_type": "code",
      "execution_count": null,
      "metadata": {
        "colab": {
          "base_uri": "https://localhost:8080/"
        },
        "id": "-SFHiwk3bjar",
        "outputId": "3dababb4-c75d-407e-f15b-14b64ee4f72b"
      },
      "outputs": [
        {
          "output_type": "stream",
          "name": "stdout",
          "text": [
            "+------+-------+------+--------+----------+---------+---------+-----------+-----------+------------------+------------------+\n",
            "|userID|movieID|rating|date_day|date_month|date_year|date_hour|date_minute|date_second|    avg_rating_all|   avg_rating_year|\n",
            "+------+-------+------+--------+----------+---------+---------+-----------+-----------+------------------+------------------+\n",
            "| 14570|   1653|   3.0|       2|         7|     2003|        2|         46|          1|2.7909407665505226| 2.634715025906736|\n",
            "| 15846|   5902|   4.5|      20|         8|     2004|       21|         53|          3| 3.792682926829268|3.7694300518134716|\n",
            "| 24171|  36517|   3.5|       5|         7|     2007|       17|         14|         47| 3.785140562248996| 3.818396226415094|\n",
            "| 24171|   5445|   4.0|       3|         7|     2007|       15|         47|         37| 3.785140562248996| 3.818396226415094|\n",
            "| 24171|    380|   4.0|       3|         7|     2007|       15|         42|         12| 3.785140562248996| 3.818396226415094|\n",
            "+------+-------+------+--------+----------+---------+---------+-----------+-----------+------------------+------------------+\n",
            "only showing top 5 rows\n",
            "\n"
          ]
        }
      ],
      "source": [
        "res_join.show(5)"
      ]
    },
    {
      "cell_type": "markdown",
      "metadata": {
        "id": "c5AnHARphOdO"
      },
      "source": [
        "**union и unionAll**\n",
        "\n",
        "Используются для объединения датафреймов с одинаковой структурой, используется union, так как unionAll с версии 2.0.0 более не используется"
      ]
    },
    {
      "cell_type": "code",
      "execution_count": null,
      "metadata": {
        "id": "UUT2BY-Mh9mD"
      },
      "outputs": [],
      "source": [
        "df1 = df.filter(df.date_year == 2006)\n",
        "df2 = df.filter(df.date_year != 2006)"
      ]
    },
    {
      "cell_type": "code",
      "execution_count": null,
      "metadata": {
        "colab": {
          "base_uri": "https://localhost:8080/"
        },
        "id": "fAlbx9vNiJfl",
        "outputId": "22334b4c-34bb-488a-e66d-d4102a6834f3"
      },
      "outputs": [
        {
          "output_type": "stream",
          "name": "stdout",
          "text": [
            "855598 855598\n"
          ]
        }
      ],
      "source": [
        "union_df = df1.union(df2)\n",
        "\n",
        "print(df.count(), union_df.count())"
      ]
    },
    {
      "cell_type": "markdown",
      "metadata": {
        "id": "wHSH3q7tixKe"
      },
      "source": [
        "Desclaimer: все по sql, надеюсь, помнят разницу между union и union all, когда union убирает дубликаты. Так вот pyspark ничего не удаляет, убрать дубликаты можно только через drop_duplicates, distinct"
      ]
    },
    {
      "cell_type": "markdown",
      "metadata": {
        "id": "6i0lcIVAj7XS"
      },
      "source": [
        "Также при union pyspark делает объединение по столбцам as is, не пытаясь понять, что в одном датафрейме нужный стобец на 1 позиции, а в другом он на 5. Для этого с версии 3.1 есть замечательный метод unionByName"
      ]
    },
    {
      "cell_type": "markdown",
      "metadata": {
        "id": "DwiOqXPolaNz"
      },
      "source": [
        "**UDF - user defined functions**\n",
        "\n",
        "из курса про rdd помним про map, тут тоже можно перегнать все в rdd и делать map, но можно и через udf. Стоит отметить, что при этом мы теряем возможность оптимизации и произодительность в dataframe, так как udf - black box для спарка.\n",
        "\n",
        "Но зато эти функции переиспользуемы и их можно применять в sql запросах, как те же udf в oracle"
      ]
    },
    {
      "cell_type": "code",
      "execution_count": null,
      "metadata": {
        "id": "Lk5nXLrEiqPa"
      },
      "outputs": [],
      "source": [
        "def udf_example(rating):\n",
        "    rating = rating * 20\n",
        "    return rating"
      ]
    },
    {
      "cell_type": "code",
      "execution_count": null,
      "metadata": {
        "id": "qkUtKFLM2BGT"
      },
      "outputs": [],
      "source": [
        "from pyspark.sql.functions import udf"
      ]
    },
    {
      "cell_type": "code",
      "execution_count": null,
      "metadata": {
        "id": "_DK2Brnu2LSl"
      },
      "outputs": [],
      "source": [
        "my_udf = udf(lambda x: udf_example(x), DoubleType())"
      ]
    },
    {
      "cell_type": "code",
      "execution_count": null,
      "metadata": {
        "colab": {
          "base_uri": "https://localhost:8080/"
        },
        "id": "B_I485a32XFD",
        "outputId": "7f299f65-0334-459b-e4d5-f84531054894"
      },
      "outputs": [
        {
          "output_type": "stream",
          "name": "stdout",
          "text": [
            "+------+-------+------+----------+\n",
            "|userID|movieID|rating|rating_100|\n",
            "+------+-------+------+----------+\n",
            "| 24515|  54272|   4.0|      80.0|\n",
            "|  3190|   6303|   3.5|      70.0|\n",
            "|  8881|   2942|   3.0|      60.0|\n",
            "| 30687|   4226|   4.0|      80.0|\n",
            "| 36292|   3910|   1.0|      20.0|\n",
            "+------+-------+------+----------+\n",
            "only showing top 5 rows\n",
            "\n"
          ]
        }
      ],
      "source": [
        "df.select(['userID', 'movieID', 'rating'])\\\n",
        "  .withColumn('rating_100', my_udf(F.col('rating')))\\\n",
        "  .show(5)"
      ]
    },
    {
      "cell_type": "markdown",
      "metadata": {
        "id": "ZwrlR5GI3dxB"
      },
      "source": [
        "Для тех, кто любит декораторы"
      ]
    },
    {
      "cell_type": "code",
      "execution_count": null,
      "metadata": {
        "id": "KaNfPZdg3dBs"
      },
      "outputs": [],
      "source": [
        "@udf(returnType=DoubleType())\n",
        "def udf_example_decorator(rating):\n",
        "    rating = rating * 20\n",
        "    return rating"
      ]
    },
    {
      "cell_type": "code",
      "execution_count": null,
      "metadata": {
        "colab": {
          "base_uri": "https://localhost:8080/"
        },
        "id": "jnFY-jHV3qph",
        "outputId": "f87a47f6-2de5-496b-ce2c-8f13fffc2fb4"
      },
      "outputs": [
        {
          "output_type": "stream",
          "name": "stdout",
          "text": [
            "+------+-------+------+----------+\n",
            "|userID|movieID|rating|rating_100|\n",
            "+------+-------+------+----------+\n",
            "| 24515|  54272|   4.0|      80.0|\n",
            "|  3190|   6303|   3.5|      70.0|\n",
            "|  8881|   2942|   3.0|      60.0|\n",
            "| 30687|   4226|   4.0|      80.0|\n",
            "| 36292|   3910|   1.0|      20.0|\n",
            "+------+-------+------+----------+\n",
            "only showing top 5 rows\n",
            "\n"
          ]
        }
      ],
      "source": [
        "df.select(['userID', 'movieID', 'rating'])\\\n",
        "  .withColumn('rating_100', udf_example_decorator(F.col('rating')))\\\n",
        "  .show(5)"
      ]
    },
    {
      "cell_type": "markdown",
      "metadata": {
        "id": "xLtZleE74gdv"
      },
      "source": [
        "Зарегистрируем функцию для будущих примеров с sql"
      ]
    },
    {
      "cell_type": "code",
      "execution_count": null,
      "metadata": {
        "colab": {
          "base_uri": "https://localhost:8080/"
        },
        "id": "W8QOkBZY4k-q",
        "outputId": "1ace983d-2a6f-423b-eeb4-50920f702f14"
      },
      "outputs": [
        {
          "output_type": "execute_result",
          "data": {
            "text/plain": [
              "<pyspark.sql.udf.UserDefinedFunction at 0x796eaf647130>"
            ]
          },
          "metadata": {},
          "execution_count": 126
        }
      ],
      "source": [
        "spark.udf.register(\"udf_example_decorator\", udf_example_decorator)"
      ]
    },
    {
      "cell_type": "markdown",
      "metadata": {
        "id": "5P_NIuglWV72"
      },
      "source": [
        "**SQL**\n",
        "\n",
        "Ну раз уж пошла такая тема, давайте рассмотрим, как можно сделать все при помощи любимого SQL"
      ]
    },
    {
      "cell_type": "markdown",
      "metadata": {
        "id": "e3KC55x4XCET"
      },
      "source": [
        "можно делать TempView и GlodalTempView, отличие в том, что обычный view будет жить, пока жива сессия спрака, а глобальная, пока жив sparkcontext"
      ]
    },
    {
      "cell_type": "code",
      "execution_count": null,
      "metadata": {
        "id": "zn1xgFFa5Fr1"
      },
      "outputs": [],
      "source": [
        "df.createOrReplaceTempView('df')"
      ]
    },
    {
      "cell_type": "code",
      "execution_count": null,
      "metadata": {
        "colab": {
          "base_uri": "https://localhost:8080/"
        },
        "id": "7USYu6N142hn",
        "outputId": "2ddf1721-d9f3-4a84-cd33-858ba315e64c"
      },
      "outputs": [
        {
          "output_type": "stream",
          "name": "stdout",
          "text": [
            "+------+-------+------+----------+\n",
            "|userID|movieID|rating|rating_100|\n",
            "+------+-------+------+----------+\n",
            "| 24515|  54272|   4.0|      80.0|\n",
            "|  3190|   6303|   3.5|      70.0|\n",
            "|  8881|   2942|   3.0|      60.0|\n",
            "| 30687|   4226|   4.0|      80.0|\n",
            "| 36292|   3910|   1.0|      20.0|\n",
            "+------+-------+------+----------+\n",
            "only showing top 5 rows\n",
            "\n"
          ]
        }
      ],
      "source": [
        "query = '''\n",
        "select userID, movieID, rating, udf_example_decorator(rating) as rating_100\n",
        "from\n",
        "df\n",
        "'''\n",
        "spark.sql(query).show(5)"
      ]
    },
    {
      "cell_type": "markdown",
      "metadata": {
        "id": "dNdTc07RWlLd"
      },
      "source": [
        "Ну и наш join"
      ]
    },
    {
      "cell_type": "code",
      "execution_count": null,
      "metadata": {
        "id": "yXqOTAhHWkQ1"
      },
      "outputs": [],
      "source": [
        "df_mean_user_rating.createOrReplaceTempView('df_mean_user_rating')\n",
        "df_mean_user_rating_year.createOrReplaceTempView('df_mean_user_rating_year')"
      ]
    },
    {
      "cell_type": "code",
      "execution_count": null,
      "metadata": {
        "colab": {
          "base_uri": "https://localhost:8080/"
        },
        "id": "slhrZnkeXgdo",
        "outputId": "a4e97d09-0c87-4146-d9a2-1210f6425eaa"
      },
      "outputs": [
        {
          "output_type": "stream",
          "name": "stdout",
          "text": [
            "+------+-------+------+--------+----------+---------+---------+-----------+-----------+------------------+-----------------+\n",
            "|userID|movieID|rating|date_day|date_month|date_year|date_hour|date_minute|date_second|    avg_rating_all|  avg_rating_year|\n",
            "+------+-------+------+--------+----------+---------+---------+-----------+-----------+------------------+-----------------+\n",
            "| 67068|   3360|   4.0|      15|        11|     2003|       20|         21|          7|3.2815934065934065|3.358974358974359|\n",
            "| 67068|   6410|   3.0|      11|         6|     2003|        2|         43|          9|3.2815934065934065|3.358974358974359|\n",
            "| 67068|   2288|   3.5|      11|         6|     2003|        2|         19|         18|3.2815934065934065|3.358974358974359|\n",
            "| 67068|   6378|   3.5|      15|        11|     2003|       20|         17|         25|3.2815934065934065|3.358974358974359|\n",
            "| 67068|   6188|   1.5|       9|         8|     2003|       16|         23|         19|3.2815934065934065|3.358974358974359|\n",
            "+------+-------+------+--------+----------+---------+---------+-----------+-----------+------------------+-----------------+\n",
            "only showing top 5 rows\n",
            "\n"
          ]
        }
      ],
      "source": [
        "query = '''\n",
        "select t.*, t1.avg_rating_all, t2.avg_rating_year\n",
        "from\n",
        "df t, df_mean_user_rating t1, df_mean_user_rating_year t2\n",
        "where\n",
        "    t.userID = t1.userID and\n",
        "    t.userID = t2.userID and\n",
        "    t.date_year = t2.date_year\n",
        "'''\n",
        "spark.sql(query).show(5)"
      ]
    },
    {
      "cell_type": "markdown",
      "metadata": {
        "id": "IUh-iswqZLFy"
      },
      "source": [
        "**fill() и fillna()**\n",
        "\n",
        "Оба метода идентичны, заполняют пропуски"
      ]
    },
    {
      "cell_type": "code",
      "execution_count": null,
      "metadata": {
        "id": "CqDjntPTaMWK"
      },
      "outputs": [],
      "source": [
        "import numpy as np"
      ]
    },
    {
      "cell_type": "code",
      "execution_count": null,
      "metadata": {
        "id": "zu7pS9UVZKcY"
      },
      "outputs": [],
      "source": [
        "data2 = [(2,\"Michael Rose\"),(3,\"Robert Williams\"),\n",
        "     (4,\"Rames Rose\"),(5, None), (6, None),\n",
        "     (None, 'Fred Tf')\n",
        "  ]\n",
        "df2 = spark.createDataFrame(data2, ['id', 'name'])"
      ]
    },
    {
      "cell_type": "markdown",
      "metadata": {
        "id": "9jtEyGTDFkPu"
      },
      "source": [
        "А где пропуски?"
      ]
    },
    {
      "cell_type": "code",
      "execution_count": null,
      "metadata": {
        "colab": {
          "base_uri": "https://localhost:8080/"
        },
        "id": "gEQhiI-FFiLe",
        "outputId": "fca0ec7e-2547-4f29-b031-e854eb2fc424"
      },
      "outputs": [
        {
          "output_type": "stream",
          "name": "stdout",
          "text": [
            "+---+----+\n",
            "| id|name|\n",
            "+---+----+\n",
            "|  1|   2|\n",
            "+---+----+\n",
            "\n"
          ]
        }
      ],
      "source": [
        "df2.select([F.count(F.when(F.isnan(c) | F.col(c).isNull(), c)).alias(c) for c in df2.columns]).show()"
      ]
    },
    {
      "cell_type": "code",
      "execution_count": null,
      "metadata": {
        "colab": {
          "base_uri": "https://localhost:8080/"
        },
        "id": "RwL5c9f1aZfQ",
        "outputId": "d1cfd7c3-29ba-45be-b5d3-dcf51f93be11"
      },
      "outputs": [
        {
          "output_type": "stream",
          "name": "stdout",
          "text": [
            "+----+---------------+\n",
            "|  id|           name|\n",
            "+----+---------------+\n",
            "|   2|   Michael Rose|\n",
            "|   3|Robert Williams|\n",
            "|   4|     Rames Rose|\n",
            "|   5|           NULL|\n",
            "|   6|           NULL|\n",
            "|NULL|        Fred Tf|\n",
            "+----+---------------+\n",
            "\n"
          ]
        }
      ],
      "source": [
        "df2.show()"
      ]
    },
    {
      "cell_type": "code",
      "execution_count": null,
      "metadata": {
        "colab": {
          "base_uri": "https://localhost:8080/"
        },
        "id": "m4ZY2Y9Lab8D",
        "outputId": "2b2f7371-33d6-4d86-bb72-c25391bdea6b"
      },
      "outputs": [
        {
          "output_type": "stream",
          "name": "stdout",
          "text": [
            "+---+---------------+\n",
            "| id|           name|\n",
            "+---+---------------+\n",
            "|  2|   Michael Rose|\n",
            "|  3|Robert Williams|\n",
            "|  4|     Rames Rose|\n",
            "|  5|           NULL|\n",
            "|  6|           NULL|\n",
            "|  0|        Fred Tf|\n",
            "+---+---------------+\n",
            "\n"
          ]
        }
      ],
      "source": [
        "df2.fillna({'id': 0}).show()"
      ]
    },
    {
      "cell_type": "code",
      "execution_count": null,
      "metadata": {
        "colab": {
          "base_uri": "https://localhost:8080/"
        },
        "id": "vyi4vYFSa_TS",
        "outputId": "2e0ecab0-779c-42ce-e95a-62eb137010aa"
      },
      "outputs": [
        {
          "output_type": "stream",
          "name": "stdout",
          "text": [
            "+---+---------------+\n",
            "| id|           name|\n",
            "+---+---------------+\n",
            "|  2|   Michael Rose|\n",
            "|  3|Robert Williams|\n",
            "|  4|     Rames Rose|\n",
            "|  5|        Unknown|\n",
            "|  6|        Unknown|\n",
            "|  0|        Fred Tf|\n",
            "+---+---------------+\n",
            "\n"
          ]
        }
      ],
      "source": [
        "df2.fillna({'id': 0, 'name': 'Unknown'}).show()"
      ]
    },
    {
      "cell_type": "markdown",
      "metadata": {
        "id": "gFF3UQJlbJsY"
      },
      "source": [
        "Аналогично"
      ]
    },
    {
      "cell_type": "code",
      "execution_count": null,
      "metadata": {
        "colab": {
          "base_uri": "https://localhost:8080/"
        },
        "id": "DjH5G5DCbMJG",
        "outputId": "fd831a08-687b-41f8-dd5a-a4b7bb85920f"
      },
      "outputs": [
        {
          "output_type": "stream",
          "name": "stdout",
          "text": [
            "+---+---------------+\n",
            "| id|           name|\n",
            "+---+---------------+\n",
            "|  2|   Michael Rose|\n",
            "|  3|Robert Williams|\n",
            "|  4|     Rames Rose|\n",
            "|  5|        Unknown|\n",
            "|  6|        Unknown|\n",
            "|  0|        Fred Tf|\n",
            "+---+---------------+\n",
            "\n"
          ]
        }
      ],
      "source": [
        "df2.na.fill({'id': 0, 'name': 'Unknown'}).show()"
      ]
    },
    {
      "cell_type": "markdown",
      "metadata": {
        "id": "KS1BDHPNmKGX"
      },
      "source": [
        "Немного поговорим о том, как делаеть подвыборки\n",
        "\n",
        "**sample и sampleBy**\n",
        "\n",
        "Не забываем про возможную некоторую недетерминированность"
      ]
    },
    {
      "cell_type": "code",
      "execution_count": null,
      "metadata": {
        "id": "zuFgRqpDgmj6"
      },
      "outputs": [],
      "source": [
        "import pyspark.sql.functions as F"
      ]
    },
    {
      "cell_type": "code",
      "execution_count": null,
      "metadata": {
        "id": "u3sUPPgLmJiW"
      },
      "outputs": [],
      "source": [
        "trans_data = spark.read.parquet('/content/drive/My Drive/Colab_Notebooks/PySpark/lesson_3/spark_transactions.parquet')\n",
        "trans_data = trans_data.withColumn('target', F.when(F.col('IsFraud')=='No', 0).otherwise(1))"
      ]
    },
    {
      "cell_type": "code",
      "execution_count": null,
      "metadata": {
        "id": "LV9Dc3_GmcoD"
      },
      "outputs": [],
      "source": [
        "trans_data.count()"
      ]
    },
    {
      "cell_type": "code",
      "execution_count": null,
      "metadata": {
        "id": "Yc7cxK3yno28"
      },
      "outputs": [],
      "source": [
        "trans_data.select(F.mean(F.col('target'))).show()"
      ]
    },
    {
      "cell_type": "code",
      "execution_count": null,
      "metadata": {
        "id": "JYcyQctEy1mY"
      },
      "outputs": [],
      "source": [
        "trans_data.select('target')\\\n",
        "          .groupBy('target')\\\n",
        "          .count()\\\n",
        "          .show()"
      ]
    },
    {
      "cell_type": "code",
      "execution_count": null,
      "metadata": {
        "id": "5uX2m5MEmeIm"
      },
      "outputs": [],
      "source": [
        "trans_data_simple = trans_data.sample(withReplacement=False, fraction=0.1, seed=3)\n",
        "print(trans_data_simple.count())\n",
        "trans_data_simple.select(F.mean(F.col('target'))).show()"
      ]
    },
    {
      "cell_type": "markdown",
      "metadata": {
        "id": "uotzZFIqnTEi"
      },
      "source": [
        "Стратификация\n",
        "\n",
        "Тут важно понимать, что это не scikit-learn и стратификация предполагает, что вы по какому-то полю можете выбрать определенную долю наблюдений по его значениям"
      ]
    },
    {
      "cell_type": "code",
      "execution_count": null,
      "metadata": {
        "colab": {
          "base_uri": "https://localhost:8080/"
        },
        "id": "2MciDJrYnM-j",
        "outputId": "6fe41ee5-fd03-4d13-bdaf-c101c56a36d9"
      },
      "outputs": [
        {
          "output_type": "stream",
          "name": "stdout",
          "text": [
            "+------+-----+\n",
            "|target|count|\n",
            "+------+-----+\n",
            "|     1|29757|\n",
            "+------+-----+\n",
            "\n"
          ]
        }
      ],
      "source": [
        "trans_data.sampleBy(F.col('target'), fractions={1: 1.0}, seed=0)\\\n",
        "          .select('target')\\\n",
        "          .groupBy('target')\\\n",
        "          .count()\\\n",
        "          .show()"
      ]
    },
    {
      "cell_type": "markdown",
      "metadata": {
        "id": "crv0BlfIzlYU"
      },
      "source": [
        "Не указали какой-то ключ - его доля будет 0"
      ]
    },
    {
      "cell_type": "code",
      "execution_count": null,
      "metadata": {
        "colab": {
          "base_uri": "https://localhost:8080/"
        },
        "id": "NQBDyAfezrS4",
        "outputId": "16131c5b-48ea-4246-c681-d26ab6f90252"
      },
      "outputs": [
        {
          "output_type": "stream",
          "name": "stdout",
          "text": [
            "+------+-------+\n",
            "|target|  count|\n",
            "+------+-------+\n",
            "|     1|  29757|\n",
            "|     0|2436333|\n",
            "+------+-------+\n",
            "\n"
          ]
        }
      ],
      "source": [
        "trans_data.sampleBy(F.col('target'), fractions={1: 1.0, 0: 0.1}, seed=0)\\\n",
        "          .select('target')\\\n",
        "          .groupBy('target')\\\n",
        "          .count()\\\n",
        "          .show()"
      ]
    },
    {
      "cell_type": "markdown",
      "metadata": {
        "id": "-XBlXlCI0O0K"
      },
      "source": [
        "Оконные функции **F.func().over(Window.partitionBy().orderBy())**"
      ]
    },
    {
      "cell_type": "code",
      "execution_count": null,
      "metadata": {
        "id": "-p4PyshB2jtk"
      },
      "outputs": [],
      "source": [
        "from pyspark.sql.window import Window"
      ]
    },
    {
      "cell_type": "code",
      "execution_count": null,
      "metadata": {
        "colab": {
          "base_uri": "https://localhost:8080/"
        },
        "id": "ovFXtw2j4VvG",
        "outputId": "6630618b-f753-4ff8-fee7-428568b6f5a6"
      },
      "outputs": [
        {
          "output_type": "stream",
          "name": "stdout",
          "text": [
            "+----+----+----+-----+---+----+----+------------------+----+\n",
            "|User|Card|Year|Month|Day|rn_1|rn_2|              mean| lag|\n",
            "+----+----+----+-----+---+----+----+------------------+----+\n",
            "|   0|   1|2015|    1| 24|  19|  37|              13.6|NULL|\n",
            "|   0|   1|2015|    1| 16|  18|  36|              13.6|  24|\n",
            "|   0|   1|2016|    1|  8|  41|  57|              13.6|  16|\n",
            "|   0|   1|2016|    1|  5|  40|  56|              13.6|   8|\n",
            "|   0|   1|2016|    1|  3|  39|  55|              13.6|   5|\n",
            "|   0|   1|2016|    1|  1|  38|  54|              13.6|   3|\n",
            "|   0|   1|2018|    1| 27|  74|  88|              13.6|   1|\n",
            "|   0|   1|2018|    1|  5|  73|  87|              13.6|  27|\n",
            "|   0|   1|2020|    1| 26| 102| 105|              13.6|   5|\n",
            "|   0|   1|2020|    1| 21| 101| 104|              13.6|  26|\n",
            "|   0|   1|2015|    2| 15|  20|  35|15.666666666666666|NULL|\n",
            "|   0|   1|2016|    2|  7|  42|  53|15.666666666666666|  15|\n",
            "|   0|   1|2018|    2| 23|  76|  86|15.666666666666666|   7|\n",
            "|   0|   1|2018|    2|  5|  75|  85|15.666666666666666|  23|\n",
            "|   0|   1|2019|    2| 23|  90| 100|15.666666666666666|   5|\n",
            "|   0|   1|2019|    2|  3|  89|  99|15.666666666666666|  23|\n",
            "|   0|   1|2020|    2| 26| 105| 103|15.666666666666666|   3|\n",
            "|   0|   1|2020|    2| 22| 104| 102|15.666666666666666|  26|\n",
            "|   0|   1|2020|    2| 17| 103| 101|15.666666666666666|  22|\n",
            "|   0|   1|2015|    3| 31|  22|  34|14.714285714285714|NULL|\n",
            "+----+----+----+-----+---+----+----+------------------+----+\n",
            "only showing top 20 rows\n",
            "\n"
          ]
        }
      ],
      "source": [
        "trans_data_simple.select('User', 'Card', 'Year', 'Month', 'Day')\\\n",
        ".withColumn('rn_1', F.row_number().over(Window.partitionBy('User', 'Card').orderBy(F.col('Year').asc())))\\\n",
        ".withColumn('rn_2', F.row_number().over(Window.partitionBy('User', 'Card').orderBy(F.col('Year').asc(), F.col('Month').desc())))\\\n",
        ".withColumn('mean', F.mean('Day').over(Window.partitionBy('User', 'Card', 'Month')))\\\n",
        ".withColumn('lag', F.lag('Day').over(Window.partitionBy('User', 'Card', 'Month').orderBy(F.col('Year').asc(),\n",
        "                                                                                         F.col('Month').desc(),\n",
        "                                                                                         F.col('Day').desc())))\\\n",
        ".show()"
      ]
    },
    {
      "cell_type": "markdown",
      "metadata": {
        "id": "l5kvR2tz8GzD"
      },
      "source": [
        "Сборка последовательностей через **collect_list()**"
      ]
    },
    {
      "cell_type": "code",
      "execution_count": null,
      "metadata": {
        "colab": {
          "base_uri": "https://localhost:8080/"
        },
        "id": "0yWD7_HZhklz",
        "outputId": "3224c31d-29b8-4b98-c114-acde4b4e22e0"
      },
      "outputs": [
        {
          "output_type": "stream",
          "name": "stdout",
          "text": [
            "root\n",
            " |-- User: long (nullable = true)\n",
            " |-- Card: long (nullable = true)\n",
            " |-- Year: long (nullable = true)\n",
            " |-- Month: long (nullable = true)\n",
            " |-- Day: long (nullable = true)\n",
            " |-- Time: string (nullable = true)\n",
            " |-- Amount: string (nullable = true)\n",
            " |-- UseChip: string (nullable = true)\n",
            " |-- MerchantCity: string (nullable = true)\n",
            " |-- MerchantState: string (nullable = true)\n",
            " |-- Zip: double (nullable = true)\n",
            " |-- MCC: long (nullable = true)\n",
            " |-- IsFraud: string (nullable = true)\n",
            " |-- target: integer (nullable = false)\n",
            "\n"
          ]
        }
      ],
      "source": [
        "trans_data.printSchema()"
      ]
    },
    {
      "cell_type": "code",
      "execution_count": null,
      "metadata": {
        "id": "Rf9_lhZwg951"
      },
      "outputs": [],
      "source": [
        "trans_data_simple_seq = trans_data_simple.select('User', 'Card', F.struct('Amount', 'Day').alias('sequence'))"
      ]
    },
    {
      "cell_type": "code",
      "execution_count": null,
      "metadata": {
        "colab": {
          "base_uri": "https://localhost:8080/"
        },
        "id": "zUhoyMlPh3Tv",
        "outputId": "cd3d0f08-1071-4f3a-bbdf-6119a0fb958c"
      },
      "outputs": [
        {
          "output_type": "stream",
          "name": "stdout",
          "text": [
            "+----+----+-------------+\n",
            "|User|Card|     sequence|\n",
            "+----+----+-------------+\n",
            "|   0|   0|{$162.39, 11}|\n",
            "|   0|   0|{$159.72, 17}|\n",
            "|   0|   0| {$92.30, 18}|\n",
            "|   0|   0|{$168.11, 19}|\n",
            "|   0|   0|{$119.69, 20}|\n",
            "|   0|   0| {$48.34, 21}|\n",
            "|   0|   0|{$141.70, 28}|\n",
            "|   0|   0| {$40.58, 29}|\n",
            "|   0|   0|  {$16.87, 5}|\n",
            "|   0|   0|  {$1.84, 18}|\n",
            "|   0|   0| {$57.00, 21}|\n",
            "|   0|   0| {$66.00, 24}|\n",
            "|   0|   0| {$35.82, 25}|\n",
            "|   0|   0| {$77.85, 30}|\n",
            "|   0|   0| {$96.00, 31}|\n",
            "|   0|   0|  {$30.50, 2}|\n",
            "|   0|   0|  {$75.72, 4}|\n",
            "|   0|   0| {$122.64, 8}|\n",
            "|   0|   0|{$127.33, 18}|\n",
            "|   0|   0| {$83.17, 20}|\n",
            "+----+----+-------------+\n",
            "only showing top 20 rows\n",
            "\n"
          ]
        }
      ],
      "source": [
        "trans_data_simple_seq.show()"
      ]
    },
    {
      "cell_type": "code",
      "execution_count": null,
      "metadata": {
        "id": "IsS936Krh9RH"
      },
      "outputs": [],
      "source": [
        "trans_data_simple_seq = trans_data_simple_seq.groupBy('User', 'Card')\\\n",
        "                                             .agg(F.collect_list('sequence').alias('sequence'))"
      ]
    },
    {
      "cell_type": "code",
      "execution_count": null,
      "metadata": {
        "colab": {
          "base_uri": "https://localhost:8080/"
        },
        "id": "Z-NZsqmxiSSG",
        "outputId": "4aa4e4e6-6771-44c1-bd88-2fd40d9b333e"
      },
      "outputs": [
        {
          "output_type": "stream",
          "name": "stdout",
          "text": [
            "+----+----+--------------------------------------------------+\n",
            "|User|Card|                                          sequence|\n",
            "+----+----+--------------------------------------------------+\n",
            "|   0|   1|[{$20.61, 29}, {$42.80, 6}, {$13.49, 6}, {$149....|\n",
            "|   1|   0|                      [{$60.86, 18}, {$29.18, 18}]|\n",
            "|   1|   1|[{$120.00, 2}, {$24.63, 10}, {$67.21, 13}, {$14...|\n",
            "|   1|   3|[{$12.90, 25}, {$2.72, 14}, {$55.14, 3}, {$96.0...|\n",
            "|   1|   4|[{$90.43, 8}, {$10.77, 16}, {$0.67, 26}, {$14.1...|\n",
            "|   3|   0|[{$141.16, 9}, {$340.00, 10}, {$400.00, 15}, {$...|\n",
            "|   4|   0|[{$42.88, 2}, {$464.35, 12}, {$103.37, 14}, {$1...|\n",
            "|   5|   1|[{$113.45, 1}, {$18.80, 15}, {$16.82, 20}, {$22...|\n",
            "|   6|   1|[{$433.47, 5}, {$34.39, 10}, {$34.96, 12}, {$-4...|\n",
            "|   8|   1|[{$32.67, 2}, {$16.20, 23}, {$18.71, 27}, {$47....|\n",
            "|   8|   3|[{$21.24, 5}, {$19.27, 12}, {$122.29, 14}, {$13...|\n",
            "|  13|   0|[{$1128.96, 18}, {$16.34, 22}, {$314.23, 7}, {$...|\n",
            "|  13|   1|[{$16.81, 16}, {$43.04, 18}, {$17.67, 23}, {$11...|\n",
            "|  15|   0|[{$70.00, 3}, {$6.58, 13}, {$7.39, 21}, {$6.67,...|\n",
            "|  15|   3|[{$9.33, 16}, {$60.40, 26}, {$80.00, 30}, {$5.2...|\n",
            "|  15|   5|[{$27.23, 20}, {$56.43, 25}, {$5.08, 26}, {$100...|\n",
            "|  16|   2|[{$22.60, 21}, {$14.65, 10}, {$67.58, 27}, {$23...|\n",
            "|  16|   3|[{$23.88, 11}, {$37.53, 12}, {$50.00, 20}, {$43...|\n",
            "|  16|   4|[{$70.55, 20}, {$71.12, 24}, {$85.00, 26}, {$4....|\n",
            "|  17|   0|[{$156.37, 17}, {$113.65, 1}, {$26.72, 8}, {$5....|\n",
            "+----+----+--------------------------------------------------+\n",
            "only showing top 20 rows\n",
            "\n"
          ]
        }
      ],
      "source": [
        "trans_data_simple_seq.show(truncate=50)"
      ]
    },
    {
      "cell_type": "markdown",
      "metadata": {
        "id": "Rd8ITh5XikuI"
      },
      "source": [
        "А что с этим делать дальше? Можно перейти к RDD и построчно обрабатывать"
      ]
    },
    {
      "cell_type": "code",
      "execution_count": null,
      "metadata": {
        "id": "Jq8hyqcsikLw"
      },
      "outputs": [],
      "source": [
        "row = trans_data_simple_seq.rdd.take(1)"
      ]
    },
    {
      "cell_type": "code",
      "execution_count": null,
      "metadata": {
        "colab": {
          "base_uri": "https://localhost:8080/"
        },
        "id": "TrbCyyt1ivcg",
        "outputId": "0fb610b8-b20a-480a-a124-4e4f4c3c249b"
      },
      "outputs": [
        {
          "output_type": "execute_result",
          "data": {
            "text/plain": [
              "[Row(User=0, Card=1, sequence=[Row(Amount='$20.61', Day=29), Row(Amount='$42.80', Day=6), Row(Amount='$13.49', Day=6), Row(Amount='$149.22', Day=17), Row(Amount='$172.21', Day=1), Row(Amount='$58.68', Day=5), Row(Amount='$33.22', Day=25), Row(Amount='$154.21', Day=29), Row(Amount='$10.47', Day=9), Row(Amount='$6.84', Day=4), Row(Amount='$87.28', Day=1), Row(Amount='$81.00', Day=15), Row(Amount='$-81.00', Day=15), Row(Amount='$39.80', Day=25), Row(Amount='$5.22', Day=1), Row(Amount='$14.08', Day=2), Row(Amount='$30.24', Day=13), Row(Amount='$66.30', Day=16), Row(Amount='$12.31', Day=24), Row(Amount='$120.10', Day=15), Row(Amount='$38.08', Day=1), Row(Amount='$63.82', Day=31), Row(Amount='$151.48', Day=6), Row(Amount='$50.01', Day=15), Row(Amount='$45.55', Day=24), Row(Amount='$103.04', Day=2), Row(Amount='$12.95', Day=13), Row(Amount='$10.26', Day=12), Row(Amount='$65.00', Day=13), Row(Amount='$1.49', Day=22), Row(Amount='$1.51', Day=10), Row(Amount='$24.14', Day=17), Row(Amount='$28.64', Day=4), Row(Amount='$145.24', Day=9), Row(Amount='$122.25', Day=2), Row(Amount='$109.87', Day=3), Row(Amount='$26.63', Day=30), Row(Amount='$129.62', Day=1), Row(Amount='$125.29', Day=3), Row(Amount='$40.65', Day=5), Row(Amount='$6.43', Day=8), Row(Amount='$25.46', Day=7), Row(Amount='$153.62', Day=11), Row(Amount='$15.97', Day=5), Row(Amount='$124.10', Day=27), Row(Amount='$108.09', Day=1), Row(Amount='$38.25', Day=5), Row(Amount='$3.26', Day=4), Row(Amount='$30.24', Day=7), Row(Amount='$36.21', Day=7), Row(Amount='$38.03', Day=21), Row(Amount='$128.21', Day=23), Row(Amount='$27.73', Day=1), Row(Amount='$29.68', Day=7), Row(Amount='$70.38', Day=10), Row(Amount='$-81.00', Day=10), Row(Amount='$56.13', Day=10), Row(Amount='$121.64', Day=9), Row(Amount='$9.39', Day=25), Row(Amount='$41.49', Day=7), Row(Amount='$34.28', Day=16), Row(Amount='$26.24', Day=15), Row(Amount='$107.85', Day=30), Row(Amount='$50.93', Day=5), Row(Amount='$23.22', Day=23), Row(Amount='$29.40', Day=3), Row(Amount='$38.88', Day=8), Row(Amount='$44.70', Day=24), Row(Amount='$-91.00', Day=31), Row(Amount='$63.46', Day=16), Row(Amount='$124.20', Day=22), Row(Amount='$122.28', Day=25), Row(Amount='$35.07', Day=5), Row(Amount='$30.14', Day=27), Row(Amount='$145.54', Day=5), Row(Amount='$54.91', Day=23), Row(Amount='$38.48', Day=20), Row(Amount='$25.07', Day=16), Row(Amount='$71.53', Day=24), Row(Amount='$13.22', Day=30), Row(Amount='$1.93', Day=4), Row(Amount='$79.84', Day=29), Row(Amount='$15.54', Day=13), Row(Amount='$45.77', Day=14), Row(Amount='$37.53', Day=1), Row(Amount='$28.71', Day=20), Row(Amount='$6.36', Day=2), Row(Amount='$112.71', Day=14), Row(Amount='$48.72', Day=3), Row(Amount='$2.00', Day=23), Row(Amount='$199.08', Day=6), Row(Amount='$47.42', Day=29), Row(Amount='$122.18', Day=19), Row(Amount='$37.78', Day=17), Row(Amount='$29.91', Day=30), Row(Amount='$60.74', Day=1), Row(Amount='$64.92', Day=13), Row(Amount='$135.14', Day=15), Row(Amount='$6.16', Day=22), Row(Amount='$153.10', Day=19), Row(Amount='$93.24', Day=21), Row(Amount='$148.69', Day=26), Row(Amount='$153.86', Day=17), Row(Amount='$58.58', Day=22), Row(Amount='$84.61', Day=26)])]"
            ]
          },
          "metadata": {},
          "execution_count": 155
        }
      ],
      "source": [
        "row"
      ]
    },
    {
      "cell_type": "code",
      "execution_count": null,
      "metadata": {
        "colab": {
          "base_uri": "https://localhost:8080/"
        },
        "id": "O30kjweEix_C",
        "outputId": "0ac7b232-227d-4b42-f420-8c99ed3f311e"
      },
      "outputs": [
        {
          "output_type": "execute_result",
          "data": {
            "text/plain": [
              "[Row(Amount='$20.61', Day=29),\n",
              " Row(Amount='$42.80', Day=6),\n",
              " Row(Amount='$13.49', Day=6),\n",
              " Row(Amount='$149.22', Day=17),\n",
              " Row(Amount='$172.21', Day=1),\n",
              " Row(Amount='$58.68', Day=5),\n",
              " Row(Amount='$33.22', Day=25),\n",
              " Row(Amount='$154.21', Day=29),\n",
              " Row(Amount='$10.47', Day=9),\n",
              " Row(Amount='$6.84', Day=4),\n",
              " Row(Amount='$87.28', Day=1),\n",
              " Row(Amount='$81.00', Day=15),\n",
              " Row(Amount='$-81.00', Day=15),\n",
              " Row(Amount='$39.80', Day=25),\n",
              " Row(Amount='$5.22', Day=1),\n",
              " Row(Amount='$14.08', Day=2),\n",
              " Row(Amount='$30.24', Day=13),\n",
              " Row(Amount='$66.30', Day=16),\n",
              " Row(Amount='$12.31', Day=24),\n",
              " Row(Amount='$120.10', Day=15),\n",
              " Row(Amount='$38.08', Day=1),\n",
              " Row(Amount='$63.82', Day=31),\n",
              " Row(Amount='$151.48', Day=6),\n",
              " Row(Amount='$50.01', Day=15),\n",
              " Row(Amount='$45.55', Day=24),\n",
              " Row(Amount='$103.04', Day=2),\n",
              " Row(Amount='$12.95', Day=13),\n",
              " Row(Amount='$10.26', Day=12),\n",
              " Row(Amount='$65.00', Day=13),\n",
              " Row(Amount='$1.49', Day=22),\n",
              " Row(Amount='$1.51', Day=10),\n",
              " Row(Amount='$24.14', Day=17),\n",
              " Row(Amount='$28.64', Day=4),\n",
              " Row(Amount='$145.24', Day=9),\n",
              " Row(Amount='$122.25', Day=2),\n",
              " Row(Amount='$109.87', Day=3),\n",
              " Row(Amount='$26.63', Day=30),\n",
              " Row(Amount='$129.62', Day=1),\n",
              " Row(Amount='$125.29', Day=3),\n",
              " Row(Amount='$40.65', Day=5),\n",
              " Row(Amount='$6.43', Day=8),\n",
              " Row(Amount='$25.46', Day=7),\n",
              " Row(Amount='$153.62', Day=11),\n",
              " Row(Amount='$15.97', Day=5),\n",
              " Row(Amount='$124.10', Day=27),\n",
              " Row(Amount='$108.09', Day=1),\n",
              " Row(Amount='$38.25', Day=5),\n",
              " Row(Amount='$3.26', Day=4),\n",
              " Row(Amount='$30.24', Day=7),\n",
              " Row(Amount='$36.21', Day=7),\n",
              " Row(Amount='$38.03', Day=21),\n",
              " Row(Amount='$128.21', Day=23),\n",
              " Row(Amount='$27.73', Day=1),\n",
              " Row(Amount='$29.68', Day=7),\n",
              " Row(Amount='$70.38', Day=10),\n",
              " Row(Amount='$-81.00', Day=10),\n",
              " Row(Amount='$56.13', Day=10),\n",
              " Row(Amount='$121.64', Day=9),\n",
              " Row(Amount='$9.39', Day=25),\n",
              " Row(Amount='$41.49', Day=7),\n",
              " Row(Amount='$34.28', Day=16),\n",
              " Row(Amount='$26.24', Day=15),\n",
              " Row(Amount='$107.85', Day=30),\n",
              " Row(Amount='$50.93', Day=5),\n",
              " Row(Amount='$23.22', Day=23),\n",
              " Row(Amount='$29.40', Day=3),\n",
              " Row(Amount='$38.88', Day=8),\n",
              " Row(Amount='$44.70', Day=24),\n",
              " Row(Amount='$-91.00', Day=31),\n",
              " Row(Amount='$63.46', Day=16),\n",
              " Row(Amount='$124.20', Day=22),\n",
              " Row(Amount='$122.28', Day=25),\n",
              " Row(Amount='$35.07', Day=5),\n",
              " Row(Amount='$30.14', Day=27),\n",
              " Row(Amount='$145.54', Day=5),\n",
              " Row(Amount='$54.91', Day=23),\n",
              " Row(Amount='$38.48', Day=20),\n",
              " Row(Amount='$25.07', Day=16),\n",
              " Row(Amount='$71.53', Day=24),\n",
              " Row(Amount='$13.22', Day=30),\n",
              " Row(Amount='$1.93', Day=4),\n",
              " Row(Amount='$79.84', Day=29),\n",
              " Row(Amount='$15.54', Day=13),\n",
              " Row(Amount='$45.77', Day=14),\n",
              " Row(Amount='$37.53', Day=1),\n",
              " Row(Amount='$28.71', Day=20),\n",
              " Row(Amount='$6.36', Day=2),\n",
              " Row(Amount='$112.71', Day=14),\n",
              " Row(Amount='$48.72', Day=3),\n",
              " Row(Amount='$2.00', Day=23),\n",
              " Row(Amount='$199.08', Day=6),\n",
              " Row(Amount='$47.42', Day=29),\n",
              " Row(Amount='$122.18', Day=19),\n",
              " Row(Amount='$37.78', Day=17),\n",
              " Row(Amount='$29.91', Day=30),\n",
              " Row(Amount='$60.74', Day=1),\n",
              " Row(Amount='$64.92', Day=13),\n",
              " Row(Amount='$135.14', Day=15),\n",
              " Row(Amount='$6.16', Day=22),\n",
              " Row(Amount='$153.10', Day=19),\n",
              " Row(Amount='$93.24', Day=21),\n",
              " Row(Amount='$148.69', Day=26),\n",
              " Row(Amount='$153.86', Day=17),\n",
              " Row(Amount='$58.58', Day=22),\n",
              " Row(Amount='$84.61', Day=26)]"
            ]
          },
          "metadata": {},
          "execution_count": 156
        }
      ],
      "source": [
        "row[0]['sequence']"
      ]
    },
    {
      "cell_type": "markdown",
      "metadata": {
        "id": "vAVfOjcTcdGQ"
      },
      "source": [
        "**Домашнее задание**\n",
        "\n",
        "Куда же без домашки, верно?\n",
        "\n",
        "Есть данные по транзакциям клиентов, ваша задача состоит в анализе этих данных и подготовки к структуре, которая похожа на ту структуру, которая сейчас часто нами используется при построении моделей на транзакциях + промежуточные задания.\n",
        "\n",
        "Не забудьте делать всякие show после каждого задания, чтобы было видно результат\n",
        "\n",
        "**Файл spark_transactions.parquet можете забрать в папке с записями лекций**\n",
        "\n",
        "**Важно**\n",
        "В домашнем задании старайтесь использовать максимально dataframe api, а не sql запросы."
      ]
    },
    {
      "cell_type": "code",
      "execution_count": 6,
      "metadata": {
        "id": "C-0T0sTY5Odw"
      },
      "outputs": [],
      "source": [
        "trans_data = spark.read.parquet('/content/drive/My Drive/Colab_Notebooks/PySpark/lesson_3/spark_transactions.parquet')"
      ]
    },
    {
      "cell_type": "code",
      "execution_count": 7,
      "metadata": {
        "colab": {
          "base_uri": "https://localhost:8080/"
        },
        "id": "ULuAEhmOmEC4",
        "outputId": "02d4e3ac-3b02-41fe-fecc-c1071fe884db"
      },
      "outputs": [
        {
          "output_type": "execute_result",
          "data": {
            "text/plain": [
              "24386900"
            ]
          },
          "metadata": {},
          "execution_count": 7
        }
      ],
      "source": [
        "trans_data.count()"
      ]
    },
    {
      "cell_type": "code",
      "execution_count": 8,
      "metadata": {
        "colab": {
          "base_uri": "https://localhost:8080/"
        },
        "id": "wTg-84Tr7tq4",
        "outputId": "939dcbbf-fde8-4a26-dcef-aaa1fcf0b43e"
      },
      "outputs": [
        {
          "output_type": "stream",
          "name": "stdout",
          "text": [
            "+----+----+----+-----+---+-----+-------+-----------------+-------------+-------------+-------+----+-------+\n",
            "|User|Card|Year|Month|Day| Time| Amount|          UseChip| MerchantCity|MerchantState|    Zip| MCC|IsFraud|\n",
            "+----+----+----+-----+---+-----+-------+-----------------+-------------+-------------+-------+----+-------+\n",
            "|   0|   0|2002|    9|  1|06:21|$134.09|Swipe Transaction|     La Verne|           CA|91750.0|5300|     No|\n",
            "|   0|   0|2002|    9|  1|06:42| $38.48|Swipe Transaction|Monterey Park|           CA|91754.0|5411|     No|\n",
            "|   0|   0|2002|    9|  2|06:22|$120.34|Swipe Transaction|Monterey Park|           CA|91754.0|5411|     No|\n",
            "|   0|   0|2002|    9|  2|17:45|$128.95|Swipe Transaction|Monterey Park|           CA|91754.0|5651|     No|\n",
            "|   0|   0|2002|    9|  3|06:23|$104.71|Swipe Transaction|     La Verne|           CA|91750.0|5912|     No|\n",
            "+----+----+----+-----+---+-----+-------+-----------------+-------------+-------------+-------+----+-------+\n",
            "only showing top 5 rows\n",
            "\n"
          ]
        }
      ],
      "source": [
        "trans_data.show(5)"
      ]
    },
    {
      "cell_type": "markdown",
      "metadata": {
        "id": "Wa1YHO4iJNlU"
      },
      "source": [
        "Посмотрим на схему данных"
      ]
    },
    {
      "cell_type": "code",
      "execution_count": 9,
      "metadata": {
        "id": "97WEy56hXtsj",
        "colab": {
          "base_uri": "https://localhost:8080/"
        },
        "outputId": "4fd40067-7ed6-4d70-dd1a-43d2f6c1a307"
      },
      "outputs": [
        {
          "output_type": "stream",
          "name": "stdout",
          "text": [
            "root\n",
            " |-- User: long (nullable = true)\n",
            " |-- Card: long (nullable = true)\n",
            " |-- Year: long (nullable = true)\n",
            " |-- Month: long (nullable = true)\n",
            " |-- Day: long (nullable = true)\n",
            " |-- Time: string (nullable = true)\n",
            " |-- Amount: string (nullable = true)\n",
            " |-- UseChip: string (nullable = true)\n",
            " |-- MerchantCity: string (nullable = true)\n",
            " |-- MerchantState: string (nullable = true)\n",
            " |-- Zip: double (nullable = true)\n",
            " |-- MCC: long (nullable = true)\n",
            " |-- IsFraud: string (nullable = true)\n",
            "\n"
          ]
        }
      ],
      "source": [
        "trans_data.printSchema()"
      ]
    },
    {
      "cell_type": "markdown",
      "metadata": {
        "id": "yfi4rGq8IP70"
      },
      "source": [
        "Сколько в среднем транзакций у пользователя"
      ]
    },
    {
      "cell_type": "code",
      "execution_count": 10,
      "metadata": {
        "id": "Q6tW6OGiXtsj",
        "colab": {
          "base_uri": "https://localhost:8080/"
        },
        "outputId": "f1c97d6e-387c-417c-8e8b-d3df5d16b0c2"
      },
      "outputs": [
        {
          "output_type": "stream",
          "name": "stdout",
          "text": [
            "+--------------------+\n",
            "|user_avg_trans_count|\n",
            "+--------------------+\n",
            "|            12193.45|\n",
            "+--------------------+\n",
            "\n"
          ]
        }
      ],
      "source": [
        "trans_data.groupBy('User').count()\\\n",
        "          .select(F.avg('count').alias('user_avg_trans_count')).show()"
      ]
    },
    {
      "cell_type": "markdown",
      "metadata": {
        "id": "NQ65xaaxGfyZ"
      },
      "source": [
        "Сколько карт у пользователей в среднем"
      ]
    },
    {
      "cell_type": "code",
      "execution_count": 11,
      "metadata": {
        "id": "3eJP7vzNXtsj",
        "colab": {
          "base_uri": "https://localhost:8080/"
        },
        "outputId": "78234047-cb96-48cb-bd42-b810d7145b6a"
      },
      "outputs": [
        {
          "output_type": "stream",
          "name": "stdout",
          "text": [
            "+-------------------+\n",
            "|user_avg_card_count|\n",
            "+-------------------+\n",
            "|             3.0695|\n",
            "+-------------------+\n",
            "\n"
          ]
        }
      ],
      "source": [
        "trans_data.select('User', 'Card').distinct().groupBy('User').count()\\\n",
        "          .select(F.avg('count').alias('user_avg_card_count')).show()"
      ]
    },
    {
      "cell_type": "markdown",
      "metadata": {
        "id": "LQ5tOK9AJMbJ"
      },
      "source": [
        "Немного обработаем данные: Amount в float, из Time вытянем час транзакции и удалим исходный Time, Zip  к типу int"
      ]
    },
    {
      "cell_type": "code",
      "execution_count": 12,
      "metadata": {
        "id": "x9DfG79tXtsj",
        "colab": {
          "base_uri": "https://localhost:8080/"
        },
        "outputId": "31653f5a-0b7b-48f9-a20a-90a71508413a"
      },
      "outputs": [
        {
          "output_type": "stream",
          "name": "stdout",
          "text": [
            "+----+----+----+-----+---+------+-----------------+-------------+-------------+-----+----+-------+----+\n",
            "|User|Card|Year|Month|Day|Amount|          UseChip| MerchantCity|MerchantState|  Zip| MCC|IsFraud|Hour|\n",
            "+----+----+----+-----+---+------+-----------------+-------------+-------------+-----+----+-------+----+\n",
            "|   0|   0|2002|    9|  1|134.09|Swipe Transaction|     La Verne|           CA|91750|5300|     No|   6|\n",
            "|   0|   0|2002|    9|  1| 38.48|Swipe Transaction|Monterey Park|           CA|91754|5411|     No|   6|\n",
            "|   0|   0|2002|    9|  2|120.34|Swipe Transaction|Monterey Park|           CA|91754|5411|     No|   6|\n",
            "|   0|   0|2002|    9|  2|128.95|Swipe Transaction|Monterey Park|           CA|91754|5651|     No|  17|\n",
            "|   0|   0|2002|    9|  3|104.71|Swipe Transaction|     La Verne|           CA|91750|5912|     No|   6|\n",
            "+----+----+----+-----+---+------+-----------------+-------------+-------------+-----+----+-------+----+\n",
            "only showing top 5 rows\n",
            "\n"
          ]
        }
      ],
      "source": [
        "trans_data = trans_data.withColumn('Amount', F.regexp_replace('Amount', '\\$', '').cast('float'))\\\n",
        "                       .withColumn('Hour', F.hour('Time').cast('int')).drop('Time')\\\n",
        "                       .withColumn('Zip', F.col('Zip').cast('int'))\n",
        "\n",
        "trans_data.show(5)"
      ]
    },
    {
      "cell_type": "markdown",
      "metadata": {
        "id": "Km4bInOzTf2d"
      },
      "source": [
        "Посчитайте количество транзакций по годам, учитывая только те транзакции, объем которых был больше 100"
      ]
    },
    {
      "cell_type": "code",
      "execution_count": 13,
      "metadata": {
        "id": "YXb_dT5BXtsj",
        "colab": {
          "base_uri": "https://localhost:8080/"
        },
        "outputId": "4d7490da-ece5-46c3-c1aa-0568c8493da0"
      },
      "outputs": [
        {
          "output_type": "stream",
          "name": "stdout",
          "text": [
            "+----+-----+\n",
            "|Year|count|\n",
            "+----+-----+\n",
            "|1991|  266|\n",
            "|1992|  680|\n",
            "|1993| 1050|\n",
            "|1994| 1533|\n",
            "|1995| 2132|\n",
            "+----+-----+\n",
            "only showing top 5 rows\n",
            "\n"
          ]
        }
      ],
      "source": [
        "count_trans_by_years = trans_data.filter('Amount > 100')\\\n",
        "          .groupby('Year').count()\\\n",
        "          .orderBy('Year')\n",
        "\n",
        "count_trans_by_years.show(5)"
      ]
    },
    {
      "cell_type": "markdown",
      "metadata": {
        "id": "lPQ3E9SGDtWJ"
      },
      "source": [
        "Определите, есть ли пропуски в данных по каждому столбцу"
      ]
    },
    {
      "cell_type": "code",
      "source": [
        "trans_data.select([F.count(F.when(F.isnan(col) | F.col(col).isNull(), col)).alias(col) for col in trans_data.columns]).show()"
      ],
      "metadata": {
        "colab": {
          "base_uri": "https://localhost:8080/"
        },
        "id": "2iKQkZRKV7IU",
        "outputId": "c095ae7b-0575-4505-a4dc-9b8ac044de61"
      },
      "execution_count": null,
      "outputs": [
        {
          "output_type": "stream",
          "name": "stdout",
          "text": [
            "+----+----+----+-----+---+------+-------+------------+-------------+-------+---+-------+----+\n",
            "|User|Card|Year|Month|Day|Amount|UseChip|MerchantCity|MerchantState|    Zip|MCC|IsFraud|Hour|\n",
            "+----+----+----+-----+---+------+-------+------------+-------------+-------+---+-------+----+\n",
            "|   0|   0|   0|    0|  0|     0|      0|           0|      2720821|2878135|  0|      0|   0|\n",
            "+----+----+----+-----+---+------+-------+------------+-------------+-------+---+-------+----+\n",
            "\n"
          ]
        }
      ]
    },
    {
      "cell_type": "markdown",
      "metadata": {
        "id": "Rg3ZKFXYGF1I"
      },
      "source": [
        "Заполните пропуски исходя из типа данных"
      ]
    },
    {
      "cell_type": "code",
      "source": [
        "trans_data = trans_data.fillna({'MerchantState': 'Unknown', 'Zip': -1})"
      ],
      "metadata": {
        "id": "CEA0uF5kX6FV"
      },
      "execution_count": 14,
      "outputs": []
    },
    {
      "cell_type": "code",
      "execution_count": null,
      "metadata": {
        "id": "nlld3xRkXtsk",
        "colab": {
          "base_uri": "https://localhost:8080/"
        },
        "outputId": "1bc4ff29-6b7c-4e17-ef6c-d6caed2ad2d8"
      },
      "outputs": [
        {
          "output_type": "stream",
          "name": "stdout",
          "text": [
            "+----+----+----+-----+---+------+-------+------------+-------------+---+---+-------+----+\n",
            "|User|Card|Year|Month|Day|Amount|UseChip|MerchantCity|MerchantState|Zip|MCC|IsFraud|Hour|\n",
            "+----+----+----+-----+---+------+-------+------------+-------------+---+---+-------+----+\n",
            "|   0|   0|   0|    0|  0|     0|      0|           0|            0|  0|  0|      0|   0|\n",
            "+----+----+----+-----+---+------+-------+------------+-------------+---+---+-------+----+\n",
            "\n"
          ]
        }
      ],
      "source": [
        "trans_data.select([F.count(F.when(F.isnan(col) | F.col(col).isNull(), col)).alias(col) for col in trans_data.columns]).show()"
      ]
    },
    {
      "cell_type": "markdown",
      "metadata": {
        "id": "iKumnBpJNR1H"
      },
      "source": [
        "При помощи оконных функций для каждого клиента рассчитайте средний размер транзакции, количество транзакций и последнюю по дате транзакцию."
      ]
    },
    {
      "cell_type": "code",
      "execution_count": 15,
      "metadata": {
        "id": "6EGM5WttNRVL",
        "colab": {
          "base_uri": "https://localhost:8080/"
        },
        "outputId": "2fe8daa6-0aa1-4148-a7d0-d1845306a93a"
      },
      "outputs": [
        {
          "output_type": "stream",
          "name": "stdout",
          "text": [
            "+----+----+----+-----+---+------+-----------------+------------+-------------+-----+----+-------+----+------------------+---------------+\n",
            "|User|Card|Year|Month|Day|Amount|          UseChip|MerchantCity|MerchantState|  Zip| MCC|IsFraud|Hour|   User_avg_amount|User_amount_cnt|\n",
            "+----+----+----+-----+---+------+-----------------+------------+-------------+-----+----+-------+----+------------------+---------------+\n",
            "|   0|   2|2020|    2| 28| 41.05| Chip Transaction|    La Verne|           CA|91750|5912|     No|   7| 81.29998946268704|          19963|\n",
            "|   7|   0|2020|    2| 28| 77.89|Swipe Transaction|    Portland|           OR|97214|5812|     No|  21| 53.51347442754244|            236|\n",
            "|  19|   1|2020|    2| 28|  24.7| Chip Transaction|      Tucson|           AZ|85711|4121|     No|  15| 44.06187398630507|          49584|\n",
            "|  22|   0|2020|    2| 28| 57.31|Swipe Transaction|   Cleveland|           OH|44143|4814|     No|  21|30.810217510490546|          16458|\n",
            "|  26|   0|2020|    2| 28| 39.77| Chip Transaction|      Diboll|           TX|75941|7349|     No|   9|40.776135925154016|          10978|\n",
            "+----+----+----+-----+---+------+-----------------+------------+-------------+-----+----+-------+----+------------------+---------------+\n",
            "only showing top 5 rows\n",
            "\n"
          ]
        }
      ],
      "source": [
        "from pyspark.sql.window import Window\n",
        "\n",
        "last_trans_df = trans_data.withColumn('User_avg_amount', F.mean('Amount').over(Window.partitionBy('User')))\\\n",
        "                          .withColumn('User_amount_cnt', F.count('Amount').over(Window.partitionBy('User')))\\\n",
        "                          .withColumn('Trans_number', F.row_number().over(Window.partitionBy('User').orderBy(F.col('Year').desc(),\n",
        "                                                                                                            F.col('Month').desc(),\n",
        "                                                                                                            F.col('Day').desc(),\n",
        "                                                                                                            F.col('Hour').desc())))\\\n",
        "                          .filter('Trans_number = 1')\\\n",
        "                          .drop('Trans_number')\n",
        "\n",
        "# Выводим DF с последними транзакциями для каждого User'а + его средний Amount и общее кол-во транзакций\n",
        "last_trans_df.show(5)"
      ]
    },
    {
      "cell_type": "markdown",
      "metadata": {
        "id": "EkiD1y5xGfet"
      },
      "source": [
        "Теперь самое время сгруппировать данные по каждому клиенту (можно использовать collect_list для сбора данных после агрегации)\n",
        "Когда будете делать агрегацию, то возьмите только часть выборки, например, через sample, для всей выборки либо не хватит памяти, либо очень долго считать"
      ]
    },
    {
      "cell_type": "code",
      "execution_count": 16,
      "metadata": {
        "id": "bEYl8-giXtsk",
        "colab": {
          "base_uri": "https://localhost:8080/"
        },
        "outputId": "b88da475-cef2-4c7d-c23b-bef3f0a27e73"
      },
      "outputs": [
        {
          "output_type": "stream",
          "name": "stdout",
          "text": [
            "+----+--------------------+\n",
            "|User|            Sequence|\n",
            "+----+--------------------+\n",
            "|   0|[{0, 2006, 5, 9, ...|\n",
            "|   1|[{1, 2013, 9, 9, ...|\n",
            "|   2|[{0, 2012, 12, 14...|\n",
            "|   3|[{0, 2012, 10, 15...|\n",
            "|   4|[{0, 2002, 5, 19,...|\n",
            "+----+--------------------+\n",
            "only showing top 5 rows\n",
            "\n"
          ]
        }
      ],
      "source": [
        "trans_data_sample_seq = trans_data.sample(withReplacement=False, fraction=0.001, seed=7)\\\n",
        "                                  .groupBy('User').agg(F.collect_list(F.struct(*[col for col in trans_data.columns[1:]]).alias('Sequence')).alias('Sequence'))\n",
        "trans_data_sample_seq.show(5)"
      ]
    },
    {
      "cell_type": "markdown",
      "metadata": {
        "id": "66WJoh15jf0P"
      },
      "source": [
        "Напишите python функцию, которая возьмет данные после агрегации последовательностей, отсортирует их внутри по дате и времени и преобразует к формату python dict:\n",
        "{'User': User,\n",
        "'Card': Card,\n",
        "'sequence':{\n",
        "    'amount': [последовательность],\n",
        "    'year': [последовательность],\n",
        "    'month': [последовательность],\n",
        "    'day': [последовательность],\n",
        "    'time': [последовательность],\n",
        "    'MCC': [последовательность]\n",
        "}\n",
        "}\n",
        "\n",
        "\n"
      ]
    },
    {
      "cell_type": "code",
      "source": [
        "# Тут мне показалось, что для этого задания нужен DF, сгруппированный не только по User, но и по Card (иначе мы не сможем вывести dict с 'Card':Card, будет последовательность вместо нужного нам числа)\n",
        "# => я перегруппировала данные\n",
        "trans_data_sample = trans_data.sample(withReplacement=False, fraction=0.001, seed=7)\n",
        "trans_data_sample_seq = trans_data_sample.groupBy('User', 'Card').agg(F.collect_list(F.struct(*[col for col in trans_data.columns[2:]]).alias('Sequence')).alias('Sequence'))\n",
        "trans_data_sample_seq.show(5)"
      ],
      "metadata": {
        "colab": {
          "base_uri": "https://localhost:8080/"
        },
        "id": "_c0m-_BLZ3Y2",
        "outputId": "ef0749e2-37be-48dd-be2e-c11758b019ed"
      },
      "execution_count": 29,
      "outputs": [
        {
          "output_type": "stream",
          "name": "stdout",
          "text": [
            "+----+----+--------------------+\n",
            "|User|Card|            Sequence|\n",
            "+----+----+--------------------+\n",
            "|   0|   0|[{2006, 5, 9, 150...|\n",
            "|   0|   2|[{2008, 1, 22, 36...|\n",
            "|   0|   3|[{2003, 9, 25, 15...|\n",
            "|   1|   1|[{2013, 9, 9, 181...|\n",
            "|   1|   2|[{2005, 12, 18, 1...|\n",
            "+----+----+--------------------+\n",
            "only showing top 5 rows\n",
            "\n"
          ]
        }
      ]
    },
    {
      "cell_type": "code",
      "source": [
        "import pandas as pd\n",
        "from pyspark.sql.functions import udf\n",
        "\n",
        "@udf\n",
        "def udf_decorator(user, card, sequence):\n",
        "    sequence_dict = dict()\n",
        "    timestamp_list = list()\n",
        "\n",
        "    sequence_dict['Year'], sequence_dict['Month'], sequence_dict['Amount'], sequence_dict['Day'] = list(), list(), list(), list()\n",
        "    sequence_dict['UseChip'], sequence_dict['MerchantCity'], sequence_dict['MerchantState'] = list(), list(), list()\n",
        "    sequence_dict['Zip'], sequence_dict['MCC'], sequence_dict['IsFraud'], sequence_dict['Hour'] = list(), list(), list(), list()\n",
        "\n",
        "    for row in sequence:\n",
        "        sequence_dict['Year'].append(row['Year'])\n",
        "        sequence_dict['Month'].append(row['Month'])\n",
        "        sequence_dict['Day'].append(row['Day'])\n",
        "        sequence_dict ['Amount'].append(row['Amount'])\n",
        "        sequence_dict['UseChip'].append(row['UseChip'])\n",
        "        sequence_dict['MerchantCity'].append(row['MerchantCity'])\n",
        "        sequence_dict['MerchantState'].append(row['MerchantState'])\n",
        "        sequence_dict['Zip'].append(row['Zip'])\n",
        "        sequence_dict['MCC'].append(row['MCC'])\n",
        "        sequence_dict['IsFraud'].append(row['IsFraud'])\n",
        "        sequence_dict['Hour'].append(row['Hour'])\n",
        "\n",
        "        timestamp_list.append(pd.to_datetime(f\"{row['Year']} {row['Month']} {row['Day']} {row['Hour']}\", format = \"%Y %m %d %H\"))\n",
        "\n",
        "    for key in sequence_dict.keys():\n",
        "        sequence_dict[key] = [x for time, x in sorted(zip(timestamp_list, sequence_dict[key]))]\n",
        "\n",
        "    sequence_dict['User'] = user\n",
        "    sequence_dict['Card'] = card\n",
        "\n",
        "    return sequence_dict\n",
        "\n",
        "\n",
        "trans_data_sample_seq = trans_data_sample_seq.withColumn('udf_function_result', udf_decorator(F.col('User'), F.col('Card'), F.col('sequence')))\n",
        "trans_data_sample_seq.show(5)"
      ],
      "metadata": {
        "colab": {
          "base_uri": "https://localhost:8080/"
        },
        "id": "f2VJHqC3Rikr",
        "outputId": "1e148dfd-4c19-4295-a0a4-ac2551135fb3"
      },
      "execution_count": 30,
      "outputs": [
        {
          "output_type": "stream",
          "name": "stdout",
          "text": [
            "+----+----+--------------------+--------------------+\n",
            "|User|Card|            Sequence| udf_function_result|\n",
            "+----+----+--------------------+--------------------+\n",
            "|   0|   0|[{2006, 5, 9, 150...|{Zip=[91754, 9175...|\n",
            "|   0|   2|[{2008, 1, 22, 36...|{Zip=[91755, 9025...|\n",
            "|   0|   3|[{2003, 9, 25, 15...|{Zip=[91750, 9175...|\n",
            "|   1|   1|[{2013, 9, 9, 181...|{Zip=[94606, 4304...|\n",
            "|   1|   2|[{2005, 12, 18, 1...|{Zip=[11363, 1136...|\n",
            "+----+----+--------------------+--------------------+\n",
            "only showing top 5 rows\n",
            "\n"
          ]
        }
      ]
    },
    {
      "cell_type": "markdown",
      "metadata": {
        "id": "dDC5b3iBk0Ti"
      },
      "source": [
        "Выведите как пример одну преобразованную запись, результаты сохраните на диск в через rdd pickle"
      ]
    },
    {
      "cell_type": "code",
      "execution_count": 32,
      "metadata": {
        "id": "6X9l9qNkjfPX"
      },
      "outputs": [],
      "source": [
        "trans_data_sample_seq.filter('User = 0 and Card = 2').rdd.saveAsPickleFile('/content/drive/My Drive/Colab_Notebooks/PySpark/lesson_3/result_1')"
      ]
    },
    {
      "cell_type": "code",
      "source": [
        "trans_data_sample_seq.filter('User = 0 and Card = 2').select('udf_function_result').rdd.take(1)"
      ],
      "metadata": {
        "colab": {
          "base_uri": "https://localhost:8080/"
        },
        "id": "oeVRDiLdfPho",
        "outputId": "837364ca-9d13-4e67-8787-f3e89f988325"
      },
      "execution_count": 40,
      "outputs": [
        {
          "output_type": "execute_result",
          "data": {
            "text/plain": [
              "[Row(udf_function_result='{Zip=[91755, 90250, 91750], User=0, Hour=[6, 20, 6], Amount=[36.040000915527344, 71.11000061035156, 136.22000122070312], IsFraud=[No, No, No], MCC=[5942, 5812, 5311], MerchantState=[CA, CA, CA], UseChip=[Swipe Transaction, Swipe Transaction, Swipe Transaction], Card=2, MerchantCity=[Monterey Park, Hawthorne, La Verne], Month=[1, 3, 10], Year=[2008, 2008, 2012], Day=[22, 3, 18]}')]"
            ]
          },
          "metadata": {},
          "execution_count": 40
        }
      ]
    },
    {
      "cell_type": "code",
      "source": [
        "trans_data_sample.filter('User = 0 and Card = 2').show()"
      ],
      "metadata": {
        "colab": {
          "base_uri": "https://localhost:8080/"
        },
        "id": "e5-Pyab0fNI8",
        "outputId": "b3b2d921-686b-456c-cf34-a80a667b37af"
      },
      "execution_count": 35,
      "outputs": [
        {
          "output_type": "stream",
          "name": "stdout",
          "text": [
            "+----+----+----+-----+---+------+-----------------+-------------+-------------+-----+----+-------+----+\n",
            "|User|Card|Year|Month|Day|Amount|          UseChip| MerchantCity|MerchantState|  Zip| MCC|IsFraud|Hour|\n",
            "+----+----+----+-----+---+------+-----------------+-------------+-------------+-----+----+-------+----+\n",
            "|   0|   2|2008|    1| 22| 36.04|Swipe Transaction|Monterey Park|           CA|91755|5942|     No|   6|\n",
            "|   0|   2|2008|    3|  3| 71.11|Swipe Transaction|    Hawthorne|           CA|90250|5812|     No|  20|\n",
            "|   0|   2|2012|   10| 18|136.22|Swipe Transaction|     La Verne|           CA|91750|5311|     No|   6|\n",
            "+----+----+----+-----+---+------+-----------------+-------------+-------------+-----+----+-------+----+\n",
            "\n"
          ]
        }
      ]
    }
  ],
  "metadata": {
    "colab": {
      "provenance": []
    },
    "kernelspec": {
      "display_name": "Python 3",
      "language": "python",
      "name": "python3"
    },
    "language_info": {
      "codemirror_mode": {
        "name": "ipython",
        "version": 3
      },
      "file_extension": ".py",
      "mimetype": "text/x-python",
      "name": "python",
      "nbconvert_exporter": "python",
      "pygments_lexer": "ipython3",
      "version": "3.8.8"
    }
  },
  "nbformat": 4,
  "nbformat_minor": 0
}