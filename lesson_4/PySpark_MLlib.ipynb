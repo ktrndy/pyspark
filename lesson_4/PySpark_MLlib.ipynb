{
  "cells": [
    {
      "cell_type": "code",
      "execution_count": null,
      "metadata": {
        "colab": {
          "base_uri": "https://localhost:8080/"
        },
        "id": "aAfBJ5OQhcTu",
        "outputId": "48bf518e-a797-450d-d5b9-1525ae5d40d0"
      },
      "outputs": [
        {
          "output_type": "stream",
          "name": "stdout",
          "text": [
            "Collecting pyspark\n",
            "  Downloading pyspark-3.5.1.tar.gz (317.0 MB)\n",
            "\u001b[2K     \u001b[90m━━━━━━━━━━━━━━━━━━━━━━━━━━━━━━━━━━━━━━━━\u001b[0m \u001b[32m317.0/317.0 MB\u001b[0m \u001b[31m1.8 MB/s\u001b[0m eta \u001b[36m0:00:00\u001b[0m\n",
            "\u001b[?25h  Preparing metadata (setup.py) ... \u001b[?25l\u001b[?25hdone\n",
            "Collecting findspark\n",
            "  Downloading findspark-2.0.1-py2.py3-none-any.whl (4.4 kB)\n",
            "Requirement already satisfied: py4j==0.10.9.7 in /usr/local/lib/python3.10/dist-packages (from pyspark) (0.10.9.7)\n",
            "Building wheels for collected packages: pyspark\n",
            "  Building wheel for pyspark (setup.py) ... \u001b[?25l\u001b[?25hdone\n",
            "  Created wheel for pyspark: filename=pyspark-3.5.1-py2.py3-none-any.whl size=317488491 sha256=b7a05034151c4f3f7c4f601eeb10721517d5c2421b0683350bc4886a7ab7e2bd\n",
            "  Stored in directory: /root/.cache/pip/wheels/80/1d/60/2c256ed38dddce2fdd93be545214a63e02fbd8d74fb0b7f3a6\n",
            "Successfully built pyspark\n",
            "Installing collected packages: findspark, pyspark\n",
            "Successfully installed findspark-2.0.1 pyspark-3.5.1\n"
          ]
        }
      ],
      "source": [
        "!pip install pyspark findspark"
      ]
    },
    {
      "cell_type": "code",
      "execution_count": null,
      "metadata": {
        "id": "BNdat6SPhiEH"
      },
      "outputs": [],
      "source": [
        "from pyspark.sql import SparkSession\n",
        "from pyspark import SparkContext, SparkConf\n",
        "import pyspark.sql.functions as F\n",
        "\n",
        "conf = SparkConf().set('spark.ui.port', '4050').set('spark.serializer', 'org.apache.spark.serializer.KryoSerializer')\\\n",
        "                  .set('spark.dynamicAllocation.enabled', 'true')\\\n",
        "                  .set('spark.shuffle.service.enabled', 'true') #трекер, чтобы возвращать ресурсы\n",
        "sc = SparkContext(conf=conf)\n",
        "spark = SparkSession.builder.master('local[*]').getOrCreate()"
      ]
    },
    {
      "cell_type": "code",
      "source": [
        "from google.colab import drive\n",
        "drive.mount('/content/drive')"
      ],
      "metadata": {
        "colab": {
          "base_uri": "https://localhost:8080/"
        },
        "id": "jfybiwPwcCOH",
        "outputId": "a29c9e15-8465-4c96-a315-5a642bd3ee62"
      },
      "execution_count": null,
      "outputs": [
        {
          "output_type": "stream",
          "name": "stdout",
          "text": [
            "Mounted at /content/drive\n"
          ]
        }
      ]
    },
    {
      "cell_type": "markdown",
      "metadata": {
        "id": "FZORGQJAkELA"
      },
      "source": [
        "Анализировать будет датасет отсюда https://www.kaggle.com/shelvigarg/credit-card-buyers\n",
        "\n",
        "Definition\n",
        "\n",
        "ID - Unique Identifier for a row\n",
        "\n",
        "Gender - Gender of the Customer\n",
        "\n",
        "Age - Age of the Customer (in Years)\n",
        "\n",
        "Region_Code - Code of the Region for the customers\n",
        "\n",
        "Occupation - Occupation Type for the customer\n",
        "\n",
        "Channel_Code - Acquisition Channel Code for the Customer (Encoded)\n",
        "\n",
        "Vintage - Vintage for the Customer (In Months)\n",
        "\n",
        "Credit_Product - If the Customer has any active credit product (Home loan Personal loan, Credit Card etc.)\n",
        "\n",
        "AvgAccountBalance - Average Account Balance for the Customer in last 12 Months\n",
        "\n",
        "Is_Active - If the Customer is Active in last 3 Months"
      ]
    },
    {
      "cell_type": "markdown",
      "metadata": {
        "id": "YIgE50bSlRBK"
      },
      "source": [
        "Загрузим данные и посмотрим, что там внутри"
      ]
    },
    {
      "cell_type": "code",
      "execution_count": null,
      "metadata": {
        "id": "tsUQHB1FjhPO"
      },
      "outputs": [],
      "source": [
        "data = spark.read.csv('/content/drive/My Drive/Colab_Notebooks/PySpark/lesson_4/credit_card_data.csv', header=True, inferSchema=True)"
      ]
    },
    {
      "cell_type": "code",
      "execution_count": null,
      "metadata": {
        "colab": {
          "base_uri": "https://localhost:8080/"
        },
        "id": "YbvoQA6clcY-",
        "outputId": "87258258-b9ac-4c2c-923e-79347d9533af"
      },
      "outputs": [
        {
          "output_type": "stream",
          "name": "stdout",
          "text": [
            "root\n",
            " |-- ID: string (nullable = true)\n",
            " |-- Gender: string (nullable = true)\n",
            " |-- Age: integer (nullable = true)\n",
            " |-- Region_Code: string (nullable = true)\n",
            " |-- Occupation: string (nullable = true)\n",
            " |-- Channel_Code: string (nullable = true)\n",
            " |-- Vintage: integer (nullable = true)\n",
            " |-- Credit_Product: string (nullable = true)\n",
            " |-- Avg_Account_Balance: integer (nullable = true)\n",
            " |-- Is_Active: string (nullable = true)\n",
            " |-- Is_Lead: integer (nullable = true)\n",
            "\n"
          ]
        }
      ],
      "source": [
        "data.printSchema()"
      ]
    },
    {
      "cell_type": "code",
      "execution_count": null,
      "metadata": {
        "colab": {
          "base_uri": "https://localhost:8080/"
        },
        "id": "4_sCeIsAlPoS",
        "outputId": "b407ca29-622d-431c-d058-081d348c29f5"
      },
      "outputs": [
        {
          "output_type": "stream",
          "name": "stdout",
          "text": [
            "+--------+------+---+-----------+-------------+------------+-------+--------------+-------------------+---------+-------+\n",
            "|      ID|Gender|Age|Region_Code|   Occupation|Channel_Code|Vintage|Credit_Product|Avg_Account_Balance|Is_Active|Is_Lead|\n",
            "+--------+------+---+-----------+-------------+------------+-------+--------------+-------------------+---------+-------+\n",
            "|NNVBBKZB|Female| 73|      RG268|        Other|          X3|     43|            No|            1045696|       No|      0|\n",
            "|IDD62UNG|Female| 30|      RG277|     Salaried|          X1|     32|            No|             581988|       No|      0|\n",
            "|HD3DSEMC|Female| 56|      RG268|Self_Employed|          X3|     26|            No|            1484315|      Yes|      0|\n",
            "|BF3NC7KV|  Male| 34|      RG270|     Salaried|          X1|     19|            No|             470454|       No|      0|\n",
            "|TEASRWXV|Female| 30|      RG282|     Salaried|          X1|     33|            No|             886787|       No|      0|\n",
            "|ACUTYTWS|  Male| 56|      RG261|Self_Employed|          X1|     32|            No|             544163|      Yes|      0|\n",
            "|ETQCZFEJ|  Male| 62|      RG282|        Other|          X3|     20|          NULL|            1056750|      Yes|      1|\n",
            "|JJNJUQMQ|Female| 48|      RG265|Self_Employed|          X3|     13|            No|             444724|      Yes|      0|\n",
            "|ZMQFYKCB|Female| 40|      RG283|Self_Employed|          X2|     38|            No|            1274284|       No|      0|\n",
            "|NVKTFBA2|Female| 55|      RG268|Self_Employed|          X2|     49|           Yes|            2014239|       No|      0|\n",
            "|NVC424KZ|  Male| 53|      RG254|Self_Employed|          X3|    123|            No|             980664|      Yes|      0|\n",
            "|GZ5TMYIR|  Male| 27|      RG270|Self_Employed|          X1|     14|           Yes|             502787|       No|      0|\n",
            "|FCPEEIY3|Female| 27|      RG277|     Salaried|          X1|     20|            No|             811591|      Yes|      0|\n",
            "|KCE7JSFN|  Male| 31|      RG254|     Salaried|          X1|     31|           Yes|             938754|       No|      0|\n",
            "|EMEEHHBK|  Male| 79|      RG277|        Other|          X3|     57|            No|             832185|      Yes|      0|\n",
            "|UJ2NJKKL|  Male| 33|      RG268|Self_Employed|          X2|     69|          NULL|             517063|      Yes|      1|\n",
            "|CNGSPYWS|Female| 46|      RG268|        Other|          X3|     97|           Yes|            2282502|       No|      1|\n",
            "|VH7NBNNQ|Female| 59|      RG283|        Other|          X3|     15|           Yes|            2384692|       No|      1|\n",
            "|HDNJXDWC|Female| 65|      RG277|        Other|          X2|     20|            No|             341573|      Yes|      0|\n",
            "|BDOKI4CP|Female| 37|      RG269|        Other|          X1|     63|            No|             633484|      Yes|      0|\n",
            "+--------+------+---+-----------+-------------+------------+-------+--------------+-------------------+---------+-------+\n",
            "only showing top 20 rows\n",
            "\n"
          ]
        }
      ],
      "source": [
        "data.show()"
      ]
    },
    {
      "cell_type": "markdown",
      "metadata": {
        "id": "KXN0MI0xlx3N"
      },
      "source": [
        "Посмотрим различные базовые вещи"
      ]
    },
    {
      "cell_type": "code",
      "execution_count": null,
      "metadata": {
        "id": "j3wkDh42mATz"
      },
      "outputs": [],
      "source": [
        "from pyspark.sql.functions import col,isnan, when, count"
      ]
    },
    {
      "cell_type": "code",
      "execution_count": null,
      "metadata": {
        "colab": {
          "base_uri": "https://localhost:8080/"
        },
        "id": "YeJKCEzbmErU",
        "outputId": "00dfe2e2-0266-4f3d-8ce8-fb22e7e95494"
      },
      "outputs": [
        {
          "output_type": "stream",
          "name": "stdout",
          "text": [
            "+---+------+---+-----------+----------+------------+-------+--------------+-------------------+---------+-------+\n",
            "| ID|Gender|Age|Region_Code|Occupation|Channel_Code|Vintage|Credit_Product|Avg_Account_Balance|Is_Active|Is_Lead|\n",
            "+---+------+---+-----------+----------+------------+-------+--------------+-------------------+---------+-------+\n",
            "|  0|     0|  0|          0|         0|           0|      0|         29325|                  0|        0|      0|\n",
            "+---+------+---+-----------+----------+------------+-------+--------------+-------------------+---------+-------+\n",
            "\n"
          ]
        }
      ],
      "source": [
        "data.select([count(when(isnan(c) | col(c).isNull(), c)).alias(c) for c in data.columns]).show()"
      ]
    },
    {
      "cell_type": "markdown",
      "metadata": {
        "id": "Dika1L3qmLuF"
      },
      "source": [
        "Пропуски только в кредитном продукте, логично заметь на тип, что кредита нет"
      ]
    },
    {
      "cell_type": "code",
      "execution_count": null,
      "metadata": {
        "colab": {
          "base_uri": "https://localhost:8080/"
        },
        "id": "w20frxn8m3Nw",
        "outputId": "838354ef-7607-4318-dfbf-37072c497b2f"
      },
      "outputs": [
        {
          "output_type": "stream",
          "name": "stdout",
          "text": [
            "+--------------+------+\n",
            "|Credit_Product| count|\n",
            "+--------------+------+\n",
            "|          NULL| 29325|\n",
            "|            No|144357|\n",
            "|           Yes| 72043|\n",
            "+--------------+------+\n",
            "\n"
          ]
        }
      ],
      "source": [
        "data.select(col('Credit_Product')).groupBy('Credit_Product').count().show()"
      ]
    },
    {
      "cell_type": "code",
      "execution_count": null,
      "metadata": {
        "id": "PhfHAQs8mKmn"
      },
      "outputs": [],
      "source": [
        "data = data.fillna({'Credit_Product': 'No'})"
      ]
    },
    {
      "cell_type": "markdown",
      "metadata": {
        "id": "b6fVb5RAnQ2u"
      },
      "source": [
        "Проверим"
      ]
    },
    {
      "cell_type": "code",
      "execution_count": null,
      "metadata": {
        "colab": {
          "base_uri": "https://localhost:8080/"
        },
        "id": "q8T1WGqSnSR-",
        "outputId": "c5d06190-68b2-4bc9-c9ec-cf1d5347c15d"
      },
      "outputs": [
        {
          "output_type": "stream",
          "name": "stdout",
          "text": [
            "+--------------+------+\n",
            "|Credit_Product| count|\n",
            "+--------------+------+\n",
            "|            No|173682|\n",
            "|           Yes| 72043|\n",
            "+--------------+------+\n",
            "\n"
          ]
        }
      ],
      "source": [
        "data.select(col('Credit_Product')).groupBy('Credit_Product').count().show()"
      ]
    },
    {
      "cell_type": "markdown",
      "metadata": {
        "id": "KtDur_eFnU9M"
      },
      "source": [
        "Посмотри на данные с точки зрения дисбаланса классов"
      ]
    },
    {
      "cell_type": "code",
      "execution_count": null,
      "metadata": {
        "colab": {
          "base_uri": "https://localhost:8080/"
        },
        "id": "PtIMjIMbnisg",
        "outputId": "a5fe8552-ae37-45cd-84dd-790b1feb0c18"
      },
      "outputs": [
        {
          "output_type": "execute_result",
          "data": {
            "text/plain": [
              "245725"
            ]
          },
          "metadata": {},
          "execution_count": 13
        }
      ],
      "source": [
        "data.count()"
      ]
    },
    {
      "cell_type": "code",
      "execution_count": null,
      "metadata": {
        "id": "qyX_QHI9oKfP"
      },
      "outputs": [],
      "source": [
        "import pyspark.sql.functions as F"
      ]
    },
    {
      "cell_type": "code",
      "execution_count": null,
      "metadata": {
        "colab": {
          "base_uri": "https://localhost:8080/"
        },
        "id": "ZFJ2i3UklxJH",
        "outputId": "0affebf7-b3b4-4e52-b8fd-bc6c66f3f3ea"
      },
      "outputs": [
        {
          "output_type": "stream",
          "name": "stdout",
          "text": [
            "+-------+-----+\n",
            "|Is_Lead|count|\n",
            "+-------+-----+\n",
            "|      1| 0.24|\n",
            "|      0| 0.76|\n",
            "+-------+-----+\n",
            "\n"
          ]
        }
      ],
      "source": [
        "data.select(col('Is_Lead'))\\\n",
        "    .groupBy('Is_Lead')\\\n",
        "    .count()\\\n",
        "    .withColumn('count', F.round(col('count') / data.count(), 2))\\\n",
        "    .show()"
      ]
    },
    {
      "cell_type": "markdown",
      "metadata": {
        "id": "8C4-7JsCotMW"
      },
      "source": [
        "Ладно, достаточно, мы тут сейчас говорим про MLlib, всякие анализы - тема прошлого семинара"
      ]
    },
    {
      "cell_type": "markdown",
      "metadata": {
        "id": "hFW-5rVezUzj"
      },
      "source": [
        "**Некоторые преобразования данных**"
      ]
    },
    {
      "cell_type": "markdown",
      "metadata": {
        "id": "DIVOhaAJ2MYW"
      },
      "source": [
        "Начнем с простой обработки категориальных переменных"
      ]
    },
    {
      "cell_type": "code",
      "execution_count": null,
      "metadata": {
        "id": "Ol8QdvOIza7d"
      },
      "outputs": [],
      "source": [
        "from pyspark.ml.feature import StringIndexer, IndexToString, OneHotEncoder"
      ]
    },
    {
      "cell_type": "code",
      "execution_count": null,
      "metadata": {
        "colab": {
          "base_uri": "https://localhost:8080/"
        },
        "id": "VPOBb0j_zrmL",
        "outputId": "8f706650-7741-4302-89dc-31ea5e8cf80b"
      },
      "outputs": [
        {
          "output_type": "stream",
          "name": "stdout",
          "text": [
            "+--------+------+---+-----------+-------------+------------+-------+--------------+-------------------+---------+-------+-----------+\n",
            "|      ID|Gender|Age|Region_Code|   Occupation|Channel_Code|Vintage|Credit_Product|Avg_Account_Balance|Is_Active|Is_Lead|GenderIndex|\n",
            "+--------+------+---+-----------+-------------+------------+-------+--------------+-------------------+---------+-------+-----------+\n",
            "|NNVBBKZB|Female| 73|      RG268|        Other|          X3|     43|            No|            1045696|       No|      0|        1.0|\n",
            "|IDD62UNG|Female| 30|      RG277|     Salaried|          X1|     32|            No|             581988|       No|      0|        1.0|\n",
            "|HD3DSEMC|Female| 56|      RG268|Self_Employed|          X3|     26|            No|            1484315|      Yes|      0|        1.0|\n",
            "|BF3NC7KV|  Male| 34|      RG270|     Salaried|          X1|     19|            No|             470454|       No|      0|        0.0|\n",
            "|TEASRWXV|Female| 30|      RG282|     Salaried|          X1|     33|            No|             886787|       No|      0|        1.0|\n",
            "|ACUTYTWS|  Male| 56|      RG261|Self_Employed|          X1|     32|            No|             544163|      Yes|      0|        0.0|\n",
            "|ETQCZFEJ|  Male| 62|      RG282|        Other|          X3|     20|            No|            1056750|      Yes|      1|        0.0|\n",
            "|JJNJUQMQ|Female| 48|      RG265|Self_Employed|          X3|     13|            No|             444724|      Yes|      0|        1.0|\n",
            "|ZMQFYKCB|Female| 40|      RG283|Self_Employed|          X2|     38|            No|            1274284|       No|      0|        1.0|\n",
            "|NVKTFBA2|Female| 55|      RG268|Self_Employed|          X2|     49|           Yes|            2014239|       No|      0|        1.0|\n",
            "|NVC424KZ|  Male| 53|      RG254|Self_Employed|          X3|    123|            No|             980664|      Yes|      0|        0.0|\n",
            "|GZ5TMYIR|  Male| 27|      RG270|Self_Employed|          X1|     14|           Yes|             502787|       No|      0|        0.0|\n",
            "|FCPEEIY3|Female| 27|      RG277|     Salaried|          X1|     20|            No|             811591|      Yes|      0|        1.0|\n",
            "|KCE7JSFN|  Male| 31|      RG254|     Salaried|          X1|     31|           Yes|             938754|       No|      0|        0.0|\n",
            "|EMEEHHBK|  Male| 79|      RG277|        Other|          X3|     57|            No|             832185|      Yes|      0|        0.0|\n",
            "|UJ2NJKKL|  Male| 33|      RG268|Self_Employed|          X2|     69|            No|             517063|      Yes|      1|        0.0|\n",
            "|CNGSPYWS|Female| 46|      RG268|        Other|          X3|     97|           Yes|            2282502|       No|      1|        1.0|\n",
            "|VH7NBNNQ|Female| 59|      RG283|        Other|          X3|     15|           Yes|            2384692|       No|      1|        1.0|\n",
            "|HDNJXDWC|Female| 65|      RG277|        Other|          X2|     20|            No|             341573|      Yes|      0|        1.0|\n",
            "|BDOKI4CP|Female| 37|      RG269|        Other|          X1|     63|            No|             633484|      Yes|      0|        1.0|\n",
            "+--------+------+---+-----------+-------------+------------+-------+--------------+-------------------+---------+-------+-----------+\n",
            "only showing top 20 rows\n",
            "\n"
          ]
        }
      ],
      "source": [
        "gender_indexer = StringIndexer(inputCol=\"Gender\", outputCol=\"GenderIndex\")\n",
        "gender_indexer = gender_indexer.fit(data)\n",
        "data = gender_indexer.transform(data)\n",
        "\n",
        "data.show()"
      ]
    },
    {
      "cell_type": "code",
      "execution_count": null,
      "metadata": {
        "colab": {
          "base_uri": "https://localhost:8080/"
        },
        "id": "ZAW5y21P0y7e",
        "outputId": "06522729-d581-4e16-d0cb-7d154c38ab81"
      },
      "outputs": [
        {
          "output_type": "execute_result",
          "data": {
            "text/plain": [
              "['Male', 'Female']"
            ]
          },
          "metadata": {},
          "execution_count": 18
        }
      ],
      "source": [
        "gender_indexer.labels"
      ]
    },
    {
      "cell_type": "markdown",
      "metadata": {
        "id": "EwrZceE71Xwk"
      },
      "source": [
        "Обратная трансформация доступна через метод"
      ]
    },
    {
      "cell_type": "code",
      "execution_count": null,
      "metadata": {
        "colab": {
          "base_uri": "https://localhost:8080/"
        },
        "id": "nWclZb5s08ay",
        "outputId": "2a91301a-fa07-4980-db65-e2739bc014dd"
      },
      "outputs": [
        {
          "output_type": "stream",
          "name": "stdout",
          "text": [
            "+--------+------+---+-----------+-------------+------------+-------+--------------+-------------------+---------+-------+-----------+--------------+\n",
            "|      ID|Gender|Age|Region_Code|   Occupation|Channel_Code|Vintage|Credit_Product|Avg_Account_Balance|Is_Active|Is_Lead|GenderIndex|originalGender|\n",
            "+--------+------+---+-----------+-------------+------------+-------+--------------+-------------------+---------+-------+-----------+--------------+\n",
            "|NNVBBKZB|Female| 73|      RG268|        Other|          X3|     43|            No|            1045696|       No|      0|        1.0|        Female|\n",
            "|IDD62UNG|Female| 30|      RG277|     Salaried|          X1|     32|            No|             581988|       No|      0|        1.0|        Female|\n",
            "|HD3DSEMC|Female| 56|      RG268|Self_Employed|          X3|     26|            No|            1484315|      Yes|      0|        1.0|        Female|\n",
            "|BF3NC7KV|  Male| 34|      RG270|     Salaried|          X1|     19|            No|             470454|       No|      0|        0.0|          Male|\n",
            "|TEASRWXV|Female| 30|      RG282|     Salaried|          X1|     33|            No|             886787|       No|      0|        1.0|        Female|\n",
            "|ACUTYTWS|  Male| 56|      RG261|Self_Employed|          X1|     32|            No|             544163|      Yes|      0|        0.0|          Male|\n",
            "|ETQCZFEJ|  Male| 62|      RG282|        Other|          X3|     20|            No|            1056750|      Yes|      1|        0.0|          Male|\n",
            "|JJNJUQMQ|Female| 48|      RG265|Self_Employed|          X3|     13|            No|             444724|      Yes|      0|        1.0|        Female|\n",
            "|ZMQFYKCB|Female| 40|      RG283|Self_Employed|          X2|     38|            No|            1274284|       No|      0|        1.0|        Female|\n",
            "|NVKTFBA2|Female| 55|      RG268|Self_Employed|          X2|     49|           Yes|            2014239|       No|      0|        1.0|        Female|\n",
            "|NVC424KZ|  Male| 53|      RG254|Self_Employed|          X3|    123|            No|             980664|      Yes|      0|        0.0|          Male|\n",
            "|GZ5TMYIR|  Male| 27|      RG270|Self_Employed|          X1|     14|           Yes|             502787|       No|      0|        0.0|          Male|\n",
            "|FCPEEIY3|Female| 27|      RG277|     Salaried|          X1|     20|            No|             811591|      Yes|      0|        1.0|        Female|\n",
            "|KCE7JSFN|  Male| 31|      RG254|     Salaried|          X1|     31|           Yes|             938754|       No|      0|        0.0|          Male|\n",
            "|EMEEHHBK|  Male| 79|      RG277|        Other|          X3|     57|            No|             832185|      Yes|      0|        0.0|          Male|\n",
            "|UJ2NJKKL|  Male| 33|      RG268|Self_Employed|          X2|     69|            No|             517063|      Yes|      1|        0.0|          Male|\n",
            "|CNGSPYWS|Female| 46|      RG268|        Other|          X3|     97|           Yes|            2282502|       No|      1|        1.0|        Female|\n",
            "|VH7NBNNQ|Female| 59|      RG283|        Other|          X3|     15|           Yes|            2384692|       No|      1|        1.0|        Female|\n",
            "|HDNJXDWC|Female| 65|      RG277|        Other|          X2|     20|            No|             341573|      Yes|      0|        1.0|        Female|\n",
            "|BDOKI4CP|Female| 37|      RG269|        Other|          X1|     63|            No|             633484|      Yes|      0|        1.0|        Female|\n",
            "+--------+------+---+-----------+-------------+------------+-------+--------------+-------------------+---------+-------+-----------+--------------+\n",
            "only showing top 20 rows\n",
            "\n"
          ]
        }
      ],
      "source": [
        "converter = IndexToString(inputCol=\"GenderIndex\", outputCol=\"originalGender\")\n",
        "data = converter.transform(data)\n",
        "data.show()"
      ]
    },
    {
      "cell_type": "markdown",
      "metadata": {
        "id": "2_xa6Egj10ts"
      },
      "source": [
        "Давайте аналогично поступим с каналом продаж и типом занятости"
      ]
    },
    {
      "cell_type": "code",
      "execution_count": null,
      "metadata": {
        "colab": {
          "base_uri": "https://localhost:8080/"
        },
        "id": "E15ddrq80S3V",
        "outputId": "c1cbc9ab-0661-40ca-89ed-87ca6e739d45"
      },
      "outputs": [
        {
          "output_type": "stream",
          "name": "stdout",
          "text": [
            "+--------+------+---+-----------+-------------+------------+-------+--------------+-------------------+---------+-------+-----------+--------------+---------------+------------+\n",
            "|      ID|Gender|Age|Region_Code|   Occupation|Channel_Code|Vintage|Credit_Product|Avg_Account_Balance|Is_Active|Is_Lead|GenderIndex|originalGender|OccupationIndex|ChannelIndex|\n",
            "+--------+------+---+-----------+-------------+------------+-------+--------------+-------------------+---------+-------+-----------+--------------+---------------+------------+\n",
            "|NNVBBKZB|Female| 73|      RG268|        Other|          X3|     43|            No|            1045696|       No|      0|        1.0|        Female|            2.0|         1.0|\n",
            "|IDD62UNG|Female| 30|      RG277|     Salaried|          X1|     32|            No|             581988|       No|      0|        1.0|        Female|            1.0|         0.0|\n",
            "|HD3DSEMC|Female| 56|      RG268|Self_Employed|          X3|     26|            No|            1484315|      Yes|      0|        1.0|        Female|            0.0|         1.0|\n",
            "|BF3NC7KV|  Male| 34|      RG270|     Salaried|          X1|     19|            No|             470454|       No|      0|        0.0|          Male|            1.0|         0.0|\n",
            "|TEASRWXV|Female| 30|      RG282|     Salaried|          X1|     33|            No|             886787|       No|      0|        1.0|        Female|            1.0|         0.0|\n",
            "|ACUTYTWS|  Male| 56|      RG261|Self_Employed|          X1|     32|            No|             544163|      Yes|      0|        0.0|          Male|            0.0|         0.0|\n",
            "|ETQCZFEJ|  Male| 62|      RG282|        Other|          X3|     20|            No|            1056750|      Yes|      1|        0.0|          Male|            2.0|         1.0|\n",
            "|JJNJUQMQ|Female| 48|      RG265|Self_Employed|          X3|     13|            No|             444724|      Yes|      0|        1.0|        Female|            0.0|         1.0|\n",
            "|ZMQFYKCB|Female| 40|      RG283|Self_Employed|          X2|     38|            No|            1274284|       No|      0|        1.0|        Female|            0.0|         2.0|\n",
            "|NVKTFBA2|Female| 55|      RG268|Self_Employed|          X2|     49|           Yes|            2014239|       No|      0|        1.0|        Female|            0.0|         2.0|\n",
            "|NVC424KZ|  Male| 53|      RG254|Self_Employed|          X3|    123|            No|             980664|      Yes|      0|        0.0|          Male|            0.0|         1.0|\n",
            "|GZ5TMYIR|  Male| 27|      RG270|Self_Employed|          X1|     14|           Yes|             502787|       No|      0|        0.0|          Male|            0.0|         0.0|\n",
            "|FCPEEIY3|Female| 27|      RG277|     Salaried|          X1|     20|            No|             811591|      Yes|      0|        1.0|        Female|            1.0|         0.0|\n",
            "|KCE7JSFN|  Male| 31|      RG254|     Salaried|          X1|     31|           Yes|             938754|       No|      0|        0.0|          Male|            1.0|         0.0|\n",
            "|EMEEHHBK|  Male| 79|      RG277|        Other|          X3|     57|            No|             832185|      Yes|      0|        0.0|          Male|            2.0|         1.0|\n",
            "|UJ2NJKKL|  Male| 33|      RG268|Self_Employed|          X2|     69|            No|             517063|      Yes|      1|        0.0|          Male|            0.0|         2.0|\n",
            "|CNGSPYWS|Female| 46|      RG268|        Other|          X3|     97|           Yes|            2282502|       No|      1|        1.0|        Female|            2.0|         1.0|\n",
            "|VH7NBNNQ|Female| 59|      RG283|        Other|          X3|     15|           Yes|            2384692|       No|      1|        1.0|        Female|            2.0|         1.0|\n",
            "|HDNJXDWC|Female| 65|      RG277|        Other|          X2|     20|            No|             341573|      Yes|      0|        1.0|        Female|            2.0|         2.0|\n",
            "|BDOKI4CP|Female| 37|      RG269|        Other|          X1|     63|            No|             633484|      Yes|      0|        1.0|        Female|            2.0|         0.0|\n",
            "+--------+------+---+-----------+-------------+------------+-------+--------------+-------------------+---------+-------+-----------+--------------+---------------+------------+\n",
            "only showing top 20 rows\n",
            "\n"
          ]
        }
      ],
      "source": [
        "occupation_indexer = StringIndexer(inputCol=\"Occupation\", outputCol=\"OccupationIndex\")\n",
        "occupation_indexer = occupation_indexer.fit(data)\n",
        "data = occupation_indexer.transform(data)\n",
        "\n",
        "channel_indexer = StringIndexer(inputCol=\"Channel_Code\", outputCol=\"ChannelIndex\")\n",
        "channel_indexer = channel_indexer.fit(data)\n",
        "data = channel_indexer.transform(data)\n",
        "\n",
        "data.show()"
      ]
    },
    {
      "cell_type": "code",
      "execution_count": null,
      "metadata": {
        "colab": {
          "base_uri": "https://localhost:8080/"
        },
        "id": "n9bcgggI2xqK",
        "outputId": "06702931-a729-428b-9c76-530c521b37bf"
      },
      "outputs": [
        {
          "output_type": "stream",
          "name": "stdout",
          "text": [
            "Occupation len = 4, Channel_code len = 4\n"
          ]
        }
      ],
      "source": [
        "print(f'Occupation len = {len(occupation_indexer.labels)}, Channel_code len = {len(channel_indexer.labels)}')"
      ]
    },
    {
      "cell_type": "markdown",
      "metadata": {
        "id": "vqftb6C43Fsw"
      },
      "source": [
        "Тут по 4 категории, что самое простое, что приходит в голову? Правильно - OHE"
      ]
    },
    {
      "cell_type": "code",
      "execution_count": null,
      "metadata": {
        "colab": {
          "base_uri": "https://localhost:8080/"
        },
        "id": "VCeoucMX3NpG",
        "outputId": "6084358d-916f-4f17-e829-9b97105b6819"
      },
      "outputs": [
        {
          "output_type": "stream",
          "name": "stdout",
          "text": [
            "+--------+------+---+-----------+-------------+------------+-------+--------------+-------------------+---------+-------+-----------+--------------+---------------+------------+----------------+-------------+\n",
            "|      ID|Gender|Age|Region_Code|   Occupation|Channel_Code|Vintage|Credit_Product|Avg_Account_Balance|Is_Active|Is_Lead|GenderIndex|originalGender|OccupationIndex|ChannelIndex|OccupationVector|   ChannelVec|\n",
            "+--------+------+---+-----------+-------------+------------+-------+--------------+-------------------+---------+-------+-----------+--------------+---------------+------------+----------------+-------------+\n",
            "|NNVBBKZB|Female| 73|      RG268|        Other|          X3|     43|            No|            1045696|       No|      0|        1.0|        Female|            2.0|         1.0|   (3,[2],[1.0])|(3,[1],[1.0])|\n",
            "|IDD62UNG|Female| 30|      RG277|     Salaried|          X1|     32|            No|             581988|       No|      0|        1.0|        Female|            1.0|         0.0|   (3,[1],[1.0])|(3,[0],[1.0])|\n",
            "|HD3DSEMC|Female| 56|      RG268|Self_Employed|          X3|     26|            No|            1484315|      Yes|      0|        1.0|        Female|            0.0|         1.0|   (3,[0],[1.0])|(3,[1],[1.0])|\n",
            "|BF3NC7KV|  Male| 34|      RG270|     Salaried|          X1|     19|            No|             470454|       No|      0|        0.0|          Male|            1.0|         0.0|   (3,[1],[1.0])|(3,[0],[1.0])|\n",
            "|TEASRWXV|Female| 30|      RG282|     Salaried|          X1|     33|            No|             886787|       No|      0|        1.0|        Female|            1.0|         0.0|   (3,[1],[1.0])|(3,[0],[1.0])|\n",
            "|ACUTYTWS|  Male| 56|      RG261|Self_Employed|          X1|     32|            No|             544163|      Yes|      0|        0.0|          Male|            0.0|         0.0|   (3,[0],[1.0])|(3,[0],[1.0])|\n",
            "|ETQCZFEJ|  Male| 62|      RG282|        Other|          X3|     20|            No|            1056750|      Yes|      1|        0.0|          Male|            2.0|         1.0|   (3,[2],[1.0])|(3,[1],[1.0])|\n",
            "|JJNJUQMQ|Female| 48|      RG265|Self_Employed|          X3|     13|            No|             444724|      Yes|      0|        1.0|        Female|            0.0|         1.0|   (3,[0],[1.0])|(3,[1],[1.0])|\n",
            "|ZMQFYKCB|Female| 40|      RG283|Self_Employed|          X2|     38|            No|            1274284|       No|      0|        1.0|        Female|            0.0|         2.0|   (3,[0],[1.0])|(3,[2],[1.0])|\n",
            "|NVKTFBA2|Female| 55|      RG268|Self_Employed|          X2|     49|           Yes|            2014239|       No|      0|        1.0|        Female|            0.0|         2.0|   (3,[0],[1.0])|(3,[2],[1.0])|\n",
            "|NVC424KZ|  Male| 53|      RG254|Self_Employed|          X3|    123|            No|             980664|      Yes|      0|        0.0|          Male|            0.0|         1.0|   (3,[0],[1.0])|(3,[1],[1.0])|\n",
            "|GZ5TMYIR|  Male| 27|      RG270|Self_Employed|          X1|     14|           Yes|             502787|       No|      0|        0.0|          Male|            0.0|         0.0|   (3,[0],[1.0])|(3,[0],[1.0])|\n",
            "|FCPEEIY3|Female| 27|      RG277|     Salaried|          X1|     20|            No|             811591|      Yes|      0|        1.0|        Female|            1.0|         0.0|   (3,[1],[1.0])|(3,[0],[1.0])|\n",
            "|KCE7JSFN|  Male| 31|      RG254|     Salaried|          X1|     31|           Yes|             938754|       No|      0|        0.0|          Male|            1.0|         0.0|   (3,[1],[1.0])|(3,[0],[1.0])|\n",
            "|EMEEHHBK|  Male| 79|      RG277|        Other|          X3|     57|            No|             832185|      Yes|      0|        0.0|          Male|            2.0|         1.0|   (3,[2],[1.0])|(3,[1],[1.0])|\n",
            "|UJ2NJKKL|  Male| 33|      RG268|Self_Employed|          X2|     69|            No|             517063|      Yes|      1|        0.0|          Male|            0.0|         2.0|   (3,[0],[1.0])|(3,[2],[1.0])|\n",
            "|CNGSPYWS|Female| 46|      RG268|        Other|          X3|     97|           Yes|            2282502|       No|      1|        1.0|        Female|            2.0|         1.0|   (3,[2],[1.0])|(3,[1],[1.0])|\n",
            "|VH7NBNNQ|Female| 59|      RG283|        Other|          X3|     15|           Yes|            2384692|       No|      1|        1.0|        Female|            2.0|         1.0|   (3,[2],[1.0])|(3,[1],[1.0])|\n",
            "|HDNJXDWC|Female| 65|      RG277|        Other|          X2|     20|            No|             341573|      Yes|      0|        1.0|        Female|            2.0|         2.0|   (3,[2],[1.0])|(3,[2],[1.0])|\n",
            "|BDOKI4CP|Female| 37|      RG269|        Other|          X1|     63|            No|             633484|      Yes|      0|        1.0|        Female|            2.0|         0.0|   (3,[2],[1.0])|(3,[0],[1.0])|\n",
            "+--------+------+---+-----------+-------------+------------+-------+--------------+-------------------+---------+-------+-----------+--------------+---------------+------------+----------------+-------------+\n",
            "only showing top 20 rows\n",
            "\n"
          ]
        }
      ],
      "source": [
        "ohe_encoder = OneHotEncoder(inputCols=[\"OccupationIndex\", \"ChannelIndex\"],\n",
        "                        outputCols=[\"OccupationVector\", \"ChannelVec\"])\n",
        "ohe_encoder = ohe_encoder.fit(data)\n",
        "data = ohe_encoder.transform(data)\n",
        "\n",
        "data.show()"
      ]
    },
    {
      "cell_type": "code",
      "execution_count": null,
      "metadata": {
        "colab": {
          "base_uri": "https://localhost:8080/"
        },
        "id": "v994SMld4PeY",
        "outputId": "284ee6cb-3ce1-4843-8bad-51c32c635d91"
      },
      "outputs": [
        {
          "output_type": "execute_result",
          "data": {
            "text/plain": [
              "[4, 4]"
            ]
          },
          "metadata": {},
          "execution_count": 23
        }
      ],
      "source": [
        "ohe_encoder.categorySizes"
      ]
    },
    {
      "cell_type": "markdown",
      "metadata": {
        "id": "XZgkq6G05PSh"
      },
      "source": [
        "Странный формат, не правда ли? Все из-за того, что тут у нас SparseVector\n",
        "\n",
        " На 4 категории нужен вектор размерности 3, а дальше храним позицию и 1 там, где нужная категория"
      ]
    },
    {
      "cell_type": "code",
      "execution_count": null,
      "metadata": {
        "colab": {
          "base_uri": "https://localhost:8080/"
        },
        "id": "U0WwEjcR40px",
        "outputId": "db17773f-40c5-40a2-b739-4b2f52a3764b"
      },
      "outputs": [
        {
          "output_type": "execute_result",
          "data": {
            "text/plain": [
              "Row(OccupationVector=SparseVector(3, {2: 1.0}))"
            ]
          },
          "metadata": {},
          "execution_count": 25
        }
      ],
      "source": [
        "data.select(col('OccupationVector')).head()"
      ]
    },
    {
      "cell_type": "markdown",
      "metadata": {
        "id": "Q5A4TwCYyl9G"
      },
      "source": [
        "Теперь все надо собрать в одну структуру, чтобы можно было анализировать данные и строить модели"
      ]
    },
    {
      "cell_type": "code",
      "execution_count": null,
      "metadata": {
        "id": "FvGBOfFovMQs"
      },
      "outputs": [],
      "source": [
        "from pyspark.ml.feature import VectorAssembler"
      ]
    },
    {
      "cell_type": "code",
      "execution_count": null,
      "metadata": {
        "colab": {
          "base_uri": "https://localhost:8080/"
        },
        "id": "U2QozLTxxe6k",
        "outputId": "adfdab22-03d3-4147-d4a3-9626504f7be1"
      },
      "outputs": [
        {
          "output_type": "stream",
          "name": "stdout",
          "text": [
            "+--------+------+---+-----------+-------------+------------+-------+--------------+-------------------+---------+-------+-----------+--------------+---------------+------------+----------------+-------------+\n",
            "|      ID|Gender|Age|Region_Code|   Occupation|Channel_Code|Vintage|Credit_Product|Avg_Account_Balance|Is_Active|Is_Lead|GenderIndex|originalGender|OccupationIndex|ChannelIndex|OccupationVector|   ChannelVec|\n",
            "+--------+------+---+-----------+-------------+------------+-------+--------------+-------------------+---------+-------+-----------+--------------+---------------+------------+----------------+-------------+\n",
            "|NNVBBKZB|Female| 73|      RG268|        Other|          X3|     43|            No|            1045696|       No|      0|        1.0|        Female|            2.0|         1.0|   (3,[2],[1.0])|(3,[1],[1.0])|\n",
            "|IDD62UNG|Female| 30|      RG277|     Salaried|          X1|     32|            No|             581988|       No|      0|        1.0|        Female|            1.0|         0.0|   (3,[1],[1.0])|(3,[0],[1.0])|\n",
            "|HD3DSEMC|Female| 56|      RG268|Self_Employed|          X3|     26|            No|            1484315|      Yes|      0|        1.0|        Female|            0.0|         1.0|   (3,[0],[1.0])|(3,[1],[1.0])|\n",
            "|BF3NC7KV|  Male| 34|      RG270|     Salaried|          X1|     19|            No|             470454|       No|      0|        0.0|          Male|            1.0|         0.0|   (3,[1],[1.0])|(3,[0],[1.0])|\n",
            "|TEASRWXV|Female| 30|      RG282|     Salaried|          X1|     33|            No|             886787|       No|      0|        1.0|        Female|            1.0|         0.0|   (3,[1],[1.0])|(3,[0],[1.0])|\n",
            "+--------+------+---+-----------+-------------+------------+-------+--------------+-------------------+---------+-------+-----------+--------------+---------------+------------+----------------+-------------+\n",
            "only showing top 5 rows\n",
            "\n"
          ]
        }
      ],
      "source": [
        "data.show(5)"
      ]
    },
    {
      "cell_type": "code",
      "execution_count": null,
      "metadata": {
        "id": "-d3u3pXZwllv"
      },
      "outputs": [],
      "source": [
        "feature_columns = [\n",
        "                   'Age',\n",
        "                   'Vintage',\n",
        "                   'Avg_Account_Balance',\n",
        "                   'GenderIndex',\n",
        "                   'OccupationVector',\n",
        "                   'ChannelVec'\n",
        "]"
      ]
    },
    {
      "cell_type": "code",
      "execution_count": null,
      "metadata": {
        "id": "w8B6wK5qvPI4"
      },
      "outputs": [],
      "source": [
        "df_va = VectorAssembler(inputCols = feature_columns, outputCol = 'features')\n",
        "data = df_va.transform(data)"
      ]
    },
    {
      "cell_type": "code",
      "execution_count": null,
      "metadata": {
        "colab": {
          "base_uri": "https://localhost:8080/"
        },
        "id": "IVIiU4qNzl7I",
        "outputId": "0875afce-f681-4f6a-e0eb-52e79751805e"
      },
      "outputs": [
        {
          "output_type": "stream",
          "name": "stdout",
          "text": [
            "root\n",
            " |-- ID: string (nullable = true)\n",
            " |-- Gender: string (nullable = true)\n",
            " |-- Age: integer (nullable = true)\n",
            " |-- Region_Code: string (nullable = true)\n",
            " |-- Occupation: string (nullable = true)\n",
            " |-- Channel_Code: string (nullable = true)\n",
            " |-- Vintage: integer (nullable = true)\n",
            " |-- Credit_Product: string (nullable = false)\n",
            " |-- Avg_Account_Balance: integer (nullable = true)\n",
            " |-- Is_Active: string (nullable = true)\n",
            " |-- Is_Lead: integer (nullable = true)\n",
            " |-- GenderIndex: double (nullable = false)\n",
            " |-- originalGender: string (nullable = true)\n",
            " |-- OccupationIndex: double (nullable = false)\n",
            " |-- ChannelIndex: double (nullable = false)\n",
            " |-- OccupationVector: vector (nullable = true)\n",
            " |-- ChannelVec: vector (nullable = true)\n",
            " |-- features: vector (nullable = true)\n",
            "\n"
          ]
        }
      ],
      "source": [
        "data.printSchema()"
      ]
    },
    {
      "cell_type": "code",
      "execution_count": null,
      "metadata": {
        "colab": {
          "base_uri": "https://localhost:8080/"
        },
        "id": "iaXUddG1zp_X",
        "outputId": "c57eb74d-7597-48ba-e005-383fddd9c17c"
      },
      "outputs": [
        {
          "output_type": "stream",
          "name": "stdout",
          "text": [
            "+--------+------+---+-----------+-------------+------------+-------+--------------+-------------------+---------+-------+-----------+--------------+---------------+------------+----------------+-------------+--------------------+\n",
            "|      ID|Gender|Age|Region_Code|   Occupation|Channel_Code|Vintage|Credit_Product|Avg_Account_Balance|Is_Active|Is_Lead|GenderIndex|originalGender|OccupationIndex|ChannelIndex|OccupationVector|   ChannelVec|            features|\n",
            "+--------+------+---+-----------+-------------+------------+-------+--------------+-------------------+---------+-------+-----------+--------------+---------------+------------+----------------+-------------+--------------------+\n",
            "|NNVBBKZB|Female| 73|      RG268|        Other|          X3|     43|            No|            1045696|       No|      0|        1.0|        Female|            2.0|         1.0|   (3,[2],[1.0])|(3,[1],[1.0])|[73.0,43.0,104569...|\n",
            "|IDD62UNG|Female| 30|      RG277|     Salaried|          X1|     32|            No|             581988|       No|      0|        1.0|        Female|            1.0|         0.0|   (3,[1],[1.0])|(3,[0],[1.0])|[30.0,32.0,581988...|\n",
            "|HD3DSEMC|Female| 56|      RG268|Self_Employed|          X3|     26|            No|            1484315|      Yes|      0|        1.0|        Female|            0.0|         1.0|   (3,[0],[1.0])|(3,[1],[1.0])|[56.0,26.0,148431...|\n",
            "|BF3NC7KV|  Male| 34|      RG270|     Salaried|          X1|     19|            No|             470454|       No|      0|        0.0|          Male|            1.0|         0.0|   (3,[1],[1.0])|(3,[0],[1.0])|(10,[0,1,2,5,7],[...|\n",
            "|TEASRWXV|Female| 30|      RG282|     Salaried|          X1|     33|            No|             886787|       No|      0|        1.0|        Female|            1.0|         0.0|   (3,[1],[1.0])|(3,[0],[1.0])|[30.0,33.0,886787...|\n",
            "|ACUTYTWS|  Male| 56|      RG261|Self_Employed|          X1|     32|            No|             544163|      Yes|      0|        0.0|          Male|            0.0|         0.0|   (3,[0],[1.0])|(3,[0],[1.0])|(10,[0,1,2,4,7],[...|\n",
            "|ETQCZFEJ|  Male| 62|      RG282|        Other|          X3|     20|            No|            1056750|      Yes|      1|        0.0|          Male|            2.0|         1.0|   (3,[2],[1.0])|(3,[1],[1.0])|(10,[0,1,2,6,8],[...|\n",
            "|JJNJUQMQ|Female| 48|      RG265|Self_Employed|          X3|     13|            No|             444724|      Yes|      0|        1.0|        Female|            0.0|         1.0|   (3,[0],[1.0])|(3,[1],[1.0])|[48.0,13.0,444724...|\n",
            "|ZMQFYKCB|Female| 40|      RG283|Self_Employed|          X2|     38|            No|            1274284|       No|      0|        1.0|        Female|            0.0|         2.0|   (3,[0],[1.0])|(3,[2],[1.0])|[40.0,38.0,127428...|\n",
            "|NVKTFBA2|Female| 55|      RG268|Self_Employed|          X2|     49|           Yes|            2014239|       No|      0|        1.0|        Female|            0.0|         2.0|   (3,[0],[1.0])|(3,[2],[1.0])|[55.0,49.0,201423...|\n",
            "|NVC424KZ|  Male| 53|      RG254|Self_Employed|          X3|    123|            No|             980664|      Yes|      0|        0.0|          Male|            0.0|         1.0|   (3,[0],[1.0])|(3,[1],[1.0])|(10,[0,1,2,4,8],[...|\n",
            "|GZ5TMYIR|  Male| 27|      RG270|Self_Employed|          X1|     14|           Yes|             502787|       No|      0|        0.0|          Male|            0.0|         0.0|   (3,[0],[1.0])|(3,[0],[1.0])|(10,[0,1,2,4,7],[...|\n",
            "|FCPEEIY3|Female| 27|      RG277|     Salaried|          X1|     20|            No|             811591|      Yes|      0|        1.0|        Female|            1.0|         0.0|   (3,[1],[1.0])|(3,[0],[1.0])|[27.0,20.0,811591...|\n",
            "|KCE7JSFN|  Male| 31|      RG254|     Salaried|          X1|     31|           Yes|             938754|       No|      0|        0.0|          Male|            1.0|         0.0|   (3,[1],[1.0])|(3,[0],[1.0])|(10,[0,1,2,5,7],[...|\n",
            "|EMEEHHBK|  Male| 79|      RG277|        Other|          X3|     57|            No|             832185|      Yes|      0|        0.0|          Male|            2.0|         1.0|   (3,[2],[1.0])|(3,[1],[1.0])|(10,[0,1,2,6,8],[...|\n",
            "|UJ2NJKKL|  Male| 33|      RG268|Self_Employed|          X2|     69|            No|             517063|      Yes|      1|        0.0|          Male|            0.0|         2.0|   (3,[0],[1.0])|(3,[2],[1.0])|(10,[0,1,2,4,9],[...|\n",
            "|CNGSPYWS|Female| 46|      RG268|        Other|          X3|     97|           Yes|            2282502|       No|      1|        1.0|        Female|            2.0|         1.0|   (3,[2],[1.0])|(3,[1],[1.0])|[46.0,97.0,228250...|\n",
            "|VH7NBNNQ|Female| 59|      RG283|        Other|          X3|     15|           Yes|            2384692|       No|      1|        1.0|        Female|            2.0|         1.0|   (3,[2],[1.0])|(3,[1],[1.0])|[59.0,15.0,238469...|\n",
            "|HDNJXDWC|Female| 65|      RG277|        Other|          X2|     20|            No|             341573|      Yes|      0|        1.0|        Female|            2.0|         2.0|   (3,[2],[1.0])|(3,[2],[1.0])|[65.0,20.0,341573...|\n",
            "|BDOKI4CP|Female| 37|      RG269|        Other|          X1|     63|            No|             633484|      Yes|      0|        1.0|        Female|            2.0|         0.0|   (3,[2],[1.0])|(3,[0],[1.0])|[37.0,63.0,633484...|\n",
            "+--------+------+---+-----------+-------------+------------+-------+--------------+-------------------+---------+-------+-----------+--------------+---------------+------------+----------------+-------------+--------------------+\n",
            "only showing top 20 rows\n",
            "\n"
          ]
        }
      ],
      "source": [
        "data.show()"
      ]
    },
    {
      "cell_type": "markdown",
      "metadata": {
        "id": "rCWpLx31zh67"
      },
      "source": [
        "В полученном features можно автоматичеки проанализировать все переменные и если у кого-то уникальных значений меньше заданного вами порога, то они автоматичсеки переведутся в индексы при помощи pyspark.ml.feature import VectorIndexer"
      ]
    },
    {
      "cell_type": "markdown",
      "metadata": {
        "id": "sDUyHq-CwHRw"
      },
      "source": [
        "**Статистика**"
      ]
    },
    {
      "cell_type": "markdown",
      "metadata": {
        "id": "AJdSxnSRwRKv"
      },
      "source": [
        "В ml pyspark есть некоторые статистические методы, которые можно использовать для анализа\n",
        "\n",
        "Корреляция"
      ]
    },
    {
      "cell_type": "code",
      "execution_count": null,
      "metadata": {
        "id": "bLh7XX3GpCtZ"
      },
      "outputs": [],
      "source": [
        "from pyspark.ml.stat import Correlation"
      ]
    },
    {
      "cell_type": "code",
      "execution_count": null,
      "metadata": {
        "id": "yopY40AAwzhq"
      },
      "outputs": [],
      "source": [
        "corr = Correlation.corr(data, 'features', method='pearson').collect()[0][0]"
      ]
    },
    {
      "cell_type": "code",
      "execution_count": null,
      "metadata": {
        "colab": {
          "base_uri": "https://localhost:8080/"
        },
        "id": "b5NJYBqi0o4J",
        "outputId": "89c0f0be-2025-441e-89ca-a0eff59b3a45"
      },
      "outputs": [
        {
          "output_type": "execute_result",
          "data": {
            "text/plain": [
              "DenseMatrix(10, 10, [1.0, 0.6312, 0.1452, -0.1521, 0.1527, -0.5632, 0.3948, -0.6646, ..., 0.0102, -0.116, 0.2933, -0.3238, 0.0005, -0.5272, -0.3843, 1.0], False)"
            ]
          },
          "metadata": {},
          "execution_count": 34
        }
      ],
      "source": [
        "corr"
      ]
    },
    {
      "cell_type": "code",
      "execution_count": null,
      "metadata": {
        "colab": {
          "base_uri": "https://localhost:8080/"
        },
        "id": "kdYSH7Hg1Fwm",
        "outputId": "9b50d8d2-150a-4743-cf9f-374714ddbac3"
      },
      "outputs": [
        {
          "output_type": "execute_result",
          "data": {
            "text/plain": [
              "array([[ 1.00000000e+00,  6.31242411e-01,  1.45232189e-01,\n",
              "        -1.52075940e-01,  1.52651808e-01, -5.63226982e-01,\n",
              "         3.94834177e-01, -6.64600051e-01,  4.56338440e-01,\n",
              "         2.73153253e-01],\n",
              "       [ 6.31242411e-01,  1.00000000e+00,  1.67433481e-01,\n",
              "        -1.46379743e-01,  2.21023818e-01, -4.10109383e-01,\n",
              "         1.55662661e-01, -5.71828453e-01,  5.38828562e-01,\n",
              "         1.44931244e-01],\n",
              "       [ 1.45232189e-01,  1.67433481e-01,  1.00000000e+00,\n",
              "        -2.24772031e-02,  3.46714040e-03, -7.16906860e-02,\n",
              "         6.03874569e-02, -9.81785292e-02,  1.06905544e-01,\n",
              "         1.01634033e-02],\n",
              "       [-1.52075940e-01, -1.46379743e-01, -2.24772031e-02,\n",
              "         1.00000000e+00, -8.58626857e-02,  1.22439249e-01,\n",
              "        -2.58175123e-02,  1.84372479e-01, -8.07817702e-02,\n",
              "        -1.16018433e-01],\n",
              "       [ 1.52651808e-01,  2.21023818e-01,  3.46714040e-03,\n",
              "        -8.58626857e-02,  1.00000000e+00, -5.37283514e-01,\n",
              "        -5.27660791e-01, -4.34990948e-01,  1.63662837e-01,\n",
              "         2.93303563e-01],\n",
              "       [-5.63226982e-01, -4.10109383e-01, -7.16906860e-02,\n",
              "         1.22439249e-01, -5.37283514e-01,  1.00000000e+00,\n",
              "        -4.07017379e-01,  5.90747136e-01, -3.07398921e-01,\n",
              "        -3.23819864e-01],\n",
              "       [ 3.94834177e-01,  1.55662661e-01,  6.03874569e-02,\n",
              "        -2.58175123e-02, -5.27660791e-01, -4.07017379e-01,\n",
              "         1.00000000e+00, -1.04278488e-01,  1.19212770e-01,\n",
              "         4.66283346e-04],\n",
              "       [-6.64600051e-01, -5.71828453e-01, -9.81785292e-02,\n",
              "         1.84372479e-01, -4.34990948e-01,  5.90747136e-01,\n",
              "        -1.04278488e-01,  1.00000000e+00, -5.32458671e-01,\n",
              "        -5.27158389e-01],\n",
              "       [ 4.56338440e-01,  5.38828562e-01,  1.06905544e-01,\n",
              "        -8.07817702e-02,  1.63662837e-01, -3.07398921e-01,\n",
              "         1.19212770e-01, -5.32458671e-01,  1.00000000e+00,\n",
              "        -3.84310850e-01],\n",
              "       [ 2.73153253e-01,  1.44931244e-01,  1.01634033e-02,\n",
              "        -1.16018433e-01,  2.93303563e-01, -3.23819864e-01,\n",
              "         4.66283346e-04, -5.27158389e-01, -3.84310850e-01,\n",
              "         1.00000000e+00]])"
            ]
          },
          "metadata": {},
          "execution_count": 35
        }
      ],
      "source": [
        "corr.toArray()"
      ]
    },
    {
      "cell_type": "markdown",
      "metadata": {
        "id": "UaW05KoO1QZ9"
      },
      "source": [
        "Можно вычислить корреляцию спирмена"
      ]
    },
    {
      "cell_type": "code",
      "execution_count": null,
      "metadata": {
        "colab": {
          "base_uri": "https://localhost:8080/"
        },
        "id": "BYUenSBo1P1D",
        "outputId": "339a278d-1f07-4cc5-e153-4a24729c2945"
      },
      "outputs": [
        {
          "output_type": "execute_result",
          "data": {
            "text/plain": [
              "array([[ 1.00000000e+00,  6.52477119e-01,  1.78395617e-01,\n",
              "        -1.66276503e-01,  2.50479037e-01, -5.94192974e-01,\n",
              "         3.16280765e-01, -7.14324073e-01,  4.68523607e-01,\n",
              "         3.11874367e-01],\n",
              "       [ 6.52477119e-01,  1.00000000e+00,  1.98039737e-01,\n",
              "        -1.37241231e-01,  2.26617372e-01, -4.03612329e-01,\n",
              "         1.44248315e-01, -5.43361590e-01,  4.88850315e-01,\n",
              "         1.86509197e-01],\n",
              "       [ 1.78395617e-01,  1.98039737e-01,  1.00000000e+00,\n",
              "        -3.35726184e-02,  1.74003362e-02, -9.65169583e-02,\n",
              "         6.80005979e-02, -1.34528255e-01,  1.34941462e-01,\n",
              "         2.41122172e-02],\n",
              "       [-1.66276503e-01, -1.37241231e-01, -3.35726184e-02,\n",
              "         1.00000000e+00, -8.58626857e-02,  1.22439249e-01,\n",
              "        -2.58175123e-02,  1.84372479e-01, -8.07817702e-02,\n",
              "        -1.16018433e-01],\n",
              "       [ 2.50479037e-01,  2.26617372e-01,  1.74003362e-02,\n",
              "        -8.58626857e-02,  1.00000000e+00, -5.37283514e-01,\n",
              "        -5.27660791e-01, -4.34990948e-01,  1.63662837e-01,\n",
              "         2.93303563e-01],\n",
              "       [-5.94192974e-01, -4.03612329e-01, -9.65169583e-02,\n",
              "         1.22439249e-01, -5.37283514e-01,  1.00000000e+00,\n",
              "        -4.07017379e-01,  5.90747136e-01, -3.07398921e-01,\n",
              "        -3.23819864e-01],\n",
              "       [ 3.16280765e-01,  1.44248315e-01,  6.80005979e-02,\n",
              "        -2.58175123e-02, -5.27660791e-01, -4.07017379e-01,\n",
              "         1.00000000e+00, -1.04278488e-01,  1.19212770e-01,\n",
              "         4.66283346e-04],\n",
              "       [-7.14324073e-01, -5.43361590e-01, -1.34528255e-01,\n",
              "         1.84372479e-01, -4.34990948e-01,  5.90747136e-01,\n",
              "        -1.04278488e-01,  1.00000000e+00, -5.32458671e-01,\n",
              "        -5.27158389e-01],\n",
              "       [ 4.68523607e-01,  4.88850315e-01,  1.34941462e-01,\n",
              "        -8.07817702e-02,  1.63662837e-01, -3.07398921e-01,\n",
              "         1.19212770e-01, -5.32458671e-01,  1.00000000e+00,\n",
              "        -3.84310850e-01],\n",
              "       [ 3.11874367e-01,  1.86509197e-01,  2.41122172e-02,\n",
              "        -1.16018433e-01,  2.93303563e-01, -3.23819864e-01,\n",
              "         4.66283346e-04, -5.27158389e-01, -3.84310850e-01,\n",
              "         1.00000000e+00]])"
            ]
          },
          "metadata": {},
          "execution_count": 36
        }
      ],
      "source": [
        "corr = Correlation.corr(data, 'features', method='spearman').collect()[0][0]\n",
        "corr.toArray()"
      ]
    },
    {
      "cell_type": "markdown",
      "metadata": {
        "id": "y_5PVUlY2F5Y"
      },
      "source": [
        "Можно использовать хи-квадрат тест для оценки независимости каждой переменной в features относительно целевого признака, но этот тест для категориальных переменных, поэтому для примера на одной фиче"
      ]
    },
    {
      "cell_type": "code",
      "execution_count": null,
      "metadata": {
        "id": "qKDaZAqo2qcx"
      },
      "outputs": [],
      "source": [
        "from pyspark.ml.stat import ChiSquareTest, KolmogorovSmirnovTest, Summarizer"
      ]
    },
    {
      "cell_type": "code",
      "execution_count": null,
      "metadata": {
        "id": "NKv6rl6L2uD3"
      },
      "outputs": [],
      "source": [
        "r = ChiSquareTest.test(data, \"OccupationVector\", \"Is_Lead\")"
      ]
    },
    {
      "cell_type": "code",
      "execution_count": null,
      "metadata": {
        "colab": {
          "base_uri": "https://localhost:8080/"
        },
        "id": "zs8p9cYz232n",
        "outputId": "499ee188-34b8-4273-f5b2-0abb41ad0379"
      },
      "outputs": [
        {
          "output_type": "stream",
          "name": "stdout",
          "text": [
            "+--------------------+----------------+--------------------+\n",
            "|             pValues|degreesOfFreedom|          statistics|\n",
            "+--------------------+----------------+--------------------+\n",
            "|[0.0,0.0,1.161583...|       [1, 1, 1]|[1420.86324574575...|\n",
            "+--------------------+----------------+--------------------+\n",
            "\n"
          ]
        }
      ],
      "source": [
        "r.show()"
      ]
    },
    {
      "cell_type": "markdown",
      "metadata": {
        "id": "L5bWlEXS48xD"
      },
      "source": [
        "KS-тест"
      ]
    },
    {
      "cell_type": "code",
      "execution_count": null,
      "metadata": {
        "colab": {
          "base_uri": "https://localhost:8080/"
        },
        "id": "AQxAgsUx6NVR",
        "outputId": "b5523764-5f68-4d75-9e9f-fe3c670d237d"
      },
      "outputs": [
        {
          "output_type": "execute_result",
          "data": {
            "text/plain": [
              "[Row(mean_Age=43.85630684708516, std_Age=14.828671804648007)]"
            ]
          },
          "metadata": {},
          "execution_count": 40
        }
      ],
      "source": [
        "data.select(\n",
        "    F.mean(col('Age')).alias('mean_Age'),\n",
        "    F.stddev(col('Age')).alias('std_Age')\n",
        ").collect()"
      ]
    },
    {
      "cell_type": "code",
      "execution_count": null,
      "metadata": {
        "id": "IoppdTHa46tZ"
      },
      "outputs": [],
      "source": [
        "ks = KolmogorovSmirnovTest.test(data, 'Age', 'norm', 44, 15).first()"
      ]
    },
    {
      "cell_type": "code",
      "execution_count": null,
      "metadata": {
        "colab": {
          "base_uri": "https://localhost:8080/"
        },
        "id": "y_f8r3Lg7KW5",
        "outputId": "1482cd45-003e-483b-99fa-e12704430a00"
      },
      "outputs": [
        {
          "output_type": "execute_result",
          "data": {
            "text/plain": [
              "Row(pValue=2.045950076023928e-10, statistic=0.12561207843265515)"
            ]
          },
          "metadata": {},
          "execution_count": 42
        }
      ],
      "source": [
        "ks"
      ]
    },
    {
      "cell_type": "markdown",
      "metadata": {
        "id": "8brAdeEf7oxC"
      },
      "source": [
        "Еще можно посчитать разные статистики"
      ]
    },
    {
      "cell_type": "code",
      "execution_count": null,
      "metadata": {
        "colab": {
          "base_uri": "https://localhost:8080/"
        },
        "id": "yYYVSXeO7s5s",
        "outputId": "6b5d3e1d-c5c8-4c98-f5b6-93bb3151f8e3"
      },
      "outputs": [
        {
          "output_type": "stream",
          "name": "stdout",
          "text": [
            "+--------------------------------------------------------------------------------------------------------------------------------------------------------------------------------------------------------+\n",
            "|aggregate_metrics(features, 1.0)                                                                                                                                                                        |\n",
            "+--------------------------------------------------------------------------------------------------------------------------------------------------------------------------------------------------------+\n",
            "|{[43.8563068470854,46.95914131651267,1128403.101019436,0.4538732322718486,0.4105646556109472,0.29300640960423235,0.2855753382846678,0.42208973445925324,0.2796296673110184,0.27561705158205313], 245725}|\n",
            "+--------------------------------------------------------------------------------------------------------------------------------------------------------------------------------------------------------+\n",
            "\n"
          ]
        }
      ],
      "source": [
        "summarizer = Summarizer.metrics(\"mean\", \"count\")\n",
        "data.select(summarizer.summary(data.features)).show(truncate=False)"
      ]
    },
    {
      "cell_type": "markdown",
      "metadata": {
        "id": "YKcAS-ZySbmv"
      },
      "source": [
        "**Работа с фичами**"
      ]
    },
    {
      "cell_type": "markdown",
      "metadata": {
        "id": "gb2La8IGSfy2"
      },
      "source": [
        "Квантизация"
      ]
    },
    {
      "cell_type": "code",
      "execution_count": null,
      "metadata": {
        "id": "UU52as0DSfM3"
      },
      "outputs": [],
      "source": [
        "from pyspark.ml.feature import QuantileDiscretizer"
      ]
    },
    {
      "cell_type": "markdown",
      "metadata": {
        "id": "JwLM1tzZTCpM"
      },
      "source": [
        "Обучаем"
      ]
    },
    {
      "cell_type": "code",
      "execution_count": null,
      "metadata": {
        "id": "eLEqod7ASm_p"
      },
      "outputs": [],
      "source": [
        "discretizer = QuantileDiscretizer(numBuckets=5, inputCol=\"Age\", outputCol=\"Age_quant\")\n",
        "discretizer = discretizer.fit(data)"
      ]
    },
    {
      "cell_type": "code",
      "execution_count": null,
      "metadata": {
        "id": "DJEUHC2CTE1Z"
      },
      "outputs": [],
      "source": [
        "data = discretizer.transform(data)"
      ]
    },
    {
      "cell_type": "code",
      "execution_count": null,
      "metadata": {
        "colab": {
          "base_uri": "https://localhost:8080/"
        },
        "id": "BzA9F_8wUZzD",
        "outputId": "8c0a62ce-7cf7-4a41-fdee-3f2b668ba303"
      },
      "outputs": [
        {
          "output_type": "stream",
          "name": "stdout",
          "text": [
            "+---------+-------+-------+-----+\n",
            "|Age_quant|min_age|max_age|count|\n",
            "+---------+-------+-------+-----+\n",
            "|      0.0|     23|     28|43790|\n",
            "|      1.0|     29|     35|52017|\n",
            "|      2.0|     36|     46|46007|\n",
            "|      3.0|     47|     55|50808|\n",
            "|      4.0|     56|     85|53103|\n",
            "+---------+-------+-------+-----+\n",
            "\n"
          ]
        }
      ],
      "source": [
        "data.select('Age', 'Age_quant')\\\n",
        "    .groupby('Age_quant').agg(\n",
        "        F.min('Age').alias('min_age'),\n",
        "        F.max('Age').alias('max_age'),\n",
        "        F.count('Age').alias('count')\n",
        "    )\\\n",
        "    .orderBy('Age_quant')\\\n",
        "    .show(5)"
      ]
    },
    {
      "cell_type": "markdown",
      "metadata": {
        "id": "4MCJmjnVWnYo"
      },
      "source": [
        "Заполнить пропуски можно через Imputer\n",
        "\n",
        "Заполнять пропуски умеет только для числовых переменных, поэтому попробуем на игрушечном примере\n",
        "\n"
      ]
    },
    {
      "cell_type": "code",
      "execution_count": null,
      "metadata": {
        "id": "tQLJUwVnXHGg"
      },
      "outputs": [],
      "source": [
        "from pyspark.ml.feature import Imputer"
      ]
    },
    {
      "cell_type": "code",
      "execution_count": null,
      "metadata": {
        "colab": {
          "base_uri": "https://localhost:8080/"
        },
        "id": "tnLtSJgXWrnK",
        "outputId": "edf9331b-c944-4625-ad8a-b01e6d3527ab"
      },
      "outputs": [
        {
          "output_type": "stream",
          "name": "stdout",
          "text": [
            "+---+---+-----+-----+\n",
            "|  a|  b|out_a|out_b|\n",
            "+---+---+-----+-----+\n",
            "|1.0|NaN|  1.0|  4.0|\n",
            "|2.0|NaN|  2.0|  4.0|\n",
            "|NaN|3.0|  3.0|  3.0|\n",
            "|4.0|4.0|  4.0|  4.0|\n",
            "|5.0|5.0|  5.0|  5.0|\n",
            "+---+---+-----+-----+\n",
            "\n"
          ]
        }
      ],
      "source": [
        "df = spark.createDataFrame([\n",
        "    (1.0, float(\"nan\")),\n",
        "    (2.0, float(\"nan\")),\n",
        "    (float(\"nan\"), 3.0),\n",
        "    (4.0, 4.0),\n",
        "    (5.0, 5.0)\n",
        "], [\"a\", \"b\"])\n",
        "\n",
        "#стратегия может быть 'mean', 'median', 'mode'\n",
        "#через setMissingValue(0.0) можно сказать, что пропуски - это 0\n",
        "imputer = Imputer(inputCols=[\"a\", \"b\"], outputCols=[\"out_a\", \"out_b\"], strategy='mean')\n",
        "imputer = imputer.fit(df)\n",
        "imputer.transform(df).show()"
      ]
    },
    {
      "cell_type": "markdown",
      "metadata": {
        "id": "ZhnOCVaJN4TE"
      },
      "source": [
        "**Pipeline**\n",
        "\n",
        "Как и в scikit-learn можно создавать пайплайны обработки данных"
      ]
    },
    {
      "cell_type": "markdown",
      "metadata": {
        "id": "iA70rsPgYIPb"
      },
      "source": [
        "Мы много делали преобразований, давайте соберем все в 1 пайплайн"
      ]
    },
    {
      "cell_type": "code",
      "execution_count": null,
      "metadata": {
        "id": "EQSjY7OGNuV5"
      },
      "outputs": [],
      "source": [
        "from pyspark.ml import Pipeline"
      ]
    },
    {
      "cell_type": "code",
      "execution_count": null,
      "metadata": {
        "id": "2F3RrpODOSdK"
      },
      "outputs": [],
      "source": [
        "#string в индесы\n",
        "gender_indexer = StringIndexer(inputCol=\"Gender\", outputCol=\"GenderIndex\")\n",
        "occupation_indexer = StringIndexer(inputCol=\"Occupation\", outputCol=\"OccupationIndex\")\n",
        "channel_indexer = StringIndexer(inputCol=\"Channel_Code\", outputCol=\"ChannelIndex\")\n",
        "\n",
        "#OHE\n",
        "ohe_encoder = OneHotEncoder(inputCols=[\"OccupationIndex\", \"ChannelIndex\"],\n",
        "                        outputCols=[\"OccupationVector\", \"ChannelVec\"])\n",
        "\n",
        "#квантизация\n",
        "discretizer = QuantileDiscretizer(numBuckets=5, inputCol=\"Age\", outputCol=\"Age_quant\")\n",
        "\n",
        "#собираем все в вектор\n",
        "feature_columns = [\n",
        "                   'Age',\n",
        "                   'Vintage',\n",
        "                   'Avg_Account_Balance',\n",
        "                   'GenderIndex',\n",
        "                   'OccupationVector',\n",
        "                   'ChannelVec',\n",
        "                   'Age_quant'\n",
        "]\n",
        "vector_assembler = VectorAssembler(inputCols = feature_columns, outputCol = 'features')"
      ]
    },
    {
      "cell_type": "markdown",
      "metadata": {
        "id": "XFC0GDkKPOaf"
      },
      "source": [
        "собираем все в пайплайн"
      ]
    },
    {
      "cell_type": "code",
      "execution_count": null,
      "metadata": {
        "id": "01A49vw-PBUX"
      },
      "outputs": [],
      "source": [
        "pipeline = Pipeline(stages=[\n",
        "                           gender_indexer,\n",
        "                           occupation_indexer,\n",
        "                           channel_indexer,\n",
        "                           ohe_encoder,\n",
        "                           discretizer,\n",
        "                           vector_assembler,\n",
        "])"
      ]
    },
    {
      "cell_type": "markdown",
      "metadata": {
        "id": "QsvoIzWBPoL8"
      },
      "source": [
        "Давайте заново загрузим данные и сделаем трансформацию\n",
        "\n",
        "---\n",
        "\n"
      ]
    },
    {
      "cell_type": "code",
      "execution_count": null,
      "metadata": {
        "id": "5w32Zu8CPnjW"
      },
      "outputs": [],
      "source": [
        "data = spark.read.csv('/content/drive/My Drive/Colab_Notebooks/PySpark/lesson_4/credit_card_data.csv', header=True, inferSchema=True)\n",
        "data = data.fillna({'Credit_Product': 'No'})\n",
        "pipeline = pipeline.fit(data)"
      ]
    },
    {
      "cell_type": "code",
      "execution_count": null,
      "metadata": {
        "id": "sZL7qvxlQMQF"
      },
      "outputs": [],
      "source": [
        "transformed_data = pipeline.transform(data)"
      ]
    },
    {
      "cell_type": "code",
      "execution_count": null,
      "metadata": {
        "colab": {
          "base_uri": "https://localhost:8080/"
        },
        "id": "Q2FxS5ahYcew",
        "outputId": "6a06199c-bad1-42be-bebe-ee13d5b2ed70"
      },
      "outputs": [
        {
          "output_type": "stream",
          "name": "stdout",
          "text": [
            "+--------+------+---+-----------+-------------+------------+-------+--------------+-------------------+---------+-------+-----------+---------------+------------+----------------+-------------+---------+--------------------+\n",
            "|      ID|Gender|Age|Region_Code|   Occupation|Channel_Code|Vintage|Credit_Product|Avg_Account_Balance|Is_Active|Is_Lead|GenderIndex|OccupationIndex|ChannelIndex|OccupationVector|   ChannelVec|Age_quant|            features|\n",
            "+--------+------+---+-----------+-------------+------------+-------+--------------+-------------------+---------+-------+-----------+---------------+------------+----------------+-------------+---------+--------------------+\n",
            "|NNVBBKZB|Female| 73|      RG268|        Other|          X3|     43|            No|            1045696|       No|      0|        1.0|            2.0|         1.0|   (3,[2],[1.0])|(3,[1],[1.0])|      4.0|[73.0,43.0,104569...|\n",
            "|IDD62UNG|Female| 30|      RG277|     Salaried|          X1|     32|            No|             581988|       No|      0|        1.0|            1.0|         0.0|   (3,[1],[1.0])|(3,[0],[1.0])|      1.0|[30.0,32.0,581988...|\n",
            "|HD3DSEMC|Female| 56|      RG268|Self_Employed|          X3|     26|            No|            1484315|      Yes|      0|        1.0|            0.0|         1.0|   (3,[0],[1.0])|(3,[1],[1.0])|      4.0|[56.0,26.0,148431...|\n",
            "|BF3NC7KV|  Male| 34|      RG270|     Salaried|          X1|     19|            No|             470454|       No|      0|        0.0|            1.0|         0.0|   (3,[1],[1.0])|(3,[0],[1.0])|      1.0|(11,[0,1,2,5,7,10...|\n",
            "|TEASRWXV|Female| 30|      RG282|     Salaried|          X1|     33|            No|             886787|       No|      0|        1.0|            1.0|         0.0|   (3,[1],[1.0])|(3,[0],[1.0])|      1.0|[30.0,33.0,886787...|\n",
            "|ACUTYTWS|  Male| 56|      RG261|Self_Employed|          X1|     32|            No|             544163|      Yes|      0|        0.0|            0.0|         0.0|   (3,[0],[1.0])|(3,[0],[1.0])|      4.0|(11,[0,1,2,4,7,10...|\n",
            "|ETQCZFEJ|  Male| 62|      RG282|        Other|          X3|     20|            No|            1056750|      Yes|      1|        0.0|            2.0|         1.0|   (3,[2],[1.0])|(3,[1],[1.0])|      4.0|(11,[0,1,2,6,8,10...|\n",
            "|JJNJUQMQ|Female| 48|      RG265|Self_Employed|          X3|     13|            No|             444724|      Yes|      0|        1.0|            0.0|         1.0|   (3,[0],[1.0])|(3,[1],[1.0])|      3.0|[48.0,13.0,444724...|\n",
            "|ZMQFYKCB|Female| 40|      RG283|Self_Employed|          X2|     38|            No|            1274284|       No|      0|        1.0|            0.0|         2.0|   (3,[0],[1.0])|(3,[2],[1.0])|      2.0|[40.0,38.0,127428...|\n",
            "|NVKTFBA2|Female| 55|      RG268|Self_Employed|          X2|     49|           Yes|            2014239|       No|      0|        1.0|            0.0|         2.0|   (3,[0],[1.0])|(3,[2],[1.0])|      3.0|[55.0,49.0,201423...|\n",
            "|NVC424KZ|  Male| 53|      RG254|Self_Employed|          X3|    123|            No|             980664|      Yes|      0|        0.0|            0.0|         1.0|   (3,[0],[1.0])|(3,[1],[1.0])|      3.0|(11,[0,1,2,4,8,10...|\n",
            "|GZ5TMYIR|  Male| 27|      RG270|Self_Employed|          X1|     14|           Yes|             502787|       No|      0|        0.0|            0.0|         0.0|   (3,[0],[1.0])|(3,[0],[1.0])|      0.0|(11,[0,1,2,4,7],[...|\n",
            "|FCPEEIY3|Female| 27|      RG277|     Salaried|          X1|     20|            No|             811591|      Yes|      0|        1.0|            1.0|         0.0|   (3,[1],[1.0])|(3,[0],[1.0])|      0.0|(11,[0,1,2,3,5,7]...|\n",
            "|KCE7JSFN|  Male| 31|      RG254|     Salaried|          X1|     31|           Yes|             938754|       No|      0|        0.0|            1.0|         0.0|   (3,[1],[1.0])|(3,[0],[1.0])|      1.0|(11,[0,1,2,5,7,10...|\n",
            "|EMEEHHBK|  Male| 79|      RG277|        Other|          X3|     57|            No|             832185|      Yes|      0|        0.0|            2.0|         1.0|   (3,[2],[1.0])|(3,[1],[1.0])|      4.0|(11,[0,1,2,6,8,10...|\n",
            "|UJ2NJKKL|  Male| 33|      RG268|Self_Employed|          X2|     69|            No|             517063|      Yes|      1|        0.0|            0.0|         2.0|   (3,[0],[1.0])|(3,[2],[1.0])|      1.0|(11,[0,1,2,4,9,10...|\n",
            "|CNGSPYWS|Female| 46|      RG268|        Other|          X3|     97|           Yes|            2282502|       No|      1|        1.0|            2.0|         1.0|   (3,[2],[1.0])|(3,[1],[1.0])|      2.0|[46.0,97.0,228250...|\n",
            "|VH7NBNNQ|Female| 59|      RG283|        Other|          X3|     15|           Yes|            2384692|       No|      1|        1.0|            2.0|         1.0|   (3,[2],[1.0])|(3,[1],[1.0])|      4.0|[59.0,15.0,238469...|\n",
            "|HDNJXDWC|Female| 65|      RG277|        Other|          X2|     20|            No|             341573|      Yes|      0|        1.0|            2.0|         2.0|   (3,[2],[1.0])|(3,[2],[1.0])|      4.0|[65.0,20.0,341573...|\n",
            "|BDOKI4CP|Female| 37|      RG269|        Other|          X1|     63|            No|             633484|      Yes|      0|        1.0|            2.0|         0.0|   (3,[2],[1.0])|(3,[0],[1.0])|      2.0|[37.0,63.0,633484...|\n",
            "+--------+------+---+-----------+-------------+------------+-------+--------------+-------------------+---------+-------+-----------+---------------+------------+----------------+-------------+---------+--------------------+\n",
            "only showing top 20 rows\n",
            "\n"
          ]
        }
      ],
      "source": [
        "transformed_data.show()"
      ]
    },
    {
      "cell_type": "code",
      "execution_count": null,
      "metadata": {
        "colab": {
          "base_uri": "https://localhost:8080/"
        },
        "id": "wAxYmxspQRtg",
        "outputId": "a700dba0-b5a0-4db8-ad6e-1d9353eff8cc"
      },
      "outputs": [
        {
          "output_type": "stream",
          "name": "stdout",
          "text": [
            "+-------+--------------------+\n",
            "|Is_Lead|            features|\n",
            "+-------+--------------------+\n",
            "|      0|[73.0,43.0,104569...|\n",
            "|      0|[30.0,32.0,581988...|\n",
            "|      0|[56.0,26.0,148431...|\n",
            "|      0|(11,[0,1,2,5,7,10...|\n",
            "|      0|[30.0,33.0,886787...|\n",
            "+-------+--------------------+\n",
            "only showing top 5 rows\n",
            "\n"
          ]
        }
      ],
      "source": [
        "transformed_data.select('Is_Lead', 'features').show(5)"
      ]
    },
    {
      "cell_type": "markdown",
      "metadata": {
        "id": "fQ3Hd-9zZfqS"
      },
      "source": [
        "**Модельки**\n",
        "\n",
        "Пора нам уже что-то обучить, начнем с логрега"
      ]
    },
    {
      "cell_type": "code",
      "execution_count": null,
      "metadata": {
        "id": "yPjuQR3nZmNP"
      },
      "outputs": [],
      "source": [
        "from pyspark.ml.classification import LogisticRegression, LogisticRegressionModel"
      ]
    },
    {
      "cell_type": "code",
      "execution_count": null,
      "metadata": {
        "id": "1E6G5HuFZ11p"
      },
      "outputs": [],
      "source": [
        "lr = LogisticRegression(featuresCol='features', labelCol='Is_Lead', predictionCol='prediction',\n",
        "                        maxIter=100, probabilityCol='proba')\n",
        "\n",
        "lr = lr.fit(transformed_data)"
      ]
    },
    {
      "cell_type": "markdown",
      "metadata": {
        "id": "q-rzIwuDws9m"
      },
      "source": [
        "Сохраним"
      ]
    },
    {
      "cell_type": "code",
      "execution_count": null,
      "metadata": {
        "id": "B_7j3DSkwfzv"
      },
      "outputs": [],
      "source": [
        "lr.save('logreg_model')"
      ]
    },
    {
      "cell_type": "markdown",
      "metadata": {
        "id": "UNXljB3Bw9ui"
      },
      "source": [
        "Загрузка"
      ]
    },
    {
      "cell_type": "code",
      "execution_count": null,
      "metadata": {
        "id": "DNPT1BVAwwdj"
      },
      "outputs": [],
      "source": [
        "lr2 = LogisticRegressionModel.load('logreg_model')"
      ]
    },
    {
      "cell_type": "markdown",
      "metadata": {
        "id": "kKQWHwILb9ZG"
      },
      "source": [
        "Коэффициенты и метрики"
      ]
    },
    {
      "cell_type": "code",
      "execution_count": null,
      "metadata": {
        "colab": {
          "base_uri": "https://localhost:8080/"
        },
        "id": "_0UWzsFwav6u",
        "outputId": "10d8725b-848e-4731-a57e-ee53045a6495"
      },
      "outputs": [
        {
          "output_type": "stream",
          "name": "stdout",
          "text": [
            "Coefficients: [-0.016713044807987118,0.009916392983822526,9.91826749028193e-09,-0.05296577197114642,-1.5152849582681478,-0.5266676981678328,-1.5009517711168423,-1.5679772035552135,-0.1459536443737886,-0.05760664451981407,0.34189553941632866]\n",
            "Intercept: 0.09853176624209481\n"
          ]
        }
      ],
      "source": [
        "print(\"Coefficients: \" + str(lr.coefficients))\n",
        "print(\"Intercept: \" + str(lr.intercept))"
      ]
    },
    {
      "cell_type": "code",
      "execution_count": null,
      "metadata": {
        "colab": {
          "base_uri": "https://localhost:8080/"
        },
        "id": "Y7G91sTrxQbs",
        "outputId": "ef5c86d7-4822-44b6-8399-ae35c73e9012"
      },
      "outputs": [
        {
          "output_type": "stream",
          "name": "stdout",
          "text": [
            "Coefficients: [-0.016713044807987118,0.009916392983822526,9.91826749028193e-09,-0.05296577197114642,-1.5152849582681478,-0.5266676981678328,-1.5009517711168423,-1.5679772035552135,-0.1459536443737886,-0.05760664451981407,0.34189553941632866]\n",
            "Intercept: 0.09853176624209481\n"
          ]
        }
      ],
      "source": [
        "print(\"Coefficients: \" + str(lr2.coefficients))\n",
        "print(\"Intercept: \" + str(lr2.intercept))"
      ]
    },
    {
      "cell_type": "code",
      "execution_count": null,
      "metadata": {
        "colab": {
          "base_uri": "https://localhost:8080/"
        },
        "id": "K7gmjDu4blD1",
        "outputId": "56582f0b-d3f5-4385-e9dc-60b5091c4a37"
      },
      "outputs": [
        {
          "output_type": "stream",
          "name": "stdout",
          "text": [
            "ROC_AUC = 0.7291586999034588\n"
          ]
        }
      ],
      "source": [
        "print(f'ROC_AUC = {lr.summary.areaUnderROC}')"
      ]
    },
    {
      "cell_type": "code",
      "execution_count": null,
      "metadata": {
        "colab": {
          "base_uri": "https://localhost:8080/"
        },
        "id": "SeL7Hy0Wa7xC",
        "outputId": "bd12aba8-3e7a-4614-f2f1-1eb15ad7baf9"
      },
      "outputs": [
        {
          "output_type": "execute_result",
          "data": {
            "text/plain": [
              "[0.9880226422744709, 0.10472138347515783]"
            ]
          },
          "metadata": {},
          "execution_count": 65
        }
      ],
      "source": [
        "lr.summary.recallByLabel"
      ]
    },
    {
      "cell_type": "code",
      "execution_count": null,
      "metadata": {
        "colab": {
          "base_uri": "https://localhost:8080/"
        },
        "id": "supy8ehjdDkz",
        "outputId": "b1f6158f-b9d2-494c-82f4-99cafbbcbf9a"
      },
      "outputs": [
        {
          "output_type": "execute_result",
          "data": {
            "text/plain": [
              "[Param(parent='LogisticRegression_1330386cf416', name='aggregationDepth', doc='suggested depth for treeAggregate (>= 2).'),\n",
              " Param(parent='LogisticRegression_1330386cf416', name='elasticNetParam', doc='the ElasticNet mixing parameter, in range [0, 1]. For alpha = 0, the penalty is an L2 penalty. For alpha = 1, it is an L1 penalty.'),\n",
              " Param(parent='LogisticRegression_1330386cf416', name='family', doc='The name of family which is a description of the label distribution to be used in the model. Supported options: auto, binomial, multinomial'),\n",
              " Param(parent='LogisticRegression_1330386cf416', name='featuresCol', doc='features column name.'),\n",
              " Param(parent='LogisticRegression_1330386cf416', name='fitIntercept', doc='whether to fit an intercept term.'),\n",
              " Param(parent='LogisticRegression_1330386cf416', name='labelCol', doc='label column name.'),\n",
              " Param(parent='LogisticRegression_1330386cf416', name='lowerBoundsOnCoefficients', doc='The lower bounds on coefficients if fitting under bound constrained optimization. The bound matrix must be compatible with the shape (1, number of features) for binomial regression, or (number of classes, number of features) for multinomial regression.'),\n",
              " Param(parent='LogisticRegression_1330386cf416', name='lowerBoundsOnIntercepts', doc='The lower bounds on intercepts if fitting under bound constrained optimization. The bounds vector size must beequal with 1 for binomial regression, or the number oflasses for multinomial regression.'),\n",
              " Param(parent='LogisticRegression_1330386cf416', name='maxBlockSizeInMB', doc='maximum memory in MB for stacking input data into blocks. Data is stacked within partitions. If more than remaining data size in a partition then it is adjusted to the data size. Default 0.0 represents choosing optimal value, depends on specific algorithm. Must be >= 0.'),\n",
              " Param(parent='LogisticRegression_1330386cf416', name='maxIter', doc='max number of iterations (>= 0).'),\n",
              " Param(parent='LogisticRegression_1330386cf416', name='predictionCol', doc='prediction column name.'),\n",
              " Param(parent='LogisticRegression_1330386cf416', name='probabilityCol', doc='Column name for predicted class conditional probabilities. Note: Not all models output well-calibrated probability estimates! These probabilities should be treated as confidences, not precise probabilities.'),\n",
              " Param(parent='LogisticRegression_1330386cf416', name='rawPredictionCol', doc='raw prediction (a.k.a. confidence) column name.'),\n",
              " Param(parent='LogisticRegression_1330386cf416', name='regParam', doc='regularization parameter (>= 0).'),\n",
              " Param(parent='LogisticRegression_1330386cf416', name='standardization', doc='whether to standardize the training features before fitting the model.'),\n",
              " Param(parent='LogisticRegression_1330386cf416', name='threshold', doc='Threshold in binary classification prediction, in range [0, 1]. If threshold and thresholds are both set, they must match.e.g. if threshold is p, then thresholds must be equal to [1-p, p].'),\n",
              " Param(parent='LogisticRegression_1330386cf416', name='thresholds', doc=\"Thresholds in multi-class classification to adjust the probability of predicting each class. Array must have length equal to the number of classes, with values > 0, excepting that at most one value may be 0. The class with largest value p/t is predicted, where p is the original probability of that class and t is the class's threshold.\"),\n",
              " Param(parent='LogisticRegression_1330386cf416', name='tol', doc='the convergence tolerance for iterative algorithms (>= 0).'),\n",
              " Param(parent='LogisticRegression_1330386cf416', name='upperBoundsOnCoefficients', doc='The upper bounds on coefficients if fitting under bound constrained optimization. The bound matrix must be compatible with the shape (1, number of features) for binomial regression, or (number of classes, number of features) for multinomial regression.'),\n",
              " Param(parent='LogisticRegression_1330386cf416', name='upperBoundsOnIntercepts', doc='The upper bounds on intercepts if fitting under bound constrained optimization. The bound vector size must be equal with 1 for binomial regression, or the number of classes for multinomial regression.'),\n",
              " Param(parent='LogisticRegression_1330386cf416', name='weightCol', doc='weight column name. If this is not set or empty, we treat all instance weights as 1.0.')]"
            ]
          },
          "metadata": {},
          "execution_count": 66
        }
      ],
      "source": [
        "lr.params"
      ]
    },
    {
      "cell_type": "code",
      "execution_count": null,
      "metadata": {
        "colab": {
          "base_uri": "https://localhost:8080/"
        },
        "id": "qt98_rd6cGqJ",
        "outputId": "9192d340-1d07-496d-e15b-ff2af49ac1b5"
      },
      "outputs": [
        {
          "output_type": "stream",
          "name": "stdout",
          "text": [
            "+-------+--------------------+--------------------+--------------------+----------+\n",
            "|Is_Lead|            features|       rawPrediction|               proba|prediction|\n",
            "+-------+--------------------+--------------------+--------------------+----------+\n",
            "|      0|[73.0,43.0,104569...|[1.01703314359154...|[0.73439428907056...|       0.0|\n",
            "|      0|[30.0,32.0,581988...|[1.88547782413292...|[0.86823905458579...|       0.0|\n",
            "|      0|[56.0,26.0,148431...|[0.91147290916372...|[0.71330147094138...|       0.0|\n",
            "|      0|(11,[0,1,2,5,7,10...|[2.02938356422968...|[0.88384780907754...|       0.0|\n",
            "|      0|[30.0,33.0,886787...|[1.87253835313633...|[0.86675171295996...|       0.0|\n",
            "|      0|(11,[0,1,2,4,7,10...|[2.23035701748859...|[0.90294265153487...|       0.0|\n",
            "|      1|(11,[0,1,2,6,8,10...|[1.00819128083161...|[0.73266603083243...|       0.0|\n",
            "|      0|[48.0,13.0,444724...|[1.25888814052434...|[0.77883464798448...|       0.0|\n",
            "|      0|[40.0,38.0,127428...|[1.12259469904799...|[0.75446968923717...|       0.0|\n",
            "|      0|[55.0,49.0,201423...|[0.91497543730865...|[0.71401721118479...|       0.0|\n",
            "|      0|(11,[0,1,2,4,8,10...|[0.19336876809391...|[0.54819212095901...|       0.0|\n",
            "|      0|(11,[0,1,2,4,7],[...|[3.29216632766676...|[0.96415908979132...|       0.0|\n",
            "|      0|(11,[0,1,2,3,5,7]...|[2.29395368096059...|[0.90837504596206...|       0.0|\n",
            "|      0|(11,[0,1,2,5,7,10...|[1.85560298933415...|[0.86478361697150...|       0.0|\n",
            "|      0|(11,[0,1,2,6,8,10...|[0.92763379790491...|[0.71659498790825...|       0.0|\n",
            "|      1|(11,[0,1,2,4,9,10...|[0.99463529076603...|[0.73000250624176...|       0.0|\n",
            "|      1|[46.0,97.0,228250...|[0.70181981874054...|[0.66859112584372...|       0.0|\n",
            "|      1|[59.0,15.0,238469...|[1.04742899933033...|[0.74028089094995...|       0.0|\n",
            "|      0|[65.0,20.0,341573...|[1.03004250416164...|[0.73692413606874...|       0.0|\n",
            "|      0|[37.0,63.0,633484...|[2.32693873772034...|[0.91108365507307...|       0.0|\n",
            "+-------+--------------------+--------------------+--------------------+----------+\n",
            "only showing top 20 rows\n",
            "\n"
          ]
        }
      ],
      "source": [
        "lr.transform(transformed_data.select('Is_Lead', 'features')).show()"
      ]
    },
    {
      "cell_type": "markdown",
      "metadata": {
        "id": "Ipn37OYZfe_8"
      },
      "source": [
        "**Подбор параметров**\n",
        "\n",
        "Тут нет всяких hyperopt, optuna...есть стандартная кросс-валидация и поиск по сетке"
      ]
    },
    {
      "cell_type": "code",
      "execution_count": null,
      "metadata": {
        "id": "Xm9NGSM-fwSZ"
      },
      "outputs": [],
      "source": [
        "from pyspark.ml.tuning import ParamGridBuilder, TrainValidationSplit, CrossValidator\n",
        "from pyspark.ml.evaluation import BinaryClassificationEvaluator"
      ]
    },
    {
      "cell_type": "markdown",
      "metadata": {
        "id": "akrk6N6HgWFa"
      },
      "source": [
        "Для этого соберем все в пайплайн. Можно было \"вложить\" старый пайплайн в новый, но соберем все с самого начала"
      ]
    },
    {
      "cell_type": "code",
      "execution_count": null,
      "metadata": {
        "id": "A4SVMvaQgYfk"
      },
      "outputs": [],
      "source": [
        "#string в индесы\n",
        "gender_indexer = StringIndexer(inputCol=\"Gender\", outputCol=\"GenderIndex\")\n",
        "occupation_indexer = StringIndexer(inputCol=\"Occupation\", outputCol=\"OccupationIndex\")\n",
        "channel_indexer = StringIndexer(inputCol=\"Channel_Code\", outputCol=\"ChannelIndex\")\n",
        "\n",
        "#OHE\n",
        "ohe_encoder = OneHotEncoder(inputCols=[\"OccupationIndex\", \"ChannelIndex\"],\n",
        "                        outputCols=[\"OccupationVector\", \"ChannelVec\"])\n",
        "\n",
        "#квантизация\n",
        "discretizer = QuantileDiscretizer(numBuckets=5, inputCol=\"Age\", outputCol=\"Age_quant\")\n",
        "\n",
        "#собираем все в вектор\n",
        "feature_columns = [\n",
        "                   'Age',\n",
        "                   'Vintage',\n",
        "                   'Avg_Account_Balance',\n",
        "                   'GenderIndex',\n",
        "                   'OccupationVector',\n",
        "                   'ChannelVec',\n",
        "                   'Age_quant'\n",
        "]\n",
        "vector_assembler = VectorAssembler(inputCols = feature_columns, outputCol = 'features')\n",
        "\n",
        "lr = LogisticRegression(featuresCol='features', labelCol='Is_Lead', predictionCol='prediction',\n",
        "                        maxIter=100, probabilityCol='proba')"
      ]
    },
    {
      "cell_type": "code",
      "execution_count": null,
      "metadata": {
        "id": "Rn8cK_B4gKRd"
      },
      "outputs": [],
      "source": [
        "pipeline = Pipeline(stages=[\n",
        "                           gender_indexer,\n",
        "                           occupation_indexer,\n",
        "                           channel_indexer,\n",
        "                           ohe_encoder,\n",
        "                           discretizer,\n",
        "                           vector_assembler,\n",
        "                           lr\n",
        "])"
      ]
    },
    {
      "cell_type": "markdown",
      "metadata": {
        "id": "T9gENnbniGi4"
      },
      "source": [
        "Сетка параметров"
      ]
    },
    {
      "cell_type": "code",
      "execution_count": null,
      "metadata": {
        "id": "JC9hlYpFgtru"
      },
      "outputs": [],
      "source": [
        "paramGrid = ParamGridBuilder() \\\n",
        "    .addGrid(discretizer.numBuckets, [5, 10]) \\\n",
        "    .addGrid(lr.maxIter, [10, 20]) \\\n",
        "    .build()"
      ]
    },
    {
      "cell_type": "markdown",
      "metadata": {
        "id": "9pjHOyAbikU4"
      },
      "source": [
        "Разобьем данные на train, test"
      ]
    },
    {
      "cell_type": "code",
      "execution_count": null,
      "metadata": {
        "id": "9fLrqVlwim3-"
      },
      "outputs": [],
      "source": [
        "train, test = data.randomSplit([0.7, 0.3], seed=7)"
      ]
    },
    {
      "cell_type": "markdown",
      "metadata": {
        "id": "vUu8wO5cjEQO"
      },
      "source": [
        "Описываем стратегию кросс-валидации"
      ]
    },
    {
      "cell_type": "code",
      "execution_count": null,
      "metadata": {
        "id": "ppn-9HE1iNWN"
      },
      "outputs": [],
      "source": [
        "crossval = CrossValidator(estimator=pipeline,\n",
        "                          estimatorParamMaps=paramGrid,\n",
        "                          evaluator=BinaryClassificationEvaluator(rawPredictionCol='rawPrediction',\n",
        "                                                                  labelCol='Is_Lead', metricName='areaUnderROC'),\n",
        "                          numFolds=2,\n",
        "                          parallelism=2)"
      ]
    },
    {
      "cell_type": "markdown",
      "metadata": {
        "id": "UxsvDyaqkEvM"
      },
      "source": [
        "Гоняем сетку. Знаю, перебор по сетке прошлый век, но что поделать)"
      ]
    },
    {
      "cell_type": "code",
      "execution_count": null,
      "metadata": {
        "id": "eLZZWrBoigSx"
      },
      "outputs": [],
      "source": [
        "cvModel = crossval.fit(train)"
      ]
    },
    {
      "cell_type": "code",
      "execution_count": null,
      "metadata": {
        "colab": {
          "base_uri": "https://localhost:8080/"
        },
        "id": "n2rQLkQ4lqUY",
        "outputId": "40a77a8a-6b7d-4d03-cd30-2a63802ee87c"
      },
      "outputs": [
        {
          "output_type": "execute_result",
          "data": {
            "text/plain": [
              "[0.7289117719253034,\n",
              " 0.7293249777610231,\n",
              " 0.7286025976048478,\n",
              " 0.7292388750987187]"
            ]
          },
          "metadata": {},
          "execution_count": 75
        }
      ],
      "source": [
        "cvModel.avgMetrics"
      ]
    },
    {
      "cell_type": "markdown",
      "metadata": {
        "id": "_KB9cRqbqRwu"
      },
      "source": [
        "Параметры"
      ]
    },
    {
      "cell_type": "code",
      "execution_count": null,
      "metadata": {
        "colab": {
          "base_uri": "https://localhost:8080/"
        },
        "id": "PfkNIaY2qThi",
        "outputId": "380b70a8-f230-487d-a0c1-06901a881378"
      },
      "outputs": [
        {
          "output_type": "stream",
          "name": "stdout",
          "text": [
            "{Param(parent='QuantileDiscretizer_9385d25aa455', name='numBuckets', doc='Maximum number of buckets (quantiles, or categories) into which data points are grouped. Must be >= 2.'): 5, Param(parent='LogisticRegression_57fa30476b76', name='maxIter', doc='max number of iterations (>= 0).'): 20}\n"
          ]
        }
      ],
      "source": [
        "import numpy as np\n",
        "print(cvModel.getEstimatorParamMaps()[np.argmax(cvModel.avgMetrics)])"
      ]
    },
    {
      "cell_type": "markdown",
      "metadata": {
        "id": "AOWVYH99qeFR"
      },
      "source": [
        "Сделаем предикт"
      ]
    },
    {
      "cell_type": "code",
      "execution_count": null,
      "metadata": {
        "id": "JbsJtmC3l1KN"
      },
      "outputs": [],
      "source": [
        "test_pred = cvModel.transform(test)"
      ]
    },
    {
      "cell_type": "code",
      "execution_count": null,
      "metadata": {
        "colab": {
          "base_uri": "https://localhost:8080/"
        },
        "id": "E-PfseCjm7Ih",
        "outputId": "3f85a51a-b344-4822-a747-abcc32d67e8c"
      },
      "outputs": [
        {
          "output_type": "stream",
          "name": "stdout",
          "text": [
            "+--------+------+---+-----------+-------------+------------+-------+--------------+-------------------+---------+-------+-----------+---------------+------------+----------------+-------------+---------+--------------------+--------------------+--------------------+----------+\n",
            "|      ID|Gender|Age|Region_Code|   Occupation|Channel_Code|Vintage|Credit_Product|Avg_Account_Balance|Is_Active|Is_Lead|GenderIndex|OccupationIndex|ChannelIndex|OccupationVector|   ChannelVec|Age_quant|            features|       rawPrediction|               proba|prediction|\n",
            "+--------+------+---+-----------+-------------+------------+-------+--------------+-------------------+---------+-------+-----------+---------------+------------+----------------+-------------+---------+--------------------+--------------------+--------------------+----------+\n",
            "|224VSEND|  Male| 29|      RG261|     Salaried|          X1|     13|            No|             736866|      Yes|      0|        0.0|            1.0|         0.0|   (3,[1],[1.0])|(3,[0],[1.0])|      1.0|(11,[0,1,2,5,7,10...|[2.01360806307522...|[0.88221844995396...|       0.0|\n",
            "|226C7GAH|  Male| 45|      RG268|Self_Employed|          X3|     93|            No|             634979|      Yes|      0|        0.0|            0.0|         1.0|   (3,[0],[1.0])|(3,[1],[1.0])|      2.0|(11,[0,1,2,4,8,10...|[0.70215318028974...|[0.66866498695466...|       0.0|\n",
            "|2293VNUQ|Female| 26|      RG271|     Salaried|          X1|     13|            No|             561928|       No|      0|        1.0|            1.0|         0.0|   (3,[1],[1.0])|(3,[0],[1.0])|      0.0|(11,[0,1,2,3,5,7]...|[2.35200398194772...|[0.91309338295717...|       0.0|\n",
            "|22A2ZYXE|Female| 72|      RG251|        Other|          X2|     74|           Yes|             845980|      Yes|      0|        1.0|            2.0|         2.0|   (3,[2],[1.0])|(3,[2],[1.0])|      4.0|[72.0,74.0,845980...|[0.60014407586441...|[0.64568926782122...|       0.0|\n",
            "|22AWEYJP|Female| 46|      RG261|Self_Employed|          X3|     51|            No|            1594443|       No|      1|        1.0|            0.0|         1.0|   (3,[0],[1.0])|(3,[1],[1.0])|      2.0|[46.0,51.0,159444...|[1.17738295429921...|[0.76447692575318...|       0.0|\n",
            "|22BAGKFG|  Male| 62|      RG284|        Other|          X2|     45|           Yes|             746122|       No|      0|        0.0|            2.0|         2.0|   (3,[2],[1.0])|(3,[2],[1.0])|      4.0|(11,[0,1,2,6,9,10...|[0.67996396514064...|[0.66373065474964...|       0.0|\n",
            "|22CCUDLW|  Male| 31|      RG254|     Salaried|          X1|     32|            No|            1021337|       No|      0|        0.0|            1.0|         0.0|   (3,[1],[1.0])|(3,[0],[1.0])|      1.0|(11,[0,1,2,5,7,10...|[1.85418818062989...|[0.86461809386997...|       0.0|\n",
            "|22EHAPRA|  Male| 71|      RG251|        Other|          X3|    110|            No|            1213960|      Yes|      1|        0.0|            2.0|         1.0|   (3,[2],[1.0])|(3,[1],[1.0])|      4.0|(11,[0,1,2,6,8,10...|[0.25852580445132...|[0.56427386741552...|       0.0|\n",
            "|22EYLWV9|  Male| 60|      RG282|Self_Employed|          X2|     97|            No|            1497086|       No|      0|        0.0|            0.0|         2.0|   (3,[0],[1.0])|(3,[2],[1.0])|      4.0|(11,[0,1,2,4,9,10...|[0.13843551672125...|[0.53455371338834...|       0.0|\n",
            "|22FOWQ35|  Male| 51|      RG273|Self_Employed|          X3|     37|           Yes|            1266060|       No|      1|        0.0|            0.0|         1.0|   (3,[0],[1.0])|(3,[1],[1.0])|      3.0|(11,[0,1,2,4,8,10...|[1.01536242617524...|[0.73406827247760...|       0.0|\n",
            "|22FYHU4G|  Male| 27|      RG284|     Salaried|          X1|     13|            No|             920179|       No|      0|        0.0|            1.0|         0.0|   (3,[1],[1.0])|(3,[0],[1.0])|      0.0|(11,[0,1,2,5,7],[...|[2.31753369148344...|[0.91031879863154...|       0.0|\n",
            "|22GKHLRT|  Male| 57|      RG254|Self_Employed|          X2|     32|            No|             561616|      Yes|      0|        0.0|            0.0|         2.0|   (3,[0],[1.0])|(3,[2],[1.0])|      4.0|(11,[0,1,2,4,9,10...|[0.74598468630021...|[0.67830315367936...|       0.0|\n",
            "|22GTBFLA|  Male| 57|      RG254|Self_Employed|          X3|     55|           Yes|            2236899|       No|      1|        0.0|            0.0|         1.0|   (3,[0],[1.0])|(3,[1],[1.0])|      4.0|(11,[0,1,2,4,8,10...|[0.58734450391746...|[0.64275561989341...|       0.0|\n",
            "|22KAE9CY|Female| 45|      RG283|        Other|          X2|     99|           Yes|            1034998|      Yes|      1|        1.0|            2.0|         2.0|   (3,[2],[1.0])|(3,[2],[1.0])|      2.0|[45.0,99.0,103499...|[0.58598936511851...|[0.64244439163295...|       0.0|\n",
            "|22KMFEDX|  Male| 64|      RG270|        Other|          X2|     21|            No|             345409|      Yes|      0|        0.0|            2.0|         2.0|   (3,[2],[1.0])|(3,[2],[1.0])|      4.0|(11,[0,1,2,6,9,10...|[0.95528018640869...|[0.72217582536207...|       0.0|\n",
            "|22NWGVDD|  Male| 77|      RG280|        Other|          X3|    129|           Yes|             715835|       No|      0|        0.0|            2.0|         1.0|   (3,[2],[1.0])|(3,[1],[1.0])|      4.0|(11,[0,1,2,6,8,10...|[0.17060477713693...|[0.54254804406662...|       0.0|\n",
            "|22O2OUPS|Female| 70|      RG253|        Other|          X2|     45|            No|            1795664|       No|      0|        1.0|            2.0|         2.0|   (3,[2],[1.0])|(3,[2],[1.0])|      4.0|[70.0,45.0,179566...|[0.84917179070398...|[0.70039337781888...|       0.0|\n",
            "|22PF8VHQ|  Male| 65|      RG263|        Other|          X2|    104|           Yes|             714865|      Yes|      1|        0.0|            2.0|         2.0|   (3,[2],[1.0])|(3,[2],[1.0])|      4.0|(11,[0,1,2,6,9,10...|[0.14026064324875...|[0.53500778713161...|       0.0|\n",
            "|22RDEFWM|  Male| 48|      RG267|Self_Employed|          X3|     99|            No|             576728|       No|      0|        0.0|            0.0|         1.0|   (3,[0],[1.0])|(3,[1],[1.0])|      3.0|(11,[0,1,2,4,8,10...|[0.35358475707128...|[0.58748660240391...|       0.0|\n",
            "|22RQT8WL|Female| 39|      RG274|Self_Employed|          X2|     32|           Yes|            1322379|       No|      0|        1.0|            0.0|         2.0|   (3,[0],[1.0])|(3,[2],[1.0])|      2.0|[39.0,32.0,132237...|[1.17070752413449...|[0.76327288022869...|       0.0|\n",
            "+--------+------+---+-----------+-------------+------------+-------+--------------+-------------------+---------+-------+-----------+---------------+------------+----------------+-------------+---------+--------------------+--------------------+--------------------+----------+\n",
            "only showing top 20 rows\n",
            "\n"
          ]
        }
      ],
      "source": [
        "test_pred.show()"
      ]
    },
    {
      "cell_type": "markdown",
      "metadata": {
        "id": "LA5pbziMoRDT"
      },
      "source": [
        "Проверим модель"
      ]
    },
    {
      "cell_type": "code",
      "execution_count": null,
      "metadata": {
        "id": "eO7WOldKoEqK"
      },
      "outputs": [],
      "source": [
        "evaluator = BinaryClassificationEvaluator(rawPredictionCol='rawPrediction',\n",
        "                                          labelCol='Is_Lead', metricName='areaUnderROC')"
      ]
    },
    {
      "cell_type": "code",
      "execution_count": null,
      "metadata": {
        "colab": {
          "base_uri": "https://localhost:8080/"
        },
        "id": "5bH_zffaoLJy",
        "outputId": "fced930b-1ee0-4611-c4bf-da7141b977d7"
      },
      "outputs": [
        {
          "output_type": "execute_result",
          "data": {
            "text/plain": [
              "0.7282685183817321"
            ]
          },
          "metadata": {},
          "execution_count": 80
        }
      ],
      "source": [
        "evaluator.evaluate(test_pred)"
      ]
    },
    {
      "cell_type": "markdown",
      "metadata": {
        "id": "KiOvzq7Sqi8d"
      },
      "source": [
        "Сохраним пайплайн"
      ]
    },
    {
      "cell_type": "code",
      "execution_count": null,
      "metadata": {
        "id": "DSYb-f_AqlFL"
      },
      "outputs": [],
      "source": [
        "cvModel.write().save('model')"
      ]
    },
    {
      "cell_type": "markdown",
      "metadata": {
        "id": "sv0etfqprdpj"
      },
      "source": [
        "вместо кросс-валидации можно взять TrainValidationSplit для подбора параметров, это train_test_split"
      ]
    },
    {
      "cell_type": "markdown",
      "metadata": {
        "id": "9aco7h88Jv3m"
      },
      "source": [
        "**Ваша любимая домашка**"
      ]
    },
    {
      "cell_type": "markdown",
      "metadata": {
        "id": "hzvvR75kJ4v8"
      },
      "source": [
        "Кто проходил курс GPU прекрасно знают датасет.\n",
        "Данные находятся в файле Train_Set_90621.csv\n",
        "Amount Defaulted - эту переменную нужно удалить=)\n",
        "\n",
        "Что ожидается? - творчество)\n",
        "\n",
        "    1) Начните с анализа баланса классов, пропусков, статистик при помощи DataFrame API\n",
        "    2) Посомтрите статистики, заполните пропуски при помощи уже MLlib\n",
        "    3) Соберите пайплайн, похожий на наш, где будет обработка данных, обучение моделей и все при помощи Spark\n",
        "    4) Разбейте данные на train/test + реализуйте подбор параметров одним из способов спарка\n",
        "    5) Cохраниет пайплайн на диск\n",
        "    6) Проверьте качество модели на отложенной test выборке\n",
        "\n",
        "### Срок выполнения - 02.03.2023\n"
      ]
    },
    {
      "cell_type": "code",
      "source": [
        "from pyspark.ml.tuning import ParamGridBuilder, TrainValidationSplit, CrossValidator\n",
        "from pyspark.ml.evaluation import BinaryClassificationEvaluator\n",
        "from pyspark.ml.classification import LogisticRegression, LogisticRegressionModel\n",
        "from pyspark.ml import Pipeline\n",
        "from pyspark.ml.feature import StringIndexer, IndexToString, OneHotEncoder\n",
        "from pyspark.ml.feature import VectorAssembler"
      ],
      "metadata": {
        "id": "IhgI6i8to-07"
      },
      "execution_count": null,
      "outputs": []
    },
    {
      "cell_type": "code",
      "source": [
        "data = spark.read.csv('/content/drive/My Drive/Colab_Notebooks/PySpark/lesson_4/Train_Set_90621.csv', header=True, inferSchema=True)\n",
        "data = data.drop('Amount Defaulted')\n",
        "data.show(5)"
      ],
      "metadata": {
        "colab": {
          "base_uri": "https://localhost:8080/"
        },
        "id": "1mn7B1X0_0_7",
        "outputId": "9c1e6d4b-c702-4a31-c787-bb3fd7c0f02d"
      },
      "execution_count": null,
      "outputs": [
        {
          "output_type": "stream",
          "name": "stdout",
          "text": [
            "+--------------+--------------+---------+------------------+--------------------+--------------------+---------------------------+-------------+------------+----+-------------+-------------+---------+----------------------+----------+-------------+------------------------------+-----------------------+----------------------------+------------------+-------------------+-------------+--------------+--------------------+------------------+------------+-------------------+--------------+\n",
            "|Application ID|   Bank Masked|Bank Type|Approved_Timestamp|         Name Masked|Business Owner State|Business_Industry_Type_Code|Approved_Year|New Business|Term|    BankState|Interest Rate|Employees|Gross Disbursed Amount|Term_years|Jobs Retained|Male to Female Employees Ratio|Expected Company Income|Funds available with company|Gross_Apprv_Amount|Company Branch Code|City or Rural|Jobs Generated|Carry-forward Credit|Documents Provided|Balance Left|Final_Appved_Amount|Default_Status|\n",
            "+--------------+--------------+---------+------------------+--------------------+--------------------+---------------------------+-------------+------------+----+-------------+-------------+---------+----------------------+----------+-------------+------------------------------+-----------------------+----------------------------+------------------+-------------------+-------------+--------------+--------------------+------------------+------------+-------------------+--------------+\n",
            "|    1020200001| Bank_Name_316|  Private|        12-10-2005| Business_Name_10007|       Uttar Pradesh|                     525161|         2005|           1| 219|Uttar Pradesh|            3|       42|              18550000|        18|           18|                             4|                3500000|                      780590|          18550000|              25650|            1|             3|                   N|                 N|           0|           13912500|             0|\n",
            "|    1020200002|Bank_Name_1062|     Govt|        21-11-2006|Business_Name_130906|       Uttar Pradesh|                       1231|         2006|           1|  71|Uttar Pradesh|            5|       20|               3045000|         6|           10|                            16|                1666667|                     1835637|           2450000|                  0|            1|             0|                   Y|                 N|           0|            1225000|             1|\n",
            "|    1020200003|  Bank_Name_39|  Private|        28-11-2007|Business_Name_105953|       Uttar Pradesh|                     322442|         2007|           2|  84|  Maharashtra|            8|       16|               1750000|         7|           10|                             8|                1333333|                     2373333|           1750000|                  0|            2|             2|                   Y|                 N|           0|            1487500|             0|\n",
            "|    1020200004|   Bank_Name_3|     Govt|        18-04-2009|Business_Name_103197|              Kerala|                       1231|         2009|           1| 300|        Delhi|            8|        4|              38850000|        25|            2|                             6|                 333333|                     2346786|          38850000|                  1|            1|             0|                   N|                 N|           0|           29137500|             0|\n",
            "|    1020200005| Bank_Name_126|     Govt|        23-11-2002|Business_Name_118932|               Delhi|                       1231|         2002|           2| 153|  Maharashtra|           11|        4|               2800000|        13|            0|                             8|                 333333|                     2382995|           2800000|                  1|            2|             0|                   N|                 Y|           0|            2380000|             0|\n",
            "+--------------+--------------+---------+------------------+--------------------+--------------------+---------------------------+-------------+------------+----+-------------+-------------+---------+----------------------+----------+-------------+------------------------------+-----------------------+----------------------------+------------------+-------------------+-------------+--------------+--------------------+------------------+------------+-------------------+--------------+\n",
            "only showing top 5 rows\n",
            "\n"
          ]
        }
      ]
    },
    {
      "cell_type": "code",
      "source": [
        "data.printSchema()"
      ],
      "metadata": {
        "colab": {
          "base_uri": "https://localhost:8080/"
        },
        "id": "pJKqBvD1uPD6",
        "outputId": "1e2a35fb-9c95-49c7-cea9-0dd52640cd4d"
      },
      "execution_count": null,
      "outputs": [
        {
          "output_type": "stream",
          "name": "stdout",
          "text": [
            "root\n",
            " |-- Application ID: integer (nullable = true)\n",
            " |-- Bank Masked: string (nullable = true)\n",
            " |-- Bank Type: string (nullable = true)\n",
            " |-- Approved_Timestamp: string (nullable = true)\n",
            " |-- Name Masked: string (nullable = true)\n",
            " |-- Business Owner State: string (nullable = true)\n",
            " |-- Business_Industry_Type_Code: integer (nullable = true)\n",
            " |-- Approved_Year: integer (nullable = true)\n",
            " |-- New Business: integer (nullable = true)\n",
            " |-- Term: integer (nullable = true)\n",
            " |-- BankState: string (nullable = true)\n",
            " |-- Interest Rate: integer (nullable = true)\n",
            " |-- Employees: integer (nullable = true)\n",
            " |-- Gross Disbursed Amount: integer (nullable = true)\n",
            " |-- Term_years: integer (nullable = true)\n",
            " |-- Jobs Retained: integer (nullable = true)\n",
            " |-- Male to Female Employees Ratio: integer (nullable = true)\n",
            " |-- Expected Company Income: long (nullable = true)\n",
            " |-- Funds available with company: integer (nullable = true)\n",
            " |-- Gross_Apprv_Amount: integer (nullable = true)\n",
            " |-- Company Branch Code: integer (nullable = true)\n",
            " |-- City or Rural: integer (nullable = true)\n",
            " |-- Jobs Generated: integer (nullable = true)\n",
            " |-- Carry-forward Credit: string (nullable = true)\n",
            " |-- Documents Provided: string (nullable = true)\n",
            " |-- Balance Left: integer (nullable = true)\n",
            " |-- Final_Appved_Amount: integer (nullable = true)\n",
            " |-- Default_Status: integer (nullable = true)\n",
            "\n"
          ]
        }
      ]
    },
    {
      "cell_type": "code",
      "source": [
        "data.select([F.count(F.when(F.isnan(c) | F.col(c).isNull(), c)).alias(c) for c in data.columns]).show()"
      ],
      "metadata": {
        "colab": {
          "base_uri": "https://localhost:8080/"
        },
        "id": "IadRB0KzDbvU",
        "outputId": "84c79ea4-86ae-4c9d-b052-b421e19ed4cf"
      },
      "execution_count": null,
      "outputs": [
        {
          "output_type": "stream",
          "name": "stdout",
          "text": [
            "+--------------+-----------+---------+------------------+-----------+--------------------+---------------------------+-------------+------------+----+---------+-------------+---------+----------------------+----------+-------------+------------------------------+-----------------------+----------------------------+------------------+-------------------+-------------+--------------+--------------------+------------------+------------+-------------------+--------------+\n",
            "|Application ID|Bank Masked|Bank Type|Approved_Timestamp|Name Masked|Business Owner State|Business_Industry_Type_Code|Approved_Year|New Business|Term|BankState|Interest Rate|Employees|Gross Disbursed Amount|Term_years|Jobs Retained|Male to Female Employees Ratio|Expected Company Income|Funds available with company|Gross_Apprv_Amount|Company Branch Code|City or Rural|Jobs Generated|Carry-forward Credit|Documents Provided|Balance Left|Final_Appved_Amount|Default_Status|\n",
            "+--------------+-----------+---------+------------------+-----------+--------------------+---------------------------+-------------+------------+----+---------+-------------+---------+----------------------+----------+-------------+------------------------------+-----------------------+----------------------------+------------------+-------------------+-------------+--------------+--------------------+------------------+------------+-------------------+--------------+\n",
            "|             0|         80|       80|               426|          1|                   3|                          0|            0|          36|   0|       81|            0|        0|                     0|         0|            0|                             0|                      3|                           0|                 0|                  0|            0|             0|                 978|               552|           0|                  0|             0|\n",
            "+--------------+-----------+---------+------------------+-----------+--------------------+---------------------------+-------------+------------+----+---------+-------------+---------+----------------------+----------+-------------+------------------------------+-----------------------+----------------------------+------------------+-------------------+-------------+--------------+--------------------+------------------+------------+-------------------+--------------+\n",
            "\n"
          ]
        }
      ]
    },
    {
      "cell_type": "code",
      "source": [
        "for c in ['Bank Masked', 'Bank Type', 'Name Masked', 'Business Owner State', 'New Business',\n",
        "          'BankState', 'Expected Company Income', 'Carry-forward Credit', 'Documents Provided', 'Default_Status']:\n",
        "    data.select(c, 'Application ID')\\\n",
        "        .groupby(c).agg(F.count('Application ID').alias('count'))\\\n",
        "        .orderBy(c).show()"
      ],
      "metadata": {
        "colab": {
          "base_uri": "https://localhost:8080/"
        },
        "id": "LJtezauxh6dv",
        "outputId": "ac8a5adc-7d35-4bd2-d792-50f8007e4d19"
      },
      "execution_count": null,
      "outputs": [
        {
          "output_type": "stream",
          "name": "stdout",
          "text": [
            "+---------------+-----+\n",
            "|    Bank Masked|count|\n",
            "+---------------+-----+\n",
            "|           NULL|   80|\n",
            "|    Bank_Name_1|  292|\n",
            "|   Bank_Name_10|  161|\n",
            "|  Bank_Name_100|    2|\n",
            "| Bank_Name_1000|    4|\n",
            "|Bank_Name_10000|    1|\n",
            "|Bank_Name_10003|    1|\n",
            "|Bank_Name_10004|    1|\n",
            "|Bank_Name_10005|    1|\n",
            "|Bank_Name_10006|    1|\n",
            "|Bank_Name_10007|    1|\n",
            "|Bank_Name_10008|    1|\n",
            "| Bank_Name_1001|   18|\n",
            "|Bank_Name_10010|    1|\n",
            "|Bank_Name_10011|    1|\n",
            "|Bank_Name_10012|    1|\n",
            "|Bank_Name_10013|    1|\n",
            "|Bank_Name_10014|    1|\n",
            "|Bank_Name_10015|    1|\n",
            "|Bank_Name_10016|    1|\n",
            "+---------------+-----+\n",
            "only showing top 20 rows\n",
            "\n",
            "+---------+------+\n",
            "|Bank Type| count|\n",
            "+---------+------+\n",
            "|     NULL|    80|\n",
            "|     Govt| 64888|\n",
            "|  Private|130150|\n",
            "+---------+------+\n",
            "\n",
            "+--------------------+-----+\n",
            "|         Name Masked|count|\n",
            "+--------------------+-----+\n",
            "|                NULL|    1|\n",
            "|     Business_Name_1|    1|\n",
            "|    Business_Name_10|    2|\n",
            "|   Business_Name_100|    1|\n",
            "|  Business_Name_1000|    2|\n",
            "| Business_Name_10000|    1|\n",
            "|Business_Name_100000|    1|\n",
            "|Business_Name_100001|    1|\n",
            "|Business_Name_100002|    1|\n",
            "|Business_Name_100003|    1|\n",
            "|Business_Name_100004|    1|\n",
            "|Business_Name_100007|    1|\n",
            "|Business_Name_100008|    1|\n",
            "|Business_Name_100009|    1|\n",
            "| Business_Name_10001|    2|\n",
            "|Business_Name_100010|    1|\n",
            "|Business_Name_100011|    1|\n",
            "|Business_Name_100012|    1|\n",
            "|Business_Name_100013|    1|\n",
            "|Business_Name_100014|    1|\n",
            "+--------------------+-----+\n",
            "only showing top 20 rows\n",
            "\n",
            "+--------------------+-----+\n",
            "|Business Owner State|count|\n",
            "+--------------------+-----+\n",
            "|                NULL|    3|\n",
            "|               Delhi|58546|\n",
            "|             Haryana|56421|\n",
            "|           Karnataka|  798|\n",
            "|              Kerala|  543|\n",
            "|         Maharashtra|48088|\n",
            "|              Orissa| 2603|\n",
            "|              Punjab|  616|\n",
            "|          Tamil Nadu| 2040|\n",
            "|       Uttar Pradesh|24167|\n",
            "|         Uttarakhand| 1293|\n",
            "+--------------------+-----+\n",
            "\n",
            "+------------+------+\n",
            "|New Business| count|\n",
            "+------------+------+\n",
            "|        NULL|    36|\n",
            "|           0|   216|\n",
            "|           1|140163|\n",
            "|           2| 54703|\n",
            "+------------+------+\n",
            "\n",
            "+-------------+-----+\n",
            "|    BankState|count|\n",
            "+-------------+-----+\n",
            "|         NULL|   81|\n",
            "|            0|   73|\n",
            "|        Delhi|74016|\n",
            "|          Goa|   11|\n",
            "|      Haryana|39331|\n",
            "|    Karnataka|  671|\n",
            "|       Kerala|  319|\n",
            "|  Maharashtra|60322|\n",
            "|       Orissa| 1996|\n",
            "|       Punjab|  468|\n",
            "|   Tamil Nadu|  949|\n",
            "|Uttar Pradesh|16083|\n",
            "|  Uttarakhand|  798|\n",
            "+-------------+-----+\n",
            "\n",
            "+-----------------------+-----+\n",
            "|Expected Company Income|count|\n",
            "+-----------------------+-----+\n",
            "|                   NULL|    3|\n",
            "|                      0| 1464|\n",
            "|                 100000|   79|\n",
            "|                 166667|22616|\n",
            "|                 200000|  282|\n",
            "|                 300000|  148|\n",
            "|                 333333|20236|\n",
            "|                 400000|  453|\n",
            "|                 500000|13578|\n",
            "|                 600000|  444|\n",
            "|                 666667|10857|\n",
            "|                 700000|  101|\n",
            "|                 800000|  522|\n",
            "|                 833333| 8867|\n",
            "|                 900000|  150|\n",
            "|                1000000| 7228|\n",
            "|                1100000|   95|\n",
            "|                1166667| 4523|\n",
            "|                1200000|  603|\n",
            "|                1300000|   90|\n",
            "+-----------------------+-----+\n",
            "only showing top 20 rows\n",
            "\n",
            "+--------------------+------+\n",
            "|Carry-forward Credit| count|\n",
            "+--------------------+------+\n",
            "|                NULL|   978|\n",
            "|                   N|147350|\n",
            "|                   Y| 46790|\n",
            "+--------------------+------+\n",
            "\n",
            "+------------------+------+\n",
            "|Documents Provided| count|\n",
            "+------------------+------+\n",
            "|              NULL|   552|\n",
            "|                 N|170021|\n",
            "|                 Y| 24545|\n",
            "+------------------+------+\n",
            "\n",
            "+--------------+------+\n",
            "|Default_Status| count|\n",
            "+--------------+------+\n",
            "|             0|159880|\n",
            "|             1| 35238|\n",
            "+--------------+------+\n",
            "\n"
          ]
        }
      ]
    },
    {
      "cell_type": "code",
      "source": [
        "# Approved_Timestamp: Выделяем месяц и день (год уже есть, причем без пропусков) => заполняем пропуски в днях и месяцах -1\n",
        "# Bank Masked: удалим Bank_Name_ из записей, переведем в int\n",
        "# Name Masked: аналогично удалим Business_Name_ и переведем в int\n",
        "# Balance Left: всего 2 наблюдения с большими значениями, остальные с 0 => удалим наблюдения со значениями > 0, а затем удалим фичу\n",
        "# Expected Company Income: удалим строки с пропусками (всего 3 шт)\n",
        "# Business Owner State: аналогично удалим строки с пропусками (3 шт)\n",
        "# Carry-forward Credit u Documents Provided: пропуски заполним новым значением M (missing value)\n",
        "# Bankstate: пропуски переведем в 0\n",
        "# New Business: пропуски переведем в категорию -1\n",
        "# Bank Туре: пропуски переведем в категорию М (missing value)"
      ],
      "metadata": {
        "id": "YlUVkATtiOoY"
      },
      "execution_count": null,
      "outputs": []
    },
    {
      "cell_type": "code",
      "source": [
        "data = data.filter((F.col('Balance Left') == 0) &\n",
        "              ~(F.isnan('Expected Company Income') | F.col('Expected Company Income').isNull()) &\n",
        "              ~(F.isnan('Business Owner state') | F.col('Business Owner State').isNull()) &\n",
        "              ~(F.isnan('Name Masked') | F.col('Name Masked').isNull()))\\\n",
        "              .withColumn('Approved_Month', F.month(F.to_date(F.col('Approved_Timestamp'), 'dd-MM-уууy')))\\\n",
        "              .withColumn('Approved_Day', F.dayofmonth(F.to_date(F.col('Approved_Timestamp'), 'dd-MM-уууy')))\\\n",
        "              .withColumn('Bank', F.regexp_replace('Bank Masked', 'Bank_Name_', '').cast('int'))\\\n",
        "              .withColumn('Name', F.regexp_replace('Name Masked', 'Business_Name_', '').cast('int'))\\\n",
        "              .drop('Balance Left', 'Approved_Timestamp', 'Bank Masked', 'Name Masked')\\\n",
        "              .fillna({'Approved_Month': -1,\n",
        "                        'Approved_Day': -1,\n",
        "                        'Bank': 0,\n",
        "                        'Bank Type': 'M',\n",
        "                        'New Business': -1,\n",
        "                        'Bankstate': '0',\n",
        "                        'Carry-forward Credit': 'M',\n",
        "                        'Documents Provided': 'M'\n",
        "                      })"
      ],
      "metadata": {
        "id": "ZI1xODKUh6uP"
      },
      "execution_count": null,
      "outputs": []
    },
    {
      "cell_type": "code",
      "source": [
        "data.select([F.count(F.when(F.isnan(c) | F.col(c).isNull(), c)).alias(c) for c in data.columns]).show()"
      ],
      "metadata": {
        "colab": {
          "base_uri": "https://localhost:8080/"
        },
        "id": "WaY59S6w_1MX",
        "outputId": "8ad797d7-2f23-4838-fee1-311d7fe6cf36"
      },
      "execution_count": null,
      "outputs": [
        {
          "output_type": "stream",
          "name": "stdout",
          "text": [
            "+--------------+---------+--------------------+---------------------------+-------------+------------+----+---------+-------------+---------+----------------------+----------+-------------+------------------------------+-----------------------+----------------------------+------------------+-------------------+-------------+--------------+--------------------+------------------+-------------------+--------------+--------------+------------+----+----+\n",
            "|Application ID|Bank Type|Business Owner State|Business_Industry_Type_Code|Approved_Year|New Business|Term|BankState|Interest Rate|Employees|Gross Disbursed Amount|Term_years|Jobs Retained|Male to Female Employees Ratio|Expected Company Income|Funds available with company|Gross_Apprv_Amount|Company Branch Code|City or Rural|Jobs Generated|Carry-forward Credit|Documents Provided|Final_Appved_Amount|Default_Status|Approved_Month|Approved_Day|Bank|Name|\n",
            "+--------------+---------+--------------------+---------------------------+-------------+------------+----+---------+-------------+---------+----------------------+----------+-------------+------------------------------+-----------------------+----------------------------+------------------+-------------------+-------------+--------------+--------------------+------------------+-------------------+--------------+--------------+------------+----+----+\n",
            "|             0|        0|                   0|                          0|            0|           0|   0|        0|            0|        0|                     0|         0|            0|                             0|                      0|                           0|                 0|                  0|            0|             0|                   0|                 0|                  0|             0|             0|           0|   0|   0|\n",
            "+--------------+---------+--------------------+---------------------------+-------------+------------+----+---------+-------------+---------+----------------------+----------+-------------+------------------------------+-----------------------+----------------------------+------------------+-------------------+-------------+--------------+--------------------+------------------+-------------------+--------------+--------------+------------+----+----+\n",
            "\n"
          ]
        }
      ]
    },
    {
      "cell_type": "code",
      "source": [
        "data.printSchema()"
      ],
      "metadata": {
        "colab": {
          "base_uri": "https://localhost:8080/"
        },
        "id": "bug1lynxmrsY",
        "outputId": "35fdf538-e418-4d54-8fc2-55020ed51d3d"
      },
      "execution_count": null,
      "outputs": [
        {
          "output_type": "stream",
          "name": "stdout",
          "text": [
            "root\n",
            " |-- Application ID: integer (nullable = true)\n",
            " |-- Bank Type: string (nullable = false)\n",
            " |-- Business Owner State: string (nullable = true)\n",
            " |-- Business_Industry_Type_Code: integer (nullable = true)\n",
            " |-- Approved_Year: integer (nullable = true)\n",
            " |-- New Business: integer (nullable = false)\n",
            " |-- Term: integer (nullable = true)\n",
            " |-- BankState: string (nullable = false)\n",
            " |-- Interest Rate: integer (nullable = true)\n",
            " |-- Employees: integer (nullable = true)\n",
            " |-- Gross Disbursed Amount: integer (nullable = true)\n",
            " |-- Term_years: integer (nullable = true)\n",
            " |-- Jobs Retained: integer (nullable = true)\n",
            " |-- Male to Female Employees Ratio: integer (nullable = true)\n",
            " |-- Expected Company Income: long (nullable = true)\n",
            " |-- Funds available with company: integer (nullable = true)\n",
            " |-- Gross_Apprv_Amount: integer (nullable = true)\n",
            " |-- Company Branch Code: integer (nullable = true)\n",
            " |-- City or Rural: integer (nullable = true)\n",
            " |-- Jobs Generated: integer (nullable = true)\n",
            " |-- Carry-forward Credit: string (nullable = false)\n",
            " |-- Documents Provided: string (nullable = false)\n",
            " |-- Final_Appved_Amount: integer (nullable = true)\n",
            " |-- Default_Status: integer (nullable = true)\n",
            " |-- Approved_Month: integer (nullable = false)\n",
            " |-- Approved_Day: integer (nullable = false)\n",
            " |-- Bank: integer (nullable = false)\n",
            " |-- Name: integer (nullable = true)\n",
            "\n"
          ]
        }
      ]
    },
    {
      "cell_type": "code",
      "source": [
        "# Bank Type OHE\n",
        "# 'Business Owner State', 'BankState', 'Carry-forward Credit', 'Documents Provided' StrinToIndex"
      ],
      "metadata": {
        "id": "Amm2DlZTmrux"
      },
      "execution_count": null,
      "outputs": []
    },
    {
      "cell_type": "code",
      "source": [
        "#string в индесы\n",
        "string_indexer = StringIndexer(inputCols = ['Business Owner State', 'BankState', 'Carry-forward Credit', 'Documents Provided', 'Bank Type'],\n",
        "                               outputCols = ['BusinessOwnerStateIndex', 'BankStateIndex', 'CarryforwardCreditIndex', 'DocumentsProvidedIndex', 'BankTypeIndex'])\n",
        "\n",
        "#OHE\n",
        "ohe_encoder = OneHotEncoder(inputCols=['BankTypeIndex'],\n",
        "                            outputCols=['BankTypeVector'])\n",
        "\n",
        "#квантизация\n",
        "# discretizer = QuantileDiscretizer(numBuckets=5, inputCol=\"Age\", outputCol=\"Age_quant\")\n",
        "\n",
        "#собираем все в вектор\n",
        "feature_columns = [\n",
        "                  'Business_Industry_Type_Code',\n",
        "                  'Approved_Year',\n",
        "                  'New Business',\n",
        "                  'Term',\n",
        "                  'Interest Rate',\n",
        "                  'Employees',\n",
        "                  'Gross Disbursed Amount',\n",
        "                  'Term_years',\n",
        "                  'Jobs Retained',\n",
        "                  'Male to Female Employees Ratio',\n",
        "                  'Expected Company Income',\n",
        "                  'Funds available with company',\n",
        "                  'Gross_Apprv_Amount',\n",
        "                  'Company Branch Code',\n",
        "                  'City or Rural',\n",
        "                  'Jobs Generated',\n",
        "                  'Final_Appved_Amount',\n",
        "                  'Approved_Month',\n",
        "                  'Approved_Day',\n",
        "                  'Bank',\n",
        "                  'Name',\n",
        "                  'BusinessOwnerStateIndex', 'BankStateIndex', 'CarryforwardCreditIndex', 'DocumentsProvidedIndex',\n",
        "                  'BankTypeVector'\n",
        "                  ]\n",
        "\n",
        "vector_assembler = VectorAssembler(inputCols = feature_columns, outputCol = 'features')\n",
        "\n",
        "lr = LogisticRegression(featuresCol='features', labelCol='Default_Status', predictionCol='prediction',\n",
        "                        maxIter=100, probabilityCol='proba')\n",
        "\n",
        "pipeline = Pipeline(stages=[\n",
        "                           string_indexer,\n",
        "                           ohe_encoder,\n",
        "                           vector_assembler,\n",
        "                           lr\n",
        "])\n",
        "\n",
        "paramGrid = ParamGridBuilder()\\\n",
        "    .addGrid(lr.maxIter, [10, 25, 50, 100])\\\n",
        "    .addGrid(lr.fitIntercept, [True, False])\\\n",
        "    .addGrid(lr.regParam, [0., 0.25, 0.5, 1.])\\\n",
        "    .build()\n",
        "\n",
        "crossval = CrossValidator(estimator=pipeline,\n",
        "                          estimatorParamMaps=paramGrid,\n",
        "                          evaluator=BinaryClassificationEvaluator(rawPredictionCol='rawPrediction',\n",
        "                                                                  labelCol='Default_Status', metricName='areaUnderROC'),\n",
        "                          numFolds=2,\n",
        "                          parallelism=2)"
      ],
      "metadata": {
        "id": "_fo3SDHqmrxr"
      },
      "execution_count": null,
      "outputs": []
    },
    {
      "cell_type": "code",
      "source": [
        "train, test = data.randomSplit([0.7, 0.3], seed = 7)"
      ],
      "metadata": {
        "id": "CwbXta-fphVV"
      },
      "execution_count": null,
      "outputs": []
    },
    {
      "cell_type": "code",
      "source": [
        "cvModel = crossval.fit(train)"
      ],
      "metadata": {
        "id": "I1Z1Pp1Zpt5r"
      },
      "execution_count": null,
      "outputs": []
    },
    {
      "cell_type": "code",
      "source": [
        "cvModel.avgMetrics"
      ],
      "metadata": {
        "colab": {
          "base_uri": "https://localhost:8080/"
        },
        "id": "LXwNzo0Bpt8E",
        "outputId": "13ed22a6-44dd-4af6-88e5-50b08454f379"
      },
      "execution_count": null,
      "outputs": [
        {
          "output_type": "execute_result",
          "data": {
            "text/plain": [
              "[0.7105267286177894,\n",
              " 0.6937740042521308,\n",
              " 0.6884495445564036,\n",
              " 0.6845017379068911,\n",
              " 0.5895290295638431,\n",
              " 0.5895551827137866,\n",
              " 0.5895821816589878,\n",
              " 0.5896551955446,\n",
              " 0.7103913692618464,\n",
              " 0.6937725171903448,\n",
              " 0.688447398536786,\n",
              " 0.6845017284835742,\n",
              " 0.6796208461002207,\n",
              " 0.6894310688472836,\n",
              " 0.687094258767106,\n",
              " 0.6838411526631132,\n",
              " 0.7109632345527677,\n",
              " 0.6937717565397716,\n",
              " 0.6884498373373268,\n",
              " 0.68450175412798,\n",
              " 0.7063921844427656,\n",
              " 0.6938036325186354,\n",
              " 0.6883565044847866,\n",
              " 0.6842834221870691,\n",
              " 0.7104145720869757,\n",
              " 0.6937724243108937,\n",
              " 0.688448050707682,\n",
              " 0.6845021558669697,\n",
              " 0.7096434455188376,\n",
              " 0.6937878587372996,\n",
              " 0.6883536868976712,\n",
              " 0.6842837712199854]"
            ]
          },
          "metadata": {},
          "execution_count": 28
        }
      ]
    },
    {
      "cell_type": "code",
      "source": [
        "import numpy as np\n",
        "print(cvModel.getEstimatorParamMaps()[np.argmax(cvModel.avgMetrics)])"
      ],
      "metadata": {
        "colab": {
          "base_uri": "https://localhost:8080/"
        },
        "id": "o9vevPk7pt-m",
        "outputId": "46cd877d-e9d8-4d28-dec7-8a744f89e665"
      },
      "execution_count": null,
      "outputs": [
        {
          "output_type": "stream",
          "name": "stdout",
          "text": [
            "{Param(parent='LogisticRegression_e4b6dd59e6bf', name='maxIter', doc='max number of iterations (>= 0).'): 50, Param(parent='LogisticRegression_e4b6dd59e6bf', name='fitIntercept', doc='whether to fit an intercept term.'): True, Param(parent='LogisticRegression_e4b6dd59e6bf', name='regParam', doc='regularization parameter (>= 0).'): 0.0}\n"
          ]
        }
      ]
    },
    {
      "cell_type": "code",
      "source": [
        "test_pred = cvModel.transform(test)"
      ],
      "metadata": {
        "id": "zpu1onzyp91H"
      },
      "execution_count": null,
      "outputs": []
    },
    {
      "cell_type": "code",
      "source": [
        "evaluator = BinaryClassificationEvaluator(rawPredictionCol='rawPrediction',\n",
        "                                          labelCol='Default_Status', metricName='areaUnderROC')"
      ],
      "metadata": {
        "id": "q-VZUI9Jp93Q"
      },
      "execution_count": null,
      "outputs": []
    },
    {
      "cell_type": "code",
      "source": [
        "evaluator.evaluate(test_pred)"
      ],
      "metadata": {
        "colab": {
          "base_uri": "https://localhost:8080/"
        },
        "id": "C2d94x1GqD0U",
        "outputId": "fc46b249-a726-4a5c-8382-6bed43ea04c4"
      },
      "execution_count": null,
      "outputs": [
        {
          "output_type": "execute_result",
          "data": {
            "text/plain": [
              "0.7099399420796345"
            ]
          },
          "metadata": {},
          "execution_count": 33
        }
      ]
    },
    {
      "cell_type": "code",
      "source": [
        "cvModel.write().save('/content/drive/My Drive/Colab_Notebooks/PySpark/lesson_4/model')"
      ],
      "metadata": {
        "id": "ZjsqLJpiqG9y"
      },
      "execution_count": null,
      "outputs": []
    }
  ],
  "metadata": {
    "colab": {
      "provenance": []
    },
    "kernelspec": {
      "display_name": "Python 3",
      "language": "python",
      "name": "python3"
    },
    "language_info": {
      "codemirror_mode": {
        "name": "ipython",
        "version": 3
      },
      "file_extension": ".py",
      "mimetype": "text/x-python",
      "name": "python",
      "nbconvert_exporter": "python",
      "pygments_lexer": "ipython3",
      "version": "3.8.8"
    }
  },
  "nbformat": 4,
  "nbformat_minor": 0
}